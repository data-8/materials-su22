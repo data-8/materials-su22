{
 "cells": [
  {
   "cell_type": "code",
   "execution_count": 5,
   "metadata": {},
   "outputs": [],
   "source": [
    "from datascience import *\n",
    "import numpy as np\n",
    "\n",
    "import matplotlib.pyplot as plots\n",
    "plots.style.use('fivethirtyeight')\n",
    "%matplotlib inline\n",
    "\n",
    "np.warnings.filterwarnings('ignore', category=np.VisibleDeprecationWarning)                 "
   ]
  },
  {
   "cell_type": "markdown",
   "metadata": {},
   "source": [
    "# Lecture 32a: Multiple Regression #"
   ]
  },
  {
   "cell_type": "code",
   "execution_count": 24,
   "metadata": {},
   "outputs": [],
   "source": [
    "def standard_units(x):\n",
    "    return (x - np.mean(x))/np.std(x)\n",
    "\n",
    "def correlation(table, x, y):\n",
    "    x_in_standard_units = standard_units(table.column(x))\n",
    "    y_in_standard_units = standard_units(table.column(y))\n",
    "    return np.mean(x_in_standard_units * y_in_standard_units)\n",
    "\n",
    "def slope(table, x, y):\n",
    "    r = correlation(table, x, y)\n",
    "    return r * np.std(table.column(y))/np.std(table.column(x))\n",
    "\n",
    "def intercept(table, x, y):\n",
    "    a = slope(table, x, y)\n",
    "    return np.mean(table.column(y)) -  a * np.mean(table.column(x))\n",
    "\n",
    "def fit(table, x, y):\n",
    "    a = slope(table, x, y)\n",
    "    b = intercept(table, x, y)\n",
    "    return a * table.column(x) + b\n",
    "\n",
    "def scatter_fit(table, x, y):\n",
    "    table.scatter(x, y, s=15)\n",
    "    plots.plot(table.column(x), fit(table, x, y), lw=4, color='gold')\n",
    "    plots.xlabel(x)\n",
    "    plots.ylabel(y)\n",
    "\n",
    "def residual_plot(table, x, y):\n",
    "    x_array = table.column(x)\n",
    "    t = Table().with_columns(\n",
    "            x, x_array,\n",
    "            'residuals', residual(table, x, y)\n",
    "        )\n",
    "    t.scatter(x, 'residuals', color='r')\n",
    "    xlims = make_array(min(x_array), max(x_array))\n",
    "    plots.plot(xlims, make_array(0, 0), color='darkblue', lw=4)\n",
    "    plots.title('Residual Plot')\n",
    "\n",
    "def residual(table, x, y):\n",
    "    return table.column(y) - fit(table, x, y)"
   ]
  },
  {
   "cell_type": "code",
   "execution_count": 17,
   "metadata": {},
   "outputs": [
    {
     "data": {
      "text/html": [
       "<table border=\"1\" class=\"dataframe\">\n",
       "    <thead>\n",
       "        <tr>\n",
       "            <th>SalePrice</th> <th>1st Flr SF</th> <th>2nd Flr SF</th> <th>Total Bsmt SF</th> <th>Garage Area</th> <th>Wood Deck SF</th> <th>Open Porch SF</th> <th>Lot Area</th> <th>Year Built</th> <th>Yr Sold</th>\n",
       "        </tr>\n",
       "    </thead>\n",
       "    <tbody>\n",
       "        <tr>\n",
       "            <td>35000    </td> <td>498       </td> <td>0         </td> <td>498          </td> <td>216        </td> <td>0           </td> <td>0            </td> <td>8088    </td> <td>1922      </td> <td>2006   </td>\n",
       "        </tr>\n",
       "        <tr>\n",
       "            <td>39300    </td> <td>334       </td> <td>0         </td> <td>0            </td> <td>0          </td> <td>0           </td> <td>0            </td> <td>5000    </td> <td>1946      </td> <td>2007   </td>\n",
       "        </tr>\n",
       "        <tr>\n",
       "            <td>40000    </td> <td>649       </td> <td>668       </td> <td>649          </td> <td>250        </td> <td>0           </td> <td>54           </td> <td>8500    </td> <td>1920      </td> <td>2008   </td>\n",
       "        </tr>\n",
       "        <tr>\n",
       "            <td>45000    </td> <td>612       </td> <td>0         </td> <td>0            </td> <td>308        </td> <td>0           </td> <td>0            </td> <td>5925    </td> <td>1940      </td> <td>2009   </td>\n",
       "        </tr>\n",
       "        <tr>\n",
       "            <td>52000    </td> <td>729       </td> <td>0         </td> <td>270          </td> <td>0          </td> <td>0           </td> <td>0            </td> <td>4130    </td> <td>1935      </td> <td>2008   </td>\n",
       "        </tr>\n",
       "        <tr>\n",
       "            <td>52500    </td> <td>693       </td> <td>0         </td> <td>693          </td> <td>0          </td> <td>0           </td> <td>20           </td> <td>4118    </td> <td>1941      </td> <td>2006   </td>\n",
       "        </tr>\n",
       "        <tr>\n",
       "            <td>55000    </td> <td>723       </td> <td>363       </td> <td>723          </td> <td>400        </td> <td>0           </td> <td>24           </td> <td>11340   </td> <td>1920      </td> <td>2008   </td>\n",
       "        </tr>\n",
       "        <tr>\n",
       "            <td>55000    </td> <td>796       </td> <td>0         </td> <td>796          </td> <td>0          </td> <td>0           </td> <td>0            </td> <td>3636    </td> <td>1922      </td> <td>2008   </td>\n",
       "        </tr>\n",
       "        <tr>\n",
       "            <td>57625    </td> <td>810       </td> <td>0         </td> <td>0            </td> <td>280        </td> <td>119         </td> <td>24           </td> <td>21780   </td> <td>1910      </td> <td>2009   </td>\n",
       "        </tr>\n",
       "        <tr>\n",
       "            <td>58500    </td> <td>864       </td> <td>0         </td> <td>864          </td> <td>200        </td> <td>0           </td> <td>0            </td> <td>8212    </td> <td>1914      </td> <td>2010   </td>\n",
       "        </tr>\n",
       "    </tbody>\n",
       "</table>\n",
       "<p>... (1992 rows omitted)</p>"
      ],
      "text/plain": [
       "SalePrice | 1st Flr SF | 2nd Flr SF | Total Bsmt SF | Garage Area | Wood Deck SF | Open Porch SF | Lot Area | Year Built | Yr Sold\n",
       "35000     | 498        | 0          | 498           | 216         | 0            | 0             | 8088     | 1922       | 2006\n",
       "39300     | 334        | 0          | 0             | 0           | 0            | 0             | 5000     | 1946       | 2007\n",
       "40000     | 649        | 668        | 649           | 250         | 0            | 54            | 8500     | 1920       | 2008\n",
       "45000     | 612        | 0          | 0             | 308         | 0            | 0             | 5925     | 1940       | 2009\n",
       "52000     | 729        | 0          | 270           | 0           | 0            | 0             | 4130     | 1935       | 2008\n",
       "52500     | 693        | 0          | 693           | 0           | 0            | 20            | 4118     | 1941       | 2006\n",
       "55000     | 723        | 363        | 723           | 400         | 0            | 24            | 11340    | 1920       | 2008\n",
       "55000     | 796        | 0          | 796           | 0           | 0            | 0             | 3636     | 1922       | 2008\n",
       "57625     | 810        | 0          | 0             | 280         | 119          | 24            | 21780    | 1910       | 2009\n",
       "58500     | 864        | 0          | 864           | 200         | 0            | 0             | 8212     | 1914       | 2010\n",
       "... (1992 rows omitted)"
      ]
     },
     "execution_count": 17,
     "metadata": {},
     "output_type": "execute_result"
    }
   ],
   "source": [
    "all_sales = Table.read_table('house.csv')\n",
    "sales = all_sales.where('Bldg Type', '1Fam').where('Sale Condition', 'Normal').select(\n",
    "    'SalePrice', '1st Flr SF', '2nd Flr SF', \n",
    "    'Total Bsmt SF', 'Garage Area', \n",
    "    'Wood Deck SF', 'Open Porch SF', 'Lot Area', \n",
    "    'Year Built', 'Yr Sold')\n",
    "sales.sort('SalePrice')"
   ]
  },
  {
   "cell_type": "code",
   "execution_count": 18,
   "metadata": {},
   "outputs": [
    {
     "data": {
      "image/png": "[encoded data removed]",
      "text/plain": [
       "<Figure size 432x288 with 1 Axes>"
      ]
     },
     "metadata": {
      "needs_background": "light"
     },
     "output_type": "display_data"
    }
   ],
   "source": [
    "sales.hist('SalePrice', bins=32, unit='$')"
   ]
  },
  {
   "cell_type": "markdown",
   "metadata": {},
   "source": [
    "### Linear Regression"
   ]
  },
  {
   "cell_type": "markdown",
   "metadata": {},
   "source": [
    "**Correlation**: No single attribute is sufficient to predict the sale price. For example, the area of first floor, measured in square feet, correlates with sale price but only explains some of its variability."
   ]
  },
  {
   "cell_type": "code",
   "execution_count": 19,
   "metadata": {},
   "outputs": [
    {
     "name": "stdout",
     "output_type": "stream",
     "text": [
      "Correlation between <1st Floor Sqt Ft> and <Price>: 0.64\n"
     ]
    },
    {
     "data": {
      "image/png": "[encoded data removed]",
      "text/plain": [
       "<Figure size 360x360 with 1 Axes>"
      ]
     },
     "metadata": {
      "needs_background": "light"
     },
     "output_type": "display_data"
    }
   ],
   "source": [
    "sales.scatter('1st Flr SF', 'SalePrice')\n",
    "print(f\"Correlation between <1st Floor Sqt Ft> and <Price>: {round(correlation(sales, 'SalePrice', '1st Flr SF'), 2)}\")"
   ]
  },
  {
   "cell_type": "code",
   "execution_count": 20,
   "metadata": {},
   "outputs": [
    {
     "data": {
      "image/png": "[encoded data removed]",
      "text/plain": [
       "<Figure size 360x360 with 1 Axes>"
      ]
     },
     "metadata": {
      "needs_background": "light"
     },
     "output_type": "display_data"
    }
   ],
   "source": [
    "scatter_fit(sales, '1st Flr SF', 'SalePrice')"
   ]
  },
  {
   "cell_type": "markdown",
   "metadata": {},
   "source": [
    "#### Problem 1: Residual Plot"
   ]
  },
  {
   "cell_type": "code",
   "execution_count": 23,
   "metadata": {},
   "outputs": [
    {
     "data": {
      "image/png": "[encoded data removed]",
      "text/plain": [
       "<Figure size 360x360 with 1 Axes>"
      ]
     },
     "metadata": {
      "needs_background": "light"
     },
     "output_type": "display_data"
    }
   ],
   "source": [
    "residual_plot(sales, '1st Flr SF', 'SalePrice')"
   ]
  },
  {
   "cell_type": "markdown",
   "metadata": {},
   "source": [
    "#### Problem 2: Correlations"
   ]
  },
  {
   "cell_type": "code",
   "execution_count": 31,
   "metadata": {},
   "outputs": [
    {
     "data": {
      "text/html": [
       "<table border=\"1\" class=\"dataframe\">\n",
       "    <thead>\n",
       "        <tr>\n",
       "            <th>Feature</th> <th>Correlation with SalePrice</th>\n",
       "        </tr>\n",
       "    </thead>\n",
       "    <tbody>\n",
       "        <tr>\n",
       "            <td>SalePrice    </td> <td>1                         </td>\n",
       "        </tr>\n",
       "        <tr>\n",
       "            <td>Total Bsmt SF</td> <td>0.652979                  </td>\n",
       "        </tr>\n",
       "        <tr>\n",
       "            <td>1st Flr SF   </td> <td>0.642466                  </td>\n",
       "        </tr>\n",
       "        <tr>\n",
       "            <td>Garage Area  </td> <td>0.638594                  </td>\n",
       "        </tr>\n",
       "        <tr>\n",
       "            <td>Year Built   </td> <td>0.565165                  </td>\n",
       "        </tr>\n",
       "        <tr>\n",
       "            <td>2nd Flr SF   </td> <td>0.357522                  </td>\n",
       "        </tr>\n",
       "        <tr>\n",
       "            <td>Wood Deck SF </td> <td>0.352699                  </td>\n",
       "        </tr>\n",
       "        <tr>\n",
       "            <td>Open Porch SF</td> <td>0.336909                  </td>\n",
       "        </tr>\n",
       "        <tr>\n",
       "            <td>Lot Area     </td> <td>0.290823                  </td>\n",
       "        </tr>\n",
       "        <tr>\n",
       "            <td>Yr Sold      </td> <td>0.0259486                 </td>\n",
       "        </tr>\n",
       "    </tbody>\n",
       "</table>"
      ],
      "text/plain": [
       "Feature       | Correlation with SalePrice\n",
       "SalePrice     | 1\n",
       "Total Bsmt SF | 0.652979\n",
       "1st Flr SF    | 0.642466\n",
       "Garage Area   | 0.638594\n",
       "Year Built    | 0.565165\n",
       "2nd Flr SF    | 0.357522\n",
       "Wood Deck SF  | 0.352699\n",
       "Open Porch SF | 0.336909\n",
       "Lot Area      | 0.290823\n",
       "Yr Sold       | 0.0259486"
      ]
     },
     "execution_count": 31,
     "metadata": {},
     "output_type": "execute_result"
    }
   ],
   "source": [
    "correlations = make_array()\n",
    "for label in sales.labels:\n",
    "    correlations = np.append(correlations, correlation(sales, label, 'SalePrice'))\n",
    "Table().with_columns('Feature', sales.labels, \n",
    "                    'Correlation with SalePrice', correlations).sort(1, descending=True)"
   ]
  },
  {
   "cell_type": "markdown",
   "metadata": {},
   "source": [
    "However, combining attributes can provide higher correlation. In particular, if we sum the first floor and second floor areas, the result has a higher correlation than any single attribute alone."
   ]
  },
  {
   "cell_type": "code",
   "execution_count": 33,
   "metadata": {},
   "outputs": [
    {
     "data": {
      "text/plain": [
       "0.7821920556134877"
      ]
     },
     "execution_count": 33,
     "metadata": {},
     "output_type": "execute_result"
    }
   ],
   "source": [
    "both_floors = sales.column(1) + sales.column(2)\n",
    "correlation(sales.with_column('Both Floors', both_floors), 'SalePrice', 'Both Floors')"
   ]
  },
  {
   "cell_type": "markdown",
   "metadata": {},
   "source": [
    "### Multipe Regression: Two Variables"
   ]
  },
  {
   "cell_type": "markdown",
   "metadata": {},
   "source": [
    "This high correlation indicates that we should try to use more than one attribute to predict the sale price. In a dataset with multiple observed attributes and a single numerical value to be predicted (the sale price in this case), multiple linear regression can be an effective technique.\n",
    "\n",
    "In multiple linear regression, a numerical output is predicted from numerical input attributes by multiplying each attribute value by a different slope, then summing the results. In this example, the slope for the `1st Flr SF` would represent the dollars per square foot of area on the first floor of the house that should be used in our prediction. \n",
    "\n",
    "$$y_{predicted} = slope_1 \\times x_{1} + slope_2 \\times x_{2} + intercept$$\n",
    "\n",
    "where \n",
    "\n",
    "- $x_{1}$ corresponds to 1st floor square footage\n",
    "- $x_{2}$ corresponds to basement square footage\n",
    "\n",
    "**or to generalize**\n",
    "\n",
    "$$y_{predicted} = slope_1 \\times x_{1} + slope_2 \\times x_{2} + ... $$\n",
    "\n",
    "where \n",
    "\n",
    "- $x_{1}$ corresponds to 1st feature\n",
    "- $x_{2}$ corresponds to 2nd feature\n",
    "- $x_{i}$ corresponds to i-th feature"
   ]
  },
  {
   "cell_type": "markdown",
   "metadata": {},
   "source": [
    "### Training & Test"
   ]
  },
  {
   "cell_type": "code",
   "execution_count": 49,
   "metadata": {},
   "outputs": [
    {
     "name": "stdout",
     "output_type": "stream",
     "text": [
      "1001 training and 1001 test instances.\n"
     ]
    }
   ],
   "source": [
    "shuffled = sales.sample(with_replacement=False)\n",
    "train_indices = np.arange(shuffled.num_rows//2)\n",
    "test_indices = np.arange(shuffled.num_rows//2, shuffled.num_rows)\n",
    "train, test = sales.take(train_indices), sales.take(test_indices)\n",
    "print(train.num_rows, 'training and', test.num_rows, 'test instances.')"
   ]
  },
  {
   "cell_type": "markdown",
   "metadata": {},
   "source": [
    "### Random Slopes"
   ]
  },
  {
   "cell_type": "code",
   "execution_count": 56,
   "metadata": {},
   "outputs": [
    {
     "name": "stdout",
     "output_type": "stream",
     "text": [
      "Predicting sale price for: Row(1st Flr SF=672, 2nd Flr SF=0, Total Bsmt SF=672.0, Garage Area=240.0, Wood Deck SF=168, Open Porch SF=0, Lot Area=10200, Year Built=1940, Yr Sold=2008)\n",
      "Using slopes: [11.50414831 10.3688266   9.22717425  8.58867245  8.92237402  9.60157422\n",
      " 10.01403239  9.81941685 10.534001  ]\n",
      "Result: 159836.76207208255\n"
     ]
    }
   ],
   "source": [
    "def predict(slopes, row):\n",
    "    return sum(slopes * np.array(row))\n",
    "\n",
    "example_row = test.drop('SalePrice').row(0)\n",
    "print('Predicting sale price for:', example_row)\n",
    "example_slopes = np.random.normal(10, 1, len(example_row)) # Some Rando Slopes\n",
    "print('Using slopes:', example_slopes)\n",
    "print('Result:', predict(example_slopes, example_row))"
   ]
  },
  {
   "cell_type": "code",
   "execution_count": 57,
   "metadata": {},
   "outputs": [
    {
     "name": "stdout",
     "output_type": "stream",
     "text": [
      "Actual sale price: 108000\n",
      "Predicted sale price using random slopes: 159836.76207208255\n"
     ]
    }
   ],
   "source": [
    "print('Actual sale price:', test.column('SalePrice').item(0))\n",
    "print('Predicted sale price using random slopes:', predict(example_slopes, example_row))"
   ]
  },
  {
   "cell_type": "markdown",
   "metadata": {},
   "source": [
    "#### Best Slopes"
   ]
  },
  {
   "cell_type": "code",
   "execution_count": 58,
   "metadata": {},
   "outputs": [
    {
     "name": "stdout",
     "output_type": "stream",
     "text": [
      "RMSE of all training examples using random slopes: 86334.94972212886\n"
     ]
    }
   ],
   "source": [
    "train_prices = train.column(0)\n",
    "train_attributes = train.drop(0)\n",
    "\n",
    "def rmse(slopes, attributes, prices):\n",
    "    errors = []\n",
    "    for i in np.arange(len(prices)):\n",
    "        predicted = predict(slopes, attributes.row(i))\n",
    "        actual = prices.item(i)\n",
    "        errors.append((predicted - actual) ** 2)\n",
    "    return np.mean(errors) ** 0.5\n",
    "\n",
    "def rmse_train(slopes):\n",
    "    return rmse(slopes, train_attributes, train_prices)\n",
    "\n",
    "print('RMSE of all training examples using random slopes:', rmse_train(example_slopes))"
   ]
  },
  {
   "cell_type": "code",
   "execution_count": 59,
   "metadata": {},
   "outputs": [
    {
     "name": "stdout",
     "output_type": "stream",
     "text": [
      "The best slopes for the training set:\n"
     ]
    },
    {
     "data": {
      "text/html": [
       "<table border=\"1\" class=\"dataframe\">\n",
       "    <thead>\n",
       "        <tr>\n",
       "            <th>1st Flr SF</th> <th>2nd Flr SF</th> <th>Total Bsmt SF</th> <th>Garage Area</th> <th>Wood Deck SF</th> <th>Open Porch SF</th> <th>Lot Area</th> <th>Year Built</th> <th>Yr Sold</th>\n",
       "        </tr>\n",
       "    </thead>\n",
       "    <tbody>\n",
       "        <tr>\n",
       "            <td>72.6859   </td> <td>70.4687   </td> <td>51.1946      </td> <td>55.0982    </td> <td>25.6234     </td> <td>51.7473      </td> <td>0.640871</td> <td>574.906   </td> <td>-572.343</td>\n",
       "        </tr>\n",
       "    </tbody>\n",
       "</table>"
      ],
      "text/plain": [
       "<IPython.core.display.HTML object>"
      ]
     },
     "metadata": {},
     "output_type": "display_data"
    },
    {
     "name": "stdout",
     "output_type": "stream",
     "text": [
      "RMSE of all training examples using the best slopes: 30804.715196306635\n"
     ]
    }
   ],
   "source": [
    "best_slopes = minimize(rmse_train, start=example_slopes, smooth=True, array=True)\n",
    "print('The best slopes for the training set:')\n",
    "Table(train_attributes.labels).with_row(list(best_slopes)).show()\n",
    "print('RMSE of all training examples using the best slopes:', rmse_train(best_slopes))"
   ]
  },
  {
   "cell_type": "markdown",
   "metadata": {},
   "source": [
    "## Evaluation"
   ]
  },
  {
   "cell_type": "code",
   "execution_count": 60,
   "metadata": {},
   "outputs": [
    {
     "name": "stdout",
     "output_type": "stream",
     "text": [
      "Test set RMSE for multiple linear regression: 31776.703627864783\n"
     ]
    }
   ],
   "source": [
    "test_prices = test.column(0)\n",
    "test_attributes = test.drop(0)\n",
    "\n",
    "def rmse_test(slopes):\n",
    "    return rmse(slopes, test_attributes, test_prices)\n",
    "\n",
    "rmse_linear = rmse_test(best_slopes)\n",
    "print('Test set RMSE for multiple linear regression:', rmse_linear)"
   ]
  },
  {
   "cell_type": "code",
   "execution_count": 62,
   "metadata": {},
   "outputs": [
    {
     "data": {
      "image/png": "[encoded data removed]",
      "text/plain": [
       "<Figure size 360x360 with 1 Axes>"
      ]
     },
     "metadata": {
      "needs_background": "light"
     },
     "output_type": "display_data"
    }
   ],
   "source": [
    "def fit(row):\n",
    "    return sum(best_slopes * np.array(row))\n",
    "\n",
    "test.with_column('Residual', test_prices-test.drop(0).apply(fit)).scatter(0, 'Residual')\n",
    "plots.plot([0, 7e5], [0, 0]);"
   ]
  },
  {
   "cell_type": "markdown",
   "metadata": {},
   "source": [
    "### Interpreting Models: Feature Importances"
   ]
  },
  {
   "cell_type": "code",
   "execution_count": 70,
   "metadata": {},
   "outputs": [
    {
     "name": "stdout",
     "output_type": "stream",
     "text": [
      "The best slopes for the training set:\n"
     ]
    },
    {
     "data": {
      "text/html": [
       "<table border=\"1\" class=\"dataframe\">\n",
       "    <thead>\n",
       "        <tr>\n",
       "            <th>Features</th> <th>Slopes</th> <th>Importance</th>\n",
       "        </tr>\n",
       "    </thead>\n",
       "    <tbody>\n",
       "        <tr>\n",
       "            <td>1st Flr SF   </td> <td>72.6859 </td> <td>5         </td>\n",
       "        </tr>\n",
       "        <tr>\n",
       "            <td>2nd Flr SF   </td> <td>70.4687 </td> <td>5         </td>\n",
       "        </tr>\n",
       "        <tr>\n",
       "            <td>Total Bsmt SF</td> <td>51.1946 </td> <td>3         </td>\n",
       "        </tr>\n",
       "        <tr>\n",
       "            <td>Garage Area  </td> <td>55.0982 </td> <td>4         </td>\n",
       "        </tr>\n",
       "        <tr>\n",
       "            <td>Wood Deck SF </td> <td>25.6234 </td> <td>2         </td>\n",
       "        </tr>\n",
       "        <tr>\n",
       "            <td>Open Porch SF</td> <td>51.7473 </td> <td>4         </td>\n",
       "        </tr>\n",
       "        <tr>\n",
       "            <td>Lot Area     </td> <td>0.640871</td> <td>0         </td>\n",
       "        </tr>\n",
       "        <tr>\n",
       "            <td>Year Built   </td> <td>574.906 </td> <td>39        </td>\n",
       "        </tr>\n",
       "        <tr>\n",
       "            <td>Yr Sold      </td> <td>-572.343</td> <td>39        </td>\n",
       "        </tr>\n",
       "    </tbody>\n",
       "</table>"
      ],
      "text/plain": [
       "Features      | Slopes   | Importance\n",
       "1st Flr SF    | 72.6859  | 5\n",
       "2nd Flr SF    | 70.4687  | 5\n",
       "Total Bsmt SF | 51.1946  | 3\n",
       "Garage Area   | 55.0982  | 4\n",
       "Wood Deck SF  | 25.6234  | 2\n",
       "Open Porch SF | 51.7473  | 4\n",
       "Lot Area      | 0.640871 | 0\n",
       "Year Built    | 574.906  | 39\n",
       "Yr Sold       | -572.343 | 39"
      ]
     },
     "execution_count": 70,
     "metadata": {},
     "output_type": "execute_result"
    }
   ],
   "source": [
    "best_slopes = minimize(rmse_train, start=example_slopes, smooth=True, array=True)\n",
    "print('The best slopes for the training set:')\n",
    "importances = Table().with_columns('Features', train_attributes.labels,\n",
    "                  'Slopes', best_slopes,\n",
    "                    'Importance %', 100 * np.round(abs(best_slopes)/sum(abs(best_slopes)), 2))\n",
    "importances"
   ]
  },
  {
   "cell_type": "code",
   "execution_count": 72,
   "metadata": {},
   "outputs": [
    {
     "data": {
      "image/png": "[encoded data removed]",
      "text/plain": [
       "<Figure size 432x324 with 1 Axes>"
      ]
     },
     "metadata": {
      "needs_background": "light"
     },
     "output_type": "display_data"
    }
   ],
   "source": [
    "importances.select(0, 2).sort('Importance', descending=True).barh('Features')"
   ]
  },
  {
   "cell_type": "markdown",
   "metadata": {},
   "source": [
    "## Nearest Neighbor Regression"
   ]
  },
  {
   "cell_type": "code",
   "execution_count": 75,
   "metadata": {},
   "outputs": [
    {
     "data": {
      "text/html": [
       "<table border=\"1\" class=\"dataframe\">\n",
       "    <thead>\n",
       "        <tr>\n",
       "            <th>SalePrice</th> <th>1st Flr SF</th> <th>2nd Flr SF</th> <th>Total Bsmt SF</th> <th>Garage Area</th> <th>Year Built</th>\n",
       "        </tr>\n",
       "    </thead>\n",
       "    <tbody>\n",
       "        <tr>\n",
       "            <td>215000   </td> <td>1656      </td> <td>0         </td> <td>1080         </td> <td>528        </td> <td>1960      </td>\n",
       "        </tr>\n",
       "        <tr>\n",
       "            <td>105000   </td> <td>896       </td> <td>0         </td> <td>882          </td> <td>730        </td> <td>1961      </td>\n",
       "        </tr>\n",
       "        <tr>\n",
       "            <td>172000   </td> <td>1329      </td> <td>0         </td> <td>1329         </td> <td>312        </td> <td>1958      </td>\n",
       "        </tr>\n",
       "    </tbody>\n",
       "</table>\n",
       "<p>... (998 rows omitted)</p>"
      ],
      "text/plain": [
       "<IPython.core.display.HTML object>"
      ]
     },
     "metadata": {},
     "output_type": "display_data"
    }
   ],
   "source": [
    "train_nn = train.select(0, 1, 2, 3, 4, 8)\n",
    "test_nn = test.select(0, 1, 2, 3, 4, 8)\n",
    "train_nn.show(3)"
   ]
  },
  {
   "cell_type": "code",
   "execution_count": 76,
   "metadata": {},
   "outputs": [
    {
     "data": {
      "text/html": [
       "<table border=\"1\" class=\"dataframe\">\n",
       "    <thead>\n",
       "        <tr>\n",
       "            <th>SalePrice</th> <th>1st Flr SF</th> <th>2nd Flr SF</th> <th>Total Bsmt SF</th> <th>Garage Area</th> <th>Year Built</th> <th>Distance</th>\n",
       "        </tr>\n",
       "    </thead>\n",
       "    <tbody>\n",
       "        <tr>\n",
       "            <td>113000   </td> <td>672       </td> <td>0         </td> <td>672          </td> <td>234        </td> <td>1941      </td> <td>6.08276 </td>\n",
       "        </tr>\n",
       "        <tr>\n",
       "            <td>64000    </td> <td>672       </td> <td>0         </td> <td>672          </td> <td>256        </td> <td>1940      </td> <td>16      </td>\n",
       "        </tr>\n",
       "        <tr>\n",
       "            <td>86900    </td> <td>672       </td> <td>0         </td> <td>672          </td> <td>308        </td> <td>1940      </td> <td>68      </td>\n",
       "        </tr>\n",
       "        <tr>\n",
       "            <td>118900   </td> <td>732       </td> <td>0         </td> <td>732          </td> <td>240        </td> <td>1952      </td> <td>85.6971 </td>\n",
       "        </tr>\n",
       "        <tr>\n",
       "            <td>80000    </td> <td>747       </td> <td>0         </td> <td>747          </td> <td>220        </td> <td>1945      </td> <td>108.051 </td>\n",
       "        </tr>\n",
       "    </tbody>\n",
       "</table>"
      ],
      "text/plain": [
       "SalePrice | 1st Flr SF | 2nd Flr SF | Total Bsmt SF | Garage Area | Year Built | Distance\n",
       "113000    | 672        | 0          | 672           | 234         | 1941       | 6.08276\n",
       "64000     | 672        | 0          | 672           | 256         | 1940       | 16\n",
       "86900     | 672        | 0          | 672           | 308         | 1940       | 68\n",
       "118900    | 732        | 0          | 732           | 240         | 1952       | 85.6971\n",
       "80000     | 747        | 0          | 747           | 220         | 1945       | 108.051"
      ]
     },
     "execution_count": 76,
     "metadata": {},
     "output_type": "execute_result"
    }
   ],
   "source": [
    "def distance(pt1, pt2):\n",
    "    \"\"\"The distance between two points, represented as arrays.\"\"\"\n",
    "    return np.sqrt(sum((pt1 - pt2) ** 2))\n",
    "\n",
    "def row_distance(row1, row2):\n",
    "    \"\"\"The distance between two rows of a table.\"\"\"\n",
    "    return distance(np.array(row1), np.array(row2))\n",
    "\n",
    "def distances(training, example, output):\n",
    "    \"\"\"Compute the distance from example for each row in training.\"\"\"\n",
    "    dists = []\n",
    "    attributes = training.drop(output)\n",
    "    for row in attributes.rows:\n",
    "        dists.append(row_distance(row, example))\n",
    "    return training.with_column('Distance', dists)\n",
    "\n",
    "def closest(training, example, k, output):\n",
    "    \"\"\"Return a table of the k closest neighbors to example.\"\"\"\n",
    "    return distances(training, example, output).sort('Distance').take(np.arange(k))\n",
    "\n",
    "example_nn_row = test_nn.drop(0).row(0)\n",
    "closest(train_nn, example_nn_row, 5, 'SalePrice')"
   ]
  },
  {
   "cell_type": "code",
   "execution_count": 77,
   "metadata": {},
   "outputs": [
    {
     "data": {
      "text/plain": [
       "92560.0"
      ]
     },
     "execution_count": 77,
     "metadata": {},
     "output_type": "execute_result"
    }
   ],
   "source": [
    "def predict_nn(example):\n",
    "    \"\"\"Return the majority class among the k nearest neighbors.\"\"\"\n",
    "    return np.average(closest(train_nn, example, 5, 'SalePrice').column('SalePrice'))\n",
    "\n",
    "predict_nn(example_nn_row)"
   ]
  },
  {
   "cell_type": "code",
   "execution_count": 78,
   "metadata": {},
   "outputs": [
    {
     "name": "stdout",
     "output_type": "stream",
     "text": [
      "Test set RMSE for multiple linear regression:  31776.703627864783\n",
      "Test set RMSE for nearest neighbor regression: 34463.5936516002\n"
     ]
    }
   ],
   "source": [
    "nn_test_predictions = test_nn.drop('SalePrice').apply(predict_nn)\n",
    "rmse_nn = np.mean((test_prices - nn_test_predictions) ** 2) ** 0.5\n",
    "\n",
    "print('Test set RMSE for multiple linear regression: ', rmse_linear)\n",
    "print('Test set RMSE for nearest neighbor regression:', rmse_nn)"
   ]
  },
  {
   "cell_type": "markdown",
   "metadata": {},
   "source": [
    "# Lecture 32b: Education Case Study #"
   ]
  },
  {
   "cell_type": "code",
   "execution_count": null,
   "metadata": {},
   "outputs": [],
   "source": [
    "scores = Table.read_table(\"scores.csv\")\n",
    "scores.drop(2).show(5)"
   ]
  },
  {
   "cell_type": "code",
   "execution_count": null,
   "metadata": {},
   "outputs": [],
   "source": [
    "mt1 = scores.column('Midterm 1')\n",
    "mt2 = scores.column('Midterm 2')\n",
    "print('Midterm 1 avg:', np.average(mt1), 'std dev:', np.std(mt1))\n",
    "print('Midterm 2 avg:', np.average(mt2), 'std dev:', np.std(mt2))"
   ]
  },
  {
   "cell_type": "markdown",
   "metadata": {},
   "source": [
    "### Option 1: Scale Up"
   ]
  },
  {
   "cell_type": "code",
   "execution_count": null,
   "metadata": {},
   "outputs": [],
   "source": [
    "mt1_actual = 21\n",
    "mt2_estimate_1 = mt1_actual / 40 * 50\n",
    "mt2_estimate_1"
   ]
  },
  {
   "cell_type": "code",
   "execution_count": null,
   "metadata": {},
   "outputs": [],
   "source": [
    "mt2_estimate_1 - np.average(mt2)"
   ]
  },
  {
   "cell_type": "code",
   "execution_count": null,
   "metadata": {},
   "outputs": [],
   "source": [
    "(mt2_estimate_1 - np.average(mt2)) / np.std(mt2)"
   ]
  },
  {
   "cell_type": "code",
   "execution_count": null,
   "metadata": {},
   "outputs": [],
   "source": [
    "(mt1_actual - np.average(mt1)) / np.std(mt1)"
   ]
  },
  {
   "cell_type": "markdown",
   "metadata": {},
   "source": [
    "### Option 2: Z-Score"
   ]
  },
  {
   "cell_type": "code",
   "execution_count": null,
   "metadata": {},
   "outputs": [],
   "source": [
    "mt1_actual = 21\n",
    "mt1_z = (mt1_actual - np.average(mt1)) / np.std(mt1)\n",
    "mt2_estimate_2 = np.average(mt2) + mt1_z * np.std(mt2)\n",
    "mt2_estimate_2"
   ]
  },
  {
   "cell_type": "code",
   "execution_count": null,
   "metadata": {},
   "outputs": [],
   "source": [
    "mt2_estimate_2 - np.average(mt2)"
   ]
  },
  {
   "cell_type": "code",
   "execution_count": null,
   "metadata": {},
   "outputs": [],
   "source": [
    "(mt2_estimate_2 - np.average(mt2)) / np.std(mt2)"
   ]
  },
  {
   "cell_type": "code",
   "execution_count": null,
   "metadata": {},
   "outputs": [],
   "source": [
    "scores.hist('Midterm 1', unit='point')"
   ]
  },
  {
   "cell_type": "code",
   "execution_count": null,
   "metadata": {},
   "outputs": [],
   "source": [
    "scores.hist('Midterm 2', unit='point')"
   ]
  },
  {
   "cell_type": "markdown",
   "metadata": {},
   "source": [
    "### Option 3: Percentile"
   ]
  },
  {
   "cell_type": "code",
   "execution_count": null,
   "metadata": {},
   "outputs": [],
   "source": [
    "mt1_actual = 21\n",
    "mt1_percentile = sum(mt1 <= mt1_actual) / len(mt1) * 100\n",
    "mt1_percentile"
   ]
  },
  {
   "cell_type": "code",
   "execution_count": null,
   "metadata": {},
   "outputs": [],
   "source": [
    "percentile(mt1_percentile, mt1)"
   ]
  },
  {
   "cell_type": "code",
   "execution_count": null,
   "metadata": {},
   "outputs": [],
   "source": [
    "percentile(mt1_percentile, mt2)"
   ]
  },
  {
   "cell_type": "code",
   "execution_count": null,
   "metadata": {},
   "outputs": [],
   "source": [
    "scores.where('Midterm 1', 21).hist('Midterm 2', normed=False)"
   ]
  },
  {
   "cell_type": "markdown",
   "metadata": {},
   "source": [
    "### Option 4: Linear Regression"
   ]
  },
  {
   "cell_type": "code",
   "execution_count": null,
   "metadata": {},
   "outputs": [],
   "source": [
    "def standard_units(arr):\n",
    "    \"\"\"Converts an array to standard units \"\"\"\n",
    "    return (arr - np.average(arr))/np.std(arr)\n",
    "\n",
    "def correlation(t, x, y):\n",
    "    \"\"\"Computes correlation: t is a table, and x and y are column names \"\"\"\n",
    "    x_standard = standard_units(t.column(x))\n",
    "    y_standard = standard_units(t.column(y))\n",
    "    return np.average(x_standard * y_standard)\n",
    "\n",
    "def slope(t, x, y):\n",
    "    \"\"\"Computes the slope of the regression line, like correlation above \"\"\"\n",
    "    r = correlation(t, x, y)\n",
    "    y_sd = np.std(t.column(y))\n",
    "    x_sd = np.std(t.column(x))\n",
    "    return r * y_sd / x_sd\n",
    "\n",
    "def intercept(t, x, y):\n",
    "    \"\"\"Computes the intercept of the regression line, like slope above \"\"\"\n",
    "    x_mean = np.mean(t.column(x))\n",
    "    y_mean = np.mean(t.column(y))\n",
    "    return y_mean - slope(t, x, y)*x_mean\n",
    "\n",
    "def fitted_values(t, x, y):\n",
    "    \"\"\"Return an array of the regression estimates (predictions) at all the x values\"\"\"\n",
    "    a = slope(t, x, y)\n",
    "    b = intercept(t, x, y)\n",
    "    return a*t.column(x) + b"
   ]
  },
  {
   "cell_type": "code",
   "execution_count": null,
   "metadata": {},
   "outputs": [],
   "source": [
    "r = correlation(scores, 'Midterm 1', 'Midterm 2')\n",
    "r"
   ]
  },
  {
   "cell_type": "code",
   "execution_count": null,
   "metadata": {},
   "outputs": [],
   "source": [
    "mt1_actual = 21\n",
    "mt1_z = (mt1_actual - np.average(mt1)) / np.std(mt1)\n",
    "mt2_estimate_2 = np.average(mt2) + mt1_z * r * np.std(mt2)\n",
    "mt2_estimate_2"
   ]
  },
  {
   "cell_type": "code",
   "execution_count": null,
   "metadata": {},
   "outputs": [],
   "source": [
    "scores.scatter('Midterm 1', 'Midterm 2')"
   ]
  },
  {
   "cell_type": "code",
   "execution_count": null,
   "metadata": {},
   "outputs": [],
   "source": [
    "a = slope(scores, 'Midterm 1', 'Midterm 2')\n",
    "b = intercept(scores, 'Midterm 1', 'Midterm 2')\n",
    "scores.drop(2).with_column('Fitted', a * mt1 + b ).scatter('Midterm 1')"
   ]
  },
  {
   "cell_type": "code",
   "execution_count": null,
   "metadata": {},
   "outputs": [],
   "source": [
    "scores.with_column('Residual', mt2 - (a * mt1 + b)).scatter('Midterm 1', 'Residual')"
   ]
  },
  {
   "cell_type": "code",
   "execution_count": null,
   "metadata": {},
   "outputs": [],
   "source": [
    "scores.where(\"Midterm 1\", mt1_actual).hist('Midterm 2')"
   ]
  },
  {
   "cell_type": "code",
   "execution_count": null,
   "metadata": {},
   "outputs": [],
   "source": [
    "scores.where(\"Midterm 1\", are.between_or_equal_to(mt1_actual-2, mt1_actual+2)).hist('Midterm 2')"
   ]
  },
  {
   "cell_type": "code",
   "execution_count": null,
   "metadata": {},
   "outputs": [],
   "source": [
    "def avg_mt2(mt1):\n",
    "    near = scores.where(\"Midterm 1\", are.between_or_equal_to(mt1-2, mt1+2))\n",
    "    return near.column(\"Midterm 2\").mean()\n",
    "\n",
    "avg_mt2(mt1_actual)"
   ]
  },
  {
   "cell_type": "code",
   "execution_count": null,
   "metadata": {},
   "outputs": [],
   "source": [
    "mt2_avg = scores.apply(avg_mt2, 'Midterm 1')"
   ]
  },
  {
   "cell_type": "code",
   "execution_count": null,
   "metadata": {},
   "outputs": [],
   "source": [
    "scores.drop(2).with_column('Avg', mt2_avg).scatter('Midterm 1')"
   ]
  },
  {
   "cell_type": "markdown",
   "metadata": {},
   "source": [
    "## Tutoring"
   ]
  },
  {
   "cell_type": "code",
   "execution_count": null,
   "metadata": {},
   "outputs": [],
   "source": [
    "scores.show(5)"
   ]
  },
  {
   "cell_type": "code",
   "execution_count": null,
   "metadata": {},
   "outputs": [],
   "source": [
    "scores.scatter('Midterm 1', 'Midterm 2', group='Mentored')"
   ]
  },
  {
   "cell_type": "code",
   "execution_count": null,
   "metadata": {},
   "outputs": [],
   "source": [
    "scores.hist('Midterm 1', group='Mentored', bins=np.arange(0, 41, 5), normed=False)"
   ]
  },
  {
   "cell_type": "code",
   "execution_count": null,
   "metadata": {},
   "outputs": [],
   "source": [
    "scores.hist('Midterm 2', group='Mentored', bins=np.arange(0, 51, 5), normed=False)"
   ]
  },
  {
   "cell_type": "code",
   "execution_count": null,
   "metadata": {},
   "outputs": [],
   "source": [
    "no_mentor = scores.where(\"Mentored\", False)\n",
    "\n",
    "def avg_mt2_no_mentor(mt1):\n",
    "    near = no_mentor.where(\"Midterm 1\", are.between_or_equal_to(mt1-2, mt1+2))\n",
    "    return near.column(\"Midterm 2\").mean()\n",
    "\n",
    "predicted_mt2 = scores.apply(avg_mt2_no_mentor, \"Midterm 1\")"
   ]
  },
  {
   "cell_type": "code",
   "execution_count": null,
   "metadata": {},
   "outputs": [],
   "source": [
    "scores.drop(2).with_column('Predicted Mt2', predicted_mt2).scatter('Midterm 1')"
   ]
  },
  {
   "cell_type": "code",
   "execution_count": null,
   "metadata": {},
   "outputs": [],
   "source": [
    "scores = scores.with_column(\"Improvement\", scores.column('Midterm 2') - predicted_mt2)\n",
    "\n",
    "scores.hist(\"Improvement\", bins=np.arange(-30, 31, 5), group=\"Mentored\", unit=\"point\")"
   ]
  },
  {
   "cell_type": "code",
   "execution_count": null,
   "metadata": {},
   "outputs": [],
   "source": [
    "def of_at_least_5(values):\n",
    "    return sum(values >= 5) / len(values)\n",
    "\n",
    "scores.select('Mentored', 'Improvement').group('Mentored', of_at_least_5).set_format(1, PercentFormatter)"
   ]
  },
  {
   "cell_type": "code",
   "execution_count": null,
   "metadata": {},
   "outputs": [],
   "source": [
    "scores.group(\"Mentored\", np.mean)"
   ]
  },
  {
   "cell_type": "code",
   "execution_count": null,
   "metadata": {},
   "outputs": [],
   "source": [
    "def mean_ci(observations):\n",
    "    means = []\n",
    "    for i in np.arange(2000):\n",
    "        means.append(observations.sample().column(\"Improvement\").mean())\n",
    "    lower, upper = percentile(2.5, means), percentile(97.5, means)\n",
    "    print(\"Mean improvement:\", observations.column(\"Improvement\").mean())\n",
    "    print(\"95% CI of mean improvement:\", lower, \"to\", upper)\n",
    "\n",
    "mentored = scores.where(\"Mentored\", True)\n",
    "mean_ci(mentored)"
   ]
  },
  {
   "cell_type": "code",
   "execution_count": null,
   "metadata": {},
   "outputs": [],
   "source": [
    "mean_ci(mentored.where(\"Midterm 1\", are.below(20)))"
   ]
  },
  {
   "cell_type": "code",
   "execution_count": null,
   "metadata": {},
   "outputs": [],
   "source": [
    "mean_ci(mentored.where(\"Midterm 1\", are.between(20, 30)))"
   ]
  },
  {
   "cell_type": "code",
   "execution_count": null,
   "metadata": {},
   "outputs": [],
   "source": [
    "mean_ci(mentored.where(\"Midterm 1\", are.above_or_equal_to(30)))"
   ]
  }
 ],
 "metadata": {
  "kernelspec": {
   "display_name": "Python 3 (ipykernel)",
   "language": "python",
   "name": "python3"
  },
  "language_info": {
   "codemirror_mode": {
    "name": "ipython",
    "version": 3
   },
   "file_extension": ".py",
   "mimetype": "text/x-python",
   "name": "python",
   "nbconvert_exporter": "python",
   "pygments_lexer": "ipython3",
   "version": "3.9.13"
  }
 },
 "nbformat": 4,
 "nbformat_minor": 4
}
