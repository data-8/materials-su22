{
 "cells": [
  {
   "cell_type": "code",
   "execution_count": 2,
   "metadata": {},
   "outputs": [],
   "source": [
    "from datascience import *\n",
    "import numpy as np\n",
    "\n",
    "%matplotlib inline\n",
    "import matplotlib.pyplot as plots\n",
    "plots.style.use('fivethirtyeight')\n",
    "import warnings\n",
    "warnings.simplefilter(action='ignore',category=np.VisibleDeprecationWarning)\n",
    "\n",
    "import pdb"
   ]
  },
  {
   "cell_type": "markdown",
   "metadata": {},
   "source": [
    "## Warmup ##"
   ]
  },
  {
   "cell_type": "code",
   "execution_count": 3,
   "metadata": {},
   "outputs": [
    {
     "name": "stdout",
     "output_type": "stream",
     "text": [
      "Oscar is item 0 in the array\n",
      "Padma is item 1 in the array\n",
      "Prasann is item 2 in the array\n",
      "Emily is item 3 in the array\n",
      "Josh is item 4 in the array\n"
     ]
    }
   ],
   "source": [
    "lead_TAs = make_array('Oscar', 'Padma', 'Prasann', 'Emily', 'Josh')\n",
    "\n",
    "counter = 0\n",
    "for ta in lead_TAs:\n",
    "    print(f\"{ta} is item {counter} in the array\")\n",
    "    counter = counter + 1 # Equivalent to `counter += 1`"
   ]
  },
  {
   "cell_type": "code",
   "execution_count": 4,
   "metadata": {},
   "outputs": [
    {
     "name": "stdout",
     "output_type": "stream",
     "text": [
      "Hello\n",
      "Hello\n",
      "Hello\n",
      "Hello\n",
      "Hello\n",
      "Hello\n"
     ]
    }
   ],
   "source": [
    "for _ in np.arange(6):\n",
    "    print('Hello')"
   ]
  },
  {
   "cell_type": "markdown",
   "metadata": {},
   "source": [
    "### What does this line of  code do? ###"
   ]
  },
  {
   "cell_type": "code",
   "execution_count": 5,
   "metadata": {},
   "outputs": [],
   "source": [
    "def starts_with_P(x):\n",
    "    \"\"\"\n",
    "    Checks whether a string x starts with P or not\n",
    "    Input:\n",
    "        x (str)\n",
    "    Output:\n",
    "        bool\n",
    "    \"\"\"\n",
    "    return are.containing('P')(x)"
   ]
  },
  {
   "cell_type": "code",
   "execution_count": 6,
   "metadata": {},
   "outputs": [],
   "source": [
    "array_1 = make_array()\n",
    "count = 0\n",
    "\n",
    "for ta in lead_TAs:\n",
    "    if starts_with_P(ta):\n",
    "        array_1 = np.append(array_1, ta)\n",
    "    count += 1\n",
    "    "
   ]
  },
  {
   "cell_type": "code",
   "execution_count": 7,
   "metadata": {},
   "outputs": [
    {
     "data": {
      "text/plain": [
       "0"
      ]
     },
     "execution_count": 7,
     "metadata": {},
     "output_type": "execute_result"
    }
   ],
   "source": [
    "np.sum(are.containing('P')(lead_TAs))"
   ]
  },
  {
   "cell_type": "markdown",
   "metadata": {},
   "source": [
    "# Lecture 9a #"
   ]
  },
  {
   "cell_type": "markdown",
   "metadata": {},
   "source": [
    "## Grouping by One Column ##"
   ]
  },
  {
   "cell_type": "code",
   "execution_count": 8,
   "metadata": {},
   "outputs": [],
   "source": [
    "cones = Table.read_table('cones.csv')"
   ]
  },
  {
   "cell_type": "code",
   "execution_count": 9,
   "metadata": {},
   "outputs": [
    {
     "data": {
      "text/html": [
       "<table border=\"1\" class=\"dataframe\">\n",
       "    <thead>\n",
       "        <tr>\n",
       "            <th>Flavor</th> <th>Color</th> <th>Price</th>\n",
       "        </tr>\n",
       "    </thead>\n",
       "    <tbody>\n",
       "        <tr>\n",
       "            <td>strawberry</td> <td>pink       </td> <td>3.55 </td>\n",
       "        </tr>\n",
       "        <tr>\n",
       "            <td>chocolate </td> <td>light brown</td> <td>4.75 </td>\n",
       "        </tr>\n",
       "        <tr>\n",
       "            <td>chocolate </td> <td>dark brown </td> <td>5.25 </td>\n",
       "        </tr>\n",
       "        <tr>\n",
       "            <td>strawberry</td> <td>pink       </td> <td>5.25 </td>\n",
       "        </tr>\n",
       "        <tr>\n",
       "            <td>chocolate </td> <td>dark brown </td> <td>5.25 </td>\n",
       "        </tr>\n",
       "        <tr>\n",
       "            <td>bubblegum </td> <td>pink       </td> <td>4.75 </td>\n",
       "        </tr>\n",
       "    </tbody>\n",
       "</table>"
      ],
      "text/plain": [
       "Flavor     | Color       | Price\n",
       "strawberry | pink        | 3.55\n",
       "chocolate  | light brown | 4.75\n",
       "chocolate  | dark brown  | 5.25\n",
       "strawberry | pink        | 5.25\n",
       "chocolate  | dark brown  | 5.25\n",
       "bubblegum  | pink        | 4.75"
      ]
     },
     "execution_count": 9,
     "metadata": {},
     "output_type": "execute_result"
    }
   ],
   "source": [
    "cones"
   ]
  },
  {
   "cell_type": "code",
   "execution_count": 10,
   "metadata": {},
   "outputs": [
    {
     "data": {
      "text/html": [
       "<table border=\"1\" class=\"dataframe\">\n",
       "    <thead>\n",
       "        <tr>\n",
       "            <th>Flavor</th> <th>count</th>\n",
       "        </tr>\n",
       "    </thead>\n",
       "    <tbody>\n",
       "        <tr>\n",
       "            <td>bubblegum </td> <td>1    </td>\n",
       "        </tr>\n",
       "        <tr>\n",
       "            <td>chocolate </td> <td>3    </td>\n",
       "        </tr>\n",
       "        <tr>\n",
       "            <td>strawberry</td> <td>2    </td>\n",
       "        </tr>\n",
       "    </tbody>\n",
       "</table>"
      ],
      "text/plain": [
       "Flavor     | count\n",
       "bubblegum  | 1\n",
       "chocolate  | 3\n",
       "strawberry | 2"
      ]
     },
     "execution_count": 10,
     "metadata": {},
     "output_type": "execute_result"
    }
   ],
   "source": [
    "# Group by Flavor\n",
    "cones.group('Flavor')"
   ]
  },
  {
   "cell_type": "code",
   "execution_count": 17,
   "metadata": {},
   "outputs": [
    {
     "data": {
      "text/plain": [
       "array(['bubblegum', 'chocolate', 'strawberry'], dtype='<U10')"
      ]
     },
     "execution_count": 17,
     "metadata": {},
     "output_type": "execute_result"
    }
   ],
   "source": [
    "np.unique(flavors)"
   ]
  },
  {
   "cell_type": "code",
   "execution_count": 18,
   "metadata": {},
   "outputs": [
    {
     "data": {
      "text/html": [
       "<table border=\"1\" class=\"dataframe\">\n",
       "    <thead>\n",
       "        <tr>\n",
       "            <th>Flavor</th> <th>count</th>\n",
       "        </tr>\n",
       "    </thead>\n",
       "    <tbody>\n",
       "        <tr>\n",
       "            <td>bubblegum </td> <td>1    </td>\n",
       "        </tr>\n",
       "        <tr>\n",
       "            <td>chocolate </td> <td>3    </td>\n",
       "        </tr>\n",
       "        <tr>\n",
       "            <td>strawberry</td> <td>2    </td>\n",
       "        </tr>\n",
       "    </tbody>\n",
       "</table>"
      ],
      "text/plain": [
       "Flavor     | count\n",
       "bubblegum  | 1\n",
       "chocolate  | 3\n",
       "strawberry | 2"
      ]
     },
     "execution_count": 18,
     "metadata": {},
     "output_type": "execute_result"
    }
   ],
   "source": [
    "flavors = cones.column('Flavor')\n",
    "counts = make_array()\n",
    "for flavor in np.unique(flavors):\n",
    "    number = np.sum(cones.column('Flavor') == flavor)\n",
    "    counts = np.append(counts, number)\n",
    "Table().with_columns(\"Flavor\", np.unique(flavors),\n",
    "                  \"count\", counts)"
   ]
  },
  {
   "cell_type": "code",
   "execution_count": null,
   "metadata": {
    "scrolled": true
   },
   "outputs": [],
   "source": [
    "# Averages\n"
   ]
  },
  {
   "cell_type": "code",
   "execution_count": 19,
   "metadata": {},
   "outputs": [],
   "source": [
    "# Min\n"
   ]
  },
  {
   "cell_type": "markdown",
   "metadata": {},
   "source": [
    "## Lists"
   ]
  },
  {
   "cell_type": "code",
   "execution_count": null,
   "metadata": {},
   "outputs": [],
   "source": [
    "# Lists can have multiple types"
   ]
  },
  {
   "cell_type": "code",
   "execution_count": null,
   "metadata": {},
   "outputs": [],
   "source": [
    "# Lists of arrays"
   ]
  },
  {
   "cell_type": "code",
   "execution_count": null,
   "metadata": {},
   "outputs": [],
   "source": [
    "# Lists of lists"
   ]
  },
  {
   "cell_type": "code",
   "execution_count": 21,
   "metadata": {},
   "outputs": [
    {
     "data": {
      "text/html": [
       "<table border=\"1\" class=\"dataframe\">\n",
       "    <thead>\n",
       "        <tr>\n",
       "            <th>Number</th>\n",
       "        </tr>\n",
       "    </thead>\n",
       "    <tbody>\n",
       "        <tr>\n",
       "            <td>1     </td>\n",
       "        </tr>\n",
       "        <tr>\n",
       "            <td>2     </td>\n",
       "        </tr>\n",
       "        <tr>\n",
       "            <td>3     </td>\n",
       "        </tr>\n",
       "    </tbody>\n",
       "</table>"
      ],
      "text/plain": [
       "Number\n",
       "1\n",
       "2\n",
       "3"
      ]
     },
     "execution_count": 21,
     "metadata": {},
     "output_type": "execute_result"
    }
   ],
   "source": [
    "# You can create tables using lists\n",
    "list_table = Table().with_column('Number', [1,2,3])\n",
    "list_table"
   ]
  },
  {
   "cell_type": "code",
   "execution_count": 23,
   "metadata": {},
   "outputs": [
    {
     "data": {
      "text/html": [
       "<table border=\"1\" class=\"dataframe\">\n",
       "    <thead>\n",
       "        <tr>\n",
       "            <th>Number</th>\n",
       "        </tr>\n",
       "    </thead>\n",
       "    <tbody>\n",
       "        <tr>\n",
       "            <td>1     </td>\n",
       "        </tr>\n",
       "        <tr>\n",
       "            <td>hello </td>\n",
       "        </tr>\n",
       "        <tr>\n",
       "            <td>3     </td>\n",
       "        </tr>\n",
       "    </tbody>\n",
       "</table>"
      ],
      "text/plain": [
       "Number\n",
       "1\n",
       "hello\n",
       "3"
      ]
     },
     "execution_count": 23,
     "metadata": {},
     "output_type": "execute_result"
    }
   ],
   "source": [
    "# Here comes trouble; what is the type?\n",
    "list_table2 = Table().with_column('Number', [1,'hello',3])\n",
    "list_table2"
   ]
  },
  {
   "cell_type": "code",
   "execution_count": 27,
   "metadata": {},
   "outputs": [
    {
     "data": {
      "text/html": [
       "<table border=\"1\" class=\"dataframe\">\n",
       "    <thead>\n",
       "        <tr>\n",
       "            <th>Flavor</th> <th>Count</th>\n",
       "        </tr>\n",
       "    </thead>\n",
       "    <tbody>\n",
       "        <tr>\n",
       "            <td>bubblegum </td> <td>1    </td>\n",
       "        </tr>\n",
       "        <tr>\n",
       "            <td>chocolate </td> <td>3    </td>\n",
       "        </tr>\n",
       "        <tr>\n",
       "            <td>strawberry</td> <td>2    </td>\n",
       "        </tr>\n",
       "    </tbody>\n",
       "</table>"
      ],
      "text/plain": [
       "Flavor     | Count\n",
       "bubblegum  | 1\n",
       "chocolate  | 3\n",
       "strawberry | 2"
      ]
     },
     "execution_count": 27,
     "metadata": {},
     "output_type": "execute_result"
    }
   ],
   "source": [
    "# Create whole tables!\n",
    "\n",
    "list_table3 = Table(['Flavor', 'Count']).with_rows([\n",
    "    ['bubblegum', 1],\n",
    "    ['chocolate', 3],\n",
    "    ['strawberry', 2]\n",
    "])\n",
    "list_table3"
   ]
  },
  {
   "cell_type": "markdown",
   "metadata": {},
   "source": [
    "## Grouping By One Column: Welcome Survey ##"
   ]
  },
  {
   "cell_type": "code",
   "execution_count": 29,
   "metadata": {},
   "outputs": [],
   "source": [
    "survey = Table.read_table('welcome_survey_su22.csv')\n",
    "survey = survey.where('Handedness', are.containing('t-handed'))\n",
    "survey = survey.where('Handedness', are.not_containing(' handed'))"
   ]
  },
  {
   "cell_type": "code",
   "execution_count": 35,
   "metadata": {},
   "outputs": [
    {
     "data": {
      "text/plain": [
       "Ellipsis"
      ]
     },
     "execution_count": 35,
     "metadata": {},
     "output_type": "execute_result"
    }
   ],
   "source": [
    "# average extraversion levels?\n",
    "by_extra = ...\n",
    "by_extra"
   ]
  },
  {
   "cell_type": "code",
   "execution_count": 37,
   "metadata": {},
   "outputs": [],
   "source": [
    "# Let's plot it extraversion vs number of textees p average?"
   ]
  },
  {
   "cell_type": "code",
   "execution_count": 36,
   "metadata": {
    "scrolled": true
   },
   "outputs": [],
   "source": [
    "# Plots"
   ]
  },
  {
   "cell_type": "code",
   "execution_count": 39,
   "metadata": {},
   "outputs": [],
   "source": [
    "# Deep Dive"
   ]
  },
  {
   "cell_type": "markdown",
   "metadata": {},
   "source": [
    "## Grouping by Two Columns ##"
   ]
  },
  {
   "cell_type": "markdown",
   "metadata": {},
   "source": [
    "    Do right-handed people tend to sleep on their left side and left-handed people sleep on their right?"
   ]
  },
  {
   "cell_type": "code",
   "execution_count": 41,
   "metadata": {},
   "outputs": [
    {
     "data": {
      "text/plain": [
       "Ellipsis"
      ]
     },
     "execution_count": 41,
     "metadata": {},
     "output_type": "execute_result"
    }
   ],
   "source": [
    "..."
   ]
  },
  {
   "cell_type": "markdown",
   "metadata": {},
   "source": [
    "## Pivot Tables"
   ]
  },
  {
   "cell_type": "code",
   "execution_count": 42,
   "metadata": {},
   "outputs": [
    {
     "data": {
      "text/plain": [
       "Ellipsis"
      ]
     },
     "execution_count": 42,
     "metadata": {},
     "output_type": "execute_result"
    }
   ],
   "source": [
    "..."
   ]
  },
  {
   "cell_type": "code",
   "execution_count": 43,
   "metadata": {},
   "outputs": [
    {
     "data": {
      "text/plain": [
       "Ellipsis"
      ]
     },
     "execution_count": 43,
     "metadata": {},
     "output_type": "execute_result"
    }
   ],
   "source": [
    "..."
   ]
  },
  {
   "cell_type": "code",
   "execution_count": 45,
   "metadata": {},
   "outputs": [
    {
     "data": {
      "text/plain": [
       "Ellipsis"
      ]
     },
     "execution_count": 45,
     "metadata": {},
     "output_type": "execute_result"
    }
   ],
   "source": [
    "..."
   ]
  },
  {
   "cell_type": "markdown",
   "metadata": {},
   "source": [
    "## Group vs Pivot"
   ]
  },
  {
   "cell_type": "markdown",
   "metadata": {},
   "source": [
    "Need help with group vs pivot?  Try [our visualizer](http://data8.org/interactive_table_functions/)."
   ]
  },
  {
   "cell_type": "markdown",
   "metadata": {},
   "source": [
    "# Lecture 9b #"
   ]
  },
  {
   "cell_type": "markdown",
   "metadata": {},
   "source": [
    "## Intro to Join ##"
   ]
  },
  {
   "cell_type": "code",
   "execution_count": 46,
   "metadata": {},
   "outputs": [
    {
     "data": {
      "text/html": [
       "<table border=\"1\" class=\"dataframe\">\n",
       "    <thead>\n",
       "        <tr>\n",
       "            <th>Drink</th> <th>Cafe</th> <th>Price</th>\n",
       "        </tr>\n",
       "    </thead>\n",
       "    <tbody>\n",
       "        <tr>\n",
       "            <td>Milk Tea</td> <td>Asha  </td> <td>5.5  </td>\n",
       "        </tr>\n",
       "        <tr>\n",
       "            <td>Espresso</td> <td>Strada</td> <td>1.75 </td>\n",
       "        </tr>\n",
       "        <tr>\n",
       "            <td>Latte   </td> <td>Strada</td> <td>3.25 </td>\n",
       "        </tr>\n",
       "        <tr>\n",
       "            <td>Espresso</td> <td>FSM   </td> <td>2    </td>\n",
       "        </tr>\n",
       "    </tbody>\n",
       "</table>"
      ],
      "text/plain": [
       "Drink    | Cafe   | Price\n",
       "Milk Tea | Asha   | 5.5\n",
       "Espresso | Strada | 1.75\n",
       "Latte    | Strada | 3.25\n",
       "Espresso | FSM    | 2"
      ]
     },
     "execution_count": 46,
     "metadata": {},
     "output_type": "execute_result"
    }
   ],
   "source": [
    "drinks = Table(['Drink', 'Cafe', 'Price'])\n",
    "drinks = drinks.with_rows([\n",
    "    ['Milk Tea', 'Asha', 5.5],\n",
    "    ['Espresso', 'Strada',  1.75],\n",
    "    ['Latte',    'Strada',  3.25],\n",
    "    ['Espresso', \"FSM\",   2]\n",
    "])\n",
    "drinks"
   ]
  },
  {
   "cell_type": "code",
   "execution_count": 47,
   "metadata": {},
   "outputs": [
    {
     "data": {
      "text/html": [
       "<table border=\"1\" class=\"dataframe\">\n",
       "    <thead>\n",
       "        <tr>\n",
       "            <th>Coupon % off</th> <th>Location</th>\n",
       "        </tr>\n",
       "    </thead>\n",
       "    <tbody>\n",
       "        <tr>\n",
       "            <td>10          </td> <td>Asha    </td>\n",
       "        </tr>\n",
       "        <tr>\n",
       "            <td>25          </td> <td>Strada  </td>\n",
       "        </tr>\n",
       "        <tr>\n",
       "            <td>5           </td> <td>Asha    </td>\n",
       "        </tr>\n",
       "    </tbody>\n",
       "</table>"
      ],
      "text/plain": [
       "Coupon % off | Location\n",
       "10           | Asha\n",
       "25           | Strada\n",
       "5            | Asha"
      ]
     },
     "execution_count": 47,
     "metadata": {},
     "output_type": "execute_result"
    }
   ],
   "source": [
    "discounts = Table().with_columns(\n",
    "    'Coupon % off', make_array(10, 25, 5),\n",
    "    'Location', make_array('Asha', 'Strada', 'Asha')\n",
    ")\n",
    "discounts"
   ]
  },
  {
   "cell_type": "code",
   "execution_count": 52,
   "metadata": {},
   "outputs": [],
   "source": [
    "# Combining tables\n",
    "..."
   ]
  },
  {
   "cell_type": "code",
   "execution_count": 51,
   "metadata": {},
   "outputs": [],
   "source": [
    "# Calculating discounted prices"
   ]
  },
  {
   "cell_type": "markdown",
   "metadata": {},
   "source": [
    "## The Result is Sorted ##"
   ]
  },
  {
   "cell_type": "code",
   "execution_count": 53,
   "metadata": {},
   "outputs": [
    {
     "data": {
      "text/html": [
       "<table border=\"1\" class=\"dataframe\">\n",
       "    <thead>\n",
       "        <tr>\n",
       "            <th>Drink</th> <th>Cafe</th> <th>Price</th>\n",
       "        </tr>\n",
       "    </thead>\n",
       "    <tbody>\n",
       "        <tr>\n",
       "            <td>Latte   </td> <td>Strada</td> <td>3.25 </td>\n",
       "        </tr>\n",
       "        <tr>\n",
       "            <td>Espresso</td> <td>Strada</td> <td>1.75 </td>\n",
       "        </tr>\n",
       "        <tr>\n",
       "            <td>Milk Tea</td> <td>Asha  </td> <td>5.5  </td>\n",
       "        </tr>\n",
       "        <tr>\n",
       "            <td>Espresso</td> <td>FSM   </td> <td>2    </td>\n",
       "        </tr>\n",
       "    </tbody>\n",
       "</table>"
      ],
      "text/plain": [
       "Drink    | Cafe   | Price\n",
       "Latte    | Strada | 3.25\n",
       "Espresso | Strada | 1.75\n",
       "Milk Tea | Asha   | 5.5\n",
       "Espresso | FSM    | 2"
      ]
     },
     "execution_count": 53,
     "metadata": {},
     "output_type": "execute_result"
    }
   ],
   "source": [
    "drinks2 = Table(['Drink', 'Cafe', 'Price'])\n",
    "drinks2 = drinks2.with_rows([\n",
    "    ['Latte',    'Strada',  3.25],\n",
    "    ['Espresso', 'Strada',  1.75],\n",
    "    ['Milk Tea', 'Asha', 5.5],\n",
    "    ['Espresso', \"FSM\",   2]\n",
    "])\n",
    "drinks2"
   ]
  },
  {
   "cell_type": "code",
   "execution_count": 54,
   "metadata": {},
   "outputs": [
    {
     "data": {
      "text/html": [
       "<table border=\"1\" class=\"dataframe\">\n",
       "    <thead>\n",
       "        <tr>\n",
       "            <th>Coupon % off</th> <th>Location</th>\n",
       "        </tr>\n",
       "    </thead>\n",
       "    <tbody>\n",
       "        <tr>\n",
       "            <td>10          </td> <td>Asha    </td>\n",
       "        </tr>\n",
       "        <tr>\n",
       "            <td>25          </td> <td>Strada  </td>\n",
       "        </tr>\n",
       "        <tr>\n",
       "            <td>5           </td> <td>Asha    </td>\n",
       "        </tr>\n",
       "    </tbody>\n",
       "</table>"
      ],
      "text/plain": [
       "Coupon % off | Location\n",
       "10           | Asha\n",
       "25           | Strada\n",
       "5            | Asha"
      ]
     },
     "execution_count": 54,
     "metadata": {},
     "output_type": "execute_result"
    }
   ],
   "source": [
    "discounts"
   ]
  },
  {
   "cell_type": "code",
   "execution_count": 55,
   "metadata": {},
   "outputs": [
    {
     "data": {
      "text/html": [
       "<table border=\"1\" class=\"dataframe\">\n",
       "    <thead>\n",
       "        <tr>\n",
       "            <th>Cafe</th> <th>Drink</th> <th>Price</th> <th>Coupon % off</th>\n",
       "        </tr>\n",
       "    </thead>\n",
       "    <tbody>\n",
       "        <tr>\n",
       "            <td>Asha  </td> <td>Milk Tea</td> <td>5.5  </td> <td>10          </td>\n",
       "        </tr>\n",
       "        <tr>\n",
       "            <td>Asha  </td> <td>Milk Tea</td> <td>5.5  </td> <td>5           </td>\n",
       "        </tr>\n",
       "        <tr>\n",
       "            <td>Strada</td> <td>Latte   </td> <td>3.25 </td> <td>25          </td>\n",
       "        </tr>\n",
       "        <tr>\n",
       "            <td>Strada</td> <td>Espresso</td> <td>1.75 </td> <td>25          </td>\n",
       "        </tr>\n",
       "    </tbody>\n",
       "</table>"
      ],
      "text/plain": [
       "Cafe   | Drink    | Price | Coupon % off\n",
       "Asha   | Milk Tea | 5.5   | 10\n",
       "Asha   | Milk Tea | 5.5   | 5\n",
       "Strada | Latte    | 3.25  | 25\n",
       "Strada | Espresso | 1.75  | 25"
      ]
     },
     "execution_count": 55,
     "metadata": {},
     "output_type": "execute_result"
    }
   ],
   "source": [
    "drinks2.join('Cafe', discounts, 'Location')"
   ]
  },
  {
   "cell_type": "markdown",
   "metadata": {},
   "source": [
    "## Notes on Column Names ##"
   ]
  },
  {
   "cell_type": "code",
   "execution_count": 56,
   "metadata": {},
   "outputs": [
    {
     "data": {
      "text/html": [
       "<table border=\"1\" class=\"dataframe\">\n",
       "    <thead>\n",
       "        <tr>\n",
       "            <th>Drink</th> <th>Cafe</th> <th>Price</th>\n",
       "        </tr>\n",
       "    </thead>\n",
       "    <tbody>\n",
       "        <tr>\n",
       "            <td>Milk Tea</td> <td>Asha  </td> <td>5.5  </td>\n",
       "        </tr>\n",
       "        <tr>\n",
       "            <td>Espresso</td> <td>Strada</td> <td>1.75 </td>\n",
       "        </tr>\n",
       "        <tr>\n",
       "            <td>Latte   </td> <td>Strada</td> <td>3.25 </td>\n",
       "        </tr>\n",
       "        <tr>\n",
       "            <td>Espresso</td> <td>FSM   </td> <td>2    </td>\n",
       "        </tr>\n",
       "    </tbody>\n",
       "</table>"
      ],
      "text/plain": [
       "Drink    | Cafe   | Price\n",
       "Milk Tea | Asha   | 5.5\n",
       "Espresso | Strada | 1.75\n",
       "Latte    | Strada | 3.25\n",
       "Espresso | FSM    | 2"
      ]
     },
     "execution_count": 56,
     "metadata": {},
     "output_type": "execute_result"
    }
   ],
   "source": [
    "drinks"
   ]
  },
  {
   "cell_type": "code",
   "execution_count": 57,
   "metadata": {},
   "outputs": [
    {
     "data": {
      "text/html": [
       "<table border=\"1\" class=\"dataframe\">\n",
       "    <thead>\n",
       "        <tr>\n",
       "            <th>Drink</th> <th>Cafe</th>\n",
       "        </tr>\n",
       "    </thead>\n",
       "    <tbody>\n",
       "        <tr>\n",
       "            <td>Tea   </td> <td>Asha  </td>\n",
       "        </tr>\n",
       "        <tr>\n",
       "            <td>Coffee</td> <td>FSM   </td>\n",
       "        </tr>\n",
       "        <tr>\n",
       "            <td>Coffee</td> <td>Strada</td>\n",
       "        </tr>\n",
       "    </tbody>\n",
       "</table>"
      ],
      "text/plain": [
       "Drink  | Cafe\n",
       "Tea    | Asha\n",
       "Coffee | FSM\n",
       "Coffee | Strada"
      ]
     },
     "execution_count": 57,
     "metadata": {},
     "output_type": "execute_result"
    }
   ],
   "source": [
    "drinks_new = Table().with_columns(\n",
    "    'Drink', make_array('Tea', 'Coffee', 'Coffee'),\n",
    "    'Cafe', make_array('Asha', 'FSM', 'Strada')\n",
    ")\n",
    "drinks_new"
   ]
  },
  {
   "cell_type": "code",
   "execution_count": 61,
   "metadata": {},
   "outputs": [
    {
     "data": {
      "text/plain": [
       "Ellipsis"
      ]
     },
     "execution_count": 61,
     "metadata": {},
     "output_type": "execute_result"
    }
   ],
   "source": [
    "# 'Drink' column of drinks_new is relabeled Drink_2\n",
    "\n",
    "..."
   ]
  },
  {
   "cell_type": "code",
   "execution_count": 62,
   "metadata": {},
   "outputs": [
    {
     "data": {
      "text/plain": [
       "Ellipsis"
      ]
     },
     "execution_count": 62,
     "metadata": {},
     "output_type": "execute_result"
    }
   ],
   "source": [
    "# If you don't specify a column label in the second table,\n",
    "# join looks for a column with the same label \n",
    "# as specified in the first argument\n",
    "\n",
    "..."
   ]
  },
  {
   "cell_type": "markdown",
   "metadata": {},
   "source": [
    "## Another Join Example ##"
   ]
  },
  {
   "cell_type": "code",
   "execution_count": 63,
   "metadata": {},
   "outputs": [
    {
     "data": {
      "text/html": [
       "<table border=\"1\" class=\"dataframe\">\n",
       "    <thead>\n",
       "        <tr>\n",
       "            <th>SEX</th> <th>AGE</th> <th>POPESTIMATE2019</th>\n",
       "        </tr>\n",
       "    </thead>\n",
       "    <tbody>\n",
       "        <tr>\n",
       "            <td>0   </td> <td>0   </td> <td>3783052        </td>\n",
       "        </tr>\n",
       "        <tr>\n",
       "            <td>0   </td> <td>1   </td> <td>3829599        </td>\n",
       "        </tr>\n",
       "        <tr>\n",
       "            <td>0   </td> <td>2   </td> <td>3922044        </td>\n",
       "        </tr>\n",
       "        <tr>\n",
       "            <td>0   </td> <td>3   </td> <td>3998665        </td>\n",
       "        </tr>\n",
       "        <tr>\n",
       "            <td>0   </td> <td>4   </td> <td>4043323        </td>\n",
       "        </tr>\n",
       "        <tr>\n",
       "            <td>0   </td> <td>5   </td> <td>4028281        </td>\n",
       "        </tr>\n",
       "        <tr>\n",
       "            <td>0   </td> <td>6   </td> <td>4017227        </td>\n",
       "        </tr>\n",
       "        <tr>\n",
       "            <td>0   </td> <td>7   </td> <td>4022319        </td>\n",
       "        </tr>\n",
       "        <tr>\n",
       "            <td>0   </td> <td>8   </td> <td>4066194        </td>\n",
       "        </tr>\n",
       "        <tr>\n",
       "            <td>0   </td> <td>9   </td> <td>4061874        </td>\n",
       "        </tr>\n",
       "    </tbody>\n",
       "</table>\n",
       "<p>... (296 rows omitted)</p>"
      ],
      "text/plain": [
       "SEX  | AGE  | POPESTIMATE2019\n",
       "0    | 0    | 3783052\n",
       "0    | 1    | 3829599\n",
       "0    | 2    | 3922044\n",
       "0    | 3    | 3998665\n",
       "0    | 4    | 4043323\n",
       "0    | 5    | 4028281\n",
       "0    | 6    | 4017227\n",
       "0    | 7    | 4022319\n",
       "0    | 8    | 4066194\n",
       "0    | 9    | 4061874\n",
       "... (296 rows omitted)"
      ]
     },
     "execution_count": 63,
     "metadata": {},
     "output_type": "execute_result"
    }
   ],
   "source": [
    "full = Table.read_table('nc-est2019-agesex-res.csv')\n",
    "census = full.select('SEX', 'AGE', 'POPESTIMATE2019')\n",
    "census"
   ]
  },
  {
   "cell_type": "code",
   "execution_count": 64,
   "metadata": {},
   "outputs": [
    {
     "data": {
      "text/html": [
       "<table border=\"1\" class=\"dataframe\">\n",
       "    <thead>\n",
       "        <tr>\n",
       "            <th>SEX CODE</th> <th>CODE DEFINITION</th>\n",
       "        </tr>\n",
       "    </thead>\n",
       "    <tbody>\n",
       "        <tr>\n",
       "            <td>0       </td> <td>All            </td>\n",
       "        </tr>\n",
       "        <tr>\n",
       "            <td>1       </td> <td>Selected Male  </td>\n",
       "        </tr>\n",
       "        <tr>\n",
       "            <td>2       </td> <td>Selected Female</td>\n",
       "        </tr>\n",
       "    </tbody>\n",
       "</table>"
      ],
      "text/plain": [
       "SEX CODE | CODE DEFINITION\n",
       "0        | All\n",
       "1        | Selected Male\n",
       "2        | Selected Female"
      ]
     },
     "execution_count": 64,
     "metadata": {},
     "output_type": "execute_result"
    }
   ],
   "source": [
    "sex_codes = Table().with_columns(\n",
    "    'SEX CODE', make_array(0, 1, 2),\n",
    "    'CODE DEFINITION', make_array('All', 'Selected Male', 'Selected Female')\n",
    ")\n",
    "sex_codes"
   ]
  },
  {
   "cell_type": "code",
   "execution_count": 65,
   "metadata": {},
   "outputs": [
    {
     "data": {
      "text/html": [
       "<table border=\"1\" class=\"dataframe\">\n",
       "    <thead>\n",
       "        <tr>\n",
       "            <th>SEX CODE</th> <th>CODE DEFINITION</th> <th>AGE</th> <th>POPESTIMATE2019</th>\n",
       "        </tr>\n",
       "    </thead>\n",
       "    <tbody>\n",
       "        <tr>\n",
       "            <td>0       </td> <td>All            </td> <td>0   </td> <td>3783052        </td>\n",
       "        </tr>\n",
       "        <tr>\n",
       "            <td>0       </td> <td>All            </td> <td>1   </td> <td>3829599        </td>\n",
       "        </tr>\n",
       "        <tr>\n",
       "            <td>0       </td> <td>All            </td> <td>2   </td> <td>3922044        </td>\n",
       "        </tr>\n",
       "        <tr>\n",
       "            <td>0       </td> <td>All            </td> <td>3   </td> <td>3998665        </td>\n",
       "        </tr>\n",
       "        <tr>\n",
       "            <td>0       </td> <td>All            </td> <td>4   </td> <td>4043323        </td>\n",
       "        </tr>\n",
       "        <tr>\n",
       "            <td>0       </td> <td>All            </td> <td>5   </td> <td>4028281        </td>\n",
       "        </tr>\n",
       "        <tr>\n",
       "            <td>0       </td> <td>All            </td> <td>6   </td> <td>4017227        </td>\n",
       "        </tr>\n",
       "        <tr>\n",
       "            <td>0       </td> <td>All            </td> <td>7   </td> <td>4022319        </td>\n",
       "        </tr>\n",
       "        <tr>\n",
       "            <td>0       </td> <td>All            </td> <td>8   </td> <td>4066194        </td>\n",
       "        </tr>\n",
       "        <tr>\n",
       "            <td>0       </td> <td>All            </td> <td>9   </td> <td>4061874        </td>\n",
       "        </tr>\n",
       "        <tr>\n",
       "            <td>0       </td> <td>All            </td> <td>10  </td> <td>4060940        </td>\n",
       "        </tr>\n",
       "        <tr>\n",
       "            <td>0       </td> <td>All            </td> <td>11  </td> <td>4189261        </td>\n",
       "        </tr>\n",
       "        <tr>\n",
       "            <td>0       </td> <td>All            </td> <td>12  </td> <td>4208387        </td>\n",
       "        </tr>\n",
       "        <tr>\n",
       "            <td>0       </td> <td>All            </td> <td>13  </td> <td>4175221        </td>\n",
       "        </tr>\n",
       "        <tr>\n",
       "            <td>0       </td> <td>All            </td> <td>14  </td> <td>4164459        </td>\n",
       "        </tr>\n",
       "        <tr>\n",
       "            <td>0       </td> <td>All            </td> <td>15  </td> <td>4175459        </td>\n",
       "        </tr>\n",
       "        <tr>\n",
       "            <td>0       </td> <td>All            </td> <td>16  </td> <td>4150420        </td>\n",
       "        </tr>\n",
       "        <tr>\n",
       "            <td>0       </td> <td>All            </td> <td>17  </td> <td>4142425        </td>\n",
       "        </tr>\n",
       "        <tr>\n",
       "            <td>0       </td> <td>All            </td> <td>18  </td> <td>4255827        </td>\n",
       "        </tr>\n",
       "        <tr>\n",
       "            <td>0       </td> <td>All            </td> <td>19  </td> <td>4330439        </td>\n",
       "        </tr>\n",
       "        <tr>\n",
       "            <td>0       </td> <td>All            </td> <td>20  </td> <td>4269683        </td>\n",
       "        </tr>\n",
       "        <tr>\n",
       "            <td>0       </td> <td>All            </td> <td>21  </td> <td>4278323        </td>\n",
       "        </tr>\n",
       "        <tr>\n",
       "            <td>0       </td> <td>All            </td> <td>22  </td> <td>4298772        </td>\n",
       "        </tr>\n",
       "        <tr>\n",
       "            <td>0       </td> <td>All            </td> <td>23  </td> <td>4341644        </td>\n",
       "        </tr>\n",
       "        <tr>\n",
       "            <td>0       </td> <td>All            </td> <td>24  </td> <td>4444518        </td>\n",
       "        </tr>\n",
       "        <tr>\n",
       "            <td>0       </td> <td>All            </td> <td>25  </td> <td>4539058        </td>\n",
       "        </tr>\n",
       "        <tr>\n",
       "            <td>0       </td> <td>All            </td> <td>26  </td> <td>4611220        </td>\n",
       "        </tr>\n",
       "        <tr>\n",
       "            <td>0       </td> <td>All            </td> <td>27  </td> <td>4733869        </td>\n",
       "        </tr>\n",
       "        <tr>\n",
       "            <td>0       </td> <td>All            </td> <td>28  </td> <td>4818725        </td>\n",
       "        </tr>\n",
       "        <tr>\n",
       "            <td>0       </td> <td>All            </td> <td>29  </td> <td>4806144        </td>\n",
       "        </tr>\n",
       "        <tr>\n",
       "            <td>0       </td> <td>All            </td> <td>30  </td> <td>4614384        </td>\n",
       "        </tr>\n",
       "        <tr>\n",
       "            <td>0       </td> <td>All            </td> <td>31  </td> <td>4502311        </td>\n",
       "        </tr>\n",
       "        <tr>\n",
       "            <td>0       </td> <td>All            </td> <td>32  </td> <td>4421505        </td>\n",
       "        </tr>\n",
       "        <tr>\n",
       "            <td>0       </td> <td>All            </td> <td>33  </td> <td>4432973        </td>\n",
       "        </tr>\n",
       "        <tr>\n",
       "            <td>0       </td> <td>All            </td> <td>34  </td> <td>4460132        </td>\n",
       "        </tr>\n",
       "        <tr>\n",
       "            <td>0       </td> <td>All            </td> <td>35  </td> <td>4315866        </td>\n",
       "        </tr>\n",
       "        <tr>\n",
       "            <td>0       </td> <td>All            </td> <td>36  </td> <td>4372444        </td>\n",
       "        </tr>\n",
       "        <tr>\n",
       "            <td>0       </td> <td>All            </td> <td>37  </td> <td>4361286        </td>\n",
       "        </tr>\n",
       "        <tr>\n",
       "            <td>0       </td> <td>All            </td> <td>38  </td> <td>4305576        </td>\n",
       "        </tr>\n",
       "        <tr>\n",
       "            <td>0       </td> <td>All            </td> <td>39  </td> <td>4382349        </td>\n",
       "        </tr>\n",
       "        <tr>\n",
       "            <td>0       </td> <td>All            </td> <td>40  </td> <td>4105313        </td>\n",
       "        </tr>\n",
       "        <tr>\n",
       "            <td>0       </td> <td>All            </td> <td>41  </td> <td>4020254        </td>\n",
       "        </tr>\n",
       "        <tr>\n",
       "            <td>0       </td> <td>All            </td> <td>42  </td> <td>3974741        </td>\n",
       "        </tr>\n",
       "        <tr>\n",
       "            <td>0       </td> <td>All            </td> <td>43  </td> <td>3854040        </td>\n",
       "        </tr>\n",
       "        <tr>\n",
       "            <td>0       </td> <td>All            </td> <td>44  </td> <td>3967275        </td>\n",
       "        </tr>\n",
       "        <tr>\n",
       "            <td>0       </td> <td>All            </td> <td>45  </td> <td>3837909        </td>\n",
       "        </tr>\n",
       "        <tr>\n",
       "            <td>0       </td> <td>All            </td> <td>46  </td> <td>3889372        </td>\n",
       "        </tr>\n",
       "        <tr>\n",
       "            <td>0       </td> <td>All            </td> <td>47  </td> <td>4058038        </td>\n",
       "        </tr>\n",
       "        <tr>\n",
       "            <td>0       </td> <td>All            </td> <td>48  </td> <td>4282657        </td>\n",
       "        </tr>\n",
       "        <tr>\n",
       "            <td>0       </td> <td>All            </td> <td>49  </td> <td>4329775        </td>\n",
       "        </tr>\n",
       "        <tr>\n",
       "            <td>0       </td> <td>All            </td> <td>50  </td> <td>4096572        </td>\n",
       "        </tr>\n",
       "        <tr>\n",
       "            <td>0       </td> <td>All            </td> <td>51  </td> <td>4004343        </td>\n",
       "        </tr>\n",
       "        <tr>\n",
       "            <td>0       </td> <td>All            </td> <td>52  </td> <td>4001782        </td>\n",
       "        </tr>\n",
       "        <tr>\n",
       "            <td>0       </td> <td>All            </td> <td>53  </td> <td>4068851        </td>\n",
       "        </tr>\n",
       "        <tr>\n",
       "            <td>0       </td> <td>All            </td> <td>54  </td> <td>4305603        </td>\n",
       "        </tr>\n",
       "        <tr>\n",
       "            <td>0       </td> <td>All            </td> <td>55  </td> <td>4374565        </td>\n",
       "        </tr>\n",
       "        <tr>\n",
       "            <td>0       </td> <td>All            </td> <td>56  </td> <td>4361016        </td>\n",
       "        </tr>\n",
       "        <tr>\n",
       "            <td>0       </td> <td>All            </td> <td>57  </td> <td>4342385        </td>\n",
       "        </tr>\n",
       "        <tr>\n",
       "            <td>0       </td> <td>All            </td> <td>58  </td> <td>4385570        </td>\n",
       "        </tr>\n",
       "        <tr>\n",
       "            <td>0       </td> <td>All            </td> <td>59  </td> <td>4413855        </td>\n",
       "        </tr>\n",
       "        <tr>\n",
       "            <td>0       </td> <td>All            </td> <td>60  </td> <td>4252663        </td>\n",
       "        </tr>\n",
       "        <tr>\n",
       "            <td>0       </td> <td>All            </td> <td>61  </td> <td>4215172        </td>\n",
       "        </tr>\n",
       "        <tr>\n",
       "            <td>0       </td> <td>All            </td> <td>62  </td> <td>4156645        </td>\n",
       "        </tr>\n",
       "        <tr>\n",
       "            <td>0       </td> <td>All            </td> <td>63  </td> <td>3996088        </td>\n",
       "        </tr>\n",
       "        <tr>\n",
       "            <td>0       </td> <td>All            </td> <td>64  </td> <td>3950578        </td>\n",
       "        </tr>\n",
       "        <tr>\n",
       "            <td>0       </td> <td>All            </td> <td>65  </td> <td>3774597        </td>\n",
       "        </tr>\n",
       "        <tr>\n",
       "            <td>0       </td> <td>All            </td> <td>66  </td> <td>3618069        </td>\n",
       "        </tr>\n",
       "        <tr>\n",
       "            <td>0       </td> <td>All            </td> <td>67  </td> <td>3464437        </td>\n",
       "        </tr>\n",
       "        <tr>\n",
       "            <td>0       </td> <td>All            </td> <td>68  </td> <td>3345475        </td>\n",
       "        </tr>\n",
       "        <tr>\n",
       "            <td>0       </td> <td>All            </td> <td>69  </td> <td>3252423        </td>\n",
       "        </tr>\n",
       "        <tr>\n",
       "            <td>0       </td> <td>All            </td> <td>70  </td> <td>3136704        </td>\n",
       "        </tr>\n",
       "        <tr>\n",
       "            <td>0       </td> <td>All            </td> <td>71  </td> <td>3083083        </td>\n",
       "        </tr>\n",
       "        <tr>\n",
       "            <td>0       </td> <td>All            </td> <td>72  </td> <td>3191048        </td>\n",
       "        </tr>\n",
       "        <tr>\n",
       "            <td>0       </td> <td>All            </td> <td>73  </td> <td>2334433        </td>\n",
       "        </tr>\n",
       "        <tr>\n",
       "            <td>0       </td> <td>All            </td> <td>74  </td> <td>2283164        </td>\n",
       "        </tr>\n",
       "        <tr>\n",
       "            <td>0       </td> <td>All            </td> <td>75  </td> <td>2198286        </td>\n",
       "        </tr>\n",
       "        <tr>\n",
       "            <td>0       </td> <td>All            </td> <td>76  </td> <td>2222392        </td>\n",
       "        </tr>\n",
       "        <tr>\n",
       "            <td>0       </td> <td>All            </td> <td>77  </td> <td>1911261        </td>\n",
       "        </tr>\n",
       "        <tr>\n",
       "            <td>0       </td> <td>All            </td> <td>78  </td> <td>1720817        </td>\n",
       "        </tr>\n",
       "        <tr>\n",
       "            <td>0       </td> <td>All            </td> <td>79  </td> <td>1599909        </td>\n",
       "        </tr>\n",
       "        <tr>\n",
       "            <td>0       </td> <td>All            </td> <td>80  </td> <td>1475278        </td>\n",
       "        </tr>\n",
       "        <tr>\n",
       "            <td>0       </td> <td>All            </td> <td>81  </td> <td>1381641        </td>\n",
       "        </tr>\n",
       "        <tr>\n",
       "            <td>0       </td> <td>All            </td> <td>82  </td> <td>1241341        </td>\n",
       "        </tr>\n",
       "        <tr>\n",
       "            <td>0       </td> <td>All            </td> <td>83  </td> <td>1151190        </td>\n",
       "        </tr>\n",
       "        <tr>\n",
       "            <td>0       </td> <td>All            </td> <td>84  </td> <td>1067757        </td>\n",
       "        </tr>\n",
       "        <tr>\n",
       "            <td>0       </td> <td>All            </td> <td>85  </td> <td>922467         </td>\n",
       "        </tr>\n",
       "        <tr>\n",
       "            <td>0       </td> <td>All            </td> <td>86  </td> <td>856646         </td>\n",
       "        </tr>\n",
       "        <tr>\n",
       "            <td>0       </td> <td>All            </td> <td>87  </td> <td>778923         </td>\n",
       "        </tr>\n",
       "        <tr>\n",
       "            <td>0       </td> <td>All            </td> <td>88  </td> <td>703078         </td>\n",
       "        </tr>\n",
       "        <tr>\n",
       "            <td>0       </td> <td>All            </td> <td>89  </td> <td>635982         </td>\n",
       "        </tr>\n",
       "        <tr>\n",
       "            <td>0       </td> <td>All            </td> <td>90  </td> <td>536447         </td>\n",
       "        </tr>\n",
       "        <tr>\n",
       "            <td>0       </td> <td>All            </td> <td>91  </td> <td>467172         </td>\n",
       "        </tr>\n",
       "        <tr>\n",
       "            <td>0       </td> <td>All            </td> <td>92  </td> <td>394067         </td>\n",
       "        </tr>\n",
       "        <tr>\n",
       "            <td>0       </td> <td>All            </td> <td>93  </td> <td>320785         </td>\n",
       "        </tr>\n",
       "        <tr>\n",
       "            <td>0       </td> <td>All            </td> <td>94  </td> <td>264277         </td>\n",
       "        </tr>\n",
       "        <tr>\n",
       "            <td>0       </td> <td>All            </td> <td>95  </td> <td>207086         </td>\n",
       "        </tr>\n",
       "        <tr>\n",
       "            <td>0       </td> <td>All            </td> <td>96  </td> <td>157463         </td>\n",
       "        </tr>\n",
       "        <tr>\n",
       "            <td>0       </td> <td>All            </td> <td>97  </td> <td>116969         </td>\n",
       "        </tr>\n",
       "        <tr>\n",
       "            <td>0       </td> <td>All            </td> <td>98  </td> <td>86150          </td>\n",
       "        </tr>\n",
       "        <tr>\n",
       "            <td>0       </td> <td>All            </td> <td>99  </td> <td>57124          </td>\n",
       "        </tr>\n",
       "        <tr>\n",
       "            <td>0       </td> <td>All            </td> <td>100 </td> <td>100322         </td>\n",
       "        </tr>\n",
       "        <tr>\n",
       "            <td>0       </td> <td>All            </td> <td>999 </td> <td>328239523      </td>\n",
       "        </tr>\n",
       "        <tr>\n",
       "            <td>1       </td> <td>Selected Male  </td> <td>0   </td> <td>1935117        </td>\n",
       "        </tr>\n",
       "        <tr>\n",
       "            <td>1       </td> <td>Selected Male  </td> <td>1   </td> <td>1958585        </td>\n",
       "        </tr>\n",
       "        <tr>\n",
       "            <td>1       </td> <td>Selected Male  </td> <td>2   </td> <td>2005544        </td>\n",
       "        </tr>\n",
       "        <tr>\n",
       "            <td>1       </td> <td>Selected Male  </td> <td>3   </td> <td>2043010        </td>\n",
       "        </tr>\n",
       "        <tr>\n",
       "            <td>1       </td> <td>Selected Male  </td> <td>4   </td> <td>2066951        </td>\n",
       "        </tr>\n",
       "        <tr>\n",
       "            <td>1       </td> <td>Selected Male  </td> <td>5   </td> <td>2061200        </td>\n",
       "        </tr>\n",
       "        <tr>\n",
       "            <td>1       </td> <td>Selected Male  </td> <td>6   </td> <td>2052956        </td>\n",
       "        </tr>\n",
       "        <tr>\n",
       "            <td>1       </td> <td>Selected Male  </td> <td>7   </td> <td>2055735        </td>\n",
       "        </tr>\n",
       "        <tr>\n",
       "            <td>1       </td> <td>Selected Male  </td> <td>8   </td> <td>2079723        </td>\n",
       "        </tr>\n",
       "        <tr>\n",
       "            <td>1       </td> <td>Selected Male  </td> <td>9   </td> <td>2073148        </td>\n",
       "        </tr>\n",
       "        <tr>\n",
       "            <td>1       </td> <td>Selected Male  </td> <td>10  </td> <td>2071778        </td>\n",
       "        </tr>\n",
       "        <tr>\n",
       "            <td>1       </td> <td>Selected Male  </td> <td>11  </td> <td>2138037        </td>\n",
       "        </tr>\n",
       "        <tr>\n",
       "            <td>1       </td> <td>Selected Male  </td> <td>12  </td> <td>2149819        </td>\n",
       "        </tr>\n",
       "        <tr>\n",
       "            <td>1       </td> <td>Selected Male  </td> <td>13  </td> <td>2132987        </td>\n",
       "        </tr>\n",
       "        <tr>\n",
       "            <td>1       </td> <td>Selected Male  </td> <td>14  </td> <td>2125640        </td>\n",
       "        </tr>\n",
       "        <tr>\n",
       "            <td>1       </td> <td>Selected Male  </td> <td>15  </td> <td>2129720        </td>\n",
       "        </tr>\n",
       "        <tr>\n",
       "            <td>1       </td> <td>Selected Male  </td> <td>16  </td> <td>2116165        </td>\n",
       "        </tr>\n",
       "        <tr>\n",
       "            <td>1       </td> <td>Selected Male  </td> <td>17  </td> <td>2112553        </td>\n",
       "        </tr>\n",
       "        <tr>\n",
       "            <td>1       </td> <td>Selected Male  </td> <td>18  </td> <td>2172385        </td>\n",
       "        </tr>\n",
       "        <tr>\n",
       "            <td>1       </td> <td>Selected Male  </td> <td>19  </td> <td>2214784        </td>\n",
       "        </tr>\n",
       "        <tr>\n",
       "            <td>1       </td> <td>Selected Male  </td> <td>20  </td> <td>2183139        </td>\n",
       "        </tr>\n",
       "        <tr>\n",
       "            <td>1       </td> <td>Selected Male  </td> <td>21  </td> <td>2187086        </td>\n",
       "        </tr>\n",
       "        <tr>\n",
       "            <td>1       </td> <td>Selected Male  </td> <td>22  </td> <td>2195296        </td>\n",
       "        </tr>\n",
       "        <tr>\n",
       "            <td>1       </td> <td>Selected Male  </td> <td>23  </td> <td>2221758        </td>\n",
       "        </tr>\n",
       "        <tr>\n",
       "            <td>1       </td> <td>Selected Male  </td> <td>24  </td> <td>2277473        </td>\n",
       "        </tr>\n",
       "        <tr>\n",
       "            <td>1       </td> <td>Selected Male  </td> <td>25  </td> <td>2325853        </td>\n",
       "        </tr>\n",
       "        <tr>\n",
       "            <td>1       </td> <td>Selected Male  </td> <td>26  </td> <td>2365886        </td>\n",
       "        </tr>\n",
       "        <tr>\n",
       "            <td>1       </td> <td>Selected Male  </td> <td>27  </td> <td>2421270        </td>\n",
       "        </tr>\n",
       "        <tr>\n",
       "            <td>1       </td> <td>Selected Male  </td> <td>28  </td> <td>2451756        </td>\n",
       "        </tr>\n",
       "        <tr>\n",
       "            <td>1       </td> <td>Selected Male  </td> <td>29  </td> <td>2439805        </td>\n",
       "        </tr>\n",
       "        <tr>\n",
       "            <td>1       </td> <td>Selected Male  </td> <td>30  </td> <td>2340865        </td>\n",
       "        </tr>\n",
       "        <tr>\n",
       "            <td>1       </td> <td>Selected Male  </td> <td>31  </td> <td>2281327        </td>\n",
       "        </tr>\n",
       "        <tr>\n",
       "            <td>1       </td> <td>Selected Male  </td> <td>32  </td> <td>2239886        </td>\n",
       "        </tr>\n",
       "        <tr>\n",
       "            <td>1       </td> <td>Selected Male  </td> <td>33  </td> <td>2243280        </td>\n",
       "        </tr>\n",
       "        <tr>\n",
       "            <td>1       </td> <td>Selected Male  </td> <td>34  </td> <td>2249252        </td>\n",
       "        </tr>\n",
       "        <tr>\n",
       "            <td>1       </td> <td>Selected Male  </td> <td>35  </td> <td>2167622        </td>\n",
       "        </tr>\n",
       "        <tr>\n",
       "            <td>1       </td> <td>Selected Male  </td> <td>36  </td> <td>2191368        </td>\n",
       "        </tr>\n",
       "        <tr>\n",
       "            <td>1       </td> <td>Selected Male  </td> <td>37  </td> <td>2181162        </td>\n",
       "        </tr>\n",
       "        <tr>\n",
       "            <td>1       </td> <td>Selected Male  </td> <td>38  </td> <td>2149359        </td>\n",
       "        </tr>\n",
       "        <tr>\n",
       "            <td>1       </td> <td>Selected Male  </td> <td>39  </td> <td>2195430        </td>\n",
       "        </tr>\n",
       "        <tr>\n",
       "            <td>1       </td> <td>Selected Male  </td> <td>40  </td> <td>2046663        </td>\n",
       "        </tr>\n",
       "        <tr>\n",
       "            <td>1       </td> <td>Selected Male  </td> <td>41  </td> <td>2001502        </td>\n",
       "        </tr>\n",
       "        <tr>\n",
       "            <td>1       </td> <td>Selected Male  </td> <td>42  </td> <td>1972584        </td>\n",
       "        </tr>\n",
       "        <tr>\n",
       "            <td>1       </td> <td>Selected Male  </td> <td>43  </td> <td>1913289        </td>\n",
       "        </tr>\n",
       "        <tr>\n",
       "            <td>1       </td> <td>Selected Male  </td> <td>44  </td> <td>1973101        </td>\n",
       "        </tr>\n",
       "        <tr>\n",
       "            <td>1       </td> <td>Selected Male  </td> <td>45  </td> <td>1900492        </td>\n",
       "        </tr>\n",
       "        <tr>\n",
       "            <td>1       </td> <td>Selected Male  </td> <td>46  </td> <td>1919298        </td>\n",
       "        </tr>\n",
       "        <tr>\n",
       "            <td>1       </td> <td>Selected Male  </td> <td>47  </td> <td>2005221        </td>\n",
       "        </tr>\n",
       "        <tr>\n",
       "            <td>1       </td> <td>Selected Male  </td> <td>48  </td> <td>2114614        </td>\n",
       "        </tr>\n",
       "        <tr>\n",
       "            <td>1       </td> <td>Selected Male  </td> <td>49  </td> <td>2145730        </td>\n",
       "        </tr>\n",
       "        <tr>\n",
       "            <td>1       </td> <td>Selected Male  </td> <td>50  </td> <td>2025376        </td>\n",
       "        </tr>\n",
       "        <tr>\n",
       "            <td>1       </td> <td>Selected Male  </td> <td>51  </td> <td>1976883        </td>\n",
       "        </tr>\n",
       "        <tr>\n",
       "            <td>1       </td> <td>Selected Male  </td> <td>52  </td> <td>1968619        </td>\n",
       "        </tr>\n",
       "        <tr>\n",
       "            <td>1       </td> <td>Selected Male  </td> <td>53  </td> <td>2001325        </td>\n",
       "        </tr>\n",
       "        <tr>\n",
       "            <td>1       </td> <td>Selected Male  </td> <td>54  </td> <td>2114408        </td>\n",
       "        </tr>\n",
       "        <tr>\n",
       "            <td>1       </td> <td>Selected Male  </td> <td>55  </td> <td>2137586        </td>\n",
       "        </tr>\n",
       "        <tr>\n",
       "            <td>1       </td> <td>Selected Male  </td> <td>56  </td> <td>2125123        </td>\n",
       "        </tr>\n",
       "        <tr>\n",
       "            <td>1       </td> <td>Selected Male  </td> <td>57  </td> <td>2111795        </td>\n",
       "        </tr>\n",
       "        <tr>\n",
       "            <td>1       </td> <td>Selected Male  </td> <td>58  </td> <td>2125774        </td>\n",
       "        </tr>\n",
       "        <tr>\n",
       "            <td>1       </td> <td>Selected Male  </td> <td>59  </td> <td>2142211        </td>\n",
       "        </tr>\n",
       "        <tr>\n",
       "            <td>1       </td> <td>Selected Male  </td> <td>60  </td> <td>2052677        </td>\n",
       "        </tr>\n",
       "        <tr>\n",
       "            <td>1       </td> <td>Selected Male  </td> <td>61  </td> <td>2027951        </td>\n",
       "        </tr>\n",
       "        <tr>\n",
       "            <td>1       </td> <td>Selected Male  </td> <td>62  </td> <td>1991220        </td>\n",
       "        </tr>\n",
       "        <tr>\n",
       "            <td>1       </td> <td>Selected Male  </td> <td>63  </td> <td>1905842        </td>\n",
       "        </tr>\n",
       "        <tr>\n",
       "            <td>1       </td> <td>Selected Male  </td> <td>64  </td> <td>1879040        </td>\n",
       "        </tr>\n",
       "        <tr>\n",
       "            <td>1       </td> <td>Selected Male  </td> <td>65  </td> <td>1783428        </td>\n",
       "        </tr>\n",
       "        <tr>\n",
       "            <td>1       </td> <td>Selected Male  </td> <td>66  </td> <td>1703888        </td>\n",
       "        </tr>\n",
       "        <tr>\n",
       "            <td>1       </td> <td>Selected Male  </td> <td>67  </td> <td>1627863        </td>\n",
       "        </tr>\n",
       "        <tr>\n",
       "            <td>1       </td> <td>Selected Male  </td> <td>68  </td> <td>1564129        </td>\n",
       "        </tr>\n",
       "        <tr>\n",
       "            <td>1       </td> <td>Selected Male  </td> <td>69  </td> <td>1520465        </td>\n",
       "        </tr>\n",
       "        <tr>\n",
       "            <td>1       </td> <td>Selected Male  </td> <td>70  </td> <td>1462120        </td>\n",
       "        </tr>\n",
       "        <tr>\n",
       "            <td>1       </td> <td>Selected Male  </td> <td>71  </td> <td>1435378        </td>\n",
       "        </tr>\n",
       "        <tr>\n",
       "            <td>1       </td> <td>Selected Male  </td> <td>72  </td> <td>1483236        </td>\n",
       "        </tr>\n",
       "        <tr>\n",
       "            <td>1       </td> <td>Selected Male  </td> <td>73  </td> <td>1074771        </td>\n",
       "        </tr>\n",
       "        <tr>\n",
       "            <td>1       </td> <td>Selected Male  </td> <td>74  </td> <td>1044301        </td>\n",
       "        </tr>\n",
       "        <tr>\n",
       "            <td>1       </td> <td>Selected Male  </td> <td>75  </td> <td>998390         </td>\n",
       "        </tr>\n",
       "        <tr>\n",
       "            <td>1       </td> <td>Selected Male  </td> <td>76  </td> <td>1003690        </td>\n",
       "        </tr>\n",
       "        <tr>\n",
       "            <td>1       </td> <td>Selected Male  </td> <td>77  </td> <td>854930         </td>\n",
       "        </tr>\n",
       "        <tr>\n",
       "            <td>1       </td> <td>Selected Male  </td> <td>78  </td> <td>760170         </td>\n",
       "        </tr>\n",
       "        <tr>\n",
       "            <td>1       </td> <td>Selected Male  </td> <td>79  </td> <td>701319         </td>\n",
       "        </tr>\n",
       "        <tr>\n",
       "            <td>1       </td> <td>Selected Male  </td> <td>80  </td> <td>643638         </td>\n",
       "        </tr>\n",
       "        <tr>\n",
       "            <td>1       </td> <td>Selected Male  </td> <td>81  </td> <td>593628         </td>\n",
       "        </tr>\n",
       "        <tr>\n",
       "            <td>1       </td> <td>Selected Male  </td> <td>82  </td> <td>525766         </td>\n",
       "        </tr>\n",
       "        <tr>\n",
       "            <td>1       </td> <td>Selected Male  </td> <td>83  </td> <td>480165         </td>\n",
       "        </tr>\n",
       "        <tr>\n",
       "            <td>1       </td> <td>Selected Male  </td> <td>84  </td> <td>436527         </td>\n",
       "        </tr>\n",
       "        <tr>\n",
       "            <td>1       </td> <td>Selected Male  </td> <td>85  </td> <td>371082         </td>\n",
       "        </tr>\n",
       "        <tr>\n",
       "            <td>1       </td> <td>Selected Male  </td> <td>86  </td> <td>337306         </td>\n",
       "        </tr>\n",
       "        <tr>\n",
       "            <td>1       </td> <td>Selected Male  </td> <td>87  </td> <td>299845         </td>\n",
       "        </tr>\n",
       "        <tr>\n",
       "            <td>1       </td> <td>Selected Male  </td> <td>88  </td> <td>264191         </td>\n",
       "        </tr>\n",
       "        <tr>\n",
       "            <td>1       </td> <td>Selected Male  </td> <td>89  </td> <td>232649         </td>\n",
       "        </tr>\n",
       "        <tr>\n",
       "            <td>1       </td> <td>Selected Male  </td> <td>90  </td> <td>191220         </td>\n",
       "        </tr>\n",
       "        <tr>\n",
       "            <td>1       </td> <td>Selected Male  </td> <td>91  </td> <td>160941         </td>\n",
       "        </tr>\n",
       "        <tr>\n",
       "            <td>1       </td> <td>Selected Male  </td> <td>92  </td> <td>131684         </td>\n",
       "        </tr>\n",
       "        <tr>\n",
       "            <td>1       </td> <td>Selected Male  </td> <td>93  </td> <td>103415         </td>\n",
       "        </tr>\n",
       "        <tr>\n",
       "            <td>1       </td> <td>Selected Male  </td> <td>94  </td> <td>81893          </td>\n",
       "        </tr>\n",
       "        <tr>\n",
       "            <td>1       </td> <td>Selected Male  </td> <td>95  </td> <td>61994          </td>\n",
       "        </tr>\n",
       "        <tr>\n",
       "            <td>1       </td> <td>Selected Male  </td> <td>96  </td> <td>46046          </td>\n",
       "        </tr>\n",
       "        <tr>\n",
       "            <td>1       </td> <td>Selected Male  </td> <td>97  </td> <td>32611          </td>\n",
       "        </tr>\n",
       "        <tr>\n",
       "            <td>1       </td> <td>Selected Male  </td> <td>98  </td> <td>23543          </td>\n",
       "        </tr>\n",
       "        <tr>\n",
       "            <td>1       </td> <td>Selected Male  </td> <td>99  </td> <td>14596          </td>\n",
       "        </tr>\n",
       "        <tr>\n",
       "            <td>1       </td> <td>Selected Male  </td> <td>100 </td> <td>23472          </td>\n",
       "        </tr>\n",
       "        <tr>\n",
       "            <td>1       </td> <td>Selected Male  </td> <td>999 </td> <td>161657324      </td>\n",
       "        </tr>\n",
       "        <tr>\n",
       "            <td>2       </td> <td>Selected Female</td> <td>0   </td> <td>1847935        </td>\n",
       "        </tr>\n",
       "        <tr>\n",
       "            <td>2       </td> <td>Selected Female</td> <td>1   </td> <td>1871014        </td>\n",
       "        </tr>\n",
       "        <tr>\n",
       "            <td>2       </td> <td>Selected Female</td> <td>2   </td> <td>1916500        </td>\n",
       "        </tr>\n",
       "        <tr>\n",
       "            <td>2       </td> <td>Selected Female</td> <td>3   </td> <td>1955655        </td>\n",
       "        </tr>\n",
       "        <tr>\n",
       "            <td>2       </td> <td>Selected Female</td> <td>4   </td> <td>1976372        </td>\n",
       "        </tr>\n",
       "        <tr>\n",
       "            <td>2       </td> <td>Selected Female</td> <td>5   </td> <td>1967081        </td>\n",
       "        </tr>\n",
       "        <tr>\n",
       "            <td>2       </td> <td>Selected Female</td> <td>6   </td> <td>1964271        </td>\n",
       "        </tr>\n",
       "        <tr>\n",
       "            <td>2       </td> <td>Selected Female</td> <td>7   </td> <td>1966584        </td>\n",
       "        </tr>\n",
       "        <tr>\n",
       "            <td>2       </td> <td>Selected Female</td> <td>8   </td> <td>1986471        </td>\n",
       "        </tr>\n",
       "        <tr>\n",
       "            <td>2       </td> <td>Selected Female</td> <td>9   </td> <td>1988726        </td>\n",
       "        </tr>\n",
       "        <tr>\n",
       "            <td>2       </td> <td>Selected Female</td> <td>10  </td> <td>1989162        </td>\n",
       "        </tr>\n",
       "        <tr>\n",
       "            <td>2       </td> <td>Selected Female</td> <td>11  </td> <td>2051224        </td>\n",
       "        </tr>\n",
       "        <tr>\n",
       "            <td>2       </td> <td>Selected Female</td> <td>12  </td> <td>2058568        </td>\n",
       "        </tr>\n",
       "        <tr>\n",
       "            <td>2       </td> <td>Selected Female</td> <td>13  </td> <td>2042234        </td>\n",
       "        </tr>\n",
       "        <tr>\n",
       "            <td>2       </td> <td>Selected Female</td> <td>14  </td> <td>2038819        </td>\n",
       "        </tr>\n",
       "        <tr>\n",
       "            <td>2       </td> <td>Selected Female</td> <td>15  </td> <td>2045739        </td>\n",
       "        </tr>\n",
       "        <tr>\n",
       "            <td>2       </td> <td>Selected Female</td> <td>16  </td> <td>2034255        </td>\n",
       "        </tr>\n",
       "        <tr>\n",
       "            <td>2       </td> <td>Selected Female</td> <td>17  </td> <td>2029872        </td>\n",
       "        </tr>\n",
       "        <tr>\n",
       "            <td>2       </td> <td>Selected Female</td> <td>18  </td> <td>2083442        </td>\n",
       "        </tr>\n",
       "        <tr>\n",
       "            <td>2       </td> <td>Selected Female</td> <td>19  </td> <td>2115655        </td>\n",
       "        </tr>\n",
       "        <tr>\n",
       "            <td>2       </td> <td>Selected Female</td> <td>20  </td> <td>2086544        </td>\n",
       "        </tr>\n",
       "        <tr>\n",
       "            <td>2       </td> <td>Selected Female</td> <td>21  </td> <td>2091237        </td>\n",
       "        </tr>\n",
       "        <tr>\n",
       "            <td>2       </td> <td>Selected Female</td> <td>22  </td> <td>2103476        </td>\n",
       "        </tr>\n",
       "        <tr>\n",
       "            <td>2       </td> <td>Selected Female</td> <td>23  </td> <td>2119886        </td>\n",
       "        </tr>\n",
       "        <tr>\n",
       "            <td>2       </td> <td>Selected Female</td> <td>24  </td> <td>2167045        </td>\n",
       "        </tr>\n",
       "        <tr>\n",
       "            <td>2       </td> <td>Selected Female</td> <td>25  </td> <td>2213205        </td>\n",
       "        </tr>\n",
       "        <tr>\n",
       "            <td>2       </td> <td>Selected Female</td> <td>26  </td> <td>2245334        </td>\n",
       "        </tr>\n",
       "        <tr>\n",
       "            <td>2       </td> <td>Selected Female</td> <td>27  </td> <td>2312599        </td>\n",
       "        </tr>\n",
       "        <tr>\n",
       "            <td>2       </td> <td>Selected Female</td> <td>28  </td> <td>2366969        </td>\n",
       "        </tr>\n",
       "        <tr>\n",
       "            <td>2       </td> <td>Selected Female</td> <td>29  </td> <td>2366339        </td>\n",
       "        </tr>\n",
       "        <tr>\n",
       "            <td>2       </td> <td>Selected Female</td> <td>30  </td> <td>2273519        </td>\n",
       "        </tr>\n",
       "        <tr>\n",
       "            <td>2       </td> <td>Selected Female</td> <td>31  </td> <td>2220984        </td>\n",
       "        </tr>\n",
       "        <tr>\n",
       "            <td>2       </td> <td>Selected Female</td> <td>32  </td> <td>2181619        </td>\n",
       "        </tr>\n",
       "        <tr>\n",
       "            <td>2       </td> <td>Selected Female</td> <td>33  </td> <td>2189693        </td>\n",
       "        </tr>\n",
       "        <tr>\n",
       "            <td>2       </td> <td>Selected Female</td> <td>34  </td> <td>2210880        </td>\n",
       "        </tr>\n",
       "        <tr>\n",
       "            <td>2       </td> <td>Selected Female</td> <td>35  </td> <td>2148244        </td>\n",
       "        </tr>\n",
       "        <tr>\n",
       "            <td>2       </td> <td>Selected Female</td> <td>36  </td> <td>2181076        </td>\n",
       "        </tr>\n",
       "        <tr>\n",
       "            <td>2       </td> <td>Selected Female</td> <td>37  </td> <td>2180124        </td>\n",
       "        </tr>\n",
       "        <tr>\n",
       "            <td>2       </td> <td>Selected Female</td> <td>38  </td> <td>2156217        </td>\n",
       "        </tr>\n",
       "        <tr>\n",
       "            <td>2       </td> <td>Selected Female</td> <td>39  </td> <td>2186919        </td>\n",
       "        </tr>\n",
       "        <tr>\n",
       "            <td>2       </td> <td>Selected Female</td> <td>40  </td> <td>2058650        </td>\n",
       "        </tr>\n",
       "        <tr>\n",
       "            <td>2       </td> <td>Selected Female</td> <td>41  </td> <td>2018752        </td>\n",
       "        </tr>\n",
       "        <tr>\n",
       "            <td>2       </td> <td>Selected Female</td> <td>42  </td> <td>2002157        </td>\n",
       "        </tr>\n",
       "        <tr>\n",
       "            <td>2       </td> <td>Selected Female</td> <td>43  </td> <td>1940751        </td>\n",
       "        </tr>\n",
       "        <tr>\n",
       "            <td>2       </td> <td>Selected Female</td> <td>44  </td> <td>1994174        </td>\n",
       "        </tr>\n",
       "        <tr>\n",
       "            <td>2       </td> <td>Selected Female</td> <td>45  </td> <td>1937417        </td>\n",
       "        </tr>\n",
       "        <tr>\n",
       "            <td>2       </td> <td>Selected Female</td> <td>46  </td> <td>1970074        </td>\n",
       "        </tr>\n",
       "        <tr>\n",
       "            <td>2       </td> <td>Selected Female</td> <td>47  </td> <td>2052817        </td>\n",
       "        </tr>\n",
       "        <tr>\n",
       "            <td>2       </td> <td>Selected Female</td> <td>48  </td> <td>2168043        </td>\n",
       "        </tr>\n",
       "        <tr>\n",
       "            <td>2       </td> <td>Selected Female</td> <td>49  </td> <td>2184045        </td>\n",
       "        </tr>\n",
       "        <tr>\n",
       "            <td>2       </td> <td>Selected Female</td> <td>50  </td> <td>2071196        </td>\n",
       "        </tr>\n",
       "        <tr>\n",
       "            <td>2       </td> <td>Selected Female</td> <td>51  </td> <td>2027460        </td>\n",
       "        </tr>\n",
       "        <tr>\n",
       "            <td>2       </td> <td>Selected Female</td> <td>52  </td> <td>2033163        </td>\n",
       "        </tr>\n",
       "        <tr>\n",
       "            <td>2       </td> <td>Selected Female</td> <td>53  </td> <td>2067526        </td>\n",
       "        </tr>\n",
       "        <tr>\n",
       "            <td>2       </td> <td>Selected Female</td> <td>54  </td> <td>2191195        </td>\n",
       "        </tr>\n",
       "        <tr>\n",
       "            <td>2       </td> <td>Selected Female</td> <td>55  </td> <td>2236979        </td>\n",
       "        </tr>\n",
       "        <tr>\n",
       "            <td>2       </td> <td>Selected Female</td> <td>56  </td> <td>2235893        </td>\n",
       "        </tr>\n",
       "        <tr>\n",
       "            <td>2       </td> <td>Selected Female</td> <td>57  </td> <td>2230590        </td>\n",
       "        </tr>\n",
       "        <tr>\n",
       "            <td>2       </td> <td>Selected Female</td> <td>58  </td> <td>2259796        </td>\n",
       "        </tr>\n",
       "        <tr>\n",
       "            <td>2       </td> <td>Selected Female</td> <td>59  </td> <td>2271644        </td>\n",
       "        </tr>\n",
       "        <tr>\n",
       "            <td>2       </td> <td>Selected Female</td> <td>60  </td> <td>2199986        </td>\n",
       "        </tr>\n",
       "        <tr>\n",
       "            <td>2       </td> <td>Selected Female</td> <td>61  </td> <td>2187221        </td>\n",
       "        </tr>\n",
       "        <tr>\n",
       "            <td>2       </td> <td>Selected Female</td> <td>62  </td> <td>2165425        </td>\n",
       "        </tr>\n",
       "        <tr>\n",
       "            <td>2       </td> <td>Selected Female</td> <td>63  </td> <td>2090246        </td>\n",
       "        </tr>\n",
       "        <tr>\n",
       "            <td>2       </td> <td>Selected Female</td> <td>64  </td> <td>2071538        </td>\n",
       "        </tr>\n",
       "        <tr>\n",
       "            <td>2       </td> <td>Selected Female</td> <td>65  </td> <td>1991169        </td>\n",
       "        </tr>\n",
       "        <tr>\n",
       "            <td>2       </td> <td>Selected Female</td> <td>66  </td> <td>1914181        </td>\n",
       "        </tr>\n",
       "        <tr>\n",
       "            <td>2       </td> <td>Selected Female</td> <td>67  </td> <td>1836574        </td>\n",
       "        </tr>\n",
       "        <tr>\n",
       "            <td>2       </td> <td>Selected Female</td> <td>68  </td> <td>1781346        </td>\n",
       "        </tr>\n",
       "        <tr>\n",
       "            <td>2       </td> <td>Selected Female</td> <td>69  </td> <td>1731958        </td>\n",
       "        </tr>\n",
       "        <tr>\n",
       "            <td>2       </td> <td>Selected Female</td> <td>70  </td> <td>1674584        </td>\n",
       "        </tr>\n",
       "        <tr>\n",
       "            <td>2       </td> <td>Selected Female</td> <td>71  </td> <td>1647705        </td>\n",
       "        </tr>\n",
       "        <tr>\n",
       "            <td>2       </td> <td>Selected Female</td> <td>72  </td> <td>1707812        </td>\n",
       "        </tr>\n",
       "        <tr>\n",
       "            <td>2       </td> <td>Selected Female</td> <td>73  </td> <td>1259662        </td>\n",
       "        </tr>\n",
       "        <tr>\n",
       "            <td>2       </td> <td>Selected Female</td> <td>74  </td> <td>1238863        </td>\n",
       "        </tr>\n",
       "        <tr>\n",
       "            <td>2       </td> <td>Selected Female</td> <td>75  </td> <td>1199896        </td>\n",
       "        </tr>\n",
       "        <tr>\n",
       "            <td>2       </td> <td>Selected Female</td> <td>76  </td> <td>1218702        </td>\n",
       "        </tr>\n",
       "        <tr>\n",
       "            <td>2       </td> <td>Selected Female</td> <td>77  </td> <td>1056331        </td>\n",
       "        </tr>\n",
       "        <tr>\n",
       "            <td>2       </td> <td>Selected Female</td> <td>78  </td> <td>960647         </td>\n",
       "        </tr>\n",
       "        <tr>\n",
       "            <td>2       </td> <td>Selected Female</td> <td>79  </td> <td>898590         </td>\n",
       "        </tr>\n",
       "        <tr>\n",
       "            <td>2       </td> <td>Selected Female</td> <td>80  </td> <td>831640         </td>\n",
       "        </tr>\n",
       "        <tr>\n",
       "            <td>2       </td> <td>Selected Female</td> <td>81  </td> <td>788013         </td>\n",
       "        </tr>\n",
       "        <tr>\n",
       "            <td>2       </td> <td>Selected Female</td> <td>82  </td> <td>715575         </td>\n",
       "        </tr>\n",
       "        <tr>\n",
       "            <td>2       </td> <td>Selected Female</td> <td>83  </td> <td>671025         </td>\n",
       "        </tr>\n",
       "        <tr>\n",
       "            <td>2       </td> <td>Selected Female</td> <td>84  </td> <td>631230         </td>\n",
       "        </tr>\n",
       "        <tr>\n",
       "            <td>2       </td> <td>Selected Female</td> <td>85  </td> <td>551385         </td>\n",
       "        </tr>\n",
       "        <tr>\n",
       "            <td>2       </td> <td>Selected Female</td> <td>86  </td> <td>519340         </td>\n",
       "        </tr>\n",
       "        <tr>\n",
       "            <td>2       </td> <td>Selected Female</td> <td>87  </td> <td>479078         </td>\n",
       "        </tr>\n",
       "        <tr>\n",
       "            <td>2       </td> <td>Selected Female</td> <td>88  </td> <td>438887         </td>\n",
       "        </tr>\n",
       "        <tr>\n",
       "            <td>2       </td> <td>Selected Female</td> <td>89  </td> <td>403333         </td>\n",
       "        </tr>\n",
       "        <tr>\n",
       "            <td>2       </td> <td>Selected Female</td> <td>90  </td> <td>345227         </td>\n",
       "        </tr>\n",
       "        <tr>\n",
       "            <td>2       </td> <td>Selected Female</td> <td>91  </td> <td>306231         </td>\n",
       "        </tr>\n",
       "        <tr>\n",
       "            <td>2       </td> <td>Selected Female</td> <td>92  </td> <td>262383         </td>\n",
       "        </tr>\n",
       "        <tr>\n",
       "            <td>2       </td> <td>Selected Female</td> <td>93  </td> <td>217370         </td>\n",
       "        </tr>\n",
       "        <tr>\n",
       "            <td>2       </td> <td>Selected Female</td> <td>94  </td> <td>182384         </td>\n",
       "        </tr>\n",
       "        <tr>\n",
       "            <td>2       </td> <td>Selected Female</td> <td>95  </td> <td>145092         </td>\n",
       "        </tr>\n",
       "        <tr>\n",
       "            <td>2       </td> <td>Selected Female</td> <td>96  </td> <td>111417         </td>\n",
       "        </tr>\n",
       "        <tr>\n",
       "            <td>2       </td> <td>Selected Female</td> <td>97  </td> <td>84358          </td>\n",
       "        </tr>\n",
       "        <tr>\n",
       "            <td>2       </td> <td>Selected Female</td> <td>98  </td> <td>62607          </td>\n",
       "        </tr>\n",
       "        <tr>\n",
       "            <td>2       </td> <td>Selected Female</td> <td>99  </td> <td>42528          </td>\n",
       "        </tr>\n",
       "        <tr>\n",
       "            <td>2       </td> <td>Selected Female</td> <td>100 </td> <td>76850          </td>\n",
       "        </tr>\n",
       "        <tr>\n",
       "            <td>2       </td> <td>Selected Female</td> <td>999 </td> <td>166582199      </td>\n",
       "        </tr>\n",
       "    </tbody>\n",
       "</table>"
      ],
      "text/plain": [
       "<IPython.core.display.HTML object>"
      ]
     },
     "metadata": {},
     "output_type": "display_data"
    }
   ],
   "source": [
    "sex_codes.join('SEX CODE', census, 'SEX').show()"
   ]
  },
  {
   "cell_type": "markdown",
   "metadata": {},
   "source": [
    "## Bike Sharing ##"
   ]
  },
  {
   "cell_type": "code",
   "execution_count": null,
   "metadata": {},
   "outputs": [],
   "source": [
    "trip = Table.read_table('trip.csv')\n",
    "trip"
   ]
  },
  {
   "cell_type": "markdown",
   "metadata": {},
   "source": [
    "## Distribution of Durations ##"
   ]
  },
  {
   "cell_type": "code",
   "execution_count": 67,
   "metadata": {},
   "outputs": [],
   "source": [
    "# Visualizing durations\n",
    "..."
   ]
  },
  {
   "cell_type": "code",
   "execution_count": 72,
   "metadata": {},
   "outputs": [
    {
     "ename": "NameError",
     "evalue": "name 'trip' is not defined",
     "output_type": "error",
     "traceback": [
      "\u001b[0;31m---------------------------------------------------------------------------\u001b[0m",
      "\u001b[0;31mNameError\u001b[0m                                 Traceback (most recent call last)",
      "\u001b[0;32m<ipython-input-72-454e398bb83b>\u001b[0m in \u001b[0;36m<module>\u001b[0;34m\u001b[0m\n\u001b[0;32m----> 1\u001b[0;31m \u001b[0mcommute\u001b[0m \u001b[0;34m=\u001b[0m \u001b[0mtrip\u001b[0m\u001b[0;34m.\u001b[0m\u001b[0mwhere\u001b[0m\u001b[0;34m(\u001b[0m\u001b[0;34m'Duration'\u001b[0m\u001b[0;34m,\u001b[0m \u001b[0mare\u001b[0m\u001b[0;34m.\u001b[0m\u001b[0mbelow\u001b[0m\u001b[0;34m(\u001b[0m\u001b[0;36m1800\u001b[0m\u001b[0;34m)\u001b[0m\u001b[0;34m)\u001b[0m\u001b[0;34m\u001b[0m\u001b[0;34m\u001b[0m\u001b[0m\n\u001b[0m",
      "\u001b[0;31mNameError\u001b[0m: name 'trip' is not defined"
     ]
    }
   ],
   "source": [
    "commute = trip.where('Duration', are.below(1800))"
   ]
  },
  {
   "cell_type": "code",
   "execution_count": null,
   "metadata": {},
   "outputs": [],
   "source": []
  },
  {
   "cell_type": "code",
   "execution_count": null,
   "metadata": {},
   "outputs": [],
   "source": []
  },
  {
   "cell_type": "code",
   "execution_count": null,
   "metadata": {},
   "outputs": [],
   "source": []
  },
  {
   "cell_type": "code",
   "execution_count": null,
   "metadata": {},
   "outputs": [],
   "source": []
  },
  {
   "cell_type": "code",
   "execution_count": null,
   "metadata": {},
   "outputs": [],
   "source": []
  },
  {
   "cell_type": "markdown",
   "metadata": {},
   "source": [
    "## Start and End Stations ##"
   ]
  },
  {
   "cell_type": "code",
   "execution_count": 71,
   "metadata": {},
   "outputs": [
    {
     "ename": "NameError",
     "evalue": "name 'commute' is not defined",
     "output_type": "error",
     "traceback": [
      "\u001b[0;31m---------------------------------------------------------------------------\u001b[0m",
      "\u001b[0;31mNameError\u001b[0m                                 Traceback (most recent call last)",
      "\u001b[0;32m<ipython-input-71-eaf962f1edfd>\u001b[0m in \u001b[0;36m<module>\u001b[0;34m\u001b[0m\n\u001b[1;32m      1\u001b[0m \u001b[0;31m# Most common start station\u001b[0m\u001b[0;34m\u001b[0m\u001b[0;34m\u001b[0m\u001b[0;34m\u001b[0m\u001b[0m\n\u001b[1;32m      2\u001b[0m \u001b[0;34m\u001b[0m\u001b[0m\n\u001b[0;32m----> 3\u001b[0;31m \u001b[0mstarts\u001b[0m \u001b[0;34m=\u001b[0m \u001b[0mcommute\u001b[0m\u001b[0;34m.\u001b[0m\u001b[0mgroup\u001b[0m\u001b[0;34m(\u001b[0m\u001b[0;34m'Start Station'\u001b[0m\u001b[0;34m)\u001b[0m\u001b[0;34m.\u001b[0m\u001b[0msort\u001b[0m\u001b[0;34m(\u001b[0m\u001b[0;34m'count'\u001b[0m\u001b[0;34m,\u001b[0m \u001b[0mdescending\u001b[0m\u001b[0;34m=\u001b[0m\u001b[0;32mTrue\u001b[0m\u001b[0;34m)\u001b[0m\u001b[0;34m\u001b[0m\u001b[0;34m\u001b[0m\u001b[0m\n\u001b[0m\u001b[1;32m      4\u001b[0m \u001b[0mstarts\u001b[0m\u001b[0;34m\u001b[0m\u001b[0;34m\u001b[0m\u001b[0m\n",
      "\u001b[0;31mNameError\u001b[0m: name 'commute' is not defined"
     ]
    }
   ],
   "source": [
    "# Most common start station\n",
    "\n",
    "starts = commute.group('Start Station').sort('count', descending=True)\n",
    "starts"
   ]
  },
  {
   "cell_type": "code",
   "execution_count": null,
   "metadata": {},
   "outputs": [],
   "source": [
    "# Numbers of trips between stations x & y-axis"
   ]
  },
  {
   "cell_type": "code",
   "execution_count": 73,
   "metadata": {},
   "outputs": [
    {
     "data": {
      "text/plain": [
       "Ellipsis"
      ]
     },
     "execution_count": 73,
     "metadata": {},
     "output_type": "execute_result"
    }
   ],
   "source": [
    "# Average durations of trips between stations - collect average times\n",
    "\n",
    "..."
   ]
  },
  {
   "cell_type": "markdown",
   "metadata": {},
   "source": [
    "## Fastest Trips between Stations ##"
   ]
  },
  {
   "cell_type": "code",
   "execution_count": null,
   "metadata": {},
   "outputs": [],
   "source": [
    "duration = trip.select('Start Station', 'End Station', 'Duration')\n",
    "duration"
   ]
  },
  {
   "cell_type": "code",
   "execution_count": null,
   "metadata": {},
   "outputs": [],
   "source": [
    "# Durations of fastest trips between stations,\n",
    "# using group\n",
    "\n",
    "shortest = ...\n",
    "shortest"
   ]
  },
  {
   "cell_type": "code",
   "execution_count": null,
   "metadata": {},
   "outputs": [],
   "source": [
    "# Duration of fastest trip between stations,\n",
    "# using pivot"
   ]
  },
  {
   "cell_type": "code",
   "execution_count": null,
   "metadata": {},
   "outputs": [],
   "source": [
    "# Shortest trips from Civic Center\n",
    "from_cc = shortest.where(\n",
    "    'Start Station', are.containing('Civic Center BART')).sort(\n",
    "    'Duration min')\n",
    "from_cc"
   ]
  },
  {
   "cell_type": "markdown",
   "metadata": {},
   "source": [
    "## Maps ##"
   ]
  },
  {
   "cell_type": "code",
   "execution_count": null,
   "metadata": {},
   "outputs": [],
   "source": [
    "# Geographical data on the stations\n",
    "stations = Table.read_table('station.csv').drop(4, 6)\n",
    "stations"
   ]
  },
  {
   "cell_type": "code",
   "execution_count": null,
   "metadata": {},
   "outputs": [],
   "source": [
    "sf_stations = stations.where('landmark', are.equal_to('San Francisco'))\n",
    "sf_stations_map_data = sf_stations.select(\n",
    "    'lat', 'long', 'name').relabeled(\n",
    "    'name', 'labels'\n",
    ")\n",
    "sf_stations_map_data.show(3)"
   ]
  },
  {
   "cell_type": "code",
   "execution_count": null,
   "metadata": {},
   "outputs": [],
   "source": [
    "Marker.map_table(sf_stations_map_data)"
   ]
  },
  {
   "cell_type": "code",
   "execution_count": null,
   "metadata": {},
   "outputs": [],
   "source": [
    "Circle.map_table(sf_stations_map_data)"
   ]
  },
  {
   "cell_type": "code",
   "execution_count": null,
   "metadata": {},
   "outputs": [],
   "source": [
    "starts = commute.group('Start Station').sort('count', descending=True)\n",
    "starts.show(3)"
   ]
  },
  {
   "cell_type": "code",
   "execution_count": null,
   "metadata": {},
   "outputs": [],
   "source": [
    "stations.show(3)"
   ]
  },
  {
   "cell_type": "code",
   "execution_count": null,
   "metadata": {},
   "outputs": [],
   "source": [
    "station_starts = stations.join('name', starts, 'Start Station')\n",
    "station_starts.show(3)"
   ]
  },
  {
   "cell_type": "code",
   "execution_count": null,
   "metadata": {},
   "outputs": [],
   "source": [
    "sf_starts = station_starts.relabeled(\n",
    "    'name', 'labels').where('landmark', 'San Francisco')"
   ]
  },
  {
   "cell_type": "code",
   "execution_count": null,
   "metadata": {},
   "outputs": [],
   "source": [
    "sf_starts_map_data = sf_starts.select('lat', 'long', 'labels').with_columns(\n",
    "    'colors', 'blue',\n",
    "    'areas', sf_starts.column('count')\n",
    ")\n",
    "sf_starts_map_data.show(3)"
   ]
  },
  {
   "cell_type": "code",
   "execution_count": null,
   "metadata": {},
   "outputs": [],
   "source": [
    "Circle.map_table(sf_starts_map_data)"
   ]
  }
 ],
 "metadata": {
  "anaconda-cloud": {},
  "kernelspec": {
   "display_name": "Python 3",
   "language": "python",
   "name": "python3"
  },
  "language_info": {
   "codemirror_mode": {
    "name": "ipython",
    "version": 3
   },
   "file_extension": ".py",
   "mimetype": "text/x-python",
   "name": "python",
   "nbconvert_exporter": "python",
   "pygments_lexer": "ipython3",
   "version": "3.7.4"
  }
 },
 "nbformat": 4,
 "nbformat_minor": 1
}
