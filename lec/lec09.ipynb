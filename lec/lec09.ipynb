{
 "cells": [
  {
   "cell_type": "code",
   "execution_count": 1,
   "metadata": {},
   "outputs": [],
   "source": [
    "from datascience import *\n",
    "import numpy as np\n",
    "\n",
    "%matplotlib inline\n",
    "import matplotlib.pyplot as plots\n",
    "plots.style.use('fivethirtyeight')\n",
    "import warnings\n",
    "warnings.simplefilter(action='ignore',category=np.VisibleDeprecationWarning)\n",
    "\n",
    "import pdb"
   ]
  },
  {
   "cell_type": "markdown",
   "metadata": {},
   "source": [
    "## Warmup ##"
   ]
  },
  {
   "cell_type": "code",
   "execution_count": 2,
   "metadata": {},
   "outputs": [
    {
     "name": "stdout",
     "output_type": "stream",
     "text": [
      "Oscar is item 0 in the array\n",
      "Padma is item 1 in the array\n",
      "Prasann is item 2 in the array\n",
      "Emily is item 3 in the array\n",
      "Josh is item 4 in the array\n"
     ]
    }
   ],
   "source": [
    "lead_TAs = make_array('Oscar', 'Padma', 'Prasann', 'Emily', 'Josh')\n",
    "\n",
    "counter = 0\n",
    "for ta in lead_TAs:\n",
    "    print(f\"{ta} is item {counter} in the array\")\n",
    "    counter = counter + 1 # Equivalent to `counter += 1`"
   ]
  },
  {
   "cell_type": "code",
   "execution_count": 3,
   "metadata": {},
   "outputs": [
    {
     "name": "stdout",
     "output_type": "stream",
     "text": [
      "Hello\n",
      "Hello\n",
      "Hello\n",
      "Hello\n",
      "Hello\n",
      "Hello\n"
     ]
    }
   ],
   "source": [
    "for _ in np.arange(6):\n",
    "    print('Hello')"
   ]
  },
  {
   "cell_type": "markdown",
   "metadata": {},
   "source": [
    "### What does this line of  code do? ###"
   ]
  },
  {
   "cell_type": "code",
   "execution_count": 4,
   "metadata": {},
   "outputs": [],
   "source": [
    "def starts_with_P(x):\n",
    "    \"\"\"\n",
    "    Checks whether a string x starts with P or not\n",
    "    Input:\n",
    "        x (str)\n",
    "    Output:\n",
    "        bool\n",
    "    \"\"\"\n",
    "    return are.containing('P')(x)"
   ]
  },
  {
   "cell_type": "code",
   "execution_count": 5,
   "metadata": {},
   "outputs": [
    {
     "data": {
      "text/plain": [
       "True"
      ]
     },
     "execution_count": 5,
     "metadata": {},
     "output_type": "execute_result"
    }
   ],
   "source": [
    "starts_with_P('Padma')"
   ]
  },
  {
   "cell_type": "code",
   "execution_count": 6,
   "metadata": {},
   "outputs": [
    {
     "data": {
      "text/plain": [
       "False"
      ]
     },
     "execution_count": 6,
     "metadata": {},
     "output_type": "execute_result"
    }
   ],
   "source": [
    "starts_with_P('Josh')"
   ]
  },
  {
   "cell_type": "code",
   "execution_count": 18,
   "metadata": {},
   "outputs": [],
   "source": [
    "array_1 = make_array()\n",
    "count = 0\n",
    "\n",
    "for ta in lead_TAs:\n",
    "    if not starts_with_P(ta):\n",
    "        array_1 = np.append(array_1, ta)\n",
    "    count += 1\n",
    "    "
   ]
  },
  {
   "cell_type": "code",
   "execution_count": 19,
   "metadata": {},
   "outputs": [
    {
     "data": {
      "text/plain": [
       "array(['Oscar', 'Emily', 'Josh'], dtype='<U32')"
      ]
     },
     "execution_count": 19,
     "metadata": {},
     "output_type": "execute_result"
    }
   ],
   "source": [
    "array_1"
   ]
  },
  {
   "cell_type": "markdown",
   "metadata": {},
   "source": [
    "# Lecture 9a #"
   ]
  },
  {
   "cell_type": "markdown",
   "metadata": {},
   "source": [
    "## Grouping by One Column ##"
   ]
  },
  {
   "cell_type": "code",
   "execution_count": 20,
   "metadata": {},
   "outputs": [],
   "source": [
    "cones = Table.read_table('cones.csv')"
   ]
  },
  {
   "cell_type": "code",
   "execution_count": 21,
   "metadata": {},
   "outputs": [
    {
     "data": {
      "text/html": [
       "<table border=\"1\" class=\"dataframe\">\n",
       "    <thead>\n",
       "        <tr>\n",
       "            <th>Flavor</th> <th>Color</th> <th>Price</th>\n",
       "        </tr>\n",
       "    </thead>\n",
       "    <tbody>\n",
       "        <tr>\n",
       "            <td>strawberry</td> <td>pink       </td> <td>3.55 </td>\n",
       "        </tr>\n",
       "        <tr>\n",
       "            <td>chocolate </td> <td>light brown</td> <td>4.75 </td>\n",
       "        </tr>\n",
       "        <tr>\n",
       "            <td>chocolate </td> <td>dark brown </td> <td>5.25 </td>\n",
       "        </tr>\n",
       "        <tr>\n",
       "            <td>strawberry</td> <td>pink       </td> <td>5.25 </td>\n",
       "        </tr>\n",
       "        <tr>\n",
       "            <td>chocolate </td> <td>dark brown </td> <td>5.25 </td>\n",
       "        </tr>\n",
       "        <tr>\n",
       "            <td>bubblegum </td> <td>pink       </td> <td>4.75 </td>\n",
       "        </tr>\n",
       "    </tbody>\n",
       "</table>"
      ],
      "text/plain": [
       "Flavor     | Color       | Price\n",
       "strawberry | pink        | 3.55\n",
       "chocolate  | light brown | 4.75\n",
       "chocolate  | dark brown  | 5.25\n",
       "strawberry | pink        | 5.25\n",
       "chocolate  | dark brown  | 5.25\n",
       "bubblegum  | pink        | 4.75"
      ]
     },
     "execution_count": 21,
     "metadata": {},
     "output_type": "execute_result"
    }
   ],
   "source": [
    "cones"
   ]
  },
  {
   "cell_type": "code",
   "execution_count": 22,
   "metadata": {},
   "outputs": [
    {
     "data": {
      "text/html": [
       "<table border=\"1\" class=\"dataframe\">\n",
       "    <thead>\n",
       "        <tr>\n",
       "            <th>Flavor</th> <th>count</th>\n",
       "        </tr>\n",
       "    </thead>\n",
       "    <tbody>\n",
       "        <tr>\n",
       "            <td>bubblegum </td> <td>1    </td>\n",
       "        </tr>\n",
       "        <tr>\n",
       "            <td>chocolate </td> <td>3    </td>\n",
       "        </tr>\n",
       "        <tr>\n",
       "            <td>strawberry</td> <td>2    </td>\n",
       "        </tr>\n",
       "    </tbody>\n",
       "</table>"
      ],
      "text/plain": [
       "Flavor     | count\n",
       "bubblegum  | 1\n",
       "chocolate  | 3\n",
       "strawberry | 2"
      ]
     },
     "execution_count": 22,
     "metadata": {},
     "output_type": "execute_result"
    }
   ],
   "source": [
    "# Group by Flavor\n",
    "cones.group('Flavor')"
   ]
  },
  {
   "cell_type": "code",
   "execution_count": 23,
   "metadata": {},
   "outputs": [
    {
     "data": {
      "text/plain": [
       "array(['strawberry', 'chocolate', 'chocolate', 'strawberry', 'chocolate',\n",
       "       'bubblegum'], dtype='<U10')"
      ]
     },
     "execution_count": 23,
     "metadata": {},
     "output_type": "execute_result"
    }
   ],
   "source": [
    "flavors = cones.column('Flavor')\n",
    "flavors"
   ]
  },
  {
   "cell_type": "code",
   "execution_count": 24,
   "metadata": {},
   "outputs": [
    {
     "data": {
      "text/plain": [
       "array(['bubblegum', 'chocolate', 'strawberry'], dtype='<U10')"
      ]
     },
     "execution_count": 24,
     "metadata": {},
     "output_type": "execute_result"
    }
   ],
   "source": [
    "np.unique(flavors)"
   ]
  },
  {
   "cell_type": "code",
   "execution_count": 25,
   "metadata": {},
   "outputs": [
    {
     "data": {
      "text/html": [
       "<table border=\"1\" class=\"dataframe\">\n",
       "    <thead>\n",
       "        <tr>\n",
       "            <th>Flavor</th> <th>count</th>\n",
       "        </tr>\n",
       "    </thead>\n",
       "    <tbody>\n",
       "        <tr>\n",
       "            <td>bubblegum </td> <td>1    </td>\n",
       "        </tr>\n",
       "        <tr>\n",
       "            <td>chocolate </td> <td>3    </td>\n",
       "        </tr>\n",
       "        <tr>\n",
       "            <td>strawberry</td> <td>2    </td>\n",
       "        </tr>\n",
       "    </tbody>\n",
       "</table>"
      ],
      "text/plain": [
       "Flavor     | count\n",
       "bubblegum  | 1\n",
       "chocolate  | 3\n",
       "strawberry | 2"
      ]
     },
     "execution_count": 25,
     "metadata": {},
     "output_type": "execute_result"
    }
   ],
   "source": [
    "counts = make_array()\n",
    "for flavor in np.unique(flavors):\n",
    "    number = np.sum(cones.column('Flavor') == flavor)\n",
    "    counts = np.append(counts, number)\n",
    "Table().with_columns(\"Flavor\", np.unique(flavors),\n",
    "                  \"count\", counts)"
   ]
  },
  {
   "cell_type": "code",
   "execution_count": 26,
   "metadata": {
    "scrolled": true
   },
   "outputs": [
    {
     "data": {
      "text/html": [
       "<table border=\"1\" class=\"dataframe\">\n",
       "    <thead>\n",
       "        <tr>\n",
       "            <th>Flavor</th> <th>Color average</th> <th>Price average</th>\n",
       "        </tr>\n",
       "    </thead>\n",
       "    <tbody>\n",
       "        <tr>\n",
       "            <td>bubblegum </td> <td>             </td> <td>4.75         </td>\n",
       "        </tr>\n",
       "        <tr>\n",
       "            <td>chocolate </td> <td>             </td> <td>5.08333      </td>\n",
       "        </tr>\n",
       "        <tr>\n",
       "            <td>strawberry</td> <td>             </td> <td>4.4          </td>\n",
       "        </tr>\n",
       "    </tbody>\n",
       "</table>"
      ],
      "text/plain": [
       "Flavor     | Color average | Price average\n",
       "bubblegum  |               | 4.75\n",
       "chocolate  |               | 5.08333\n",
       "strawberry |               | 4.4"
      ]
     },
     "execution_count": 26,
     "metadata": {},
     "output_type": "execute_result"
    }
   ],
   "source": [
    "# Averages\n",
    "cones.group('Flavor', np.average)"
   ]
  },
  {
   "cell_type": "code",
   "execution_count": 27,
   "metadata": {},
   "outputs": [
    {
     "data": {
      "text/html": [
       "<table border=\"1\" class=\"dataframe\">\n",
       "    <thead>\n",
       "        <tr>\n",
       "            <th>Flavor</th> <th>Color min</th> <th>Price min</th>\n",
       "        </tr>\n",
       "    </thead>\n",
       "    <tbody>\n",
       "        <tr>\n",
       "            <td>bubblegum </td> <td>pink      </td> <td>4.75     </td>\n",
       "        </tr>\n",
       "        <tr>\n",
       "            <td>chocolate </td> <td>dark brown</td> <td>4.75     </td>\n",
       "        </tr>\n",
       "        <tr>\n",
       "            <td>strawberry</td> <td>pink      </td> <td>3.55     </td>\n",
       "        </tr>\n",
       "    </tbody>\n",
       "</table>"
      ],
      "text/plain": [
       "Flavor     | Color min  | Price min\n",
       "bubblegum  | pink       | 4.75\n",
       "chocolate  | dark brown | 4.75\n",
       "strawberry | pink       | 3.55"
      ]
     },
     "execution_count": 27,
     "metadata": {},
     "output_type": "execute_result"
    }
   ],
   "source": [
    "# Min\n",
    "cones.group('Flavor', min)"
   ]
  },
  {
   "cell_type": "markdown",
   "metadata": {},
   "source": [
    "## Lists"
   ]
  },
  {
   "cell_type": "code",
   "execution_count": 31,
   "metadata": {},
   "outputs": [
    {
     "data": {
      "text/plain": [
       "[5, 'b', ]"
      ]
     },
     "execution_count": 31,
     "metadata": {},
     "output_type": "execute_result"
    }
   ],
   "source": [
    "# Lists can have multiple types\n",
    "a = [2+3 , 'b', Table()]\n",
    "a"
   ]
  },
  {
   "cell_type": "code",
   "execution_count": 34,
   "metadata": {},
   "outputs": [],
   "source": [
    "# b = make_array(Table(), 'b')\n",
    "# b"
   ]
  },
  {
   "cell_type": "code",
   "execution_count": 36,
   "metadata": {},
   "outputs": [
    {
     "data": {
      "text/plain": [
       "[5, [5, 6], 7, array([], dtype=float64)]"
      ]
     },
     "execution_count": 36,
     "metadata": {},
     "output_type": "execute_result"
    }
   ],
   "source": [
    "b = [2+3, [5, 6], 7, make_array()]\n",
    "b"
   ]
  },
  {
   "cell_type": "code",
   "execution_count": 38,
   "metadata": {},
   "outputs": [
    {
     "data": {
      "text/html": [
       "<table border=\"1\" class=\"dataframe\">\n",
       "    <thead>\n",
       "        <tr>\n",
       "            <th>Number</th>\n",
       "        </tr>\n",
       "    </thead>\n",
       "    <tbody>\n",
       "        <tr>\n",
       "            <td>1     </td>\n",
       "        </tr>\n",
       "        <tr>\n",
       "            <td>2     </td>\n",
       "        </tr>\n",
       "        <tr>\n",
       "            <td>3     </td>\n",
       "        </tr>\n",
       "    </tbody>\n",
       "</table>"
      ],
      "text/plain": [
       "Number\n",
       "1\n",
       "2\n",
       "3"
      ]
     },
     "execution_count": 38,
     "metadata": {},
     "output_type": "execute_result"
    }
   ],
   "source": [
    "# You can create tables using lists\n",
    "list_table = Table().with_column('Number', [1,2,3])\n",
    "list_table"
   ]
  },
  {
   "cell_type": "code",
   "execution_count": 39,
   "metadata": {},
   "outputs": [
    {
     "data": {
      "text/html": [
       "<table border=\"1\" class=\"dataframe\">\n",
       "    <thead>\n",
       "        <tr>\n",
       "            <th>Number</th>\n",
       "        </tr>\n",
       "    </thead>\n",
       "    <tbody>\n",
       "        <tr>\n",
       "            <td>1     </td>\n",
       "        </tr>\n",
       "        <tr>\n",
       "            <td>hello </td>\n",
       "        </tr>\n",
       "        <tr>\n",
       "            <td>3     </td>\n",
       "        </tr>\n",
       "    </tbody>\n",
       "</table>"
      ],
      "text/plain": [
       "Number\n",
       "1\n",
       "hello\n",
       "3"
      ]
     },
     "execution_count": 39,
     "metadata": {},
     "output_type": "execute_result"
    }
   ],
   "source": [
    "# Here comes trouble; what is the type?\n",
    "list_table2 = Table().with_column('Number', [1,'hello',3])\n",
    "list_table2"
   ]
  },
  {
   "cell_type": "code",
   "execution_count": 40,
   "metadata": {},
   "outputs": [
    {
     "data": {
      "text/plain": [
       "array(['1', 'hello', '3'], dtype='<U21')"
      ]
     },
     "execution_count": 40,
     "metadata": {},
     "output_type": "execute_result"
    }
   ],
   "source": [
    "list_table2.column(0)"
   ]
  },
  {
   "cell_type": "code",
   "execution_count": 41,
   "metadata": {},
   "outputs": [
    {
     "data": {
      "text/html": [
       "<table border=\"1\" class=\"dataframe\">\n",
       "    <thead>\n",
       "        <tr>\n",
       "            <th>Flavor</th> <th>Count</th>\n",
       "        </tr>\n",
       "    </thead>\n",
       "    <tbody>\n",
       "        <tr>\n",
       "            <td>bubblegum </td> <td>1    </td>\n",
       "        </tr>\n",
       "        <tr>\n",
       "            <td>chocolate </td> <td>3    </td>\n",
       "        </tr>\n",
       "        <tr>\n",
       "            <td>strawberry</td> <td>2    </td>\n",
       "        </tr>\n",
       "    </tbody>\n",
       "</table>"
      ],
      "text/plain": [
       "Flavor     | Count\n",
       "bubblegum  | 1\n",
       "chocolate  | 3\n",
       "strawberry | 2"
      ]
     },
     "execution_count": 41,
     "metadata": {},
     "output_type": "execute_result"
    }
   ],
   "source": [
    "# Create whole tables!\n",
    "\n",
    "list_table3 = Table(['Flavor', 'Count']).with_rows([\n",
    "    ['bubblegum', 1],\n",
    "    ['chocolate', 3],\n",
    "    ['strawberry', 2]\n",
    "])\n",
    "list_table3"
   ]
  },
  {
   "cell_type": "markdown",
   "metadata": {},
   "source": [
    "## Grouping By One Column: Welcome Survey ##"
   ]
  },
  {
   "cell_type": "code",
   "execution_count": 42,
   "metadata": {},
   "outputs": [],
   "source": [
    "survey = Table.read_table('welcome_survey_su22.csv')\n",
    "survey = survey.where('Handedness', are.containing('t-handed'))\n",
    "survey = survey.where('Handedness', are.not_containing(' handed'))"
   ]
  },
  {
   "cell_type": "code",
   "execution_count": 43,
   "metadata": {},
   "outputs": [
    {
     "data": {
      "text/html": [
       "<table border=\"1\" class=\"dataframe\">\n",
       "    <thead>\n",
       "        <tr>\n",
       "            <th>Unnamed: 0</th> <th>Year</th> <th>Extraversion</th> <th>Number of textees</th> <th>Hours of sleep</th> <th>Handedness</th> <th>First pant leg</th> <th>Sleep position</th>\n",
       "        </tr>\n",
       "    </thead>\n",
       "    <tbody>\n",
       "        <tr>\n",
       "            <td>1         </td> <td>Rising fourth</td> <td>10          </td> <td>5                </td> <td>8             </td> <td>Right-handed</td> <td>Right leg in first</td> <td>On your left side </td>\n",
       "        </tr>\n",
       "        <tr>\n",
       "            <td>2         </td> <td>Rising fourth</td> <td>3           </td> <td>1                </td> <td>8             </td> <td>Right-handed</td> <td>Left leg in first </td> <td>On your right side</td>\n",
       "        </tr>\n",
       "        <tr>\n",
       "            <td>3         </td> <td>Rising second</td> <td>8           </td> <td>20               </td> <td>7             </td> <td>Right-handed</td> <td>Right leg in first</td> <td>On your stomach   </td>\n",
       "        </tr>\n",
       "        <tr>\n",
       "            <td>5         </td> <td>Rising second</td> <td>5           </td> <td>2                </td> <td>6             </td> <td>Right-handed</td> <td>Left leg in first </td> <td>On your back      </td>\n",
       "        </tr>\n",
       "        <tr>\n",
       "            <td>6         </td> <td>Rising second</td> <td>7           </td> <td>0                </td> <td>7.5           </td> <td>Left-handed </td> <td>Left leg in first </td> <td>On your left side </td>\n",
       "        </tr>\n",
       "        <tr>\n",
       "            <td>7         </td> <td>Rising second</td> <td>3           </td> <td>4                </td> <td>8             </td> <td>Right-handed</td> <td>Right leg in first</td> <td>On your left side </td>\n",
       "        </tr>\n",
       "        <tr>\n",
       "            <td>8         </td> <td>Rising second</td> <td>6           </td> <td>5                </td> <td>8             </td> <td>Right-handed</td> <td>Left leg in first </td> <td>On your right side</td>\n",
       "        </tr>\n",
       "        <tr>\n",
       "            <td>9         </td> <td>Rising third </td> <td>3           </td> <td>5                </td> <td>7             </td> <td>Right-handed</td> <td>Right leg in first</td> <td>On your right side</td>\n",
       "        </tr>\n",
       "        <tr>\n",
       "            <td>10        </td> <td>Rising third </td> <td>8           </td> <td>10               </td> <td>8.5           </td> <td>Left-handed </td> <td>Left leg in first </td> <td>On your right side</td>\n",
       "        </tr>\n",
       "        <tr>\n",
       "            <td>11        </td> <td>Rising third </td> <td>4           </td> <td>7                </td> <td>8             </td> <td>Right-handed</td> <td>Left leg in first </td> <td>On your right side</td>\n",
       "        </tr>\n",
       "    </tbody>\n",
       "</table>\n",
       "<p>... (381 rows omitted)</p>"
      ],
      "text/plain": [
       "Unnamed: 0 | Year          | Extraversion | Number of textees | Hours of sleep | Handedness   | First pant leg     | Sleep position\n",
       "1          | Rising fourth | 10           | 5                 | 8              | Right-handed | Right leg in first | On your left side\n",
       "2          | Rising fourth | 3            | 1                 | 8              | Right-handed | Left leg in first  | On your right side\n",
       "3          | Rising second | 8            | 20                | 7              | Right-handed | Right leg in first | On your stomach\n",
       "5          | Rising second | 5            | 2                 | 6              | Right-handed | Left leg in first  | On your back\n",
       "6          | Rising second | 7            | 0                 | 7.5            | Left-handed  | Left leg in first  | On your left side\n",
       "7          | Rising second | 3            | 4                 | 8              | Right-handed | Right leg in first | On your left side\n",
       "8          | Rising second | 6            | 5                 | 8              | Right-handed | Left leg in first  | On your right side\n",
       "9          | Rising third  | 3            | 5                 | 7              | Right-handed | Right leg in first | On your right side\n",
       "10         | Rising third  | 8            | 10                | 8.5            | Left-handed  | Left leg in first  | On your right side\n",
       "11         | Rising third  | 4            | 7                 | 8              | Right-handed | Left leg in first  | On your right side\n",
       "... (381 rows omitted)"
      ]
     },
     "execution_count": 43,
     "metadata": {},
     "output_type": "execute_result"
    }
   ],
   "source": [
    "survey"
   ]
  },
  {
   "cell_type": "code",
   "execution_count": 45,
   "metadata": {},
   "outputs": [
    {
     "data": {
      "text/html": [
       "<table border=\"1\" class=\"dataframe\">\n",
       "    <thead>\n",
       "        <tr>\n",
       "            <th>Extraversion</th> <th>Year average</th> <th>Number of textees average</th> <th>Hours of sleep average</th> <th>Handedness average</th> <th>First pant leg average</th> <th>Sleep position average</th>\n",
       "        </tr>\n",
       "    </thead>\n",
       "    <tbody>\n",
       "        <tr>\n",
       "            <td>0           </td> <td>            </td> <td>0.75                     </td> <td>2.875                 </td> <td>                  </td> <td>                      </td> <td>                      </td>\n",
       "        </tr>\n",
       "        <tr>\n",
       "            <td>1           </td> <td>            </td> <td>2.33333                  </td> <td>7.5                   </td> <td>                  </td> <td>                      </td> <td>                      </td>\n",
       "        </tr>\n",
       "        <tr>\n",
       "            <td>2           </td> <td>            </td> <td>2.5                      </td> <td>6.55556               </td> <td>                  </td> <td>                      </td> <td>                      </td>\n",
       "        </tr>\n",
       "        <tr>\n",
       "            <td>3           </td> <td>            </td> <td>5.62903                  </td> <td>6.65323               </td> <td>                  </td> <td>                      </td> <td>                      </td>\n",
       "        </tr>\n",
       "        <tr>\n",
       "            <td>4           </td> <td>            </td> <td>4.62319                  </td> <td>6.82609               </td> <td>                  </td> <td>                      </td> <td>                      </td>\n",
       "        </tr>\n",
       "        <tr>\n",
       "            <td>5           </td> <td>            </td> <td>4.52542                  </td> <td>6.78814               </td> <td>                  </td> <td>                      </td> <td>                      </td>\n",
       "        </tr>\n",
       "        <tr>\n",
       "            <td>6           </td> <td>            </td> <td>5.01852                  </td> <td>6.38889               </td> <td>                  </td> <td>                      </td> <td>                      </td>\n",
       "        </tr>\n",
       "        <tr>\n",
       "            <td>7           </td> <td>            </td> <td>6.45902                  </td> <td>6.92623               </td> <td>                  </td> <td>                      </td> <td>                      </td>\n",
       "        </tr>\n",
       "        <tr>\n",
       "            <td>8           </td> <td>            </td> <td>8.02632                  </td> <td>7.10526               </td> <td>                  </td> <td>                      </td> <td>                      </td>\n",
       "        </tr>\n",
       "        <tr>\n",
       "            <td>9           </td> <td>            </td> <td>8.25                     </td> <td>6.70833               </td> <td>                  </td> <td>                      </td> <td>                      </td>\n",
       "        </tr>\n",
       "    </tbody>\n",
       "</table>\n",
       "<p>... (1 rows omitted)</p>"
      ],
      "text/plain": [
       "Extraversion | Year average | Number of textees average | Hours of sleep average | Handedness average | First pant leg average | Sleep position average\n",
       "0            |              | 0.75                      | 2.875                  |                    |                        |\n",
       "1            |              | 2.33333                   | 7.5                    |                    |                        |\n",
       "2            |              | 2.5                       | 6.55556                |                    |                        |\n",
       "3            |              | 5.62903                   | 6.65323                |                    |                        |\n",
       "4            |              | 4.62319                   | 6.82609                |                    |                        |\n",
       "5            |              | 4.52542                   | 6.78814                |                    |                        |\n",
       "6            |              | 5.01852                   | 6.38889                |                    |                        |\n",
       "7            |              | 6.45902                   | 6.92623                |                    |                        |\n",
       "8            |              | 8.02632                   | 7.10526                |                    |                        |\n",
       "9            |              | 8.25                      | 6.70833                |                    |                        |\n",
       "... (1 rows omitted)"
      ]
     },
     "execution_count": 45,
     "metadata": {},
     "output_type": "execute_result"
    }
   ],
   "source": [
    "# average extraversion levels?\n",
    "by_extra = survey.group(\"Extraversion\", np.average).drop(\"Unnamed: 0 average\")\n",
    "by_extra"
   ]
  },
  {
   "cell_type": "code",
   "execution_count": null,
   "metadata": {},
   "outputs": [],
   "source": [
    "# Let's plot it extraversion vs number of textees p average?"
   ]
  },
  {
   "cell_type": "code",
   "execution_count": null,
   "metadata": {
    "scrolled": true
   },
   "outputs": [],
   "source": [
    "# Plots"
   ]
  },
  {
   "cell_type": "code",
   "execution_count": null,
   "metadata": {},
   "outputs": [],
   "source": [
    "# Deep Dive"
   ]
  },
  {
   "cell_type": "markdown",
   "metadata": {},
   "source": [
    "## Grouping by Two Columns ##"
   ]
  },
  {
   "cell_type": "markdown",
   "metadata": {},
   "source": [
    "    Do right-handed people tend to sleep on their left side and left-handed people sleep on their right?"
   ]
  },
  {
   "cell_type": "code",
   "execution_count": 47,
   "metadata": {},
   "outputs": [
    {
     "data": {
      "text/html": [
       "<table border=\"1\" class=\"dataframe\">\n",
       "    <thead>\n",
       "        <tr>\n",
       "            <th>Handedness</th> <th>Sleep position</th> <th>count</th>\n",
       "        </tr>\n",
       "    </thead>\n",
       "    <tbody>\n",
       "        <tr>\n",
       "            <td>Left-handed </td> <td>I don't know      </td> <td>3    </td>\n",
       "        </tr>\n",
       "        <tr>\n",
       "            <td>Left-handed </td> <td>On your back      </td> <td>6    </td>\n",
       "        </tr>\n",
       "        <tr>\n",
       "            <td>Left-handed </td> <td>On your left side </td> <td>13   </td>\n",
       "        </tr>\n",
       "        <tr>\n",
       "            <td>Left-handed </td> <td>On your right side</td> <td>6    </td>\n",
       "        </tr>\n",
       "        <tr>\n",
       "            <td>Left-handed </td> <td>On your stomach   </td> <td>4    </td>\n",
       "        </tr>\n",
       "        <tr>\n",
       "            <td>Right-handed</td> <td>I don't know      </td> <td>15   </td>\n",
       "        </tr>\n",
       "        <tr>\n",
       "            <td>Right-handed</td> <td>On your back      </td> <td>82   </td>\n",
       "        </tr>\n",
       "        <tr>\n",
       "            <td>Right-handed</td> <td>On your left side </td> <td>87   </td>\n",
       "        </tr>\n",
       "        <tr>\n",
       "            <td>Right-handed</td> <td>On your right side</td> <td>130  </td>\n",
       "        </tr>\n",
       "        <tr>\n",
       "            <td>Right-handed</td> <td>On your stomach   </td> <td>45   </td>\n",
       "        </tr>\n",
       "    </tbody>\n",
       "</table>"
      ],
      "text/plain": [
       "Handedness   | Sleep position     | count\n",
       "Left-handed  | I don't know       | 3\n",
       "Left-handed  | On your back       | 6\n",
       "Left-handed  | On your left side  | 13\n",
       "Left-handed  | On your right side | 6\n",
       "Left-handed  | On your stomach    | 4\n",
       "Right-handed | I don't know       | 15\n",
       "Right-handed | On your back       | 82\n",
       "Right-handed | On your left side  | 87\n",
       "Right-handed | On your right side | 130\n",
       "Right-handed | On your stomach    | 45"
      ]
     },
     "execution_count": 47,
     "metadata": {},
     "output_type": "execute_result"
    }
   ],
   "source": [
    "survey.group(['Handedness', 'Sleep position'])"
   ]
  },
  {
   "cell_type": "markdown",
   "metadata": {},
   "source": [
    "## Pivot Tables"
   ]
  },
  {
   "cell_type": "code",
   "execution_count": 49,
   "metadata": {},
   "outputs": [
    {
     "data": {
      "text/html": [
       "<table border=\"1\" class=\"dataframe\">\n",
       "    <thead>\n",
       "        <tr>\n",
       "            <th>Handedness</th> <th>I don't know</th> <th>On your back</th> <th>On your left side</th> <th>On your right side</th> <th>On your stomach</th>\n",
       "        </tr>\n",
       "    </thead>\n",
       "    <tbody>\n",
       "        <tr>\n",
       "            <td>Left-handed </td> <td>3           </td> <td>6           </td> <td>13               </td> <td>6                 </td> <td>4              </td>\n",
       "        </tr>\n",
       "        <tr>\n",
       "            <td>Right-handed</td> <td>15          </td> <td>82          </td> <td>87               </td> <td>130               </td> <td>45             </td>\n",
       "        </tr>\n",
       "    </tbody>\n",
       "</table>"
      ],
      "text/plain": [
       "Handedness   | I don't know | On your back | On your left side | On your right side | On your stomach\n",
       "Left-handed  | 3            | 6            | 13                | 6                  | 4\n",
       "Right-handed | 15           | 82           | 87                | 130                | 45"
      ]
     },
     "execution_count": 49,
     "metadata": {},
     "output_type": "execute_result"
    }
   ],
   "source": [
    "survey.pivot(\"Sleep position\", \"Handedness\")"
   ]
  },
  {
   "cell_type": "code",
   "execution_count": 50,
   "metadata": {},
   "outputs": [
    {
     "data": {
      "text/html": [
       "<table border=\"1\" class=\"dataframe\">\n",
       "    <thead>\n",
       "        <tr>\n",
       "            <th>Sleep position</th> <th>Left-handed</th> <th>Right-handed</th>\n",
       "        </tr>\n",
       "    </thead>\n",
       "    <tbody>\n",
       "        <tr>\n",
       "            <td>I don't know      </td> <td>3          </td> <td>15          </td>\n",
       "        </tr>\n",
       "        <tr>\n",
       "            <td>On your back      </td> <td>6          </td> <td>82          </td>\n",
       "        </tr>\n",
       "        <tr>\n",
       "            <td>On your left side </td> <td>13         </td> <td>87          </td>\n",
       "        </tr>\n",
       "        <tr>\n",
       "            <td>On your right side</td> <td>6          </td> <td>130         </td>\n",
       "        </tr>\n",
       "        <tr>\n",
       "            <td>On your stomach   </td> <td>4          </td> <td>45          </td>\n",
       "        </tr>\n",
       "    </tbody>\n",
       "</table>"
      ],
      "text/plain": [
       "Sleep position     | Left-handed | Right-handed\n",
       "I don't know       | 3           | 15\n",
       "On your back       | 6           | 82\n",
       "On your left side  | 13          | 87\n",
       "On your right side | 6           | 130\n",
       "On your stomach    | 4           | 45"
      ]
     },
     "execution_count": 50,
     "metadata": {},
     "output_type": "execute_result"
    }
   ],
   "source": [
    "survey.pivot(\"Handedness\", 'Sleep position')"
   ]
  },
  {
   "cell_type": "code",
   "execution_count": 51,
   "metadata": {},
   "outputs": [
    {
     "data": {
      "text/html": [
       "<table border=\"1\" class=\"dataframe\">\n",
       "    <thead>\n",
       "        <tr>\n",
       "            <th>Handedness</th> <th>I don't know</th> <th>On your back</th> <th>On your left side</th> <th>On your right side</th> <th>On your stomach</th>\n",
       "        </tr>\n",
       "    </thead>\n",
       "    <tbody>\n",
       "        <tr>\n",
       "            <td>Left-handed </td> <td>3           </td> <td>4.16667     </td> <td>5.07692          </td> <td>6.16667           </td> <td>5.5            </td>\n",
       "        </tr>\n",
       "        <tr>\n",
       "            <td>Right-handed</td> <td>3.26667     </td> <td>5.08537     </td> <td>5.45977          </td> <td>5.28462           </td> <td>5.37778        </td>\n",
       "        </tr>\n",
       "    </tbody>\n",
       "</table>"
      ],
      "text/plain": [
       "Handedness   | I don't know | On your back | On your left side | On your right side | On your stomach\n",
       "Left-handed  | 3            | 4.16667      | 5.07692           | 6.16667            | 5.5\n",
       "Right-handed | 3.26667      | 5.08537      | 5.45977           | 5.28462            | 5.37778"
      ]
     },
     "execution_count": 51,
     "metadata": {},
     "output_type": "execute_result"
    }
   ],
   "source": [
    "survey.pivot(\"Sleep position\", \"Handedness\", values='Extraversion', collect=np.average)"
   ]
  },
  {
   "cell_type": "code",
   "execution_count": 54,
   "metadata": {},
   "outputs": [
    {
     "data": {
      "text/html": [
       "<table border=\"1\" class=\"dataframe\">\n",
       "    <thead>\n",
       "        <tr>\n",
       "            <th>Sleep position</th> <th>Handedness</th> <th>Extraversion average</th>\n",
       "        </tr>\n",
       "    </thead>\n",
       "    <tbody>\n",
       "        <tr>\n",
       "            <td>I don't know      </td> <td>Left-handed </td> <td>3                   </td>\n",
       "        </tr>\n",
       "        <tr>\n",
       "            <td>I don't know      </td> <td>Right-handed</td> <td>3.26667             </td>\n",
       "        </tr>\n",
       "        <tr>\n",
       "            <td>On your back      </td> <td>Left-handed </td> <td>4.16667             </td>\n",
       "        </tr>\n",
       "        <tr>\n",
       "            <td>On your back      </td> <td>Right-handed</td> <td>5.08537             </td>\n",
       "        </tr>\n",
       "        <tr>\n",
       "            <td>On your left side </td> <td>Left-handed </td> <td>5.07692             </td>\n",
       "        </tr>\n",
       "        <tr>\n",
       "            <td>On your left side </td> <td>Right-handed</td> <td>5.45977             </td>\n",
       "        </tr>\n",
       "        <tr>\n",
       "            <td>On your right side</td> <td>Left-handed </td> <td>6.16667             </td>\n",
       "        </tr>\n",
       "        <tr>\n",
       "            <td>On your right side</td> <td>Right-handed</td> <td>5.28462             </td>\n",
       "        </tr>\n",
       "        <tr>\n",
       "            <td>On your stomach   </td> <td>Left-handed </td> <td>5.5                 </td>\n",
       "        </tr>\n",
       "        <tr>\n",
       "            <td>On your stomach   </td> <td>Right-handed</td> <td>5.37778             </td>\n",
       "        </tr>\n",
       "    </tbody>\n",
       "</table>"
      ],
      "text/plain": [
       "Sleep position     | Handedness   | Extraversion average\n",
       "I don't know       | Left-handed  | 3\n",
       "I don't know       | Right-handed | 3.26667\n",
       "On your back       | Left-handed  | 4.16667\n",
       "On your back       | Right-handed | 5.08537\n",
       "On your left side  | Left-handed  | 5.07692\n",
       "On your left side  | Right-handed | 5.45977\n",
       "On your right side | Left-handed  | 6.16667\n",
       "On your right side | Right-handed | 5.28462\n",
       "On your stomach    | Left-handed  | 5.5\n",
       "On your stomach    | Right-handed | 5.37778"
      ]
     },
     "execution_count": 54,
     "metadata": {},
     "output_type": "execute_result"
    }
   ],
   "source": [
    "survey.group([\"Sleep position\", \"Handedness\"], np.average).select(0, 1, 4)"
   ]
  },
  {
   "cell_type": "code",
   "execution_count": 56,
   "metadata": {},
   "outputs": [
    {
     "data": {
      "text/html": [
       "<table border=\"1\" class=\"dataframe\">\n",
       "    <thead>\n",
       "        <tr>\n",
       "            <th>Year</th> <th>Sleep position</th> <th>Handedness</th> <th>Extraversion average</th>\n",
       "        </tr>\n",
       "    </thead>\n",
       "    <tbody>\n",
       "        <tr>\n",
       "            <td>Incoming first  </td> <td>On your back      </td> <td>Right-handed</td> <td>5                   </td>\n",
       "        </tr>\n",
       "        <tr>\n",
       "            <td>Incoming first  </td> <td>On your left side </td> <td>Right-handed</td> <td>4.33333             </td>\n",
       "        </tr>\n",
       "        <tr>\n",
       "            <td>Incoming first  </td> <td>On your right side</td> <td>Right-handed</td> <td>6                   </td>\n",
       "        </tr>\n",
       "        <tr>\n",
       "            <td>Incoming first  </td> <td>On your stomach   </td> <td>Right-handed</td> <td>3                   </td>\n",
       "        </tr>\n",
       "        <tr>\n",
       "            <td>Not an undergrad</td> <td>I don't know      </td> <td>Left-handed </td> <td>0                   </td>\n",
       "        </tr>\n",
       "        <tr>\n",
       "            <td>Not an undergrad</td> <td>I don't know      </td> <td>Right-handed</td> <td>3                   </td>\n",
       "        </tr>\n",
       "        <tr>\n",
       "            <td>Not an undergrad</td> <td>On your back      </td> <td>Left-handed </td> <td>6                   </td>\n",
       "        </tr>\n",
       "        <tr>\n",
       "            <td>Not an undergrad</td> <td>On your back      </td> <td>Right-handed</td> <td>4.4                 </td>\n",
       "        </tr>\n",
       "        <tr>\n",
       "            <td>Not an undergrad</td> <td>On your left side </td> <td>Left-handed </td> <td>6                   </td>\n",
       "        </tr>\n",
       "        <tr>\n",
       "            <td>Not an undergrad</td> <td>On your left side </td> <td>Right-handed</td> <td>4.71429             </td>\n",
       "        </tr>\n",
       "    </tbody>\n",
       "</table>\n",
       "<p>... (37 rows omitted)</p>"
      ],
      "text/plain": [
       "Year             | Sleep position     | Handedness   | Extraversion average\n",
       "Incoming first   | On your back       | Right-handed | 5\n",
       "Incoming first   | On your left side  | Right-handed | 4.33333\n",
       "Incoming first   | On your right side | Right-handed | 6\n",
       "Incoming first   | On your stomach    | Right-handed | 3\n",
       "Not an undergrad | I don't know       | Left-handed  | 0\n",
       "Not an undergrad | I don't know       | Right-handed | 3\n",
       "Not an undergrad | On your back       | Left-handed  | 6\n",
       "Not an undergrad | On your back       | Right-handed | 4.4\n",
       "Not an undergrad | On your left side  | Left-handed  | 6\n",
       "Not an undergrad | On your left side  | Right-handed | 4.71429\n",
       "... (37 rows omitted)"
      ]
     },
     "execution_count": 56,
     "metadata": {},
     "output_type": "execute_result"
    }
   ],
   "source": [
    "survey.group([\"Year\", \"Sleep position\", \"Handedness\"], np.average).select(0, 1,2, 4)"
   ]
  },
  {
   "cell_type": "markdown",
   "metadata": {},
   "source": [
    "## Group vs Pivot"
   ]
  },
  {
   "cell_type": "markdown",
   "metadata": {},
   "source": [
    "Need help with group vs pivot?  Try [our visualizer](http://data8.org/interactive_table_functions/)."
   ]
  },
  {
   "cell_type": "code",
   "execution_count": 61,
   "metadata": {},
   "outputs": [
    {
     "data": {
      "text/html": [
       "<table border=\"1\" class=\"dataframe\">\n",
       "    <thead>\n",
       "        <tr>\n",
       "            <th>name</th> <th>material</th> <th>city</th> <th>height</th> <th>completed</th>\n",
       "        </tr>\n",
       "    </thead>\n",
       "    <tbody>\n",
       "        <tr>\n",
       "            <td>One World Trade Center           </td> <td>mixed/composite</td> <td>New York City</td> <td>541.3 </td> <td>2014     </td>\n",
       "        </tr>\n",
       "        <tr>\n",
       "            <td>Willis Tower                     </td> <td>steel          </td> <td>Chicago      </td> <td>442.14</td> <td>1974     </td>\n",
       "        </tr>\n",
       "        <tr>\n",
       "            <td>432 Park Avenue                  </td> <td>concrete       </td> <td>New York City</td> <td>425.5 </td> <td>2015     </td>\n",
       "        </tr>\n",
       "        <tr>\n",
       "            <td>Trump International Hotel & Tower</td> <td>concrete       </td> <td>Chicago      </td> <td>423.22</td> <td>2009     </td>\n",
       "        </tr>\n",
       "        <tr>\n",
       "            <td>Empire State Building            </td> <td>steel          </td> <td>New York City</td> <td>381   </td> <td>1931     </td>\n",
       "        </tr>\n",
       "        <tr>\n",
       "            <td>Bank of America Tower            </td> <td>mixed/composite</td> <td>New York City</td> <td>365.8 </td> <td>2009     </td>\n",
       "        </tr>\n",
       "        <tr>\n",
       "            <td>Stratosphere Tower               </td> <td>concrete       </td> <td>Las Vegas    </td> <td>350.22</td> <td>1996     </td>\n",
       "        </tr>\n",
       "        <tr>\n",
       "            <td>Aon Center                       </td> <td>steel          </td> <td>Chicago      </td> <td>346.26</td> <td>1973     </td>\n",
       "        </tr>\n",
       "        <tr>\n",
       "            <td>John Hancock Center              </td> <td>steel          </td> <td>Chicago      </td> <td>343.69</td> <td>1969     </td>\n",
       "        </tr>\n",
       "        <tr>\n",
       "            <td>Chrysler Building                </td> <td>steel          </td> <td>New York City</td> <td>318.9 </td> <td>1930     </td>\n",
       "        </tr>\n",
       "    </tbody>\n",
       "</table>\n",
       "<p>... (1771 rows omitted)</p>"
      ],
      "text/plain": [
       "name                              | material        | city          | height | completed\n",
       "One World Trade Center            | mixed/composite | New York City | 541.3  | 2014\n",
       "Willis Tower                      | steel           | Chicago       | 442.14 | 1974\n",
       "432 Park Avenue                   | concrete        | New York City | 425.5  | 2015\n",
       "Trump International Hotel & Tower | concrete        | Chicago       | 423.22 | 2009\n",
       "Empire State Building             | steel           | New York City | 381    | 1931\n",
       "Bank of America Tower             | mixed/composite | New York City | 365.8  | 2009\n",
       "Stratosphere Tower                | concrete        | Las Vegas     | 350.22 | 1996\n",
       "Aon Center                        | steel           | Chicago       | 346.26 | 1973\n",
       "John Hancock Center               | steel           | Chicago       | 343.69 | 1969\n",
       "Chrysler Building                 | steel           | New York City | 318.9  | 1930\n",
       "... (1771 rows omitted)"
      ]
     },
     "execution_count": 61,
     "metadata": {},
     "output_type": "execute_result"
    }
   ],
   "source": [
    "skyscraper = Table.read_table(\"skyscrapers_v2.csv\")\n",
    "skyscraper"
   ]
  },
  {
   "cell_type": "code",
   "execution_count": 64,
   "metadata": {},
   "outputs": [
    {
     "data": {
      "text/html": [
       "<table border=\"1\" class=\"dataframe\">\n",
       "    <thead>\n",
       "        <tr>\n",
       "            <th>city</th> <th>material</th> <th>height max</th>\n",
       "        </tr>\n",
       "    </thead>\n",
       "    <tbody>\n",
       "        <tr>\n",
       "            <td>Atlanta  </td> <td>concrete       </td> <td>264.25    </td>\n",
       "        </tr>\n",
       "        <tr>\n",
       "            <td>Atlanta  </td> <td>mixed/composite</td> <td>311.8     </td>\n",
       "        </tr>\n",
       "        <tr>\n",
       "            <td>Atlanta  </td> <td>steel          </td> <td>169.47    </td>\n",
       "        </tr>\n",
       "        <tr>\n",
       "            <td>Austin   </td> <td>concrete       </td> <td>208.15    </td>\n",
       "        </tr>\n",
       "        <tr>\n",
       "            <td>Austin   </td> <td>steel          </td> <td>93.6      </td>\n",
       "        </tr>\n",
       "        <tr>\n",
       "            <td>Baltimore</td> <td>concrete       </td> <td>161.24    </td>\n",
       "        </tr>\n",
       "        <tr>\n",
       "            <td>Baltimore</td> <td>steel          </td> <td>155.15    </td>\n",
       "        </tr>\n",
       "        <tr>\n",
       "            <td>Boston   </td> <td>concrete       </td> <td>121.92    </td>\n",
       "        </tr>\n",
       "        <tr>\n",
       "            <td>Boston   </td> <td>mixed/composite</td> <td>139       </td>\n",
       "        </tr>\n",
       "        <tr>\n",
       "            <td>Boston   </td> <td>steel          </td> <td>240.79    </td>\n",
       "        </tr>\n",
       "    </tbody>\n",
       "</table>\n",
       "<p>... (81 rows omitted)</p>"
      ],
      "text/plain": [
       "city      | material        | height max\n",
       "Atlanta   | concrete        | 264.25\n",
       "Atlanta   | mixed/composite | 311.8\n",
       "Atlanta   | steel           | 169.47\n",
       "Austin    | concrete        | 208.15\n",
       "Austin    | steel           | 93.6\n",
       "Baltimore | concrete        | 161.24\n",
       "Baltimore | steel           | 155.15\n",
       "Boston    | concrete        | 121.92\n",
       "Boston    | mixed/composite | 139\n",
       "Boston    | steel           | 240.79\n",
       "... (81 rows omitted)"
      ]
     },
     "execution_count": 64,
     "metadata": {},
     "output_type": "execute_result"
    }
   ],
   "source": [
    "skyscraper.group([\"city\", \"material\"], max).select('city', 'material', 'height max')"
   ]
  },
  {
   "cell_type": "code",
   "execution_count": 66,
   "metadata": {},
   "outputs": [
    {
     "data": {
      "text/html": [
       "<table border=\"1\" class=\"dataframe\">\n",
       "    <thead>\n",
       "        <tr>\n",
       "            <th>city</th> <th>material</th> <th>height max</th>\n",
       "        </tr>\n",
       "    </thead>\n",
       "    <tbody>\n",
       "        <tr>\n",
       "            <td>Atlanta  </td> <td>concrete       </td> <td>264.25    </td>\n",
       "        </tr>\n",
       "        <tr>\n",
       "            <td>Atlanta  </td> <td>mixed/composite</td> <td>311.8     </td>\n",
       "        </tr>\n",
       "        <tr>\n",
       "            <td>Atlanta  </td> <td>steel          </td> <td>169.47    </td>\n",
       "        </tr>\n",
       "        <tr>\n",
       "            <td>Austin   </td> <td>concrete       </td> <td>208.15    </td>\n",
       "        </tr>\n",
       "        <tr>\n",
       "            <td>Austin   </td> <td>steel          </td> <td>93.6      </td>\n",
       "        </tr>\n",
       "        <tr>\n",
       "            <td>Baltimore</td> <td>concrete       </td> <td>161.24    </td>\n",
       "        </tr>\n",
       "        <tr>\n",
       "            <td>Baltimore</td> <td>steel          </td> <td>155.15    </td>\n",
       "        </tr>\n",
       "        <tr>\n",
       "            <td>Boston   </td> <td>concrete       </td> <td>121.92    </td>\n",
       "        </tr>\n",
       "        <tr>\n",
       "            <td>Boston   </td> <td>mixed/composite</td> <td>139       </td>\n",
       "        </tr>\n",
       "        <tr>\n",
       "            <td>Boston   </td> <td>steel          </td> <td>240.79    </td>\n",
       "        </tr>\n",
       "    </tbody>\n",
       "</table>\n",
       "<p>... (81 rows omitted)</p>"
      ],
      "text/plain": [
       "city      | material        | height max\n",
       "Atlanta   | concrete        | 264.25\n",
       "Atlanta   | mixed/composite | 311.8\n",
       "Atlanta   | steel           | 169.47\n",
       "Austin    | concrete        | 208.15\n",
       "Austin    | steel           | 93.6\n",
       "Baltimore | concrete        | 161.24\n",
       "Baltimore | steel           | 155.15\n",
       "Boston    | concrete        | 121.92\n",
       "Boston    | mixed/composite | 139\n",
       "Boston    | steel           | 240.79\n",
       "... (81 rows omitted)"
      ]
     },
     "execution_count": 66,
     "metadata": {},
     "output_type": "execute_result"
    }
   ],
   "source": [
    "skyscraper.select('city', 'material', 'height').group(['city', 'material'], max)"
   ]
  },
  {
   "cell_type": "code",
   "execution_count": 68,
   "metadata": {},
   "outputs": [
    {
     "data": {
      "text/html": [
       "<table border=\"1\" class=\"dataframe\">\n",
       "    <thead>\n",
       "        <tr>\n",
       "            <th>material</th> <th>Atlanta</th> <th>Austin</th> <th>Baltimore</th> <th>Boston</th> <th>Charlotte</th> <th>Chicago</th> <th>Cincinnati</th> <th>Cleveland</th> <th>Columbus</th> <th>Dallas</th> <th>Denver</th> <th>Detroit</th> <th>Honolulu</th> <th>Houston</th> <th>Indianapolis</th> <th>Jersey City</th> <th>Kansas City</th> <th>Las Vegas</th> <th>Los Angeles</th> <th>Miami</th> <th>Miami Beach</th> <th>Milwaukee</th> <th>Minneapolis</th> <th>New York City</th> <th>Philadelphia</th> <th>Phoenix</th> <th>Pittsburgh</th> <th>Portland</th> <th>Sacramento</th> <th>Salt Lake City</th> <th>San Diego</th> <th>San Francisco</th> <th>Seattle</th> <th>St. Louis</th> <th>Sunny Isles Beach</th>\n",
       "        </tr>\n",
       "    </thead>\n",
       "    <tbody>\n",
       "        <tr>\n",
       "            <td>concrete       </td> <td>264.25 </td> <td>208.15</td> <td>161.24   </td> <td>121.92</td> <td>265.48   </td> <td>423.22 </td> <td>125       </td> <td>125      </td> <td>79.25   </td> <td>176.48</td> <td>194.75</td> <td>221.49 </td> <td>129.8   </td> <td>217.63 </td> <td>128.17      </td> <td>162.16     </td> <td>189.89     </td> <td>350.22   </td> <td>145.7      </td> <td>240.41</td> <td>170.39     </td> <td>136      </td> <td>203.58     </td> <td>425.5        </td> <td>157.89      </td> <td>124.1  </td> <td>89.3      </td> <td>155.15  </td> <td>106.98    </td> <td>114.91        </td> <td>151.49   </td> <td>196.6        </td> <td>138.69 </td> <td>100.66   </td> <td>196              </td>\n",
       "        </tr>\n",
       "        <tr>\n",
       "            <td>mixed/composite</td> <td>311.8  </td> <td>0     </td> <td>0        </td> <td>139   </td> <td>239.7    </td> <td>306.94 </td> <td>202.69    </td> <td>288.65   </td> <td>0       </td> <td>280.72</td> <td>212.75</td> <td>0      </td> <td>0       </td> <td>305.41 </td> <td>0           </td> <td>0          </td> <td>0          </td> <td>195.68   </td> <td>118.26     </td> <td>232.8 </td> <td>0          </td> <td>0        </td> <td>241.38     </td> <td>541.3        </td> <td>296.73      </td> <td>114    </td> <td>172       </td> <td>127.4   </td> <td>115.82    </td> <td>0             </td> <td>144.78   </td> <td>260          </td> <td>284.38 </td> <td>180.75   </td> <td>0                </td>\n",
       "        </tr>\n",
       "        <tr>\n",
       "            <td>steel          </td> <td>169.47 </td> <td>93.6  </td> <td>155.15   </td> <td>240.79</td> <td>179.23   </td> <td>442.14 </td> <td>175       </td> <td>215.8    </td> <td>169.3   </td> <td>270.06</td> <td>217.63</td> <td>173.26 </td> <td>130.75  </td> <td>302.37 </td> <td>213.67      </td> <td>238.05     </td> <td>146.61     </td> <td>164.6    </td> <td>310.29     </td> <td>147.52</td> <td>0          </td> <td>183.19   </td> <td>144.64     </td> <td>381          </td> <td>288.04      </td> <td>147.22 </td> <td>256.34    </td> <td>166.42  </td> <td>122.6     </td> <td>128.63        </td> <td>152.4    </td> <td>237.44       </td> <td>235.31 </td> <td>147.6    </td> <td>0                </td>\n",
       "        </tr>\n",
       "    </tbody>\n",
       "</table>"
      ],
      "text/plain": [
       "material        | Atlanta | Austin | Baltimore | Boston | Charlotte | Chicago | Cincinnati | Cleveland | Columbus | Dallas | Denver | Detroit | Honolulu | Houston | Indianapolis | Jersey City | Kansas City | Las Vegas | Los Angeles | Miami  | Miami Beach | Milwaukee | Minneapolis | New York City | Philadelphia | Phoenix | Pittsburgh | Portland | Sacramento | Salt Lake City | San Diego | San Francisco | Seattle | St. Louis | Sunny Isles Beach\n",
       "concrete        | 264.25  | 208.15 | 161.24    | 121.92 | 265.48    | 423.22  | 125        | 125       | 79.25    | 176.48 | 194.75 | 221.49  | 129.8    | 217.63  | 128.17       | 162.16      | 189.89      | 350.22    | 145.7       | 240.41 | 170.39      | 136       | 203.58      | 425.5         | 157.89       | 124.1   | 89.3       | 155.15   | 106.98     | 114.91         | 151.49    | 196.6         | 138.69  | 100.66    | 196\n",
       "mixed/composite | 311.8   | 0      | 0         | 139    | 239.7     | 306.94  | 202.69     | 288.65    | 0        | 280.72 | 212.75 | 0       | 0        | 305.41  | 0            | 0           | 0           | 195.68    | 118.26      | 232.8  | 0           | 0         | 241.38      | 541.3         | 296.73       | 114     | 172        | 127.4    | 115.82     | 0              | 144.78    | 260           | 284.38  | 180.75    | 0\n",
       "steel           | 169.47  | 93.6   | 155.15    | 240.79 | 179.23    | 442.14  | 175        | 215.8     | 169.3    | 270.06 | 217.63 | 173.26  | 130.75   | 302.37  | 213.67       | 238.05      | 146.61      | 164.6     | 310.29      | 147.52 | 0           | 183.19    | 144.64      | 381           | 288.04       | 147.22  | 256.34     | 166.42   | 122.6      | 128.63         | 152.4     | 237.44        | 235.31  | 147.6     | 0"
      ]
     },
     "execution_count": 68,
     "metadata": {},
     "output_type": "execute_result"
    }
   ],
   "source": [
    "skyscraper.pivot(\"city\", \"material\", values=\"height\", collect=max)"
   ]
  },
  {
   "cell_type": "code",
   "execution_count": 69,
   "metadata": {},
   "outputs": [
    {
     "data": {
      "text/html": [
       "<table border=\"1\" class=\"dataframe\">\n",
       "    <thead>\n",
       "        <tr>\n",
       "            <th>city</th> <th>concrete</th> <th>mixed/composite</th> <th>steel</th>\n",
       "        </tr>\n",
       "    </thead>\n",
       "    <tbody>\n",
       "        <tr>\n",
       "            <td>Atlanta   </td> <td>264.25  </td> <td>311.8          </td> <td>169.47</td>\n",
       "        </tr>\n",
       "        <tr>\n",
       "            <td>Austin    </td> <td>208.15  </td> <td>0              </td> <td>93.6  </td>\n",
       "        </tr>\n",
       "        <tr>\n",
       "            <td>Baltimore </td> <td>161.24  </td> <td>0              </td> <td>155.15</td>\n",
       "        </tr>\n",
       "        <tr>\n",
       "            <td>Boston    </td> <td>121.92  </td> <td>139            </td> <td>240.79</td>\n",
       "        </tr>\n",
       "        <tr>\n",
       "            <td>Charlotte </td> <td>265.48  </td> <td>239.7          </td> <td>179.23</td>\n",
       "        </tr>\n",
       "        <tr>\n",
       "            <td>Chicago   </td> <td>423.22  </td> <td>306.94         </td> <td>442.14</td>\n",
       "        </tr>\n",
       "        <tr>\n",
       "            <td>Cincinnati</td> <td>125     </td> <td>202.69         </td> <td>175   </td>\n",
       "        </tr>\n",
       "        <tr>\n",
       "            <td>Cleveland </td> <td>125     </td> <td>288.65         </td> <td>215.8 </td>\n",
       "        </tr>\n",
       "        <tr>\n",
       "            <td>Columbus  </td> <td>79.25   </td> <td>0              </td> <td>169.3 </td>\n",
       "        </tr>\n",
       "        <tr>\n",
       "            <td>Dallas    </td> <td>176.48  </td> <td>280.72         </td> <td>270.06</td>\n",
       "        </tr>\n",
       "    </tbody>\n",
       "</table>\n",
       "<p>... (25 rows omitted)</p>"
      ],
      "text/plain": [
       "city       | concrete | mixed/composite | steel\n",
       "Atlanta    | 264.25   | 311.8           | 169.47\n",
       "Austin     | 208.15   | 0               | 93.6\n",
       "Baltimore  | 161.24   | 0               | 155.15\n",
       "Boston     | 121.92   | 139             | 240.79\n",
       "Charlotte  | 265.48   | 239.7           | 179.23\n",
       "Chicago    | 423.22   | 306.94          | 442.14\n",
       "Cincinnati | 125      | 202.69          | 175\n",
       "Cleveland  | 125      | 288.65          | 215.8\n",
       "Columbus   | 79.25    | 0               | 169.3\n",
       "Dallas     | 176.48   | 280.72          | 270.06\n",
       "... (25 rows omitted)"
      ]
     },
     "execution_count": 69,
     "metadata": {},
     "output_type": "execute_result"
    }
   ],
   "source": [
    "skyscraper.pivot(\"material\", \"city\", values=\"height\", collect=max)"
   ]
  },
  {
   "cell_type": "code",
   "execution_count": null,
   "metadata": {},
   "outputs": [],
   "source": []
  },
  {
   "cell_type": "code",
   "execution_count": 82,
   "metadata": {},
   "outputs": [
    {
     "data": {
      "text/html": [
       "<table border=\"1\" class=\"dataframe\">\n",
       "    <thead>\n",
       "        <tr>\n",
       "            <th>material</th> <th>city</th> <th>name min</th> <th>height min</th> <th>completed min</th>\n",
       "        </tr>\n",
       "    </thead>\n",
       "    <tbody>\n",
       "        <tr>\n",
       "            <td>concrete</td> <td>Atlanta   </td> <td>1010 Peachtree        </td> <td>80        </td> <td>1976         </td>\n",
       "        </tr>\n",
       "        <tr>\n",
       "            <td>concrete</td> <td>Austin    </td> <td>300 West 6th Street   </td> <td>80.16     </td> <td>1984         </td>\n",
       "        </tr>\n",
       "        <tr>\n",
       "            <td>concrete</td> <td>Baltimore </td> <td>414 Water Street      </td> <td>70.5      </td> <td>1967         </td>\n",
       "        </tr>\n",
       "        <tr>\n",
       "            <td>concrete</td> <td>Boston    </td> <td>177 Huntington        </td> <td>68.58     </td> <td>1971         </td>\n",
       "        </tr>\n",
       "        <tr>\n",
       "            <td>concrete</td> <td>Charlotte </td> <td>Avenue                </td> <td>99.06     </td> <td>1992         </td>\n",
       "        </tr>\n",
       "        <tr>\n",
       "            <td>concrete</td> <td>Chicago   </td> <td>10 East Delaware      </td> <td>44.5      </td> <td>1929         </td>\n",
       "        </tr>\n",
       "        <tr>\n",
       "            <td>concrete</td> <td>Cincinnati</td> <td>36 East Seventh Street</td> <td>86.5      </td> <td>1954         </td>\n",
       "        </tr>\n",
       "        <tr>\n",
       "            <td>concrete</td> <td>Cleveland </td> <td>Eaton Center          </td> <td>108.51    </td> <td>1980         </td>\n",
       "        </tr>\n",
       "        <tr>\n",
       "            <td>concrete</td> <td>Columbus  </td> <td>Key Bank Building     </td> <td>75.8      </td> <td>1963         </td>\n",
       "        </tr>\n",
       "        <tr>\n",
       "            <td>concrete</td> <td>Dallas    </td> <td>Frost Tower           </td> <td>53.64     </td> <td>1978         </td>\n",
       "        </tr>\n",
       "    </tbody>\n",
       "</table>\n",
       "<p>... (81 rows omitted)</p>"
      ],
      "text/plain": [
       "material | city       | name min               | height min | completed min\n",
       "concrete | Atlanta    | 1010 Peachtree         | 80         | 1976\n",
       "concrete | Austin     | 300 West 6th Street    | 80.16      | 1984\n",
       "concrete | Baltimore  | 414 Water Street       | 70.5       | 1967\n",
       "concrete | Boston     | 177 Huntington         | 68.58      | 1971\n",
       "concrete | Charlotte  | Avenue                 | 99.06      | 1992\n",
       "concrete | Chicago    | 10 East Delaware       | 44.5       | 1929\n",
       "concrete | Cincinnati | 36 East Seventh Street | 86.5       | 1954\n",
       "concrete | Cleveland  | Eaton Center           | 108.51     | 1980\n",
       "concrete | Columbus   | Key Bank Building      | 75.8       | 1963\n",
       "concrete | Dallas     | Frost Tower            | 53.64      | 1978\n",
       "... (81 rows omitted)"
      ]
     },
     "execution_count": 82,
     "metadata": {},
     "output_type": "execute_result"
    }
   ],
   "source": [
    "skyscraper.group(['material', 'city'], collect=min)"
   ]
  },
  {
   "cell_type": "code",
   "execution_count": 85,
   "metadata": {},
   "outputs": [
    {
     "data": {
      "text/html": [
       "<table border=\"1\" class=\"dataframe\">\n",
       "    <thead>\n",
       "        <tr>\n",
       "            <th>city</th> <th>concrete</th> <th>mixed/composite</th> <th>steel</th>\n",
       "        </tr>\n",
       "    </thead>\n",
       "    <tbody>\n",
       "        <tr>\n",
       "            <td>Atlanta  </td> <td>1976    </td> <td>1987           </td> <td>1897 </td>\n",
       "        </tr>\n",
       "        <tr>\n",
       "            <td>Austin   </td> <td>1984    </td> <td>0              </td> <td>1937 </td>\n",
       "        </tr>\n",
       "        <tr>\n",
       "            <td>Baltimore</td> <td>1967    </td> <td>0              </td> <td>1911 </td>\n",
       "        </tr>\n",
       "    </tbody>\n",
       "</table>\n",
       "<p>... (32 rows omitted)</p>"
      ],
      "text/plain": [
       "<IPython.core.display.HTML object>"
      ]
     },
     "metadata": {},
     "output_type": "display_data"
    }
   ],
   "source": [
    "pivoted = skyscraper.pivot('material', 'city', values='completed', collect=min)\n",
    "pivoted.show(3)"
   ]
  },
  {
   "cell_type": "code",
   "execution_count": 90,
   "metadata": {},
   "outputs": [
    {
     "data": {
      "text/html": [
       "<table border=\"1\" class=\"dataframe\">\n",
       "    <thead>\n",
       "        <tr>\n",
       "            <th>city</th> <th>concrete</th> <th>mixed/composite</th> <th>steel</th> <th>Age diff concrete & steel</th>\n",
       "        </tr>\n",
       "    </thead>\n",
       "    <tbody>\n",
       "        <tr>\n",
       "            <td>Atlanta   </td> <td>1976    </td> <td>1987           </td> <td>1897 </td> <td>79                       </td>\n",
       "        </tr>\n",
       "        <tr>\n",
       "            <td>Austin    </td> <td>1984    </td> <td>0              </td> <td>1937 </td> <td>47                       </td>\n",
       "        </tr>\n",
       "        <tr>\n",
       "            <td>Baltimore </td> <td>1967    </td> <td>0              </td> <td>1911 </td> <td>56                       </td>\n",
       "        </tr>\n",
       "        <tr>\n",
       "            <td>Boston    </td> <td>1971    </td> <td>1992           </td> <td>1915 </td> <td>56                       </td>\n",
       "        </tr>\n",
       "        <tr>\n",
       "            <td>Charlotte </td> <td>1992    </td> <td>2002           </td> <td>1924 </td> <td>68                       </td>\n",
       "        </tr>\n",
       "        <tr>\n",
       "            <td>Chicago   </td> <td>1929    </td> <td>1926           </td> <td>1888 </td> <td>41                       </td>\n",
       "        </tr>\n",
       "        <tr>\n",
       "            <td>Cincinnati</td> <td>1954    </td> <td>2011           </td> <td>1913 </td> <td>41                       </td>\n",
       "        </tr>\n",
       "        <tr>\n",
       "            <td>Cleveland </td> <td>1980    </td> <td>1958           </td> <td>1924 </td> <td>56                       </td>\n",
       "        </tr>\n",
       "        <tr>\n",
       "            <td>Columbus  </td> <td>1963    </td> <td>0              </td> <td>1927 </td> <td>36                       </td>\n",
       "        </tr>\n",
       "        <tr>\n",
       "            <td>Dallas    </td> <td>1978    </td> <td>1985           </td> <td>1928 </td> <td>50                       </td>\n",
       "        </tr>\n",
       "    </tbody>\n",
       "</table>\n",
       "<p>... (25 rows omitted)</p>"
      ],
      "text/plain": [
       "city       | concrete | mixed/composite | steel | Age diff concrete & steel\n",
       "Atlanta    | 1976     | 1987            | 1897  | 79\n",
       "Austin     | 1984     | 0               | 1937  | 47\n",
       "Baltimore  | 1967     | 0               | 1911  | 56\n",
       "Boston     | 1971     | 1992            | 1915  | 56\n",
       "Charlotte  | 1992     | 2002            | 1924  | 68\n",
       "Chicago    | 1929     | 1926            | 1888  | 41\n",
       "Cincinnati | 1954     | 2011            | 1913  | 41\n",
       "Cleveland  | 1980     | 1958            | 1924  | 56\n",
       "Columbus   | 1963     | 0               | 1927  | 36\n",
       "Dallas     | 1978     | 1985            | 1928  | 50\n",
       "... (25 rows omitted)"
      ]
     },
     "execution_count": 90,
     "metadata": {},
     "output_type": "execute_result"
    }
   ],
   "source": [
    "pivoted.with_column('Age diff concrete & steel', abs(pivoted.column('concrete') - pivoted.column('steel')))"
   ]
  },
  {
   "cell_type": "markdown",
   "metadata": {},
   "source": [
    "# Lecture 9b #"
   ]
  },
  {
   "cell_type": "markdown",
   "metadata": {},
   "source": [
    "## Intro to Join ##"
   ]
  },
  {
   "cell_type": "code",
   "execution_count": 91,
   "metadata": {},
   "outputs": [
    {
     "data": {
      "text/html": [
       "<table border=\"1\" class=\"dataframe\">\n",
       "    <thead>\n",
       "        <tr>\n",
       "            <th>Drink</th> <th>Cafe</th> <th>Price</th>\n",
       "        </tr>\n",
       "    </thead>\n",
       "    <tbody>\n",
       "        <tr>\n",
       "            <td>Milk Tea</td> <td>Asha  </td> <td>5.5  </td>\n",
       "        </tr>\n",
       "        <tr>\n",
       "            <td>Espresso</td> <td>Strada</td> <td>1.75 </td>\n",
       "        </tr>\n",
       "        <tr>\n",
       "            <td>Latte   </td> <td>Strada</td> <td>3.25 </td>\n",
       "        </tr>\n",
       "        <tr>\n",
       "            <td>Espresso</td> <td>FSM   </td> <td>2    </td>\n",
       "        </tr>\n",
       "    </tbody>\n",
       "</table>"
      ],
      "text/plain": [
       "Drink    | Cafe   | Price\n",
       "Milk Tea | Asha   | 5.5\n",
       "Espresso | Strada | 1.75\n",
       "Latte    | Strada | 3.25\n",
       "Espresso | FSM    | 2"
      ]
     },
     "execution_count": 91,
     "metadata": {},
     "output_type": "execute_result"
    }
   ],
   "source": [
    "drinks = Table(['Drink', 'Cafe', 'Price'])\n",
    "drinks = drinks.with_rows([\n",
    "    ['Milk Tea', 'Asha', 5.5],\n",
    "    ['Espresso', 'Strada',  1.75],\n",
    "    ['Latte',    'Strada',  3.25],\n",
    "    ['Espresso', \"FSM\",   2]\n",
    "])\n",
    "drinks"
   ]
  },
  {
   "cell_type": "code",
   "execution_count": 92,
   "metadata": {},
   "outputs": [
    {
     "data": {
      "text/html": [
       "<table border=\"1\" class=\"dataframe\">\n",
       "    <thead>\n",
       "        <tr>\n",
       "            <th>Coupon % off</th> <th>Location</th>\n",
       "        </tr>\n",
       "    </thead>\n",
       "    <tbody>\n",
       "        <tr>\n",
       "            <td>10          </td> <td>Asha    </td>\n",
       "        </tr>\n",
       "        <tr>\n",
       "            <td>25          </td> <td>Strada  </td>\n",
       "        </tr>\n",
       "        <tr>\n",
       "            <td>5           </td> <td>Asha    </td>\n",
       "        </tr>\n",
       "    </tbody>\n",
       "</table>"
      ],
      "text/plain": [
       "Coupon % off | Location\n",
       "10           | Asha\n",
       "25           | Strada\n",
       "5            | Asha"
      ]
     },
     "execution_count": 92,
     "metadata": {},
     "output_type": "execute_result"
    }
   ],
   "source": [
    "discounts = Table().with_columns(\n",
    "    'Coupon % off', make_array(10, 25, 5),\n",
    "    'Location', make_array('Asha', 'Strada', 'Asha')\n",
    ")\n",
    "discounts"
   ]
  },
  {
   "cell_type": "code",
   "execution_count": 93,
   "metadata": {},
   "outputs": [
    {
     "data": {
      "text/html": [
       "<table border=\"1\" class=\"dataframe\">\n",
       "    <thead>\n",
       "        <tr>\n",
       "            <th>Cafe</th> <th>Drink</th> <th>Price</th> <th>Coupon % off</th>\n",
       "        </tr>\n",
       "    </thead>\n",
       "    <tbody>\n",
       "        <tr>\n",
       "            <td>Asha  </td> <td>Milk Tea</td> <td>5.5  </td> <td>10          </td>\n",
       "        </tr>\n",
       "        <tr>\n",
       "            <td>Asha  </td> <td>Milk Tea</td> <td>5.5  </td> <td>5           </td>\n",
       "        </tr>\n",
       "        <tr>\n",
       "            <td>Strada</td> <td>Espresso</td> <td>1.75 </td> <td>25          </td>\n",
       "        </tr>\n",
       "        <tr>\n",
       "            <td>Strada</td> <td>Latte   </td> <td>3.25 </td> <td>25          </td>\n",
       "        </tr>\n",
       "    </tbody>\n",
       "</table>"
      ],
      "text/plain": [
       "Cafe   | Drink    | Price | Coupon % off\n",
       "Asha   | Milk Tea | 5.5   | 10\n",
       "Asha   | Milk Tea | 5.5   | 5\n",
       "Strada | Espresso | 1.75  | 25\n",
       "Strada | Latte    | 3.25  | 25"
      ]
     },
     "execution_count": 93,
     "metadata": {},
     "output_type": "execute_result"
    }
   ],
   "source": [
    "# Combining tables\n",
    "combined = drinks.join(\"Cafe\", discounts, \"Location\")\n",
    "combined"
   ]
  },
  {
   "cell_type": "code",
   "execution_count": 99,
   "metadata": {},
   "outputs": [
    {
     "data": {
      "text/html": [
       "<table border=\"1\" class=\"dataframe\">\n",
       "    <thead>\n",
       "        <tr>\n",
       "            <th>Cafe</th> <th>Drink</th> <th>Price</th> <th>Coupon % off</th> <th>Discounted Price</th>\n",
       "        </tr>\n",
       "    </thead>\n",
       "    <tbody>\n",
       "        <tr>\n",
       "            <td>Asha  </td> <td>Milk Tea</td> <td>5.5  </td> <td>10          </td> <td>4.95            </td>\n",
       "        </tr>\n",
       "        <tr>\n",
       "            <td>Asha  </td> <td>Milk Tea</td> <td>5.5  </td> <td>5           </td> <td>5.225           </td>\n",
       "        </tr>\n",
       "        <tr>\n",
       "            <td>Strada</td> <td>Espresso</td> <td>1.75 </td> <td>25          </td> <td>1.3125          </td>\n",
       "        </tr>\n",
       "        <tr>\n",
       "            <td>Strada</td> <td>Latte   </td> <td>3.25 </td> <td>25          </td> <td>2.4375          </td>\n",
       "        </tr>\n",
       "    </tbody>\n",
       "</table>"
      ],
      "text/plain": [
       "Cafe   | Drink    | Price | Coupon % off | Discounted Price\n",
       "Asha   | Milk Tea | 5.5   | 10           | 4.95\n",
       "Asha   | Milk Tea | 5.5   | 5            | 5.225\n",
       "Strada | Espresso | 1.75  | 25           | 1.3125\n",
       "Strada | Latte    | 3.25  | 25           | 2.4375"
      ]
     },
     "execution_count": 99,
     "metadata": {},
     "output_type": "execute_result"
    }
   ],
   "source": [
    "# Calculating discounted prices\n",
    "discount_fraction = 1-combined.column(\"Coupon % off\")/100\n",
    "discounted_price = combined.column(\"Price\") * discount_fraction\n",
    "combined.with_column(\"Discounted Price\", discounted_price)"
   ]
  },
  {
   "cell_type": "markdown",
   "metadata": {},
   "source": [
    "## The Result is Sorted ##"
   ]
  },
  {
   "cell_type": "code",
   "execution_count": 100,
   "metadata": {},
   "outputs": [
    {
     "data": {
      "text/html": [
       "<table border=\"1\" class=\"dataframe\">\n",
       "    <thead>\n",
       "        <tr>\n",
       "            <th>Drink</th> <th>Cafe</th> <th>Price</th>\n",
       "        </tr>\n",
       "    </thead>\n",
       "    <tbody>\n",
       "        <tr>\n",
       "            <td>Latte   </td> <td>Strada</td> <td>3.25 </td>\n",
       "        </tr>\n",
       "        <tr>\n",
       "            <td>Espresso</td> <td>Strada</td> <td>1.75 </td>\n",
       "        </tr>\n",
       "        <tr>\n",
       "            <td>Milk Tea</td> <td>Asha  </td> <td>5.5  </td>\n",
       "        </tr>\n",
       "        <tr>\n",
       "            <td>Espresso</td> <td>FSM   </td> <td>2    </td>\n",
       "        </tr>\n",
       "    </tbody>\n",
       "</table>"
      ],
      "text/plain": [
       "Drink    | Cafe   | Price\n",
       "Latte    | Strada | 3.25\n",
       "Espresso | Strada | 1.75\n",
       "Milk Tea | Asha   | 5.5\n",
       "Espresso | FSM    | 2"
      ]
     },
     "execution_count": 100,
     "metadata": {},
     "output_type": "execute_result"
    }
   ],
   "source": [
    "drinks2 = Table(['Drink', 'Cafe', 'Price'])\n",
    "drinks2 = drinks2.with_rows([\n",
    "    ['Latte',    'Strada',  3.25],\n",
    "    ['Espresso', 'Strada',  1.75],\n",
    "    ['Milk Tea', 'Asha', 5.5],\n",
    "    ['Espresso', \"FSM\",   2]\n",
    "])\n",
    "drinks2"
   ]
  },
  {
   "cell_type": "code",
   "execution_count": 101,
   "metadata": {},
   "outputs": [
    {
     "data": {
      "text/html": [
       "<table border=\"1\" class=\"dataframe\">\n",
       "    <thead>\n",
       "        <tr>\n",
       "            <th>Coupon % off</th> <th>Location</th>\n",
       "        </tr>\n",
       "    </thead>\n",
       "    <tbody>\n",
       "        <tr>\n",
       "            <td>10          </td> <td>Asha    </td>\n",
       "        </tr>\n",
       "        <tr>\n",
       "            <td>25          </td> <td>Strada  </td>\n",
       "        </tr>\n",
       "        <tr>\n",
       "            <td>5           </td> <td>Asha    </td>\n",
       "        </tr>\n",
       "    </tbody>\n",
       "</table>"
      ],
      "text/plain": [
       "Coupon % off | Location\n",
       "10           | Asha\n",
       "25           | Strada\n",
       "5            | Asha"
      ]
     },
     "execution_count": 101,
     "metadata": {},
     "output_type": "execute_result"
    }
   ],
   "source": [
    "discounts"
   ]
  },
  {
   "cell_type": "code",
   "execution_count": 102,
   "metadata": {},
   "outputs": [
    {
     "data": {
      "text/html": [
       "<table border=\"1\" class=\"dataframe\">\n",
       "    <thead>\n",
       "        <tr>\n",
       "            <th>Cafe</th> <th>Drink</th> <th>Price</th> <th>Coupon % off</th>\n",
       "        </tr>\n",
       "    </thead>\n",
       "    <tbody>\n",
       "        <tr>\n",
       "            <td>Asha  </td> <td>Milk Tea</td> <td>5.5  </td> <td>10          </td>\n",
       "        </tr>\n",
       "        <tr>\n",
       "            <td>Asha  </td> <td>Milk Tea</td> <td>5.5  </td> <td>5           </td>\n",
       "        </tr>\n",
       "        <tr>\n",
       "            <td>Strada</td> <td>Latte   </td> <td>3.25 </td> <td>25          </td>\n",
       "        </tr>\n",
       "        <tr>\n",
       "            <td>Strada</td> <td>Espresso</td> <td>1.75 </td> <td>25          </td>\n",
       "        </tr>\n",
       "    </tbody>\n",
       "</table>"
      ],
      "text/plain": [
       "Cafe   | Drink    | Price | Coupon % off\n",
       "Asha   | Milk Tea | 5.5   | 10\n",
       "Asha   | Milk Tea | 5.5   | 5\n",
       "Strada | Latte    | 3.25  | 25\n",
       "Strada | Espresso | 1.75  | 25"
      ]
     },
     "execution_count": 102,
     "metadata": {},
     "output_type": "execute_result"
    }
   ],
   "source": [
    "drinks2.join('Cafe', discounts, 'Location')"
   ]
  },
  {
   "cell_type": "markdown",
   "metadata": {},
   "source": [
    "## Notes on Column Names ##"
   ]
  },
  {
   "cell_type": "code",
   "execution_count": 103,
   "metadata": {},
   "outputs": [
    {
     "data": {
      "text/html": [
       "<table border=\"1\" class=\"dataframe\">\n",
       "    <thead>\n",
       "        <tr>\n",
       "            <th>Drink</th> <th>Cafe</th> <th>Price</th>\n",
       "        </tr>\n",
       "    </thead>\n",
       "    <tbody>\n",
       "        <tr>\n",
       "            <td>Milk Tea</td> <td>Asha  </td> <td>5.5  </td>\n",
       "        </tr>\n",
       "        <tr>\n",
       "            <td>Espresso</td> <td>Strada</td> <td>1.75 </td>\n",
       "        </tr>\n",
       "        <tr>\n",
       "            <td>Latte   </td> <td>Strada</td> <td>3.25 </td>\n",
       "        </tr>\n",
       "        <tr>\n",
       "            <td>Espresso</td> <td>FSM   </td> <td>2    </td>\n",
       "        </tr>\n",
       "    </tbody>\n",
       "</table>"
      ],
      "text/plain": [
       "Drink    | Cafe   | Price\n",
       "Milk Tea | Asha   | 5.5\n",
       "Espresso | Strada | 1.75\n",
       "Latte    | Strada | 3.25\n",
       "Espresso | FSM    | 2"
      ]
     },
     "execution_count": 103,
     "metadata": {},
     "output_type": "execute_result"
    }
   ],
   "source": [
    "drinks"
   ]
  },
  {
   "cell_type": "code",
   "execution_count": 104,
   "metadata": {},
   "outputs": [
    {
     "data": {
      "text/html": [
       "<table border=\"1\" class=\"dataframe\">\n",
       "    <thead>\n",
       "        <tr>\n",
       "            <th>Drink</th> <th>Cafe</th>\n",
       "        </tr>\n",
       "    </thead>\n",
       "    <tbody>\n",
       "        <tr>\n",
       "            <td>Tea   </td> <td>Asha  </td>\n",
       "        </tr>\n",
       "        <tr>\n",
       "            <td>Coffee</td> <td>FSM   </td>\n",
       "        </tr>\n",
       "        <tr>\n",
       "            <td>Coffee</td> <td>Strada</td>\n",
       "        </tr>\n",
       "    </tbody>\n",
       "</table>"
      ],
      "text/plain": [
       "Drink  | Cafe\n",
       "Tea    | Asha\n",
       "Coffee | FSM\n",
       "Coffee | Strada"
      ]
     },
     "execution_count": 104,
     "metadata": {},
     "output_type": "execute_result"
    }
   ],
   "source": [
    "drinks_new = Table().with_columns(\n",
    "    'Drink', make_array('Tea', 'Coffee', 'Coffee'),\n",
    "    'Cafe', make_array('Asha', 'FSM', 'Strada')\n",
    ")\n",
    "drinks_new"
   ]
  },
  {
   "cell_type": "code",
   "execution_count": 106,
   "metadata": {},
   "outputs": [
    {
     "data": {
      "text/html": [
       "<table border=\"1\" class=\"dataframe\">\n",
       "    <thead>\n",
       "        <tr>\n",
       "            <th>Cafe</th> <th>Drink</th> <th>Price</th> <th>Drink_2</th>\n",
       "        </tr>\n",
       "    </thead>\n",
       "    <tbody>\n",
       "        <tr>\n",
       "            <td>Asha  </td> <td>Milk Tea</td> <td>5.5  </td> <td>Tea    </td>\n",
       "        </tr>\n",
       "        <tr>\n",
       "            <td>FSM   </td> <td>Espresso</td> <td>2    </td> <td>Coffee </td>\n",
       "        </tr>\n",
       "        <tr>\n",
       "            <td>Strada</td> <td>Espresso</td> <td>1.75 </td> <td>Coffee </td>\n",
       "        </tr>\n",
       "        <tr>\n",
       "            <td>Strada</td> <td>Latte   </td> <td>3.25 </td> <td>Coffee </td>\n",
       "        </tr>\n",
       "    </tbody>\n",
       "</table>"
      ],
      "text/plain": [
       "Cafe   | Drink    | Price | Drink_2\n",
       "Asha   | Milk Tea | 5.5   | Tea\n",
       "FSM    | Espresso | 2     | Coffee\n",
       "Strada | Espresso | 1.75  | Coffee\n",
       "Strada | Latte    | 3.25  | Coffee"
      ]
     },
     "execution_count": 106,
     "metadata": {},
     "output_type": "execute_result"
    }
   ],
   "source": [
    "# 'Drink' column of drinks_new is relabeled Drink_2\n",
    "\n",
    "drinks.join(\"Cafe\", drinks_new, \"Cafe\")"
   ]
  },
  {
   "cell_type": "code",
   "execution_count": 107,
   "metadata": {},
   "outputs": [
    {
     "data": {
      "text/html": [
       "<table border=\"1\" class=\"dataframe\">\n",
       "    <thead>\n",
       "        <tr>\n",
       "            <th>Cafe</th> <th>Drink</th> <th>Price</th> <th>Drink_2</th>\n",
       "        </tr>\n",
       "    </thead>\n",
       "    <tbody>\n",
       "        <tr>\n",
       "            <td>Asha  </td> <td>Milk Tea</td> <td>5.5  </td> <td>Tea    </td>\n",
       "        </tr>\n",
       "        <tr>\n",
       "            <td>FSM   </td> <td>Espresso</td> <td>2    </td> <td>Coffee </td>\n",
       "        </tr>\n",
       "        <tr>\n",
       "            <td>Strada</td> <td>Espresso</td> <td>1.75 </td> <td>Coffee </td>\n",
       "        </tr>\n",
       "        <tr>\n",
       "            <td>Strada</td> <td>Latte   </td> <td>3.25 </td> <td>Coffee </td>\n",
       "        </tr>\n",
       "    </tbody>\n",
       "</table>"
      ],
      "text/plain": [
       "Cafe   | Drink    | Price | Drink_2\n",
       "Asha   | Milk Tea | 5.5   | Tea\n",
       "FSM    | Espresso | 2     | Coffee\n",
       "Strada | Espresso | 1.75  | Coffee\n",
       "Strada | Latte    | 3.25  | Coffee"
      ]
     },
     "execution_count": 107,
     "metadata": {},
     "output_type": "execute_result"
    }
   ],
   "source": [
    "# If you don't specify a column label in the second table,\n",
    "# join looks for a column with the same label \n",
    "# as specified in the first argument\n",
    "\n",
    "drinks.join(\"Cafe\", drinks_new)"
   ]
  },
  {
   "cell_type": "markdown",
   "metadata": {},
   "source": [
    "## Another Join Example ##"
   ]
  },
  {
   "cell_type": "code",
   "execution_count": 108,
   "metadata": {},
   "outputs": [
    {
     "data": {
      "text/html": [
       "<table border=\"1\" class=\"dataframe\">\n",
       "    <thead>\n",
       "        <tr>\n",
       "            <th>SEX</th> <th>AGE</th> <th>POPESTIMATE2019</th>\n",
       "        </tr>\n",
       "    </thead>\n",
       "    <tbody>\n",
       "        <tr>\n",
       "            <td>0   </td> <td>0   </td> <td>3783052        </td>\n",
       "        </tr>\n",
       "        <tr>\n",
       "            <td>0   </td> <td>1   </td> <td>3829599        </td>\n",
       "        </tr>\n",
       "        <tr>\n",
       "            <td>0   </td> <td>2   </td> <td>3922044        </td>\n",
       "        </tr>\n",
       "        <tr>\n",
       "            <td>0   </td> <td>3   </td> <td>3998665        </td>\n",
       "        </tr>\n",
       "        <tr>\n",
       "            <td>0   </td> <td>4   </td> <td>4043323        </td>\n",
       "        </tr>\n",
       "        <tr>\n",
       "            <td>0   </td> <td>5   </td> <td>4028281        </td>\n",
       "        </tr>\n",
       "        <tr>\n",
       "            <td>0   </td> <td>6   </td> <td>4017227        </td>\n",
       "        </tr>\n",
       "        <tr>\n",
       "            <td>0   </td> <td>7   </td> <td>4022319        </td>\n",
       "        </tr>\n",
       "        <tr>\n",
       "            <td>0   </td> <td>8   </td> <td>4066194        </td>\n",
       "        </tr>\n",
       "        <tr>\n",
       "            <td>0   </td> <td>9   </td> <td>4061874        </td>\n",
       "        </tr>\n",
       "    </tbody>\n",
       "</table>\n",
       "<p>... (296 rows omitted)</p>"
      ],
      "text/plain": [
       "SEX  | AGE  | POPESTIMATE2019\n",
       "0    | 0    | 3783052\n",
       "0    | 1    | 3829599\n",
       "0    | 2    | 3922044\n",
       "0    | 3    | 3998665\n",
       "0    | 4    | 4043323\n",
       "0    | 5    | 4028281\n",
       "0    | 6    | 4017227\n",
       "0    | 7    | 4022319\n",
       "0    | 8    | 4066194\n",
       "0    | 9    | 4061874\n",
       "... (296 rows omitted)"
      ]
     },
     "execution_count": 108,
     "metadata": {},
     "output_type": "execute_result"
    }
   ],
   "source": [
    "full = Table.read_table('nc-est2019-agesex-res.csv')\n",
    "census = full.select('SEX', 'AGE', 'POPESTIMATE2019')\n",
    "census"
   ]
  },
  {
   "cell_type": "code",
   "execution_count": 109,
   "metadata": {},
   "outputs": [
    {
     "data": {
      "text/html": [
       "<table border=\"1\" class=\"dataframe\">\n",
       "    <thead>\n",
       "        <tr>\n",
       "            <th>SEX CODE</th> <th>CODE DEFINITION</th>\n",
       "        </tr>\n",
       "    </thead>\n",
       "    <tbody>\n",
       "        <tr>\n",
       "            <td>0       </td> <td>All            </td>\n",
       "        </tr>\n",
       "        <tr>\n",
       "            <td>1       </td> <td>Selected Male  </td>\n",
       "        </tr>\n",
       "        <tr>\n",
       "            <td>2       </td> <td>Selected Female</td>\n",
       "        </tr>\n",
       "    </tbody>\n",
       "</table>"
      ],
      "text/plain": [
       "SEX CODE | CODE DEFINITION\n",
       "0        | All\n",
       "1        | Selected Male\n",
       "2        | Selected Female"
      ]
     },
     "execution_count": 109,
     "metadata": {},
     "output_type": "execute_result"
    }
   ],
   "source": [
    "sex_codes = Table().with_columns(\n",
    "    'SEX CODE', make_array(0, 1, 2),\n",
    "    'CODE DEFINITION', make_array('All', 'Selected Male', 'Selected Female')\n",
    ")\n",
    "sex_codes"
   ]
  },
  {
   "cell_type": "code",
   "execution_count": 110,
   "metadata": {},
   "outputs": [
    {
     "data": {
      "text/html": [
       "<table border=\"1\" class=\"dataframe\">\n",
       "    <thead>\n",
       "        <tr>\n",
       "            <th>SEX CODE</th> <th>CODE DEFINITION</th> <th>AGE</th> <th>POPESTIMATE2019</th>\n",
       "        </tr>\n",
       "    </thead>\n",
       "    <tbody>\n",
       "        <tr>\n",
       "            <td>0       </td> <td>All            </td> <td>0   </td> <td>3783052        </td>\n",
       "        </tr>\n",
       "        <tr>\n",
       "            <td>0       </td> <td>All            </td> <td>1   </td> <td>3829599        </td>\n",
       "        </tr>\n",
       "        <tr>\n",
       "            <td>0       </td> <td>All            </td> <td>2   </td> <td>3922044        </td>\n",
       "        </tr>\n",
       "        <tr>\n",
       "            <td>0       </td> <td>All            </td> <td>3   </td> <td>3998665        </td>\n",
       "        </tr>\n",
       "        <tr>\n",
       "            <td>0       </td> <td>All            </td> <td>4   </td> <td>4043323        </td>\n",
       "        </tr>\n",
       "        <tr>\n",
       "            <td>0       </td> <td>All            </td> <td>5   </td> <td>4028281        </td>\n",
       "        </tr>\n",
       "        <tr>\n",
       "            <td>0       </td> <td>All            </td> <td>6   </td> <td>4017227        </td>\n",
       "        </tr>\n",
       "        <tr>\n",
       "            <td>0       </td> <td>All            </td> <td>7   </td> <td>4022319        </td>\n",
       "        </tr>\n",
       "        <tr>\n",
       "            <td>0       </td> <td>All            </td> <td>8   </td> <td>4066194        </td>\n",
       "        </tr>\n",
       "        <tr>\n",
       "            <td>0       </td> <td>All            </td> <td>9   </td> <td>4061874        </td>\n",
       "        </tr>\n",
       "        <tr>\n",
       "            <td>0       </td> <td>All            </td> <td>10  </td> <td>4060940        </td>\n",
       "        </tr>\n",
       "        <tr>\n",
       "            <td>0       </td> <td>All            </td> <td>11  </td> <td>4189261        </td>\n",
       "        </tr>\n",
       "        <tr>\n",
       "            <td>0       </td> <td>All            </td> <td>12  </td> <td>4208387        </td>\n",
       "        </tr>\n",
       "        <tr>\n",
       "            <td>0       </td> <td>All            </td> <td>13  </td> <td>4175221        </td>\n",
       "        </tr>\n",
       "        <tr>\n",
       "            <td>0       </td> <td>All            </td> <td>14  </td> <td>4164459        </td>\n",
       "        </tr>\n",
       "        <tr>\n",
       "            <td>0       </td> <td>All            </td> <td>15  </td> <td>4175459        </td>\n",
       "        </tr>\n",
       "        <tr>\n",
       "            <td>0       </td> <td>All            </td> <td>16  </td> <td>4150420        </td>\n",
       "        </tr>\n",
       "        <tr>\n",
       "            <td>0       </td> <td>All            </td> <td>17  </td> <td>4142425        </td>\n",
       "        </tr>\n",
       "        <tr>\n",
       "            <td>0       </td> <td>All            </td> <td>18  </td> <td>4255827        </td>\n",
       "        </tr>\n",
       "        <tr>\n",
       "            <td>0       </td> <td>All            </td> <td>19  </td> <td>4330439        </td>\n",
       "        </tr>\n",
       "        <tr>\n",
       "            <td>0       </td> <td>All            </td> <td>20  </td> <td>4269683        </td>\n",
       "        </tr>\n",
       "        <tr>\n",
       "            <td>0       </td> <td>All            </td> <td>21  </td> <td>4278323        </td>\n",
       "        </tr>\n",
       "        <tr>\n",
       "            <td>0       </td> <td>All            </td> <td>22  </td> <td>4298772        </td>\n",
       "        </tr>\n",
       "        <tr>\n",
       "            <td>0       </td> <td>All            </td> <td>23  </td> <td>4341644        </td>\n",
       "        </tr>\n",
       "        <tr>\n",
       "            <td>0       </td> <td>All            </td> <td>24  </td> <td>4444518        </td>\n",
       "        </tr>\n",
       "        <tr>\n",
       "            <td>0       </td> <td>All            </td> <td>25  </td> <td>4539058        </td>\n",
       "        </tr>\n",
       "        <tr>\n",
       "            <td>0       </td> <td>All            </td> <td>26  </td> <td>4611220        </td>\n",
       "        </tr>\n",
       "        <tr>\n",
       "            <td>0       </td> <td>All            </td> <td>27  </td> <td>4733869        </td>\n",
       "        </tr>\n",
       "        <tr>\n",
       "            <td>0       </td> <td>All            </td> <td>28  </td> <td>4818725        </td>\n",
       "        </tr>\n",
       "        <tr>\n",
       "            <td>0       </td> <td>All            </td> <td>29  </td> <td>4806144        </td>\n",
       "        </tr>\n",
       "        <tr>\n",
       "            <td>0       </td> <td>All            </td> <td>30  </td> <td>4614384        </td>\n",
       "        </tr>\n",
       "        <tr>\n",
       "            <td>0       </td> <td>All            </td> <td>31  </td> <td>4502311        </td>\n",
       "        </tr>\n",
       "        <tr>\n",
       "            <td>0       </td> <td>All            </td> <td>32  </td> <td>4421505        </td>\n",
       "        </tr>\n",
       "        <tr>\n",
       "            <td>0       </td> <td>All            </td> <td>33  </td> <td>4432973        </td>\n",
       "        </tr>\n",
       "        <tr>\n",
       "            <td>0       </td> <td>All            </td> <td>34  </td> <td>4460132        </td>\n",
       "        </tr>\n",
       "        <tr>\n",
       "            <td>0       </td> <td>All            </td> <td>35  </td> <td>4315866        </td>\n",
       "        </tr>\n",
       "        <tr>\n",
       "            <td>0       </td> <td>All            </td> <td>36  </td> <td>4372444        </td>\n",
       "        </tr>\n",
       "        <tr>\n",
       "            <td>0       </td> <td>All            </td> <td>37  </td> <td>4361286        </td>\n",
       "        </tr>\n",
       "        <tr>\n",
       "            <td>0       </td> <td>All            </td> <td>38  </td> <td>4305576        </td>\n",
       "        </tr>\n",
       "        <tr>\n",
       "            <td>0       </td> <td>All            </td> <td>39  </td> <td>4382349        </td>\n",
       "        </tr>\n",
       "        <tr>\n",
       "            <td>0       </td> <td>All            </td> <td>40  </td> <td>4105313        </td>\n",
       "        </tr>\n",
       "        <tr>\n",
       "            <td>0       </td> <td>All            </td> <td>41  </td> <td>4020254        </td>\n",
       "        </tr>\n",
       "        <tr>\n",
       "            <td>0       </td> <td>All            </td> <td>42  </td> <td>3974741        </td>\n",
       "        </tr>\n",
       "        <tr>\n",
       "            <td>0       </td> <td>All            </td> <td>43  </td> <td>3854040        </td>\n",
       "        </tr>\n",
       "        <tr>\n",
       "            <td>0       </td> <td>All            </td> <td>44  </td> <td>3967275        </td>\n",
       "        </tr>\n",
       "        <tr>\n",
       "            <td>0       </td> <td>All            </td> <td>45  </td> <td>3837909        </td>\n",
       "        </tr>\n",
       "        <tr>\n",
       "            <td>0       </td> <td>All            </td> <td>46  </td> <td>3889372        </td>\n",
       "        </tr>\n",
       "        <tr>\n",
       "            <td>0       </td> <td>All            </td> <td>47  </td> <td>4058038        </td>\n",
       "        </tr>\n",
       "        <tr>\n",
       "            <td>0       </td> <td>All            </td> <td>48  </td> <td>4282657        </td>\n",
       "        </tr>\n",
       "        <tr>\n",
       "            <td>0       </td> <td>All            </td> <td>49  </td> <td>4329775        </td>\n",
       "        </tr>\n",
       "        <tr>\n",
       "            <td>0       </td> <td>All            </td> <td>50  </td> <td>4096572        </td>\n",
       "        </tr>\n",
       "        <tr>\n",
       "            <td>0       </td> <td>All            </td> <td>51  </td> <td>4004343        </td>\n",
       "        </tr>\n",
       "        <tr>\n",
       "            <td>0       </td> <td>All            </td> <td>52  </td> <td>4001782        </td>\n",
       "        </tr>\n",
       "        <tr>\n",
       "            <td>0       </td> <td>All            </td> <td>53  </td> <td>4068851        </td>\n",
       "        </tr>\n",
       "        <tr>\n",
       "            <td>0       </td> <td>All            </td> <td>54  </td> <td>4305603        </td>\n",
       "        </tr>\n",
       "        <tr>\n",
       "            <td>0       </td> <td>All            </td> <td>55  </td> <td>4374565        </td>\n",
       "        </tr>\n",
       "        <tr>\n",
       "            <td>0       </td> <td>All            </td> <td>56  </td> <td>4361016        </td>\n",
       "        </tr>\n",
       "        <tr>\n",
       "            <td>0       </td> <td>All            </td> <td>57  </td> <td>4342385        </td>\n",
       "        </tr>\n",
       "        <tr>\n",
       "            <td>0       </td> <td>All            </td> <td>58  </td> <td>4385570        </td>\n",
       "        </tr>\n",
       "        <tr>\n",
       "            <td>0       </td> <td>All            </td> <td>59  </td> <td>4413855        </td>\n",
       "        </tr>\n",
       "        <tr>\n",
       "            <td>0       </td> <td>All            </td> <td>60  </td> <td>4252663        </td>\n",
       "        </tr>\n",
       "        <tr>\n",
       "            <td>0       </td> <td>All            </td> <td>61  </td> <td>4215172        </td>\n",
       "        </tr>\n",
       "        <tr>\n",
       "            <td>0       </td> <td>All            </td> <td>62  </td> <td>4156645        </td>\n",
       "        </tr>\n",
       "        <tr>\n",
       "            <td>0       </td> <td>All            </td> <td>63  </td> <td>3996088        </td>\n",
       "        </tr>\n",
       "        <tr>\n",
       "            <td>0       </td> <td>All            </td> <td>64  </td> <td>3950578        </td>\n",
       "        </tr>\n",
       "        <tr>\n",
       "            <td>0       </td> <td>All            </td> <td>65  </td> <td>3774597        </td>\n",
       "        </tr>\n",
       "        <tr>\n",
       "            <td>0       </td> <td>All            </td> <td>66  </td> <td>3618069        </td>\n",
       "        </tr>\n",
       "        <tr>\n",
       "            <td>0       </td> <td>All            </td> <td>67  </td> <td>3464437        </td>\n",
       "        </tr>\n",
       "        <tr>\n",
       "            <td>0       </td> <td>All            </td> <td>68  </td> <td>3345475        </td>\n",
       "        </tr>\n",
       "        <tr>\n",
       "            <td>0       </td> <td>All            </td> <td>69  </td> <td>3252423        </td>\n",
       "        </tr>\n",
       "        <tr>\n",
       "            <td>0       </td> <td>All            </td> <td>70  </td> <td>3136704        </td>\n",
       "        </tr>\n",
       "        <tr>\n",
       "            <td>0       </td> <td>All            </td> <td>71  </td> <td>3083083        </td>\n",
       "        </tr>\n",
       "        <tr>\n",
       "            <td>0       </td> <td>All            </td> <td>72  </td> <td>3191048        </td>\n",
       "        </tr>\n",
       "        <tr>\n",
       "            <td>0       </td> <td>All            </td> <td>73  </td> <td>2334433        </td>\n",
       "        </tr>\n",
       "        <tr>\n",
       "            <td>0       </td> <td>All            </td> <td>74  </td> <td>2283164        </td>\n",
       "        </tr>\n",
       "        <tr>\n",
       "            <td>0       </td> <td>All            </td> <td>75  </td> <td>2198286        </td>\n",
       "        </tr>\n",
       "        <tr>\n",
       "            <td>0       </td> <td>All            </td> <td>76  </td> <td>2222392        </td>\n",
       "        </tr>\n",
       "        <tr>\n",
       "            <td>0       </td> <td>All            </td> <td>77  </td> <td>1911261        </td>\n",
       "        </tr>\n",
       "        <tr>\n",
       "            <td>0       </td> <td>All            </td> <td>78  </td> <td>1720817        </td>\n",
       "        </tr>\n",
       "        <tr>\n",
       "            <td>0       </td> <td>All            </td> <td>79  </td> <td>1599909        </td>\n",
       "        </tr>\n",
       "        <tr>\n",
       "            <td>0       </td> <td>All            </td> <td>80  </td> <td>1475278        </td>\n",
       "        </tr>\n",
       "        <tr>\n",
       "            <td>0       </td> <td>All            </td> <td>81  </td> <td>1381641        </td>\n",
       "        </tr>\n",
       "        <tr>\n",
       "            <td>0       </td> <td>All            </td> <td>82  </td> <td>1241341        </td>\n",
       "        </tr>\n",
       "        <tr>\n",
       "            <td>0       </td> <td>All            </td> <td>83  </td> <td>1151190        </td>\n",
       "        </tr>\n",
       "        <tr>\n",
       "            <td>0       </td> <td>All            </td> <td>84  </td> <td>1067757        </td>\n",
       "        </tr>\n",
       "        <tr>\n",
       "            <td>0       </td> <td>All            </td> <td>85  </td> <td>922467         </td>\n",
       "        </tr>\n",
       "        <tr>\n",
       "            <td>0       </td> <td>All            </td> <td>86  </td> <td>856646         </td>\n",
       "        </tr>\n",
       "        <tr>\n",
       "            <td>0       </td> <td>All            </td> <td>87  </td> <td>778923         </td>\n",
       "        </tr>\n",
       "        <tr>\n",
       "            <td>0       </td> <td>All            </td> <td>88  </td> <td>703078         </td>\n",
       "        </tr>\n",
       "        <tr>\n",
       "            <td>0       </td> <td>All            </td> <td>89  </td> <td>635982         </td>\n",
       "        </tr>\n",
       "        <tr>\n",
       "            <td>0       </td> <td>All            </td> <td>90  </td> <td>536447         </td>\n",
       "        </tr>\n",
       "        <tr>\n",
       "            <td>0       </td> <td>All            </td> <td>91  </td> <td>467172         </td>\n",
       "        </tr>\n",
       "        <tr>\n",
       "            <td>0       </td> <td>All            </td> <td>92  </td> <td>394067         </td>\n",
       "        </tr>\n",
       "        <tr>\n",
       "            <td>0       </td> <td>All            </td> <td>93  </td> <td>320785         </td>\n",
       "        </tr>\n",
       "        <tr>\n",
       "            <td>0       </td> <td>All            </td> <td>94  </td> <td>264277         </td>\n",
       "        </tr>\n",
       "        <tr>\n",
       "            <td>0       </td> <td>All            </td> <td>95  </td> <td>207086         </td>\n",
       "        </tr>\n",
       "        <tr>\n",
       "            <td>0       </td> <td>All            </td> <td>96  </td> <td>157463         </td>\n",
       "        </tr>\n",
       "        <tr>\n",
       "            <td>0       </td> <td>All            </td> <td>97  </td> <td>116969         </td>\n",
       "        </tr>\n",
       "        <tr>\n",
       "            <td>0       </td> <td>All            </td> <td>98  </td> <td>86150          </td>\n",
       "        </tr>\n",
       "        <tr>\n",
       "            <td>0       </td> <td>All            </td> <td>99  </td> <td>57124          </td>\n",
       "        </tr>\n",
       "        <tr>\n",
       "            <td>0       </td> <td>All            </td> <td>100 </td> <td>100322         </td>\n",
       "        </tr>\n",
       "        <tr>\n",
       "            <td>0       </td> <td>All            </td> <td>999 </td> <td>328239523      </td>\n",
       "        </tr>\n",
       "        <tr>\n",
       "            <td>1       </td> <td>Selected Male  </td> <td>0   </td> <td>1935117        </td>\n",
       "        </tr>\n",
       "        <tr>\n",
       "            <td>1       </td> <td>Selected Male  </td> <td>1   </td> <td>1958585        </td>\n",
       "        </tr>\n",
       "        <tr>\n",
       "            <td>1       </td> <td>Selected Male  </td> <td>2   </td> <td>2005544        </td>\n",
       "        </tr>\n",
       "        <tr>\n",
       "            <td>1       </td> <td>Selected Male  </td> <td>3   </td> <td>2043010        </td>\n",
       "        </tr>\n",
       "        <tr>\n",
       "            <td>1       </td> <td>Selected Male  </td> <td>4   </td> <td>2066951        </td>\n",
       "        </tr>\n",
       "        <tr>\n",
       "            <td>1       </td> <td>Selected Male  </td> <td>5   </td> <td>2061200        </td>\n",
       "        </tr>\n",
       "        <tr>\n",
       "            <td>1       </td> <td>Selected Male  </td> <td>6   </td> <td>2052956        </td>\n",
       "        </tr>\n",
       "        <tr>\n",
       "            <td>1       </td> <td>Selected Male  </td> <td>7   </td> <td>2055735        </td>\n",
       "        </tr>\n",
       "        <tr>\n",
       "            <td>1       </td> <td>Selected Male  </td> <td>8   </td> <td>2079723        </td>\n",
       "        </tr>\n",
       "        <tr>\n",
       "            <td>1       </td> <td>Selected Male  </td> <td>9   </td> <td>2073148        </td>\n",
       "        </tr>\n",
       "        <tr>\n",
       "            <td>1       </td> <td>Selected Male  </td> <td>10  </td> <td>2071778        </td>\n",
       "        </tr>\n",
       "        <tr>\n",
       "            <td>1       </td> <td>Selected Male  </td> <td>11  </td> <td>2138037        </td>\n",
       "        </tr>\n",
       "        <tr>\n",
       "            <td>1       </td> <td>Selected Male  </td> <td>12  </td> <td>2149819        </td>\n",
       "        </tr>\n",
       "        <tr>\n",
       "            <td>1       </td> <td>Selected Male  </td> <td>13  </td> <td>2132987        </td>\n",
       "        </tr>\n",
       "        <tr>\n",
       "            <td>1       </td> <td>Selected Male  </td> <td>14  </td> <td>2125640        </td>\n",
       "        </tr>\n",
       "        <tr>\n",
       "            <td>1       </td> <td>Selected Male  </td> <td>15  </td> <td>2129720        </td>\n",
       "        </tr>\n",
       "        <tr>\n",
       "            <td>1       </td> <td>Selected Male  </td> <td>16  </td> <td>2116165        </td>\n",
       "        </tr>\n",
       "        <tr>\n",
       "            <td>1       </td> <td>Selected Male  </td> <td>17  </td> <td>2112553        </td>\n",
       "        </tr>\n",
       "        <tr>\n",
       "            <td>1       </td> <td>Selected Male  </td> <td>18  </td> <td>2172385        </td>\n",
       "        </tr>\n",
       "        <tr>\n",
       "            <td>1       </td> <td>Selected Male  </td> <td>19  </td> <td>2214784        </td>\n",
       "        </tr>\n",
       "        <tr>\n",
       "            <td>1       </td> <td>Selected Male  </td> <td>20  </td> <td>2183139        </td>\n",
       "        </tr>\n",
       "        <tr>\n",
       "            <td>1       </td> <td>Selected Male  </td> <td>21  </td> <td>2187086        </td>\n",
       "        </tr>\n",
       "        <tr>\n",
       "            <td>1       </td> <td>Selected Male  </td> <td>22  </td> <td>2195296        </td>\n",
       "        </tr>\n",
       "        <tr>\n",
       "            <td>1       </td> <td>Selected Male  </td> <td>23  </td> <td>2221758        </td>\n",
       "        </tr>\n",
       "        <tr>\n",
       "            <td>1       </td> <td>Selected Male  </td> <td>24  </td> <td>2277473        </td>\n",
       "        </tr>\n",
       "        <tr>\n",
       "            <td>1       </td> <td>Selected Male  </td> <td>25  </td> <td>2325853        </td>\n",
       "        </tr>\n",
       "        <tr>\n",
       "            <td>1       </td> <td>Selected Male  </td> <td>26  </td> <td>2365886        </td>\n",
       "        </tr>\n",
       "        <tr>\n",
       "            <td>1       </td> <td>Selected Male  </td> <td>27  </td> <td>2421270        </td>\n",
       "        </tr>\n",
       "        <tr>\n",
       "            <td>1       </td> <td>Selected Male  </td> <td>28  </td> <td>2451756        </td>\n",
       "        </tr>\n",
       "        <tr>\n",
       "            <td>1       </td> <td>Selected Male  </td> <td>29  </td> <td>2439805        </td>\n",
       "        </tr>\n",
       "        <tr>\n",
       "            <td>1       </td> <td>Selected Male  </td> <td>30  </td> <td>2340865        </td>\n",
       "        </tr>\n",
       "        <tr>\n",
       "            <td>1       </td> <td>Selected Male  </td> <td>31  </td> <td>2281327        </td>\n",
       "        </tr>\n",
       "        <tr>\n",
       "            <td>1       </td> <td>Selected Male  </td> <td>32  </td> <td>2239886        </td>\n",
       "        </tr>\n",
       "        <tr>\n",
       "            <td>1       </td> <td>Selected Male  </td> <td>33  </td> <td>2243280        </td>\n",
       "        </tr>\n",
       "        <tr>\n",
       "            <td>1       </td> <td>Selected Male  </td> <td>34  </td> <td>2249252        </td>\n",
       "        </tr>\n",
       "        <tr>\n",
       "            <td>1       </td> <td>Selected Male  </td> <td>35  </td> <td>2167622        </td>\n",
       "        </tr>\n",
       "        <tr>\n",
       "            <td>1       </td> <td>Selected Male  </td> <td>36  </td> <td>2191368        </td>\n",
       "        </tr>\n",
       "        <tr>\n",
       "            <td>1       </td> <td>Selected Male  </td> <td>37  </td> <td>2181162        </td>\n",
       "        </tr>\n",
       "        <tr>\n",
       "            <td>1       </td> <td>Selected Male  </td> <td>38  </td> <td>2149359        </td>\n",
       "        </tr>\n",
       "        <tr>\n",
       "            <td>1       </td> <td>Selected Male  </td> <td>39  </td> <td>2195430        </td>\n",
       "        </tr>\n",
       "        <tr>\n",
       "            <td>1       </td> <td>Selected Male  </td> <td>40  </td> <td>2046663        </td>\n",
       "        </tr>\n",
       "        <tr>\n",
       "            <td>1       </td> <td>Selected Male  </td> <td>41  </td> <td>2001502        </td>\n",
       "        </tr>\n",
       "        <tr>\n",
       "            <td>1       </td> <td>Selected Male  </td> <td>42  </td> <td>1972584        </td>\n",
       "        </tr>\n",
       "        <tr>\n",
       "            <td>1       </td> <td>Selected Male  </td> <td>43  </td> <td>1913289        </td>\n",
       "        </tr>\n",
       "        <tr>\n",
       "            <td>1       </td> <td>Selected Male  </td> <td>44  </td> <td>1973101        </td>\n",
       "        </tr>\n",
       "        <tr>\n",
       "            <td>1       </td> <td>Selected Male  </td> <td>45  </td> <td>1900492        </td>\n",
       "        </tr>\n",
       "        <tr>\n",
       "            <td>1       </td> <td>Selected Male  </td> <td>46  </td> <td>1919298        </td>\n",
       "        </tr>\n",
       "        <tr>\n",
       "            <td>1       </td> <td>Selected Male  </td> <td>47  </td> <td>2005221        </td>\n",
       "        </tr>\n",
       "        <tr>\n",
       "            <td>1       </td> <td>Selected Male  </td> <td>48  </td> <td>2114614        </td>\n",
       "        </tr>\n",
       "        <tr>\n",
       "            <td>1       </td> <td>Selected Male  </td> <td>49  </td> <td>2145730        </td>\n",
       "        </tr>\n",
       "        <tr>\n",
       "            <td>1       </td> <td>Selected Male  </td> <td>50  </td> <td>2025376        </td>\n",
       "        </tr>\n",
       "        <tr>\n",
       "            <td>1       </td> <td>Selected Male  </td> <td>51  </td> <td>1976883        </td>\n",
       "        </tr>\n",
       "        <tr>\n",
       "            <td>1       </td> <td>Selected Male  </td> <td>52  </td> <td>1968619        </td>\n",
       "        </tr>\n",
       "        <tr>\n",
       "            <td>1       </td> <td>Selected Male  </td> <td>53  </td> <td>2001325        </td>\n",
       "        </tr>\n",
       "        <tr>\n",
       "            <td>1       </td> <td>Selected Male  </td> <td>54  </td> <td>2114408        </td>\n",
       "        </tr>\n",
       "        <tr>\n",
       "            <td>1       </td> <td>Selected Male  </td> <td>55  </td> <td>2137586        </td>\n",
       "        </tr>\n",
       "        <tr>\n",
       "            <td>1       </td> <td>Selected Male  </td> <td>56  </td> <td>2125123        </td>\n",
       "        </tr>\n",
       "        <tr>\n",
       "            <td>1       </td> <td>Selected Male  </td> <td>57  </td> <td>2111795        </td>\n",
       "        </tr>\n",
       "        <tr>\n",
       "            <td>1       </td> <td>Selected Male  </td> <td>58  </td> <td>2125774        </td>\n",
       "        </tr>\n",
       "        <tr>\n",
       "            <td>1       </td> <td>Selected Male  </td> <td>59  </td> <td>2142211        </td>\n",
       "        </tr>\n",
       "        <tr>\n",
       "            <td>1       </td> <td>Selected Male  </td> <td>60  </td> <td>2052677        </td>\n",
       "        </tr>\n",
       "        <tr>\n",
       "            <td>1       </td> <td>Selected Male  </td> <td>61  </td> <td>2027951        </td>\n",
       "        </tr>\n",
       "        <tr>\n",
       "            <td>1       </td> <td>Selected Male  </td> <td>62  </td> <td>1991220        </td>\n",
       "        </tr>\n",
       "        <tr>\n",
       "            <td>1       </td> <td>Selected Male  </td> <td>63  </td> <td>1905842        </td>\n",
       "        </tr>\n",
       "        <tr>\n",
       "            <td>1       </td> <td>Selected Male  </td> <td>64  </td> <td>1879040        </td>\n",
       "        </tr>\n",
       "        <tr>\n",
       "            <td>1       </td> <td>Selected Male  </td> <td>65  </td> <td>1783428        </td>\n",
       "        </tr>\n",
       "        <tr>\n",
       "            <td>1       </td> <td>Selected Male  </td> <td>66  </td> <td>1703888        </td>\n",
       "        </tr>\n",
       "        <tr>\n",
       "            <td>1       </td> <td>Selected Male  </td> <td>67  </td> <td>1627863        </td>\n",
       "        </tr>\n",
       "        <tr>\n",
       "            <td>1       </td> <td>Selected Male  </td> <td>68  </td> <td>1564129        </td>\n",
       "        </tr>\n",
       "        <tr>\n",
       "            <td>1       </td> <td>Selected Male  </td> <td>69  </td> <td>1520465        </td>\n",
       "        </tr>\n",
       "        <tr>\n",
       "            <td>1       </td> <td>Selected Male  </td> <td>70  </td> <td>1462120        </td>\n",
       "        </tr>\n",
       "        <tr>\n",
       "            <td>1       </td> <td>Selected Male  </td> <td>71  </td> <td>1435378        </td>\n",
       "        </tr>\n",
       "        <tr>\n",
       "            <td>1       </td> <td>Selected Male  </td> <td>72  </td> <td>1483236        </td>\n",
       "        </tr>\n",
       "        <tr>\n",
       "            <td>1       </td> <td>Selected Male  </td> <td>73  </td> <td>1074771        </td>\n",
       "        </tr>\n",
       "        <tr>\n",
       "            <td>1       </td> <td>Selected Male  </td> <td>74  </td> <td>1044301        </td>\n",
       "        </tr>\n",
       "        <tr>\n",
       "            <td>1       </td> <td>Selected Male  </td> <td>75  </td> <td>998390         </td>\n",
       "        </tr>\n",
       "        <tr>\n",
       "            <td>1       </td> <td>Selected Male  </td> <td>76  </td> <td>1003690        </td>\n",
       "        </tr>\n",
       "        <tr>\n",
       "            <td>1       </td> <td>Selected Male  </td> <td>77  </td> <td>854930         </td>\n",
       "        </tr>\n",
       "        <tr>\n",
       "            <td>1       </td> <td>Selected Male  </td> <td>78  </td> <td>760170         </td>\n",
       "        </tr>\n",
       "        <tr>\n",
       "            <td>1       </td> <td>Selected Male  </td> <td>79  </td> <td>701319         </td>\n",
       "        </tr>\n",
       "        <tr>\n",
       "            <td>1       </td> <td>Selected Male  </td> <td>80  </td> <td>643638         </td>\n",
       "        </tr>\n",
       "        <tr>\n",
       "            <td>1       </td> <td>Selected Male  </td> <td>81  </td> <td>593628         </td>\n",
       "        </tr>\n",
       "        <tr>\n",
       "            <td>1       </td> <td>Selected Male  </td> <td>82  </td> <td>525766         </td>\n",
       "        </tr>\n",
       "        <tr>\n",
       "            <td>1       </td> <td>Selected Male  </td> <td>83  </td> <td>480165         </td>\n",
       "        </tr>\n",
       "        <tr>\n",
       "            <td>1       </td> <td>Selected Male  </td> <td>84  </td> <td>436527         </td>\n",
       "        </tr>\n",
       "        <tr>\n",
       "            <td>1       </td> <td>Selected Male  </td> <td>85  </td> <td>371082         </td>\n",
       "        </tr>\n",
       "        <tr>\n",
       "            <td>1       </td> <td>Selected Male  </td> <td>86  </td> <td>337306         </td>\n",
       "        </tr>\n",
       "        <tr>\n",
       "            <td>1       </td> <td>Selected Male  </td> <td>87  </td> <td>299845         </td>\n",
       "        </tr>\n",
       "        <tr>\n",
       "            <td>1       </td> <td>Selected Male  </td> <td>88  </td> <td>264191         </td>\n",
       "        </tr>\n",
       "        <tr>\n",
       "            <td>1       </td> <td>Selected Male  </td> <td>89  </td> <td>232649         </td>\n",
       "        </tr>\n",
       "        <tr>\n",
       "            <td>1       </td> <td>Selected Male  </td> <td>90  </td> <td>191220         </td>\n",
       "        </tr>\n",
       "        <tr>\n",
       "            <td>1       </td> <td>Selected Male  </td> <td>91  </td> <td>160941         </td>\n",
       "        </tr>\n",
       "        <tr>\n",
       "            <td>1       </td> <td>Selected Male  </td> <td>92  </td> <td>131684         </td>\n",
       "        </tr>\n",
       "        <tr>\n",
       "            <td>1       </td> <td>Selected Male  </td> <td>93  </td> <td>103415         </td>\n",
       "        </tr>\n",
       "        <tr>\n",
       "            <td>1       </td> <td>Selected Male  </td> <td>94  </td> <td>81893          </td>\n",
       "        </tr>\n",
       "        <tr>\n",
       "            <td>1       </td> <td>Selected Male  </td> <td>95  </td> <td>61994          </td>\n",
       "        </tr>\n",
       "        <tr>\n",
       "            <td>1       </td> <td>Selected Male  </td> <td>96  </td> <td>46046          </td>\n",
       "        </tr>\n",
       "        <tr>\n",
       "            <td>1       </td> <td>Selected Male  </td> <td>97  </td> <td>32611          </td>\n",
       "        </tr>\n",
       "        <tr>\n",
       "            <td>1       </td> <td>Selected Male  </td> <td>98  </td> <td>23543          </td>\n",
       "        </tr>\n",
       "        <tr>\n",
       "            <td>1       </td> <td>Selected Male  </td> <td>99  </td> <td>14596          </td>\n",
       "        </tr>\n",
       "        <tr>\n",
       "            <td>1       </td> <td>Selected Male  </td> <td>100 </td> <td>23472          </td>\n",
       "        </tr>\n",
       "        <tr>\n",
       "            <td>1       </td> <td>Selected Male  </td> <td>999 </td> <td>161657324      </td>\n",
       "        </tr>\n",
       "        <tr>\n",
       "            <td>2       </td> <td>Selected Female</td> <td>0   </td> <td>1847935        </td>\n",
       "        </tr>\n",
       "        <tr>\n",
       "            <td>2       </td> <td>Selected Female</td> <td>1   </td> <td>1871014        </td>\n",
       "        </tr>\n",
       "        <tr>\n",
       "            <td>2       </td> <td>Selected Female</td> <td>2   </td> <td>1916500        </td>\n",
       "        </tr>\n",
       "        <tr>\n",
       "            <td>2       </td> <td>Selected Female</td> <td>3   </td> <td>1955655        </td>\n",
       "        </tr>\n",
       "        <tr>\n",
       "            <td>2       </td> <td>Selected Female</td> <td>4   </td> <td>1976372        </td>\n",
       "        </tr>\n",
       "        <tr>\n",
       "            <td>2       </td> <td>Selected Female</td> <td>5   </td> <td>1967081        </td>\n",
       "        </tr>\n",
       "        <tr>\n",
       "            <td>2       </td> <td>Selected Female</td> <td>6   </td> <td>1964271        </td>\n",
       "        </tr>\n",
       "        <tr>\n",
       "            <td>2       </td> <td>Selected Female</td> <td>7   </td> <td>1966584        </td>\n",
       "        </tr>\n",
       "        <tr>\n",
       "            <td>2       </td> <td>Selected Female</td> <td>8   </td> <td>1986471        </td>\n",
       "        </tr>\n",
       "        <tr>\n",
       "            <td>2       </td> <td>Selected Female</td> <td>9   </td> <td>1988726        </td>\n",
       "        </tr>\n",
       "        <tr>\n",
       "            <td>2       </td> <td>Selected Female</td> <td>10  </td> <td>1989162        </td>\n",
       "        </tr>\n",
       "        <tr>\n",
       "            <td>2       </td> <td>Selected Female</td> <td>11  </td> <td>2051224        </td>\n",
       "        </tr>\n",
       "        <tr>\n",
       "            <td>2       </td> <td>Selected Female</td> <td>12  </td> <td>2058568        </td>\n",
       "        </tr>\n",
       "        <tr>\n",
       "            <td>2       </td> <td>Selected Female</td> <td>13  </td> <td>2042234        </td>\n",
       "        </tr>\n",
       "        <tr>\n",
       "            <td>2       </td> <td>Selected Female</td> <td>14  </td> <td>2038819        </td>\n",
       "        </tr>\n",
       "        <tr>\n",
       "            <td>2       </td> <td>Selected Female</td> <td>15  </td> <td>2045739        </td>\n",
       "        </tr>\n",
       "        <tr>\n",
       "            <td>2       </td> <td>Selected Female</td> <td>16  </td> <td>2034255        </td>\n",
       "        </tr>\n",
       "        <tr>\n",
       "            <td>2       </td> <td>Selected Female</td> <td>17  </td> <td>2029872        </td>\n",
       "        </tr>\n",
       "        <tr>\n",
       "            <td>2       </td> <td>Selected Female</td> <td>18  </td> <td>2083442        </td>\n",
       "        </tr>\n",
       "        <tr>\n",
       "            <td>2       </td> <td>Selected Female</td> <td>19  </td> <td>2115655        </td>\n",
       "        </tr>\n",
       "        <tr>\n",
       "            <td>2       </td> <td>Selected Female</td> <td>20  </td> <td>2086544        </td>\n",
       "        </tr>\n",
       "        <tr>\n",
       "            <td>2       </td> <td>Selected Female</td> <td>21  </td> <td>2091237        </td>\n",
       "        </tr>\n",
       "        <tr>\n",
       "            <td>2       </td> <td>Selected Female</td> <td>22  </td> <td>2103476        </td>\n",
       "        </tr>\n",
       "        <tr>\n",
       "            <td>2       </td> <td>Selected Female</td> <td>23  </td> <td>2119886        </td>\n",
       "        </tr>\n",
       "        <tr>\n",
       "            <td>2       </td> <td>Selected Female</td> <td>24  </td> <td>2167045        </td>\n",
       "        </tr>\n",
       "        <tr>\n",
       "            <td>2       </td> <td>Selected Female</td> <td>25  </td> <td>2213205        </td>\n",
       "        </tr>\n",
       "        <tr>\n",
       "            <td>2       </td> <td>Selected Female</td> <td>26  </td> <td>2245334        </td>\n",
       "        </tr>\n",
       "        <tr>\n",
       "            <td>2       </td> <td>Selected Female</td> <td>27  </td> <td>2312599        </td>\n",
       "        </tr>\n",
       "        <tr>\n",
       "            <td>2       </td> <td>Selected Female</td> <td>28  </td> <td>2366969        </td>\n",
       "        </tr>\n",
       "        <tr>\n",
       "            <td>2       </td> <td>Selected Female</td> <td>29  </td> <td>2366339        </td>\n",
       "        </tr>\n",
       "        <tr>\n",
       "            <td>2       </td> <td>Selected Female</td> <td>30  </td> <td>2273519        </td>\n",
       "        </tr>\n",
       "        <tr>\n",
       "            <td>2       </td> <td>Selected Female</td> <td>31  </td> <td>2220984        </td>\n",
       "        </tr>\n",
       "        <tr>\n",
       "            <td>2       </td> <td>Selected Female</td> <td>32  </td> <td>2181619        </td>\n",
       "        </tr>\n",
       "        <tr>\n",
       "            <td>2       </td> <td>Selected Female</td> <td>33  </td> <td>2189693        </td>\n",
       "        </tr>\n",
       "        <tr>\n",
       "            <td>2       </td> <td>Selected Female</td> <td>34  </td> <td>2210880        </td>\n",
       "        </tr>\n",
       "        <tr>\n",
       "            <td>2       </td> <td>Selected Female</td> <td>35  </td> <td>2148244        </td>\n",
       "        </tr>\n",
       "        <tr>\n",
       "            <td>2       </td> <td>Selected Female</td> <td>36  </td> <td>2181076        </td>\n",
       "        </tr>\n",
       "        <tr>\n",
       "            <td>2       </td> <td>Selected Female</td> <td>37  </td> <td>2180124        </td>\n",
       "        </tr>\n",
       "        <tr>\n",
       "            <td>2       </td> <td>Selected Female</td> <td>38  </td> <td>2156217        </td>\n",
       "        </tr>\n",
       "        <tr>\n",
       "            <td>2       </td> <td>Selected Female</td> <td>39  </td> <td>2186919        </td>\n",
       "        </tr>\n",
       "        <tr>\n",
       "            <td>2       </td> <td>Selected Female</td> <td>40  </td> <td>2058650        </td>\n",
       "        </tr>\n",
       "        <tr>\n",
       "            <td>2       </td> <td>Selected Female</td> <td>41  </td> <td>2018752        </td>\n",
       "        </tr>\n",
       "        <tr>\n",
       "            <td>2       </td> <td>Selected Female</td> <td>42  </td> <td>2002157        </td>\n",
       "        </tr>\n",
       "        <tr>\n",
       "            <td>2       </td> <td>Selected Female</td> <td>43  </td> <td>1940751        </td>\n",
       "        </tr>\n",
       "        <tr>\n",
       "            <td>2       </td> <td>Selected Female</td> <td>44  </td> <td>1994174        </td>\n",
       "        </tr>\n",
       "        <tr>\n",
       "            <td>2       </td> <td>Selected Female</td> <td>45  </td> <td>1937417        </td>\n",
       "        </tr>\n",
       "        <tr>\n",
       "            <td>2       </td> <td>Selected Female</td> <td>46  </td> <td>1970074        </td>\n",
       "        </tr>\n",
       "        <tr>\n",
       "            <td>2       </td> <td>Selected Female</td> <td>47  </td> <td>2052817        </td>\n",
       "        </tr>\n",
       "        <tr>\n",
       "            <td>2       </td> <td>Selected Female</td> <td>48  </td> <td>2168043        </td>\n",
       "        </tr>\n",
       "        <tr>\n",
       "            <td>2       </td> <td>Selected Female</td> <td>49  </td> <td>2184045        </td>\n",
       "        </tr>\n",
       "        <tr>\n",
       "            <td>2       </td> <td>Selected Female</td> <td>50  </td> <td>2071196        </td>\n",
       "        </tr>\n",
       "        <tr>\n",
       "            <td>2       </td> <td>Selected Female</td> <td>51  </td> <td>2027460        </td>\n",
       "        </tr>\n",
       "        <tr>\n",
       "            <td>2       </td> <td>Selected Female</td> <td>52  </td> <td>2033163        </td>\n",
       "        </tr>\n",
       "        <tr>\n",
       "            <td>2       </td> <td>Selected Female</td> <td>53  </td> <td>2067526        </td>\n",
       "        </tr>\n",
       "        <tr>\n",
       "            <td>2       </td> <td>Selected Female</td> <td>54  </td> <td>2191195        </td>\n",
       "        </tr>\n",
       "        <tr>\n",
       "            <td>2       </td> <td>Selected Female</td> <td>55  </td> <td>2236979        </td>\n",
       "        </tr>\n",
       "        <tr>\n",
       "            <td>2       </td> <td>Selected Female</td> <td>56  </td> <td>2235893        </td>\n",
       "        </tr>\n",
       "        <tr>\n",
       "            <td>2       </td> <td>Selected Female</td> <td>57  </td> <td>2230590        </td>\n",
       "        </tr>\n",
       "        <tr>\n",
       "            <td>2       </td> <td>Selected Female</td> <td>58  </td> <td>2259796        </td>\n",
       "        </tr>\n",
       "        <tr>\n",
       "            <td>2       </td> <td>Selected Female</td> <td>59  </td> <td>2271644        </td>\n",
       "        </tr>\n",
       "        <tr>\n",
       "            <td>2       </td> <td>Selected Female</td> <td>60  </td> <td>2199986        </td>\n",
       "        </tr>\n",
       "        <tr>\n",
       "            <td>2       </td> <td>Selected Female</td> <td>61  </td> <td>2187221        </td>\n",
       "        </tr>\n",
       "        <tr>\n",
       "            <td>2       </td> <td>Selected Female</td> <td>62  </td> <td>2165425        </td>\n",
       "        </tr>\n",
       "        <tr>\n",
       "            <td>2       </td> <td>Selected Female</td> <td>63  </td> <td>2090246        </td>\n",
       "        </tr>\n",
       "        <tr>\n",
       "            <td>2       </td> <td>Selected Female</td> <td>64  </td> <td>2071538        </td>\n",
       "        </tr>\n",
       "        <tr>\n",
       "            <td>2       </td> <td>Selected Female</td> <td>65  </td> <td>1991169        </td>\n",
       "        </tr>\n",
       "        <tr>\n",
       "            <td>2       </td> <td>Selected Female</td> <td>66  </td> <td>1914181        </td>\n",
       "        </tr>\n",
       "        <tr>\n",
       "            <td>2       </td> <td>Selected Female</td> <td>67  </td> <td>1836574        </td>\n",
       "        </tr>\n",
       "        <tr>\n",
       "            <td>2       </td> <td>Selected Female</td> <td>68  </td> <td>1781346        </td>\n",
       "        </tr>\n",
       "        <tr>\n",
       "            <td>2       </td> <td>Selected Female</td> <td>69  </td> <td>1731958        </td>\n",
       "        </tr>\n",
       "        <tr>\n",
       "            <td>2       </td> <td>Selected Female</td> <td>70  </td> <td>1674584        </td>\n",
       "        </tr>\n",
       "        <tr>\n",
       "            <td>2       </td> <td>Selected Female</td> <td>71  </td> <td>1647705        </td>\n",
       "        </tr>\n",
       "        <tr>\n",
       "            <td>2       </td> <td>Selected Female</td> <td>72  </td> <td>1707812        </td>\n",
       "        </tr>\n",
       "        <tr>\n",
       "            <td>2       </td> <td>Selected Female</td> <td>73  </td> <td>1259662        </td>\n",
       "        </tr>\n",
       "        <tr>\n",
       "            <td>2       </td> <td>Selected Female</td> <td>74  </td> <td>1238863        </td>\n",
       "        </tr>\n",
       "        <tr>\n",
       "            <td>2       </td> <td>Selected Female</td> <td>75  </td> <td>1199896        </td>\n",
       "        </tr>\n",
       "        <tr>\n",
       "            <td>2       </td> <td>Selected Female</td> <td>76  </td> <td>1218702        </td>\n",
       "        </tr>\n",
       "        <tr>\n",
       "            <td>2       </td> <td>Selected Female</td> <td>77  </td> <td>1056331        </td>\n",
       "        </tr>\n",
       "        <tr>\n",
       "            <td>2       </td> <td>Selected Female</td> <td>78  </td> <td>960647         </td>\n",
       "        </tr>\n",
       "        <tr>\n",
       "            <td>2       </td> <td>Selected Female</td> <td>79  </td> <td>898590         </td>\n",
       "        </tr>\n",
       "        <tr>\n",
       "            <td>2       </td> <td>Selected Female</td> <td>80  </td> <td>831640         </td>\n",
       "        </tr>\n",
       "        <tr>\n",
       "            <td>2       </td> <td>Selected Female</td> <td>81  </td> <td>788013         </td>\n",
       "        </tr>\n",
       "        <tr>\n",
       "            <td>2       </td> <td>Selected Female</td> <td>82  </td> <td>715575         </td>\n",
       "        </tr>\n",
       "        <tr>\n",
       "            <td>2       </td> <td>Selected Female</td> <td>83  </td> <td>671025         </td>\n",
       "        </tr>\n",
       "        <tr>\n",
       "            <td>2       </td> <td>Selected Female</td> <td>84  </td> <td>631230         </td>\n",
       "        </tr>\n",
       "        <tr>\n",
       "            <td>2       </td> <td>Selected Female</td> <td>85  </td> <td>551385         </td>\n",
       "        </tr>\n",
       "        <tr>\n",
       "            <td>2       </td> <td>Selected Female</td> <td>86  </td> <td>519340         </td>\n",
       "        </tr>\n",
       "        <tr>\n",
       "            <td>2       </td> <td>Selected Female</td> <td>87  </td> <td>479078         </td>\n",
       "        </tr>\n",
       "        <tr>\n",
       "            <td>2       </td> <td>Selected Female</td> <td>88  </td> <td>438887         </td>\n",
       "        </tr>\n",
       "        <tr>\n",
       "            <td>2       </td> <td>Selected Female</td> <td>89  </td> <td>403333         </td>\n",
       "        </tr>\n",
       "        <tr>\n",
       "            <td>2       </td> <td>Selected Female</td> <td>90  </td> <td>345227         </td>\n",
       "        </tr>\n",
       "        <tr>\n",
       "            <td>2       </td> <td>Selected Female</td> <td>91  </td> <td>306231         </td>\n",
       "        </tr>\n",
       "        <tr>\n",
       "            <td>2       </td> <td>Selected Female</td> <td>92  </td> <td>262383         </td>\n",
       "        </tr>\n",
       "        <tr>\n",
       "            <td>2       </td> <td>Selected Female</td> <td>93  </td> <td>217370         </td>\n",
       "        </tr>\n",
       "        <tr>\n",
       "            <td>2       </td> <td>Selected Female</td> <td>94  </td> <td>182384         </td>\n",
       "        </tr>\n",
       "        <tr>\n",
       "            <td>2       </td> <td>Selected Female</td> <td>95  </td> <td>145092         </td>\n",
       "        </tr>\n",
       "        <tr>\n",
       "            <td>2       </td> <td>Selected Female</td> <td>96  </td> <td>111417         </td>\n",
       "        </tr>\n",
       "        <tr>\n",
       "            <td>2       </td> <td>Selected Female</td> <td>97  </td> <td>84358          </td>\n",
       "        </tr>\n",
       "        <tr>\n",
       "            <td>2       </td> <td>Selected Female</td> <td>98  </td> <td>62607          </td>\n",
       "        </tr>\n",
       "        <tr>\n",
       "            <td>2       </td> <td>Selected Female</td> <td>99  </td> <td>42528          </td>\n",
       "        </tr>\n",
       "        <tr>\n",
       "            <td>2       </td> <td>Selected Female</td> <td>100 </td> <td>76850          </td>\n",
       "        </tr>\n",
       "        <tr>\n",
       "            <td>2       </td> <td>Selected Female</td> <td>999 </td> <td>166582199      </td>\n",
       "        </tr>\n",
       "    </tbody>\n",
       "</table>"
      ],
      "text/plain": [
       "<IPython.core.display.HTML object>"
      ]
     },
     "metadata": {},
     "output_type": "display_data"
    }
   ],
   "source": [
    "sex_codes.join('SEX CODE', census, 'SEX').show()"
   ]
  },
  {
   "cell_type": "markdown",
   "metadata": {},
   "source": [
    "## Bike Sharing ##"
   ]
  },
  {
   "cell_type": "code",
   "execution_count": 111,
   "metadata": {},
   "outputs": [
    {
     "data": {
      "text/html": [
       "<table border=\"1\" class=\"dataframe\">\n",
       "    <thead>\n",
       "        <tr>\n",
       "            <th>Trip ID</th> <th>Duration</th> <th>Start Date</th> <th>Start Station</th> <th>Start Terminal</th> <th>End Date</th> <th>End Station</th> <th>End Terminal</th> <th>Bike #</th> <th>Subscriber Type</th> <th>Zip Code</th>\n",
       "        </tr>\n",
       "    </thead>\n",
       "    <tbody>\n",
       "        <tr>\n",
       "            <td>913460 </td> <td>765     </td> <td>8/31/2015 23:26</td> <td>Harry Bridges Plaza (Ferry Building)         </td> <td>50            </td> <td>8/31/2015 23:39</td> <td>San Francisco Caltrain (Townsend at 4th)     </td> <td>70          </td> <td>288   </td> <td>Subscriber     </td> <td>2139    </td>\n",
       "        </tr>\n",
       "        <tr>\n",
       "            <td>913459 </td> <td>1036    </td> <td>8/31/2015 23:11</td> <td>San Antonio Shopping Center                  </td> <td>31            </td> <td>8/31/2015 23:28</td> <td>Mountain View City Hall                      </td> <td>27          </td> <td>35    </td> <td>Subscriber     </td> <td>95032   </td>\n",
       "        </tr>\n",
       "        <tr>\n",
       "            <td>913455 </td> <td>307     </td> <td>8/31/2015 23:13</td> <td>Post at Kearny                               </td> <td>47            </td> <td>8/31/2015 23:18</td> <td>2nd at South Park                            </td> <td>64          </td> <td>468   </td> <td>Subscriber     </td> <td>94107   </td>\n",
       "        </tr>\n",
       "        <tr>\n",
       "            <td>913454 </td> <td>409     </td> <td>8/31/2015 23:10</td> <td>San Jose City Hall                           </td> <td>10            </td> <td>8/31/2015 23:17</td> <td>San Salvador at 1st                          </td> <td>8           </td> <td>68    </td> <td>Subscriber     </td> <td>95113   </td>\n",
       "        </tr>\n",
       "        <tr>\n",
       "            <td>913453 </td> <td>789     </td> <td>8/31/2015 23:09</td> <td>Embarcadero at Folsom                        </td> <td>51            </td> <td>8/31/2015 23:22</td> <td>Embarcadero at Sansome                       </td> <td>60          </td> <td>487   </td> <td>Customer       </td> <td>9069    </td>\n",
       "        </tr>\n",
       "        <tr>\n",
       "            <td>913452 </td> <td>293     </td> <td>8/31/2015 23:07</td> <td>Yerba Buena Center of the Arts (3rd @ Howard)</td> <td>68            </td> <td>8/31/2015 23:12</td> <td>San Francisco Caltrain (Townsend at 4th)     </td> <td>70          </td> <td>538   </td> <td>Subscriber     </td> <td>94118   </td>\n",
       "        </tr>\n",
       "        <tr>\n",
       "            <td>913451 </td> <td>896     </td> <td>8/31/2015 23:07</td> <td>Embarcadero at Folsom                        </td> <td>51            </td> <td>8/31/2015 23:22</td> <td>Embarcadero at Sansome                       </td> <td>60          </td> <td>363   </td> <td>Customer       </td> <td>92562   </td>\n",
       "        </tr>\n",
       "        <tr>\n",
       "            <td>913450 </td> <td>255     </td> <td>8/31/2015 22:16</td> <td>Embarcadero at Sansome                       </td> <td>60            </td> <td>8/31/2015 22:20</td> <td>Steuart at Market                            </td> <td>74          </td> <td>470   </td> <td>Subscriber     </td> <td>94111   </td>\n",
       "        </tr>\n",
       "        <tr>\n",
       "            <td>913449 </td> <td>126     </td> <td>8/31/2015 22:12</td> <td>Beale at Market                              </td> <td>56            </td> <td>8/31/2015 22:15</td> <td>Temporary Transbay Terminal (Howard at Beale)</td> <td>55          </td> <td>439   </td> <td>Subscriber     </td> <td>94130   </td>\n",
       "        </tr>\n",
       "        <tr>\n",
       "            <td>913448 </td> <td>932     </td> <td>8/31/2015 21:57</td> <td>Post at Kearny                               </td> <td>47            </td> <td>8/31/2015 22:12</td> <td>South Van Ness at Market                     </td> <td>66          </td> <td>472   </td> <td>Subscriber     </td> <td>94702   </td>\n",
       "        </tr>\n",
       "    </tbody>\n",
       "</table>\n",
       "<p>... (354142 rows omitted)</p>"
      ],
      "text/plain": [
       "Trip ID | Duration | Start Date      | Start Station                                 | Start Terminal | End Date        | End Station                                   | End Terminal | Bike # | Subscriber Type | Zip Code\n",
       "913460  | 765      | 8/31/2015 23:26 | Harry Bridges Plaza (Ferry Building)          | 50             | 8/31/2015 23:39 | San Francisco Caltrain (Townsend at 4th)      | 70           | 288    | Subscriber      | 2139\n",
       "913459  | 1036     | 8/31/2015 23:11 | San Antonio Shopping Center                   | 31             | 8/31/2015 23:28 | Mountain View City Hall                       | 27           | 35     | Subscriber      | 95032\n",
       "913455  | 307      | 8/31/2015 23:13 | Post at Kearny                                | 47             | 8/31/2015 23:18 | 2nd at South Park                             | 64           | 468    | Subscriber      | 94107\n",
       "913454  | 409      | 8/31/2015 23:10 | San Jose City Hall                            | 10             | 8/31/2015 23:17 | San Salvador at 1st                           | 8            | 68     | Subscriber      | 95113\n",
       "913453  | 789      | 8/31/2015 23:09 | Embarcadero at Folsom                         | 51             | 8/31/2015 23:22 | Embarcadero at Sansome                        | 60           | 487    | Customer        | 9069\n",
       "913452  | 293      | 8/31/2015 23:07 | Yerba Buena Center of the Arts (3rd @ Howard) | 68             | 8/31/2015 23:12 | San Francisco Caltrain (Townsend at 4th)      | 70           | 538    | Subscriber      | 94118\n",
       "913451  | 896      | 8/31/2015 23:07 | Embarcadero at Folsom                         | 51             | 8/31/2015 23:22 | Embarcadero at Sansome                        | 60           | 363    | Customer        | 92562\n",
       "913450  | 255      | 8/31/2015 22:16 | Embarcadero at Sansome                        | 60             | 8/31/2015 22:20 | Steuart at Market                             | 74           | 470    | Subscriber      | 94111\n",
       "913449  | 126      | 8/31/2015 22:12 | Beale at Market                               | 56             | 8/31/2015 22:15 | Temporary Transbay Terminal (Howard at Beale) | 55           | 439    | Subscriber      | 94130\n",
       "913448  | 932      | 8/31/2015 21:57 | Post at Kearny                                | 47             | 8/31/2015 22:12 | South Van Ness at Market                      | 66           | 472    | Subscriber      | 94702\n",
       "... (354142 rows omitted)"
      ]
     },
     "execution_count": 111,
     "metadata": {},
     "output_type": "execute_result"
    }
   ],
   "source": [
    "trip = Table.read_table('trip.csv')\n",
    "trip"
   ]
  },
  {
   "cell_type": "markdown",
   "metadata": {},
   "source": [
    "## Distribution of Durations ##"
   ]
  },
  {
   "cell_type": "code",
   "execution_count": 113,
   "metadata": {},
   "outputs": [
    {
     "data": {
      "image/png": "[encoded data removed]",
      "text/plain": [
       "<Figure size 432x288 with 1 Axes>"
      ]
     },
     "metadata": {},
     "output_type": "display_data"
    }
   ],
   "source": [
    "# Visualizing durations\n",
    "trip.hist('Duration')"
   ]
  },
  {
   "cell_type": "code",
   "execution_count": 114,
   "metadata": {},
   "outputs": [
    {
     "data": {
      "text/html": [
       "<table border=\"1\" class=\"dataframe\">\n",
       "    <thead>\n",
       "        <tr>\n",
       "            <th>Trip ID</th> <th>Duration</th> <th>Start Date</th> <th>Start Station</th> <th>Start Terminal</th> <th>End Date</th> <th>End Station</th> <th>End Terminal</th> <th>Bike #</th> <th>Subscriber Type</th> <th>Zip Code</th>\n",
       "        </tr>\n",
       "    </thead>\n",
       "    <tbody>\n",
       "        <tr>\n",
       "            <td>568474 </td> <td>17270400</td> <td>12/6/2014 21:59</td> <td>South Van Ness at Market     </td> <td>66            </td> <td>6/24/2015 20:18</td> <td>2nd at Folsom                                </td> <td>62          </td> <td>535   </td> <td>Customer       </td> <td>95531   </td>\n",
       "        </tr>\n",
       "        <tr>\n",
       "            <td>825850 </td> <td>2137000 </td> <td>6/28/2015 21:50</td> <td>Market at Sansome            </td> <td>77            </td> <td>7/23/2015 15:27</td> <td>Yerba Buena Center of the Arts (3rd @ Howard)</td> <td>68          </td> <td>466   </td> <td>Customer       </td> <td>97213   </td>\n",
       "        </tr>\n",
       "        <tr>\n",
       "            <td>750192 </td> <td>1852590 </td> <td>5/2/2015 6:17  </td> <td>San Antonio Shopping Center  </td> <td>31            </td> <td>5/23/2015 16:53</td> <td>Castro Street and El Camino Real             </td> <td>32          </td> <td>680   </td> <td>Subscriber     </td> <td>94024   </td>\n",
       "        </tr>\n",
       "        <tr>\n",
       "            <td>841176 </td> <td>1133540 </td> <td>7/10/2015 10:35</td> <td>University and Emerson       </td> <td>35            </td> <td>7/23/2015 13:27</td> <td>University and Emerson                       </td> <td>35          </td> <td>262   </td> <td>Customer       </td> <td>94306   </td>\n",
       "        </tr>\n",
       "        <tr>\n",
       "            <td>522337 </td> <td>720454  </td> <td>10/30/2014 8:29</td> <td>Redwood City Caltrain Station</td> <td>22            </td> <td>11/7/2014 15:36</td> <td>Stanford in Redwood City                     </td> <td>25          </td> <td>692   </td> <td>Customer       </td> <td>94010   </td>\n",
       "        </tr>\n",
       "        <tr>\n",
       "            <td>774999 </td> <td>688899  </td> <td>5/20/2015 15:27</td> <td>Palo Alto Caltrain Station   </td> <td>34            </td> <td>5/28/2015 14:49</td> <td>California Ave Caltrain Station              </td> <td>36          </td> <td>230   </td> <td>Customer       </td> <td>nil     </td>\n",
       "        </tr>\n",
       "        <tr>\n",
       "            <td>635260 </td> <td>655939  </td> <td>2/8/2015 3:05  </td> <td>San Jose Civic Center        </td> <td>3             </td> <td>2/15/2015 17:17</td> <td>SJSU 4th at San Carlos                       </td> <td>12          </td> <td>132   </td> <td>Customer       </td> <td>89451   </td>\n",
       "        </tr>\n",
       "        <tr>\n",
       "            <td>745640 </td> <td>611240  </td> <td>4/29/2015 9:41 </td> <td>University and Emerson       </td> <td>35            </td> <td>5/6/2015 11:28 </td> <td>San Antonio Shopping Center                  </td> <td>31          </td> <td>196   </td> <td>Customer       </td> <td>81      </td>\n",
       "        </tr>\n",
       "        <tr>\n",
       "            <td>635263 </td> <td>602338  </td> <td>2/8/2015 3:09  </td> <td>San Jose Civic Center        </td> <td>3             </td> <td>2/15/2015 2:28 </td> <td>San Jose Civic Center                        </td> <td>3           </td> <td>9     </td> <td>Customer       </td> <td>89451   </td>\n",
       "        </tr>\n",
       "        <tr>\n",
       "            <td>779645 </td> <td>594550  </td> <td>5/24/2015 13:33</td> <td>San Pedro Square             </td> <td>6             </td> <td>5/31/2015 10:42</td> <td>San Pedro Square                             </td> <td>6           </td> <td>39    </td> <td>Customer       </td> <td>95118   </td>\n",
       "        </tr>\n",
       "    </tbody>\n",
       "</table>\n",
       "<p>... (354142 rows omitted)</p>"
      ],
      "text/plain": [
       "Trip ID | Duration | Start Date      | Start Station                 | Start Terminal | End Date        | End Station                                   | End Terminal | Bike # | Subscriber Type | Zip Code\n",
       "568474  | 17270400 | 12/6/2014 21:59 | South Van Ness at Market      | 66             | 6/24/2015 20:18 | 2nd at Folsom                                 | 62           | 535    | Customer        | 95531\n",
       "825850  | 2137000  | 6/28/2015 21:50 | Market at Sansome             | 77             | 7/23/2015 15:27 | Yerba Buena Center of the Arts (3rd @ Howard) | 68           | 466    | Customer        | 97213\n",
       "750192  | 1852590  | 5/2/2015 6:17   | San Antonio Shopping Center   | 31             | 5/23/2015 16:53 | Castro Street and El Camino Real              | 32           | 680    | Subscriber      | 94024\n",
       "841176  | 1133540  | 7/10/2015 10:35 | University and Emerson        | 35             | 7/23/2015 13:27 | University and Emerson                        | 35           | 262    | Customer        | 94306\n",
       "522337  | 720454   | 10/30/2014 8:29 | Redwood City Caltrain Station | 22             | 11/7/2014 15:36 | Stanford in Redwood City                      | 25           | 692    | Customer        | 94010\n",
       "774999  | 688899   | 5/20/2015 15:27 | Palo Alto Caltrain Station    | 34             | 5/28/2015 14:49 | California Ave Caltrain Station               | 36           | 230    | Customer        | nil\n",
       "635260  | 655939   | 2/8/2015 3:05   | San Jose Civic Center         | 3              | 2/15/2015 17:17 | SJSU 4th at San Carlos                        | 12           | 132    | Customer        | 89451\n",
       "745640  | 611240   | 4/29/2015 9:41  | University and Emerson        | 35             | 5/6/2015 11:28  | San Antonio Shopping Center                   | 31           | 196    | Customer        | 81\n",
       "635263  | 602338   | 2/8/2015 3:09   | San Jose Civic Center         | 3              | 2/15/2015 2:28  | San Jose Civic Center                         | 3            | 9      | Customer        | 89451\n",
       "779645  | 594550   | 5/24/2015 13:33 | San Pedro Square              | 6              | 5/31/2015 10:42 | San Pedro Square                              | 6            | 39     | Customer        | 95118\n",
       "... (354142 rows omitted)"
      ]
     },
     "execution_count": 114,
     "metadata": {},
     "output_type": "execute_result"
    }
   ],
   "source": [
    "trip.sort(\"Duration\", descending=True)"
   ]
  },
  {
   "cell_type": "code",
   "execution_count": 115,
   "metadata": {},
   "outputs": [
    {
     "data": {
      "text/html": [
       "<table border=\"1\" class=\"dataframe\">\n",
       "    <thead>\n",
       "        <tr>\n",
       "            <th>Trip ID</th> <th>Duration</th> <th>Start Date</th> <th>Start Station</th> <th>Start Terminal</th> <th>End Date</th> <th>End Station</th> <th>End Terminal</th> <th>Bike #</th> <th>Subscriber Type</th> <th>Zip Code</th>\n",
       "        </tr>\n",
       "    </thead>\n",
       "    <tbody>\n",
       "        <tr>\n",
       "            <td>913460 </td> <td>765     </td> <td>8/31/2015 23:26</td> <td>Harry Bridges Plaza (Ferry Building)         </td> <td>50            </td> <td>8/31/2015 23:39</td> <td>San Francisco Caltrain (Townsend at 4th)     </td> <td>70          </td> <td>288   </td> <td>Subscriber     </td> <td>2139    </td>\n",
       "        </tr>\n",
       "        <tr>\n",
       "            <td>913459 </td> <td>1036    </td> <td>8/31/2015 23:11</td> <td>San Antonio Shopping Center                  </td> <td>31            </td> <td>8/31/2015 23:28</td> <td>Mountain View City Hall                      </td> <td>27          </td> <td>35    </td> <td>Subscriber     </td> <td>95032   </td>\n",
       "        </tr>\n",
       "        <tr>\n",
       "            <td>913455 </td> <td>307     </td> <td>8/31/2015 23:13</td> <td>Post at Kearny                               </td> <td>47            </td> <td>8/31/2015 23:18</td> <td>2nd at South Park                            </td> <td>64          </td> <td>468   </td> <td>Subscriber     </td> <td>94107   </td>\n",
       "        </tr>\n",
       "        <tr>\n",
       "            <td>913454 </td> <td>409     </td> <td>8/31/2015 23:10</td> <td>San Jose City Hall                           </td> <td>10            </td> <td>8/31/2015 23:17</td> <td>San Salvador at 1st                          </td> <td>8           </td> <td>68    </td> <td>Subscriber     </td> <td>95113   </td>\n",
       "        </tr>\n",
       "        <tr>\n",
       "            <td>913453 </td> <td>789     </td> <td>8/31/2015 23:09</td> <td>Embarcadero at Folsom                        </td> <td>51            </td> <td>8/31/2015 23:22</td> <td>Embarcadero at Sansome                       </td> <td>60          </td> <td>487   </td> <td>Customer       </td> <td>9069    </td>\n",
       "        </tr>\n",
       "        <tr>\n",
       "            <td>913452 </td> <td>293     </td> <td>8/31/2015 23:07</td> <td>Yerba Buena Center of the Arts (3rd @ Howard)</td> <td>68            </td> <td>8/31/2015 23:12</td> <td>San Francisco Caltrain (Townsend at 4th)     </td> <td>70          </td> <td>538   </td> <td>Subscriber     </td> <td>94118   </td>\n",
       "        </tr>\n",
       "        <tr>\n",
       "            <td>913451 </td> <td>896     </td> <td>8/31/2015 23:07</td> <td>Embarcadero at Folsom                        </td> <td>51            </td> <td>8/31/2015 23:22</td> <td>Embarcadero at Sansome                       </td> <td>60          </td> <td>363   </td> <td>Customer       </td> <td>92562   </td>\n",
       "        </tr>\n",
       "        <tr>\n",
       "            <td>913450 </td> <td>255     </td> <td>8/31/2015 22:16</td> <td>Embarcadero at Sansome                       </td> <td>60            </td> <td>8/31/2015 22:20</td> <td>Steuart at Market                            </td> <td>74          </td> <td>470   </td> <td>Subscriber     </td> <td>94111   </td>\n",
       "        </tr>\n",
       "        <tr>\n",
       "            <td>913449 </td> <td>126     </td> <td>8/31/2015 22:12</td> <td>Beale at Market                              </td> <td>56            </td> <td>8/31/2015 22:15</td> <td>Temporary Transbay Terminal (Howard at Beale)</td> <td>55          </td> <td>439   </td> <td>Subscriber     </td> <td>94130   </td>\n",
       "        </tr>\n",
       "        <tr>\n",
       "            <td>913448 </td> <td>932     </td> <td>8/31/2015 21:57</td> <td>Post at Kearny                               </td> <td>47            </td> <td>8/31/2015 22:12</td> <td>South Van Ness at Market                     </td> <td>66          </td> <td>472   </td> <td>Subscriber     </td> <td>94702   </td>\n",
       "        </tr>\n",
       "    </tbody>\n",
       "</table>\n",
       "<p>... (338333 rows omitted)</p>"
      ],
      "text/plain": [
       "Trip ID | Duration | Start Date      | Start Station                                 | Start Terminal | End Date        | End Station                                   | End Terminal | Bike # | Subscriber Type | Zip Code\n",
       "913460  | 765      | 8/31/2015 23:26 | Harry Bridges Plaza (Ferry Building)          | 50             | 8/31/2015 23:39 | San Francisco Caltrain (Townsend at 4th)      | 70           | 288    | Subscriber      | 2139\n",
       "913459  | 1036     | 8/31/2015 23:11 | San Antonio Shopping Center                   | 31             | 8/31/2015 23:28 | Mountain View City Hall                       | 27           | 35     | Subscriber      | 95032\n",
       "913455  | 307      | 8/31/2015 23:13 | Post at Kearny                                | 47             | 8/31/2015 23:18 | 2nd at South Park                             | 64           | 468    | Subscriber      | 94107\n",
       "913454  | 409      | 8/31/2015 23:10 | San Jose City Hall                            | 10             | 8/31/2015 23:17 | San Salvador at 1st                           | 8            | 68     | Subscriber      | 95113\n",
       "913453  | 789      | 8/31/2015 23:09 | Embarcadero at Folsom                         | 51             | 8/31/2015 23:22 | Embarcadero at Sansome                        | 60           | 487    | Customer        | 9069\n",
       "913452  | 293      | 8/31/2015 23:07 | Yerba Buena Center of the Arts (3rd @ Howard) | 68             | 8/31/2015 23:12 | San Francisco Caltrain (Townsend at 4th)      | 70           | 538    | Subscriber      | 94118\n",
       "913451  | 896      | 8/31/2015 23:07 | Embarcadero at Folsom                         | 51             | 8/31/2015 23:22 | Embarcadero at Sansome                        | 60           | 363    | Customer        | 92562\n",
       "913450  | 255      | 8/31/2015 22:16 | Embarcadero at Sansome                        | 60             | 8/31/2015 22:20 | Steuart at Market                             | 74           | 470    | Subscriber      | 94111\n",
       "913449  | 126      | 8/31/2015 22:12 | Beale at Market                               | 56             | 8/31/2015 22:15 | Temporary Transbay Terminal (Howard at Beale) | 55           | 439    | Subscriber      | 94130\n",
       "913448  | 932      | 8/31/2015 21:57 | Post at Kearny                                | 47             | 8/31/2015 22:12 | South Van Ness at Market                      | 66           | 472    | Subscriber      | 94702\n",
       "... (338333 rows omitted)"
      ]
     },
     "execution_count": 115,
     "metadata": {},
     "output_type": "execute_result"
    }
   ],
   "source": [
    "commute = trip.where('Duration', are.below(1800))\n",
    "commute"
   ]
  },
  {
   "cell_type": "code",
   "execution_count": 116,
   "metadata": {},
   "outputs": [
    {
     "data": {
      "image/png": "[encoded data removed]",
      "text/plain": [
       "<Figure size 432x288 with 1 Axes>"
      ]
     },
     "metadata": {},
     "output_type": "display_data"
    }
   ],
   "source": [
    "commute.hist('Duration')"
   ]
  },
  {
   "cell_type": "code",
   "execution_count": 117,
   "metadata": {},
   "outputs": [
    {
     "data": {
      "image/png": "[encoded data removed]",
      "text/plain": [
       "<Figure size 432x288 with 1 Axes>"
      ]
     },
     "metadata": {},
     "output_type": "display_data"
    }
   ],
   "source": [
    "commute.hist('Duration', bins=np.arange(0, 1800, 250))"
   ]
  },
  {
   "cell_type": "code",
   "execution_count": 118,
   "metadata": {},
   "outputs": [
    {
     "data": {
      "text/plain": [
       "37.5"
      ]
     },
     "execution_count": 118,
     "metadata": {},
     "output_type": "execute_result"
    }
   ],
   "source": [
    "(500 - 250) * 0.15"
   ]
  },
  {
   "cell_type": "code",
   "execution_count": 120,
   "metadata": {},
   "outputs": [
    {
     "data": {
      "text/plain": [
       "129079"
      ]
     },
     "execution_count": 120,
     "metadata": {},
     "output_type": "execute_result"
    }
   ],
   "source": [
    "num_250and500 = commute.where('Duration', are.between(250, 500)).num_rows\n",
    "num_250and500"
   ]
  },
  {
   "cell_type": "code",
   "execution_count": 121,
   "metadata": {},
   "outputs": [
    {
     "data": {
      "text/plain": [
       "0.38150338561755376"
      ]
     },
     "execution_count": 121,
     "metadata": {},
     "output_type": "execute_result"
    }
   ],
   "source": [
    "num_250and500 / commute.num_rows"
   ]
  },
  {
   "cell_type": "code",
   "execution_count": 125,
   "metadata": {},
   "outputs": [
    {
     "data": {
      "image/png": "[encoded data removed]",
      "text/plain": [
       "<Figure size 432x288 with 1 Axes>"
      ]
     },
     "metadata": {},
     "output_type": "display_data"
    }
   ],
   "source": [
    "commute.hist('Duration', bins=60)"
   ]
  },
  {
   "cell_type": "markdown",
   "metadata": {},
   "source": [
    "## Start and End Stations ##"
   ]
  },
  {
   "cell_type": "code",
   "execution_count": 126,
   "metadata": {},
   "outputs": [
    {
     "data": {
      "text/html": [
       "<table border=\"1\" class=\"dataframe\">\n",
       "    <thead>\n",
       "        <tr>\n",
       "            <th>Start Station</th> <th>count</th>\n",
       "        </tr>\n",
       "    </thead>\n",
       "    <tbody>\n",
       "        <tr>\n",
       "            <td>San Francisco Caltrain (Townsend at 4th)     </td> <td>25858</td>\n",
       "        </tr>\n",
       "        <tr>\n",
       "            <td>San Francisco Caltrain 2 (330 Townsend)      </td> <td>21523</td>\n",
       "        </tr>\n",
       "        <tr>\n",
       "            <td>Harry Bridges Plaza (Ferry Building)         </td> <td>15543</td>\n",
       "        </tr>\n",
       "        <tr>\n",
       "            <td>Temporary Transbay Terminal (Howard at Beale)</td> <td>14298</td>\n",
       "        </tr>\n",
       "        <tr>\n",
       "            <td>2nd at Townsend                              </td> <td>13674</td>\n",
       "        </tr>\n",
       "        <tr>\n",
       "            <td>Townsend at 7th                              </td> <td>13579</td>\n",
       "        </tr>\n",
       "        <tr>\n",
       "            <td>Steuart at Market                            </td> <td>13215</td>\n",
       "        </tr>\n",
       "        <tr>\n",
       "            <td>Embarcadero at Sansome                       </td> <td>12842</td>\n",
       "        </tr>\n",
       "        <tr>\n",
       "            <td>Market at 10th                               </td> <td>11523</td>\n",
       "        </tr>\n",
       "        <tr>\n",
       "            <td>Market at Sansome                            </td> <td>11023</td>\n",
       "        </tr>\n",
       "    </tbody>\n",
       "</table>\n",
       "<p>... (60 rows omitted)</p>"
      ],
      "text/plain": [
       "Start Station                                 | count\n",
       "San Francisco Caltrain (Townsend at 4th)      | 25858\n",
       "San Francisco Caltrain 2 (330 Townsend)       | 21523\n",
       "Harry Bridges Plaza (Ferry Building)          | 15543\n",
       "Temporary Transbay Terminal (Howard at Beale) | 14298\n",
       "2nd at Townsend                               | 13674\n",
       "Townsend at 7th                               | 13579\n",
       "Steuart at Market                             | 13215\n",
       "Embarcadero at Sansome                        | 12842\n",
       "Market at 10th                                | 11523\n",
       "Market at Sansome                             | 11023\n",
       "... (60 rows omitted)"
      ]
     },
     "execution_count": 126,
     "metadata": {},
     "output_type": "execute_result"
    }
   ],
   "source": [
    "# Most common start station\n",
    "\n",
    "starts = commute.group('Start Station').sort('count', descending=True)\n",
    "starts"
   ]
  },
  {
   "cell_type": "code",
   "execution_count": 127,
   "metadata": {},
   "outputs": [
    {
     "data": {
      "text/html": [
       "<table border=\"1\" class=\"dataframe\">\n",
       "    <thead>\n",
       "        <tr>\n",
       "            <th>End Station</th> <th>2nd at Folsom</th> <th>2nd at South Park</th> <th>2nd at Townsend</th> <th>5th at Howard</th> <th>Adobe on Almaden</th> <th>Arena Green / SAP Center</th> <th>Beale at Market</th> <th>Broadway St at Battery St</th> <th>California Ave Caltrain Station</th> <th>Castro Street and El Camino Real</th> <th>Civic Center BART (7th at Market)</th> <th>Clay at Battery</th> <th>Commercial at Montgomery</th> <th>Cowper at University</th> <th>Davis at Jackson</th> <th>Embarcadero at Bryant</th> <th>Embarcadero at Folsom</th> <th>Embarcadero at Sansome</th> <th>Embarcadero at Vallejo</th> <th>Evelyn Park and Ride</th> <th>Franklin at Maple</th> <th>Golden Gate at Polk</th> <th>Grant Avenue at Columbus Avenue</th> <th>Harry Bridges Plaza (Ferry Building)</th> <th>Howard at 2nd</th> <th>Japantown</th> <th>MLK Library</th> <th>Market at 10th</th> <th>Market at 4th</th> <th>Market at Sansome</th> <th>Mechanics Plaza (Market at Battery)</th> <th>Mezes Park</th> <th>Mountain View Caltrain Station</th> <th>Mountain View City Hall</th> <th>Palo Alto Caltrain Station</th> <th>Park at Olive</th> <th>Paseo de San Antonio</th> <th>Post at Kearny</th> <th>Powell Street BART</th> <th>Powell at Post (Union Square)</th> <th>Redwood City Caltrain Station</th> <th>Redwood City Medical Center</th> <th>Redwood City Public Library</th> <th>Rengstorff Avenue / California Street</th> <th>Ryland Park</th> <th>SJSU - San Salvador at 9th</th> <th>SJSU 4th at San Carlos</th> <th>San Antonio Caltrain Station</th> <th>San Antonio Shopping Center</th> <th>San Francisco Caltrain (Townsend at 4th)</th> <th>San Francisco Caltrain 2 (330 Townsend)</th> <th>San Francisco City Hall</th> <th>San Jose City Hall</th> <th>San Jose Civic Center</th> <th>San Jose Diridon Caltrain Station</th> <th>San Mateo County Center</th> <th>San Pedro Square</th> <th>San Salvador at 1st</th> <th>Santa Clara County Civic Center</th> <th>Santa Clara at Almaden</th> <th>South Van Ness at Market</th> <th>Spear at Folsom</th> <th>St James Park</th> <th>Stanford in Redwood City</th> <th>Steuart at Market</th> <th>Temporary Transbay Terminal (Howard at Beale)</th> <th>Townsend at 7th</th> <th>University and Emerson</th> <th>Washington at Kearny</th> <th>Yerba Buena Center of the Arts (3rd @ Howard)</th>\n",
       "        </tr>\n",
       "    </thead>\n",
       "    <tbody>\n",
       "        <tr>\n",
       "            <td>2nd at Folsom                   </td> <td>54           </td> <td>190              </td> <td>554            </td> <td>107          </td> <td>0               </td> <td>0                       </td> <td>40             </td> <td>21                       </td> <td>0                              </td> <td>0                               </td> <td>44                               </td> <td>78             </td> <td>54                      </td> <td>0                   </td> <td>9               </td> <td>77                   </td> <td>32                   </td> <td>41                    </td> <td>14                    </td> <td>0                   </td> <td>0                </td> <td>11                 </td> <td>30                             </td> <td>416                                 </td> <td>53           </td> <td>0        </td> <td>0          </td> <td>169           </td> <td>114          </td> <td>302              </td> <td>33                                 </td> <td>0         </td> <td>0                             </td> <td>0                      </td> <td>0                         </td> <td>0            </td> <td>0                   </td> <td>60            </td> <td>121               </td> <td>88                           </td> <td>0                            </td> <td>0                          </td> <td>0                          </td> <td>0                                    </td> <td>0          </td> <td>0                         </td> <td>0                     </td> <td>0                           </td> <td>0                          </td> <td>694                                     </td> <td>445                                    </td> <td>21                     </td> <td>0                 </td> <td>0                    </td> <td>0                                </td> <td>0                      </td> <td>0               </td> <td>0                  </td> <td>0                              </td> <td>0                     </td> <td>38                      </td> <td>57             </td> <td>0            </td> <td>0                       </td> <td>39               </td> <td>237                                          </td> <td>342            </td> <td>0                     </td> <td>17                  </td> <td>31                                           </td>\n",
       "        </tr>\n",
       "        <tr>\n",
       "            <td>2nd at South Park               </td> <td>295          </td> <td>164              </td> <td>71             </td> <td>180          </td> <td>0               </td> <td>0                       </td> <td>208            </td> <td>85                       </td> <td>0                              </td> <td>0                               </td> <td>112                              </td> <td>87             </td> <td>160                     </td> <td>0                   </td> <td>37              </td> <td>56                   </td> <td>178                  </td> <td>83                    </td> <td>116                   </td> <td>0                   </td> <td>0                </td> <td>57                 </td> <td>73                             </td> <td>574                                 </td> <td>500          </td> <td>0        </td> <td>0          </td> <td>139           </td> <td>199          </td> <td>1633             </td> <td>119                                </td> <td>0         </td> <td>0                             </td> <td>0                      </td> <td>0                         </td> <td>0            </td> <td>0                   </td> <td>299           </td> <td>84                </td> <td>113                          </td> <td>0                            </td> <td>0                          </td> <td>0                          </td> <td>0                                    </td> <td>0          </td> <td>0                         </td> <td>0                     </td> <td>0                           </td> <td>0                          </td> <td>559                                     </td> <td>480                                    </td> <td>48                     </td> <td>0                 </td> <td>0                    </td> <td>0                                </td> <td>0                      </td> <td>0               </td> <td>0                  </td> <td>0                              </td> <td>0                     </td> <td>66                      </td> <td>152            </td> <td>0            </td> <td>0                       </td> <td>374              </td> <td>429                                          </td> <td>143            </td> <td>0                     </td> <td>63                  </td> <td>209                                          </td>\n",
       "        </tr>\n",
       "        <tr>\n",
       "            <td>2nd at Townsend                 </td> <td>437          </td> <td>151              </td> <td>185            </td> <td>92           </td> <td>0               </td> <td>0                       </td> <td>608            </td> <td>350                      </td> <td>0                              </td> <td>0                               </td> <td>80                               </td> <td>329            </td> <td>168                     </td> <td>0                   </td> <td>386             </td> <td>361                  </td> <td>658                  </td> <td>506                   </td> <td>254                   </td> <td>0                   </td> <td>0                </td> <td>27                 </td> <td>315                            </td> <td>2607                                </td> <td>295          </td> <td>0        </td> <td>0          </td> <td>110           </td> <td>225          </td> <td>845              </td> <td>177                                </td> <td>0         </td> <td>0                             </td> <td>0                      </td> <td>0                         </td> <td>0            </td> <td>0                   </td> <td>120           </td> <td>100               </td> <td>141                          </td> <td>0                            </td> <td>0                          </td> <td>0                          </td> <td>0                                    </td> <td>0          </td> <td>0                         </td> <td>0                     </td> <td>0                           </td> <td>0                          </td> <td>905                                     </td> <td>299                                    </td> <td>14                     </td> <td>0                 </td> <td>0                    </td> <td>0                                </td> <td>0                      </td> <td>0               </td> <td>0                  </td> <td>0                              </td> <td>0                     </td> <td>72                      </td> <td>508            </td> <td>0            </td> <td>0                       </td> <td>2349             </td> <td>784                                          </td> <td>417            </td> <td>0                     </td> <td>57                  </td> <td>166                                          </td>\n",
       "        </tr>\n",
       "        <tr>\n",
       "            <td>5th at Howard                   </td> <td>113          </td> <td>177              </td> <td>148            </td> <td>83           </td> <td>0               </td> <td>0                       </td> <td>59             </td> <td>130                      </td> <td>0                              </td> <td>0                               </td> <td>203                              </td> <td>76             </td> <td>129                     </td> <td>0                   </td> <td>30              </td> <td>57                   </td> <td>49                   </td> <td>166                   </td> <td>54                    </td> <td>0                   </td> <td>0                </td> <td>85                 </td> <td>78                             </td> <td>371                                 </td> <td>478          </td> <td>0        </td> <td>0          </td> <td>303           </td> <td>158          </td> <td>168              </td> <td>90                                 </td> <td>0         </td> <td>0                             </td> <td>0                      </td> <td>0                         </td> <td>0            </td> <td>0                   </td> <td>93            </td> <td>183               </td> <td>169                          </td> <td>0                            </td> <td>0                          </td> <td>0                          </td> <td>0                                    </td> <td>0          </td> <td>0                         </td> <td>0                     </td> <td>0                           </td> <td>0                          </td> <td>690                                     </td> <td>1859                                   </td> <td>48                     </td> <td>0                 </td> <td>0                    </td> <td>0                                </td> <td>0                      </td> <td>0               </td> <td>0                  </td> <td>0                              </td> <td>0                     </td> <td>116                     </td> <td>102            </td> <td>0            </td> <td>0                       </td> <td>182              </td> <td>750                                          </td> <td>200            </td> <td>0                     </td> <td>43                  </td> <td>267                                          </td>\n",
       "        </tr>\n",
       "        <tr>\n",
       "            <td>Adobe on Almaden                </td> <td>0            </td> <td>0                </td> <td>0              </td> <td>0            </td> <td>11              </td> <td>4                       </td> <td>0              </td> <td>0                        </td> <td>0                              </td> <td>0                               </td> <td>0                                </td> <td>0              </td> <td>0                       </td> <td>0                   </td> <td>0               </td> <td>0                    </td> <td>0                    </td> <td>0                     </td> <td>0                     </td> <td>0                   </td> <td>0                </td> <td>0                  </td> <td>0                              </td> <td>0                                   </td> <td>0            </td> <td>17       </td> <td>7          </td> <td>0             </td> <td>0            </td> <td>0                </td> <td>0                                  </td> <td>0         </td> <td>0                             </td> <td>0                      </td> <td>0                         </td> <td>0            </td> <td>25                  </td> <td>0             </td> <td>0                 </td> <td>0                            </td> <td>0                            </td> <td>0                          </td> <td>0                          </td> <td>0                                    </td> <td>7          </td> <td>7                         </td> <td>16                    </td> <td>0                           </td> <td>0                          </td> <td>0                                       </td> <td>0                                      </td> <td>0                      </td> <td>19                </td> <td>23                   </td> <td>265                              </td> <td>0                      </td> <td>20              </td> <td>4                  </td> <td>5                              </td> <td>10                    </td> <td>0                       </td> <td>0              </td> <td>14           </td> <td>0                       </td> <td>0                </td> <td>0                                            </td> <td>0              </td> <td>0                     </td> <td>0                   </td> <td>0                                            </td>\n",
       "        </tr>\n",
       "        <tr>\n",
       "            <td>Arena Green / SAP Center        </td> <td>0            </td> <td>0                </td> <td>0              </td> <td>0            </td> <td>7               </td> <td>64                      </td> <td>0              </td> <td>0                        </td> <td>0                              </td> <td>0                               </td> <td>0                                </td> <td>0              </td> <td>0                       </td> <td>0                   </td> <td>0               </td> <td>0                    </td> <td>0                    </td> <td>0                     </td> <td>0                     </td> <td>0                   </td> <td>0                </td> <td>0                  </td> <td>0                              </td> <td>0                                   </td> <td>0            </td> <td>16       </td> <td>5          </td> <td>0             </td> <td>0            </td> <td>0                </td> <td>0                                  </td> <td>0         </td> <td>0                             </td> <td>0                      </td> <td>0                         </td> <td>0            </td> <td>21                  </td> <td>0             </td> <td>0                 </td> <td>0                            </td> <td>0                            </td> <td>0                          </td> <td>0                          </td> <td>0                                    </td> <td>24         </td> <td>3                         </td> <td>7                     </td> <td>0                           </td> <td>0                          </td> <td>0                                       </td> <td>0                                      </td> <td>0                      </td> <td>6                 </td> <td>20                   </td> <td>7                                </td> <td>0                      </td> <td>56              </td> <td>12                 </td> <td>38                             </td> <td>259                   </td> <td>0                       </td> <td>0              </td> <td>13           </td> <td>0                       </td> <td>0                </td> <td>0                                            </td> <td>0              </td> <td>0                     </td> <td>0                   </td> <td>0                                            </td>\n",
       "        </tr>\n",
       "        <tr>\n",
       "            <td>Beale at Market                 </td> <td>127          </td> <td>79               </td> <td>183            </td> <td>59           </td> <td>0               </td> <td>0                       </td> <td>59             </td> <td>661                      </td> <td>0                              </td> <td>0                               </td> <td>201                              </td> <td>75             </td> <td>101                     </td> <td>0                   </td> <td>247             </td> <td>178                  </td> <td>38                   </td> <td>590                   </td> <td>165                   </td> <td>0                   </td> <td>0                </td> <td>54                 </td> <td>435                            </td> <td>57                                  </td> <td>72           </td> <td>0        </td> <td>0          </td> <td>286           </td> <td>236          </td> <td>163              </td> <td>26                                 </td> <td>0         </td> <td>0                             </td> <td>0                      </td> <td>0                         </td> <td>0            </td> <td>0                   </td> <td>49            </td> <td>227               </td> <td>179                          </td> <td>0                            </td> <td>0                          </td> <td>0                          </td> <td>0                                    </td> <td>0          </td> <td>0                         </td> <td>0                     </td> <td>0                           </td> <td>0                          </td> <td>640                                     </td> <td>269                                    </td> <td>25                     </td> <td>0                 </td> <td>0                    </td> <td>0                                </td> <td>0                      </td> <td>0               </td> <td>0                  </td> <td>0                              </td> <td>0                     </td> <td>243                     </td> <td>128            </td> <td>0            </td> <td>0                       </td> <td>16               </td> <td>167                                          </td> <td>35             </td> <td>0                     </td> <td>64                  </td> <td>45                                           </td>\n",
       "        </tr>\n",
       "        <tr>\n",
       "            <td>Broadway St at Battery St       </td> <td>67           </td> <td>89               </td> <td>279            </td> <td>119          </td> <td>0               </td> <td>0                       </td> <td>1022           </td> <td>110                      </td> <td>0                              </td> <td>0                               </td> <td>62                               </td> <td>283            </td> <td>226                     </td> <td>0                   </td> <td>191             </td> <td>198                  </td> <td>79                   </td> <td>231                   </td> <td>35                    </td> <td>0                   </td> <td>0                </td> <td>5                  </td> <td>70                             </td> <td>168                                 </td> <td>49           </td> <td>0        </td> <td>0          </td> <td>32            </td> <td>97           </td> <td>341              </td> <td>214                                </td> <td>0         </td> <td>0                             </td> <td>0                      </td> <td>0                         </td> <td>0            </td> <td>0                   </td> <td>169           </td> <td>71                </td> <td>218                          </td> <td>0                            </td> <td>0                          </td> <td>0                          </td> <td>0                                    </td> <td>0          </td> <td>0                         </td> <td>0                     </td> <td>0                           </td> <td>0                          </td> <td>685                                     </td> <td>438                                    </td> <td>7                      </td> <td>0                 </td> <td>0                    </td> <td>0                                </td> <td>0                      </td> <td>0               </td> <td>0                  </td> <td>0                              </td> <td>0                     </td> <td>18                      </td> <td>106            </td> <td>0            </td> <td>0                       </td> <td>344              </td> <td>748                                          </td> <td>50             </td> <td>0                     </td> <td>79                  </td> <td>47                                           </td>\n",
       "        </tr>\n",
       "        <tr>\n",
       "            <td>California Ave Caltrain Station </td> <td>0            </td> <td>0                </td> <td>0              </td> <td>0            </td> <td>0               </td> <td>0                       </td> <td>0              </td> <td>0                        </td> <td>38                             </td> <td>1                               </td> <td>0                                </td> <td>0              </td> <td>0                       </td> <td>29                  </td> <td>0               </td> <td>0                    </td> <td>0                    </td> <td>0                     </td> <td>0                     </td> <td>0                   </td> <td>0                </td> <td>0                  </td> <td>0                              </td> <td>0                                   </td> <td>0            </td> <td>0        </td> <td>0          </td> <td>0             </td> <td>0            </td> <td>0                </td> <td>0                                  </td> <td>0         </td> <td>1                             </td> <td>0                      </td> <td>192                       </td> <td>40           </td> <td>0                   </td> <td>0             </td> <td>0                 </td> <td>0                            </td> <td>0                            </td> <td>0                          </td> <td>0                          </td> <td>6                                    </td> <td>0          </td> <td>0                         </td> <td>0                     </td> <td>17                          </td> <td>10                         </td> <td>0                                       </td> <td>0                                      </td> <td>0                      </td> <td>0                 </td> <td>0                    </td> <td>0                                </td> <td>0                      </td> <td>0               </td> <td>0                  </td> <td>0                              </td> <td>0                     </td> <td>0                       </td> <td>0              </td> <td>0            </td> <td>0                       </td> <td>0                </td> <td>0                                            </td> <td>0              </td> <td>57                    </td> <td>0                   </td> <td>0                                            </td>\n",
       "        </tr>\n",
       "        <tr>\n",
       "            <td>Castro Street and El Camino Real</td> <td>0            </td> <td>0                </td> <td>0              </td> <td>0            </td> <td>0               </td> <td>0                       </td> <td>0              </td> <td>0                        </td> <td>0                              </td> <td>30                              </td> <td>0                                </td> <td>0              </td> <td>0                       </td> <td>0                   </td> <td>0               </td> <td>0                    </td> <td>0                    </td> <td>0                     </td> <td>0                     </td> <td>14                  </td> <td>0                </td> <td>0                  </td> <td>0                              </td> <td>0                                   </td> <td>0            </td> <td>0        </td> <td>0          </td> <td>0             </td> <td>0            </td> <td>0                </td> <td>0                                  </td> <td>0         </td> <td>931                           </td> <td>34                     </td> <td>0                         </td> <td>0            </td> <td>0                   </td> <td>0             </td> <td>0                 </td> <td>0                            </td> <td>0                            </td> <td>0                          </td> <td>0                          </td> <td>7                                    </td> <td>0          </td> <td>0                         </td> <td>0                     </td> <td>4                           </td> <td>12                         </td> <td>0                                       </td> <td>0                                      </td> <td>0                      </td> <td>0                 </td> <td>0                    </td> <td>0                                </td> <td>0                      </td> <td>0               </td> <td>0                  </td> <td>0                              </td> <td>0                     </td> <td>0                       </td> <td>0              </td> <td>0            </td> <td>0                       </td> <td>0                </td> <td>0                                            </td> <td>0              </td> <td>0                     </td> <td>0                   </td> <td>0                                            </td>\n",
       "        </tr>\n",
       "    </tbody>\n",
       "</table>\n",
       "<p>... (60 rows omitted)</p>"
      ],
      "text/plain": [
       "End Station                      | 2nd at Folsom | 2nd at South Park | 2nd at Townsend | 5th at Howard | Adobe on Almaden | Arena Green / SAP Center | Beale at Market | Broadway St at Battery St | California Ave Caltrain Station | Castro Street and El Camino Real | Civic Center BART (7th at Market) | Clay at Battery | Commercial at Montgomery | Cowper at University | Davis at Jackson | Embarcadero at Bryant | Embarcadero at Folsom | Embarcadero at Sansome | Embarcadero at Vallejo | Evelyn Park and Ride | Franklin at Maple | Golden Gate at Polk | Grant Avenue at Columbus Avenue | Harry Bridges Plaza (Ferry Building) | Howard at 2nd | Japantown | MLK Library | Market at 10th | Market at 4th | Market at Sansome | Mechanics Plaza (Market at Battery) | Mezes Park | Mountain View Caltrain Station | Mountain View City Hall | Palo Alto Caltrain Station | Park at Olive | Paseo de San Antonio | Post at Kearny | Powell Street BART | Powell at Post (Union Square) | Redwood City Caltrain Station | Redwood City Medical Center | Redwood City Public Library | Rengstorff Avenue / California Street | Ryland Park | SJSU - San Salvador at 9th | SJSU 4th at San Carlos | San Antonio Caltrain Station | San Antonio Shopping Center | San Francisco Caltrain (Townsend at 4th) | San Francisco Caltrain 2 (330 Townsend) | San Francisco City Hall | San Jose City Hall | San Jose Civic Center | San Jose Diridon Caltrain Station | San Mateo County Center | San Pedro Square | San Salvador at 1st | Santa Clara County Civic Center | Santa Clara at Almaden | South Van Ness at Market | Spear at Folsom | St James Park | Stanford in Redwood City | Steuart at Market | Temporary Transbay Terminal (Howard at Beale) | Townsend at 7th | University and Emerson | Washington at Kearny | Yerba Buena Center of the Arts (3rd @ Howard)\n",
       "2nd at Folsom                    | 54            | 190               | 554             | 107           | 0                | 0                        | 40              | 21                        | 0                               | 0                                | 44                                | 78              | 54                       | 0                    | 9                | 77                    | 32                    | 41                     | 14                     | 0                    | 0                 | 11                  | 30                              | 416                                  | 53            | 0         | 0           | 169            | 114           | 302               | 33                                  | 0          | 0                              | 0                       | 0                          | 0             | 0                    | 60             | 121                | 88                            | 0                             | 0                           | 0                           | 0                                     | 0           | 0                          | 0                      | 0                            | 0                           | 694                                      | 445                                     | 21                      | 0                  | 0                     | 0                                 | 0                       | 0                | 0                   | 0                               | 0                      | 38                       | 57              | 0             | 0                        | 39                | 237                                           | 342             | 0                      | 17                   | 31\n",
       "2nd at South Park                | 295           | 164               | 71              | 180           | 0                | 0                        | 208             | 85                        | 0                               | 0                                | 112                               | 87              | 160                      | 0                    | 37               | 56                    | 178                   | 83                     | 116                    | 0                    | 0                 | 57                  | 73                              | 574                                  | 500           | 0         | 0           | 139            | 199           | 1633              | 119                                 | 0          | 0                              | 0                       | 0                          | 0             | 0                    | 299            | 84                 | 113                           | 0                             | 0                           | 0                           | 0                                     | 0           | 0                          | 0                      | 0                            | 0                           | 559                                      | 480                                     | 48                      | 0                  | 0                     | 0                                 | 0                       | 0                | 0                   | 0                               | 0                      | 66                       | 152             | 0             | 0                        | 374               | 429                                           | 143             | 0                      | 63                   | 209\n",
       "2nd at Townsend                  | 437           | 151               | 185             | 92            | 0                | 0                        | 608             | 350                       | 0                               | 0                                | 80                                | 329             | 168                      | 0                    | 386              | 361                   | 658                   | 506                    | 254                    | 0                    | 0                 | 27                  | 315                             | 2607                                 | 295           | 0         | 0           | 110            | 225           | 845               | 177                                 | 0          | 0                              | 0                       | 0                          | 0             | 0                    | 120            | 100                | 141                           | 0                             | 0                           | 0                           | 0                                     | 0           | 0                          | 0                      | 0                            | 0                           | 905                                      | 299                                     | 14                      | 0                  | 0                     | 0                                 | 0                       | 0                | 0                   | 0                               | 0                      | 72                       | 508             | 0             | 0                        | 2349              | 784                                           | 417             | 0                      | 57                   | 166\n",
       "5th at Howard                    | 113           | 177               | 148             | 83            | 0                | 0                        | 59              | 130                       | 0                               | 0                                | 203                               | 76              | 129                      | 0                    | 30               | 57                    | 49                    | 166                    | 54                     | 0                    | 0                 | 85                  | 78                              | 371                                  | 478           | 0         | 0           | 303            | 158           | 168               | 90                                  | 0          | 0                              | 0                       | 0                          | 0             | 0                    | 93             | 183                | 169                           | 0                             | 0                           | 0                           | 0                                     | 0           | 0                          | 0                      | 0                            | 0                           | 690                                      | 1859                                    | 48                      | 0                  | 0                     | 0                                 | 0                       | 0                | 0                   | 0                               | 0                      | 116                      | 102             | 0             | 0                        | 182               | 750                                           | 200             | 0                      | 43                   | 267\n",
       "Adobe on Almaden                 | 0             | 0                 | 0               | 0             | 11               | 4                        | 0               | 0                         | 0                               | 0                                | 0                                 | 0               | 0                        | 0                    | 0                | 0                     | 0                     | 0                      | 0                      | 0                    | 0                 | 0                   | 0                               | 0                                    | 0             | 17        | 7           | 0              | 0             | 0                 | 0                                   | 0          | 0                              | 0                       | 0                          | 0             | 25                   | 0              | 0                  | 0                             | 0                             | 0                           | 0                           | 0                                     | 7           | 7                          | 16                     | 0                            | 0                           | 0                                        | 0                                       | 0                       | 19                 | 23                    | 265                               | 0                       | 20               | 4                   | 5                               | 10                     | 0                        | 0               | 14            | 0                        | 0                 | 0                                             | 0               | 0                      | 0                    | 0\n",
       "Arena Green / SAP Center         | 0             | 0                 | 0               | 0             | 7                | 64                       | 0               | 0                         | 0                               | 0                                | 0                                 | 0               | 0                        | 0                    | 0                | 0                     | 0                     | 0                      | 0                      | 0                    | 0                 | 0                   | 0                               | 0                                    | 0             | 16        | 5           | 0              | 0             | 0                 | 0                                   | 0          | 0                              | 0                       | 0                          | 0             | 21                   | 0              | 0                  | 0                             | 0                             | 0                           | 0                           | 0                                     | 24          | 3                          | 7                      | 0                            | 0                           | 0                                        | 0                                       | 0                       | 6                  | 20                    | 7                                 | 0                       | 56               | 12                  | 38                              | 259                    | 0                        | 0               | 13            | 0                        | 0                 | 0                                             | 0               | 0                      | 0                    | 0\n",
       "Beale at Market                  | 127           | 79                | 183             | 59            | 0                | 0                        | 59              | 661                       | 0                               | 0                                | 201                               | 75              | 101                      | 0                    | 247              | 178                   | 38                    | 590                    | 165                    | 0                    | 0                 | 54                  | 435                             | 57                                   | 72            | 0         | 0           | 286            | 236           | 163               | 26                                  | 0          | 0                              | 0                       | 0                          | 0             | 0                    | 49             | 227                | 179                           | 0                             | 0                           | 0                           | 0                                     | 0           | 0                          | 0                      | 0                            | 0                           | 640                                      | 269                                     | 25                      | 0                  | 0                     | 0                                 | 0                       | 0                | 0                   | 0                               | 0                      | 243                      | 128             | 0             | 0                        | 16                | 167                                           | 35              | 0                      | 64                   | 45\n",
       "Broadway St at Battery St        | 67            | 89                | 279             | 119           | 0                | 0                        | 1022            | 110                       | 0                               | 0                                | 62                                | 283             | 226                      | 0                    | 191              | 198                   | 79                    | 231                    | 35                     | 0                    | 0                 | 5                   | 70                              | 168                                  | 49            | 0         | 0           | 32             | 97            | 341               | 214                                 | 0          | 0                              | 0                       | 0                          | 0             | 0                    | 169            | 71                 | 218                           | 0                             | 0                           | 0                           | 0                                     | 0           | 0                          | 0                      | 0                            | 0                           | 685                                      | 438                                     | 7                       | 0                  | 0                     | 0                                 | 0                       | 0                | 0                   | 0                               | 0                      | 18                       | 106             | 0             | 0                        | 344               | 748                                           | 50              | 0                      | 79                   | 47\n",
       "California Ave Caltrain Station  | 0             | 0                 | 0               | 0             | 0                | 0                        | 0               | 0                         | 38                              | 1                                | 0                                 | 0               | 0                        | 29                   | 0                | 0                     | 0                     | 0                      | 0                      | 0                    | 0                 | 0                   | 0                               | 0                                    | 0             | 0         | 0           | 0              | 0             | 0                 | 0                                   | 0          | 1                              | 0                       | 192                        | 40            | 0                    | 0              | 0                  | 0                             | 0                             | 0                           | 0                           | 6                                     | 0           | 0                          | 0                      | 17                           | 10                          | 0                                        | 0                                       | 0                       | 0                  | 0                     | 0                                 | 0                       | 0                | 0                   | 0                               | 0                      | 0                        | 0               | 0             | 0                        | 0                 | 0                                             | 0               | 57                     | 0                    | 0\n",
       "Castro Street and El Camino Real | 0             | 0                 | 0               | 0             | 0                | 0                        | 0               | 0                         | 0                               | 30                               | 0                                 | 0               | 0                        | 0                    | 0                | 0                     | 0                     | 0                      | 0                      | 14                   | 0                 | 0                   | 0                               | 0                                    | 0             | 0         | 0           | 0              | 0             | 0                 | 0                                   | 0          | 931                            | 34                      | 0                          | 0             | 0                    | 0              | 0                  | 0                             | 0                             | 0                           | 0                           | 7                                     | 0           | 0                          | 0                      | 4                            | 12                          | 0                                        | 0                                       | 0                       | 0                  | 0                     | 0                                 | 0                       | 0                | 0                   | 0                               | 0                      | 0                        | 0               | 0             | 0                        | 0                 | 0                                             | 0               | 0                      | 0                    | 0\n",
       "... (60 rows omitted)"
      ]
     },
     "execution_count": 127,
     "metadata": {},
     "output_type": "execute_result"
    }
   ],
   "source": [
    "# Numbers of trips between stations x & y-axis\n",
    "commute.pivot(\"Start Station\", \"End Station\")"
   ]
  },
  {
   "cell_type": "code",
   "execution_count": 130,
   "metadata": {},
   "outputs": [
    {
     "data": {
      "text/html": [
       "<table border=\"1\" class=\"dataframe\">\n",
       "    <thead>\n",
       "        <tr>\n",
       "            <th>End Station</th> <th>2nd at Folsom</th> <th>2nd at South Park</th> <th>2nd at Townsend</th> <th>5th at Howard</th> <th>Adobe on Almaden</th> <th>Arena Green / SAP Center</th> <th>Beale at Market</th> <th>Broadway St at Battery St</th> <th>California Ave Caltrain Station</th> <th>Castro Street and El Camino Real</th> <th>Civic Center BART (7th at Market)</th> <th>Clay at Battery</th> <th>Commercial at Montgomery</th> <th>Cowper at University</th> <th>Davis at Jackson</th> <th>Embarcadero at Bryant</th> <th>Embarcadero at Folsom</th> <th>Embarcadero at Sansome</th> <th>Embarcadero at Vallejo</th> <th>Evelyn Park and Ride</th> <th>Franklin at Maple</th> <th>Golden Gate at Polk</th> <th>Grant Avenue at Columbus Avenue</th> <th>Harry Bridges Plaza (Ferry Building)</th> <th>Howard at 2nd</th> <th>Japantown</th> <th>MLK Library</th> <th>Market at 10th</th> <th>Market at 4th</th> <th>Market at Sansome</th> <th>Mechanics Plaza (Market at Battery)</th> <th>Mezes Park</th> <th>Mountain View Caltrain Station</th> <th>Mountain View City Hall</th> <th>Palo Alto Caltrain Station</th> <th>Park at Olive</th> <th>Paseo de San Antonio</th> <th>Post at Kearny</th> <th>Powell Street BART</th> <th>Powell at Post (Union Square)</th> <th>Redwood City Caltrain Station</th> <th>Redwood City Medical Center</th> <th>Redwood City Public Library</th> <th>Rengstorff Avenue / California Street</th> <th>Ryland Park</th> <th>SJSU - San Salvador at 9th</th> <th>SJSU 4th at San Carlos</th> <th>San Antonio Caltrain Station</th> <th>San Antonio Shopping Center</th> <th>San Francisco Caltrain (Townsend at 4th)</th> <th>San Francisco Caltrain 2 (330 Townsend)</th> <th>San Francisco City Hall</th> <th>San Jose City Hall</th> <th>San Jose Civic Center</th> <th>San Jose Diridon Caltrain Station</th> <th>San Mateo County Center</th> <th>San Pedro Square</th> <th>San Salvador at 1st</th> <th>Santa Clara County Civic Center</th> <th>Santa Clara at Almaden</th> <th>South Van Ness at Market</th> <th>Spear at Folsom</th> <th>St James Park</th> <th>Stanford in Redwood City</th> <th>Steuart at Market</th> <th>Temporary Transbay Terminal (Howard at Beale)</th> <th>Townsend at 7th</th> <th>University and Emerson</th> <th>Washington at Kearny</th> <th>Yerba Buena Center of the Arts (3rd @ Howard)</th>\n",
       "        </tr>\n",
       "    </thead>\n",
       "    <tbody>\n",
       "        <tr>\n",
       "            <td>2nd at Folsom                   </td> <td>702.13       </td> <td>253.874          </td> <td>309.087        </td> <td>418.065      </td> <td>0               </td> <td>0                       </td> <td>424.15         </td> <td>740.714                  </td> <td>0                              </td> <td>0                               </td> <td>668.886                          </td> <td>516.897        </td> <td>495.519                 </td> <td>0                   </td> <td>862.889         </td> <td>388.117              </td> <td>493.469              </td> <td>1114.71               </td> <td>818.429               </td> <td>0                   </td> <td>0                </td> <td>825                </td> <td>662.933                        </td> <td>500.44                              </td> <td>254.245      </td> <td>0        </td> <td>0          </td> <td>728.627       </td> <td>435.947      </td> <td>291.076          </td> <td>378.576                            </td> <td>0         </td> <td>0                             </td> <td>0                      </td> <td>0                         </td> <td>0            </td> <td>0                   </td> <td>380.083       </td> <td>541.926           </td> <td>518.011                      </td> <td>0                            </td> <td>0                          </td> <td>0                          </td> <td>0                                    </td> <td>0          </td> <td>0                         </td> <td>0                     </td> <td>0                           </td> <td>0                          </td> <td>469.137                                 </td> <td>484.382                                </td> <td>1037                   </td> <td>0                 </td> <td>0                    </td> <td>0                                </td> <td>0                      </td> <td>0               </td> <td>0                  </td> <td>0                              </td> <td>0                     </td> <td>836.684                 </td> <td>365.579        </td> <td>0            </td> <td>0                       </td> <td>575.923          </td> <td>250.553                                      </td> <td>646.038        </td> <td>0                     </td> <td>617                 </td> <td>386.032                                      </td>\n",
       "        </tr>\n",
       "        <tr>\n",
       "            <td>2nd at South Park               </td> <td>196.085      </td> <td>618.116          </td> <td>237.366        </td> <td>507.394      </td> <td>0               </td> <td>0                       </td> <td>450.279        </td> <td>715.247                  </td> <td>0                              </td> <td>0                               </td> <td>900.679                          </td> <td>589.368        </td> <td>612.456                 </td> <td>0                   </td> <td>640.081         </td> <td>317.625              </td> <td>404.27               </td> <td>940.253               </td> <td>648.948               </td> <td>0                   </td> <td>0                </td> <td>732.632            </td> <td>815.671                        </td> <td>501.608                             </td> <td>230.486      </td> <td>0        </td> <td>0          </td> <td>834.396       </td> <td>513.307      </td> <td>323.982          </td> <td>423.605                            </td> <td>0         </td> <td>0                             </td> <td>0                      </td> <td>0                         </td> <td>0            </td> <td>0                   </td> <td>328.813       </td> <td>616.429           </td> <td>567.77                       </td> <td>0                            </td> <td>0                          </td> <td>0                          </td> <td>0                                    </td> <td>0          </td> <td>0                         </td> <td>0                     </td> <td>0                           </td> <td>0                          </td> <td>281.635                                 </td> <td>349.079                                </td> <td>780.958                </td> <td>0                 </td> <td>0                    </td> <td>0                                </td> <td>0                      </td> <td>0               </td> <td>0                  </td> <td>0                              </td> <td>0                     </td> <td>831.879                 </td> <td>359.105        </td> <td>0            </td> <td>0                       </td> <td>490.479          </td> <td>356.287                                      </td> <td>473.056        </td> <td>0                     </td> <td>722.063             </td> <td>395.474                                      </td>\n",
       "        </tr>\n",
       "        <tr>\n",
       "            <td>2nd at Townsend                 </td> <td>293.874      </td> <td>281.344          </td> <td>787.314        </td> <td>655.196      </td> <td>0               </td> <td>0                       </td> <td>531.243        </td> <td>759.451                  </td> <td>0                              </td> <td>0                               </td> <td>846.888                          </td> <td>773.72         </td> <td>803.345                 </td> <td>0                   </td> <td>691.054         </td> <td>363.294              </td> <td>465.685              </td> <td>926.796               </td> <td>819.772               </td> <td>0                   </td> <td>0                </td> <td>1070.59            </td> <td>919.073                        </td> <td>609.987                             </td> <td>371.105      </td> <td>0        </td> <td>0          </td> <td>877.591       </td> <td>731.92       </td> <td>506.895          </td> <td>673.452                            </td> <td>0         </td> <td>0                             </td> <td>0                      </td> <td>0                         </td> <td>0            </td> <td>0                   </td> <td>666.625       </td> <td>865.7             </td> <td>776.333                      </td> <td>0                            </td> <td>0                          </td> <td>0                          </td> <td>0                                    </td> <td>0          </td> <td>0                         </td> <td>0                     </td> <td>0                           </td> <td>0                          </td> <td>262.334                                 </td> <td>310.047                                </td> <td>985.214                </td> <td>0                 </td> <td>0                    </td> <td>0                                </td> <td>0                      </td> <td>0               </td> <td>0                  </td> <td>0                              </td> <td>0                     </td> <td>1102.06                 </td> <td>404.522        </td> <td>0            </td> <td>0                       </td> <td>543.83           </td> <td>420.519                                      </td> <td>480.285        </td> <td>0                     </td> <td>1092.67             </td> <td>585.169                                      </td>\n",
       "        </tr>\n",
       "        <tr>\n",
       "            <td>5th at Howard                   </td> <td>381.274      </td> <td>573.729          </td> <td>613.514        </td> <td>718.096      </td> <td>0               </td> <td>0                       </td> <td>611.797        </td> <td>808.077                  </td> <td>0                              </td> <td>0                               </td> <td>379.35                           </td> <td>668.697        </td> <td>542.512                 </td> <td>0                   </td> <td>730.4           </td> <td>666.965              </td> <td>613.49               </td> <td>1056.59               </td> <td>952.167               </td> <td>0                   </td> <td>0                </td> <td>469.741            </td> <td>834.692                        </td> <td>676.55                              </td> <td>281.975      </td> <td>0        </td> <td>0          </td> <td>449.548       </td> <td>295.297      </td> <td>414.857          </td> <td>545.6                              </td> <td>0         </td> <td>0                             </td> <td>0                      </td> <td>0                         </td> <td>0            </td> <td>0                   </td> <td>410.043       </td> <td>255.956           </td> <td>357.799                      </td> <td>0                            </td> <td>0                          </td> <td>0                          </td> <td>0                                    </td> <td>0          </td> <td>0                         </td> <td>0                     </td> <td>0                           </td> <td>0                          </td> <td>434.022                                 </td> <td>386.263                                </td> <td>605.708                </td> <td>0                 </td> <td>0                    </td> <td>0                                </td> <td>0                      </td> <td>0               </td> <td>0                  </td> <td>0                              </td> <td>0                     </td> <td>553.362                 </td> <td>584.98         </td> <td>0            </td> <td>0                       </td> <td>662.308          </td> <td>406.225                                      </td> <td>546.84         </td> <td>0                     </td> <td>972.07              </td> <td>206.704                                      </td>\n",
       "        </tr>\n",
       "        <tr>\n",
       "            <td>Adobe on Almaden                </td> <td>0            </td> <td>0                </td> <td>0              </td> <td>0            </td> <td>462             </td> <td>583.5                   </td> <td>0              </td> <td>0                        </td> <td>0                              </td> <td>0                               </td> <td>0                                </td> <td>0              </td> <td>0                       </td> <td>0                   </td> <td>0               </td> <td>0                    </td> <td>0                    </td> <td>0                     </td> <td>0                     </td> <td>0                   </td> <td>0                </td> <td>0                  </td> <td>0                              </td> <td>0                                   </td> <td>0            </td> <td>942.176  </td> <td>616        </td> <td>0             </td> <td>0            </td> <td>0                </td> <td>0                                  </td> <td>0         </td> <td>0                             </td> <td>0                      </td> <td>0                         </td> <td>0            </td> <td>463.92              </td> <td>0             </td> <td>0                 </td> <td>0                            </td> <td>0                            </td> <td>0                          </td> <td>0                          </td> <td>0                                    </td> <td>639.857    </td> <td>858.571                   </td> <td>534.438               </td> <td>0                           </td> <td>0                          </td> <td>0                                       </td> <td>0                                      </td> <td>0                      </td> <td>546.316           </td> <td>399.435              </td> <td>292.702                          </td> <td>0                      </td> <td>360.4           </td> <td>684                </td> <td>1164.4                         </td> <td>251.9                 </td> <td>0                       </td> <td>0              </td> <td>516.857      </td> <td>0                       </td> <td>0                </td> <td>0                                            </td> <td>0              </td> <td>0                     </td> <td>0                   </td> <td>0                                            </td>\n",
       "        </tr>\n",
       "        <tr>\n",
       "            <td>Arena Green / SAP Center        </td> <td>0            </td> <td>0                </td> <td>0              </td> <td>0            </td> <td>540.286         </td> <td>948.844                 </td> <td>0              </td> <td>0                        </td> <td>0                              </td> <td>0                               </td> <td>0                                </td> <td>0              </td> <td>0                       </td> <td>0                   </td> <td>0               </td> <td>0                    </td> <td>0                    </td> <td>0                     </td> <td>0                     </td> <td>0                   </td> <td>0                </td> <td>0                  </td> <td>0                              </td> <td>0                                   </td> <td>0            </td> <td>955.312  </td> <td>952.6      </td> <td>0             </td> <td>0            </td> <td>0                </td> <td>0                                  </td> <td>0         </td> <td>0                             </td> <td>0                      </td> <td>0                         </td> <td>0            </td> <td>706.762             </td> <td>0             </td> <td>0                 </td> <td>0                            </td> <td>0                            </td> <td>0                          </td> <td>0                          </td> <td>0                                    </td> <td>684.917    </td> <td>902.333                   </td> <td>965                   </td> <td>0                           </td> <td>0                          </td> <td>0                                       </td> <td>0                                      </td> <td>0                      </td> <td>536.667           </td> <td>782.1                </td> <td>778                              </td> <td>0                      </td> <td>373.393         </td> <td>1127.92            </td> <td>1222.24                        </td> <td>219.985               </td> <td>0                       </td> <td>0              </td> <td>645          </td> <td>0                       </td> <td>0                </td> <td>0                                            </td> <td>0              </td> <td>0                     </td> <td>0                   </td> <td>0                                            </td>\n",
       "        </tr>\n",
       "        <tr>\n",
       "            <td>Beale at Market                 </td> <td>360.701      </td> <td>603.873          </td> <td>685.934        </td> <td>625          </td> <td>0               </td> <td>0                       </td> <td>720.932        </td> <td>282.033                  </td> <td>0                              </td> <td>0                               </td> <td>627.423                          </td> <td>273.973        </td> <td>303.168                 </td> <td>0                   </td> <td>232.777         </td> <td>441.483              </td> <td>300.5                </td> <td>498.2                 </td> <td>352.467               </td> <td>0                   </td> <td>0                </td> <td>697.074            </td> <td>416.986                        </td> <td>465.877                             </td> <td>329.5        </td> <td>0        </td> <td>0          </td> <td>731.175       </td> <td>386.292      </td> <td>217.528          </td> <td>350.115                            </td> <td>0         </td> <td>0                             </td> <td>0                      </td> <td>0                         </td> <td>0            </td> <td>0                   </td> <td>340.857       </td> <td>502.335           </td> <td>374.793                      </td> <td>0                            </td> <td>0                          </td> <td>0                          </td> <td>0                                    </td> <td>0          </td> <td>0                         </td> <td>0                     </td> <td>0                           </td> <td>0                          </td> <td>783.228                                 </td> <td>792.387                                </td> <td>809.92                 </td> <td>0                 </td> <td>0                    </td> <td>0                                </td> <td>0                      </td> <td>0               </td> <td>0                  </td> <td>0                              </td> <td>0                     </td> <td>781.634                 </td> <td>301.297        </td> <td>0            </td> <td>0                       </td> <td>438.75           </td> <td>207.94                                       </td> <td>953.429        </td> <td>0                     </td> <td>465.688             </td> <td>444.689                                      </td>\n",
       "        </tr>\n",
       "        <tr>\n",
       "            <td>Broadway St at Battery St       </td> <td>613.672      </td> <td>826.899          </td> <td>719.695        </td> <td>931.891      </td> <td>0               </td> <td>0                       </td> <td>331.727        </td> <td>688.682                  </td> <td>0                              </td> <td>0                               </td> <td>942.629                          </td> <td>240.929        </td> <td>245.23                  </td> <td>0                   </td> <td>190.906         </td> <td>576.172              </td> <td>503.241              </td> <td>369.61                </td> <td>403.314               </td> <td>0                   </td> <td>0                </td> <td>1213.2             </td> <td>364.543                        </td> <td>436.101                             </td> <td>600.939      </td> <td>0        </td> <td>0          </td> <td>1068.12       </td> <td>629.866      </td> <td>416.267          </td> <td>414.935                            </td> <td>0         </td> <td>0                             </td> <td>0                      </td> <td>0                         </td> <td>0            </td> <td>0                   </td> <td>503.763       </td> <td>725.521           </td> <td>562.271                      </td> <td>0                            </td> <td>0                          </td> <td>0                          </td> <td>0                                    </td> <td>0          </td> <td>0                         </td> <td>0                     </td> <td>0                           </td> <td>0                          </td> <td>893.467                                 </td> <td>893.123                                </td> <td>1083.43                </td> <td>0                 </td> <td>0                    </td> <td>0                                </td> <td>0                      </td> <td>0               </td> <td>0                  </td> <td>0                              </td> <td>0                     </td> <td>1010.5                  </td> <td>516.17         </td> <td>0            </td> <td>0                       </td> <td>378.265          </td> <td>484.57                                       </td> <td>1204.94        </td> <td>0                     </td> <td>383.937             </td> <td>648.745                                      </td>\n",
       "        </tr>\n",
       "        <tr>\n",
       "            <td>California Ave Caltrain Station </td> <td>0            </td> <td>0                </td> <td>0              </td> <td>0            </td> <td>0               </td> <td>0                       </td> <td>0              </td> <td>0                        </td> <td>898.553                        </td> <td>1645                            </td> <td>0                                </td> <td>0              </td> <td>0                       </td> <td>977.552             </td> <td>0               </td> <td>0                    </td> <td>0                    </td> <td>0                     </td> <td>0                     </td> <td>0                   </td> <td>0                </td> <td>0                  </td> <td>0                              </td> <td>0                                   </td> <td>0            </td> <td>0        </td> <td>0          </td> <td>0             </td> <td>0            </td> <td>0                </td> <td>0                                  </td> <td>0         </td> <td>1771                          </td> <td>0                      </td> <td>714.922                   </td> <td>277.025      </td> <td>0                   </td> <td>0             </td> <td>0                 </td> <td>0                            </td> <td>0                            </td> <td>0                          </td> <td>0                          </td> <td>1260.33                              </td> <td>0          </td> <td>0                         </td> <td>0                     </td> <td>1295.65                     </td> <td>994                        </td> <td>0                                       </td> <td>0                                      </td> <td>0                      </td> <td>0                 </td> <td>0                    </td> <td>0                                </td> <td>0                      </td> <td>0               </td> <td>0                  </td> <td>0                              </td> <td>0                     </td> <td>0                       </td> <td>0              </td> <td>0            </td> <td>0                       </td> <td>0                </td> <td>0                                            </td> <td>0              </td> <td>973.544               </td> <td>0                   </td> <td>0                                            </td>\n",
       "        </tr>\n",
       "        <tr>\n",
       "            <td>Castro Street and El Camino Real</td> <td>0            </td> <td>0                </td> <td>0              </td> <td>0            </td> <td>0               </td> <td>0                       </td> <td>0              </td> <td>0                        </td> <td>0                              </td> <td>817.5                           </td> <td>0                                </td> <td>0              </td> <td>0                       </td> <td>0                   </td> <td>0               </td> <td>0                    </td> <td>0                    </td> <td>0                     </td> <td>0                     </td> <td>747.214             </td> <td>0                </td> <td>0                  </td> <td>0                              </td> <td>0                                   </td> <td>0            </td> <td>0        </td> <td>0          </td> <td>0             </td> <td>0            </td> <td>0                </td> <td>0                                  </td> <td>0         </td> <td>388.583                       </td> <td>317.118                </td> <td>0                         </td> <td>0            </td> <td>0                   </td> <td>0             </td> <td>0                 </td> <td>0                            </td> <td>0                            </td> <td>0                          </td> <td>0                          </td> <td>894.429                              </td> <td>0          </td> <td>0                         </td> <td>0                     </td> <td>1117                        </td> <td>987.25                     </td> <td>0                                       </td> <td>0                                      </td> <td>0                      </td> <td>0                 </td> <td>0                    </td> <td>0                                </td> <td>0                      </td> <td>0               </td> <td>0                  </td> <td>0                              </td> <td>0                     </td> <td>0                       </td> <td>0              </td> <td>0            </td> <td>0                       </td> <td>0                </td> <td>0                                            </td> <td>0              </td> <td>0                     </td> <td>0                   </td> <td>0                                            </td>\n",
       "        </tr>\n",
       "    </tbody>\n",
       "</table>\n",
       "<p>... (60 rows omitted)</p>"
      ],
      "text/plain": [
       "End Station                      | 2nd at Folsom | 2nd at South Park | 2nd at Townsend | 5th at Howard | Adobe on Almaden | Arena Green / SAP Center | Beale at Market | Broadway St at Battery St | California Ave Caltrain Station | Castro Street and El Camino Real | Civic Center BART (7th at Market) | Clay at Battery | Commercial at Montgomery | Cowper at University | Davis at Jackson | Embarcadero at Bryant | Embarcadero at Folsom | Embarcadero at Sansome | Embarcadero at Vallejo | Evelyn Park and Ride | Franklin at Maple | Golden Gate at Polk | Grant Avenue at Columbus Avenue | Harry Bridges Plaza (Ferry Building) | Howard at 2nd | Japantown | MLK Library | Market at 10th | Market at 4th | Market at Sansome | Mechanics Plaza (Market at Battery) | Mezes Park | Mountain View Caltrain Station | Mountain View City Hall | Palo Alto Caltrain Station | Park at Olive | Paseo de San Antonio | Post at Kearny | Powell Street BART | Powell at Post (Union Square) | Redwood City Caltrain Station | Redwood City Medical Center | Redwood City Public Library | Rengstorff Avenue / California Street | Ryland Park | SJSU - San Salvador at 9th | SJSU 4th at San Carlos | San Antonio Caltrain Station | San Antonio Shopping Center | San Francisco Caltrain (Townsend at 4th) | San Francisco Caltrain 2 (330 Townsend) | San Francisco City Hall | San Jose City Hall | San Jose Civic Center | San Jose Diridon Caltrain Station | San Mateo County Center | San Pedro Square | San Salvador at 1st | Santa Clara County Civic Center | Santa Clara at Almaden | South Van Ness at Market | Spear at Folsom | St James Park | Stanford in Redwood City | Steuart at Market | Temporary Transbay Terminal (Howard at Beale) | Townsend at 7th | University and Emerson | Washington at Kearny | Yerba Buena Center of the Arts (3rd @ Howard)\n",
       "2nd at Folsom                    | 702.13        | 253.874           | 309.087         | 418.065       | 0                | 0                        | 424.15          | 740.714                   | 0                               | 0                                | 668.886                           | 516.897         | 495.519                  | 0                    | 862.889          | 388.117               | 493.469               | 1114.71                | 818.429                | 0                    | 0                 | 825                 | 662.933                         | 500.44                               | 254.245       | 0         | 0           | 728.627        | 435.947       | 291.076           | 378.576                             | 0          | 0                              | 0                       | 0                          | 0             | 0                    | 380.083        | 541.926            | 518.011                       | 0                             | 0                           | 0                           | 0                                     | 0           | 0                          | 0                      | 0                            | 0                           | 469.137                                  | 484.382                                 | 1037                    | 0                  | 0                     | 0                                 | 0                       | 0                | 0                   | 0                               | 0                      | 836.684                  | 365.579         | 0             | 0                        | 575.923           | 250.553                                       | 646.038         | 0                      | 617                  | 386.032\n",
       "2nd at South Park                | 196.085       | 618.116           | 237.366         | 507.394       | 0                | 0                        | 450.279         | 715.247                   | 0                               | 0                                | 900.679                           | 589.368         | 612.456                  | 0                    | 640.081          | 317.625               | 404.27                | 940.253                | 648.948                | 0                    | 0                 | 732.632             | 815.671                         | 501.608                              | 230.486       | 0         | 0           | 834.396        | 513.307       | 323.982           | 423.605                             | 0          | 0                              | 0                       | 0                          | 0             | 0                    | 328.813        | 616.429            | 567.77                        | 0                             | 0                           | 0                           | 0                                     | 0           | 0                          | 0                      | 0                            | 0                           | 281.635                                  | 349.079                                 | 780.958                 | 0                  | 0                     | 0                                 | 0                       | 0                | 0                   | 0                               | 0                      | 831.879                  | 359.105         | 0             | 0                        | 490.479           | 356.287                                       | 473.056         | 0                      | 722.063              | 395.474\n",
       "2nd at Townsend                  | 293.874       | 281.344           | 787.314         | 655.196       | 0                | 0                        | 531.243         | 759.451                   | 0                               | 0                                | 846.888                           | 773.72          | 803.345                  | 0                    | 691.054          | 363.294               | 465.685               | 926.796                | 819.772                | 0                    | 0                 | 1070.59             | 919.073                         | 609.987                              | 371.105       | 0         | 0           | 877.591        | 731.92        | 506.895           | 673.452                             | 0          | 0                              | 0                       | 0                          | 0             | 0                    | 666.625        | 865.7              | 776.333                       | 0                             | 0                           | 0                           | 0                                     | 0           | 0                          | 0                      | 0                            | 0                           | 262.334                                  | 310.047                                 | 985.214                 | 0                  | 0                     | 0                                 | 0                       | 0                | 0                   | 0                               | 0                      | 1102.06                  | 404.522         | 0             | 0                        | 543.83            | 420.519                                       | 480.285         | 0                      | 1092.67              | 585.169\n",
       "5th at Howard                    | 381.274       | 573.729           | 613.514         | 718.096       | 0                | 0                        | 611.797         | 808.077                   | 0                               | 0                                | 379.35                            | 668.697         | 542.512                  | 0                    | 730.4            | 666.965               | 613.49                | 1056.59                | 952.167                | 0                    | 0                 | 469.741             | 834.692                         | 676.55                               | 281.975       | 0         | 0           | 449.548        | 295.297       | 414.857           | 545.6                               | 0          | 0                              | 0                       | 0                          | 0             | 0                    | 410.043        | 255.956            | 357.799                       | 0                             | 0                           | 0                           | 0                                     | 0           | 0                          | 0                      | 0                            | 0                           | 434.022                                  | 386.263                                 | 605.708                 | 0                  | 0                     | 0                                 | 0                       | 0                | 0                   | 0                               | 0                      | 553.362                  | 584.98          | 0             | 0                        | 662.308           | 406.225                                       | 546.84          | 0                      | 972.07               | 206.704\n",
       "Adobe on Almaden                 | 0             | 0                 | 0               | 0             | 462              | 583.5                    | 0               | 0                         | 0                               | 0                                | 0                                 | 0               | 0                        | 0                    | 0                | 0                     | 0                     | 0                      | 0                      | 0                    | 0                 | 0                   | 0                               | 0                                    | 0             | 942.176   | 616         | 0              | 0             | 0                 | 0                                   | 0          | 0                              | 0                       | 0                          | 0             | 463.92               | 0              | 0                  | 0                             | 0                             | 0                           | 0                           | 0                                     | 639.857     | 858.571                    | 534.438                | 0                            | 0                           | 0                                        | 0                                       | 0                       | 546.316            | 399.435               | 292.702                           | 0                       | 360.4            | 684                 | 1164.4                          | 251.9                  | 0                        | 0               | 516.857       | 0                        | 0                 | 0                                             | 0               | 0                      | 0                    | 0\n",
       "Arena Green / SAP Center         | 0             | 0                 | 0               | 0             | 540.286          | 948.844                  | 0               | 0                         | 0                               | 0                                | 0                                 | 0               | 0                        | 0                    | 0                | 0                     | 0                     | 0                      | 0                      | 0                    | 0                 | 0                   | 0                               | 0                                    | 0             | 955.312   | 952.6       | 0              | 0             | 0                 | 0                                   | 0          | 0                              | 0                       | 0                          | 0             | 706.762              | 0              | 0                  | 0                             | 0                             | 0                           | 0                           | 0                                     | 684.917     | 902.333                    | 965                    | 0                            | 0                           | 0                                        | 0                                       | 0                       | 536.667            | 782.1                 | 778                               | 0                       | 373.393          | 1127.92             | 1222.24                         | 219.985                | 0                        | 0               | 645           | 0                        | 0                 | 0                                             | 0               | 0                      | 0                    | 0\n",
       "Beale at Market                  | 360.701       | 603.873           | 685.934         | 625           | 0                | 0                        | 720.932         | 282.033                   | 0                               | 0                                | 627.423                           | 273.973         | 303.168                  | 0                    | 232.777          | 441.483               | 300.5                 | 498.2                  | 352.467                | 0                    | 0                 | 697.074             | 416.986                         | 465.877                              | 329.5         | 0         | 0           | 731.175        | 386.292       | 217.528           | 350.115                             | 0          | 0                              | 0                       | 0                          | 0             | 0                    | 340.857        | 502.335            | 374.793                       | 0                             | 0                           | 0                           | 0                                     | 0           | 0                          | 0                      | 0                            | 0                           | 783.228                                  | 792.387                                 | 809.92                  | 0                  | 0                     | 0                                 | 0                       | 0                | 0                   | 0                               | 0                      | 781.634                  | 301.297         | 0             | 0                        | 438.75            | 207.94                                        | 953.429         | 0                      | 465.688              | 444.689\n",
       "Broadway St at Battery St        | 613.672       | 826.899           | 719.695         | 931.891       | 0                | 0                        | 331.727         | 688.682                   | 0                               | 0                                | 942.629                           | 240.929         | 245.23                   | 0                    | 190.906          | 576.172               | 503.241               | 369.61                 | 403.314                | 0                    | 0                 | 1213.2              | 364.543                         | 436.101                              | 600.939       | 0         | 0           | 1068.12        | 629.866       | 416.267           | 414.935                             | 0          | 0                              | 0                       | 0                          | 0             | 0                    | 503.763        | 725.521            | 562.271                       | 0                             | 0                           | 0                           | 0                                     | 0           | 0                          | 0                      | 0                            | 0                           | 893.467                                  | 893.123                                 | 1083.43                 | 0                  | 0                     | 0                                 | 0                       | 0                | 0                   | 0                               | 0                      | 1010.5                   | 516.17          | 0             | 0                        | 378.265           | 484.57                                        | 1204.94         | 0                      | 383.937              | 648.745\n",
       "California Ave Caltrain Station  | 0             | 0                 | 0               | 0             | 0                | 0                        | 0               | 0                         | 898.553                         | 1645                             | 0                                 | 0               | 0                        | 977.552              | 0                | 0                     | 0                     | 0                      | 0                      | 0                    | 0                 | 0                   | 0                               | 0                                    | 0             | 0         | 0           | 0              | 0             | 0                 | 0                                   | 0          | 1771                           | 0                       | 714.922                    | 277.025       | 0                    | 0              | 0                  | 0                             | 0                             | 0                           | 0                           | 1260.33                               | 0           | 0                          | 0                      | 1295.65                      | 994                         | 0                                        | 0                                       | 0                       | 0                  | 0                     | 0                                 | 0                       | 0                | 0                   | 0                               | 0                      | 0                        | 0               | 0             | 0                        | 0                 | 0                                             | 0               | 973.544                | 0                    | 0\n",
       "Castro Street and El Camino Real | 0             | 0                 | 0               | 0             | 0                | 0                        | 0               | 0                         | 0                               | 817.5                            | 0                                 | 0               | 0                        | 0                    | 0                | 0                     | 0                     | 0                      | 0                      | 747.214              | 0                 | 0                   | 0                               | 0                                    | 0             | 0         | 0           | 0              | 0             | 0                 | 0                                   | 0          | 388.583                        | 317.118                 | 0                          | 0             | 0                    | 0              | 0                  | 0                             | 0                             | 0                           | 0                           | 894.429                               | 0           | 0                          | 0                      | 1117                         | 987.25                      | 0                                        | 0                                       | 0                       | 0                  | 0                     | 0                                 | 0                       | 0                | 0                   | 0                               | 0                      | 0                        | 0               | 0             | 0                        | 0                 | 0                                             | 0               | 0                      | 0                    | 0\n",
       "... (60 rows omitted)"
      ]
     },
     "execution_count": 130,
     "metadata": {},
     "output_type": "execute_result"
    }
   ],
   "source": [
    "# Average durations of trips between stations - collect average times\n",
    "\n",
    "commute.pivot(\"Start Station\", \"End Station\", values='Duration', collect=np.average)"
   ]
  },
  {
   "cell_type": "markdown",
   "metadata": {},
   "source": [
    "## Fastest Trips between Stations ##"
   ]
  },
  {
   "cell_type": "code",
   "execution_count": 144,
   "metadata": {},
   "outputs": [
    {
     "data": {
      "text/html": [
       "<table border=\"1\" class=\"dataframe\">\n",
       "    <thead>\n",
       "        <tr>\n",
       "            <th>Start Station</th> <th>End Station</th> <th>Duration</th>\n",
       "        </tr>\n",
       "    </thead>\n",
       "    <tbody>\n",
       "        <tr>\n",
       "            <td>Harry Bridges Plaza (Ferry Building)         </td> <td>San Francisco Caltrain (Townsend at 4th)     </td> <td>765     </td>\n",
       "        </tr>\n",
       "        <tr>\n",
       "            <td>San Antonio Shopping Center                  </td> <td>Mountain View City Hall                      </td> <td>1036    </td>\n",
       "        </tr>\n",
       "        <tr>\n",
       "            <td>Post at Kearny                               </td> <td>2nd at South Park                            </td> <td>307     </td>\n",
       "        </tr>\n",
       "        <tr>\n",
       "            <td>San Jose City Hall                           </td> <td>San Salvador at 1st                          </td> <td>409     </td>\n",
       "        </tr>\n",
       "        <tr>\n",
       "            <td>Embarcadero at Folsom                        </td> <td>Embarcadero at Sansome                       </td> <td>789     </td>\n",
       "        </tr>\n",
       "        <tr>\n",
       "            <td>Yerba Buena Center of the Arts (3rd @ Howard)</td> <td>San Francisco Caltrain (Townsend at 4th)     </td> <td>293     </td>\n",
       "        </tr>\n",
       "        <tr>\n",
       "            <td>Embarcadero at Folsom                        </td> <td>Embarcadero at Sansome                       </td> <td>896     </td>\n",
       "        </tr>\n",
       "        <tr>\n",
       "            <td>Embarcadero at Sansome                       </td> <td>Steuart at Market                            </td> <td>255     </td>\n",
       "        </tr>\n",
       "        <tr>\n",
       "            <td>Beale at Market                              </td> <td>Temporary Transbay Terminal (Howard at Beale)</td> <td>126     </td>\n",
       "        </tr>\n",
       "        <tr>\n",
       "            <td>Post at Kearny                               </td> <td>South Van Ness at Market                     </td> <td>932     </td>\n",
       "        </tr>\n",
       "    </tbody>\n",
       "</table>\n",
       "<p>... (354142 rows omitted)</p>"
      ],
      "text/plain": [
       "Start Station                                 | End Station                                   | Duration\n",
       "Harry Bridges Plaza (Ferry Building)          | San Francisco Caltrain (Townsend at 4th)      | 765\n",
       "San Antonio Shopping Center                   | Mountain View City Hall                       | 1036\n",
       "Post at Kearny                                | 2nd at South Park                             | 307\n",
       "San Jose City Hall                            | San Salvador at 1st                           | 409\n",
       "Embarcadero at Folsom                         | Embarcadero at Sansome                        | 789\n",
       "Yerba Buena Center of the Arts (3rd @ Howard) | San Francisco Caltrain (Townsend at 4th)      | 293\n",
       "Embarcadero at Folsom                         | Embarcadero at Sansome                        | 896\n",
       "Embarcadero at Sansome                        | Steuart at Market                             | 255\n",
       "Beale at Market                               | Temporary Transbay Terminal (Howard at Beale) | 126\n",
       "Post at Kearny                                | South Van Ness at Market                      | 932\n",
       "... (354142 rows omitted)"
      ]
     },
     "execution_count": 144,
     "metadata": {},
     "output_type": "execute_result"
    }
   ],
   "source": [
    "duration = trip.select('Start Station', 'End Station', 'Duration')\n",
    "duration"
   ]
  },
  {
   "cell_type": "code",
   "execution_count": 148,
   "metadata": {},
   "outputs": [
    {
     "data": {
      "text/html": [
       "<table border=\"1\" class=\"dataframe\">\n",
       "    <thead>\n",
       "        <tr>\n",
       "            <th>Start Station</th> <th>End Station</th> <th>Trip ID min</th> <th>Duration min</th> <th>Start Date min</th> <th>Start Terminal min</th> <th>End Date min</th> <th>End Terminal min</th> <th>Bike # min</th> <th>Subscriber Type min</th> <th>Zip Code min</th>\n",
       "        </tr>\n",
       "    </thead>\n",
       "    <tbody>\n",
       "        <tr>\n",
       "            <td>2nd at Folsom</td> <td>2nd at Folsom                    </td> <td>439899     </td> <td>61          </td> <td>1/10/2015 16:04</td> <td>62                </td> <td>1/10/2015 16:47</td> <td>62              </td> <td>56        </td> <td>Customer           </td> <td>11705       </td>\n",
       "        </tr>\n",
       "        <tr>\n",
       "            <td>2nd at Folsom</td> <td>2nd at South Park                </td> <td>433313     </td> <td>61          </td> <td>1/1/2015 0:37  </td> <td>62                </td> <td>1/1/2015 0:40  </td> <td>64              </td> <td>16        </td> <td>Customer           </td> <td>54701       </td>\n",
       "        </tr>\n",
       "        <tr>\n",
       "            <td>2nd at Folsom</td> <td>2nd at Townsend                  </td> <td>440594     </td> <td>137         </td> <td>1/12/2015 18:01</td> <td>62                </td> <td>1/12/2015 18:07</td> <td>61              </td> <td>15        </td> <td>Customer           </td> <td>10128       </td>\n",
       "        </tr>\n",
       "        <tr>\n",
       "            <td>2nd at Folsom</td> <td>5th at Howard                    </td> <td>437175     </td> <td>215         </td> <td>1/14/2015 10:06</td> <td>62                </td> <td>1/14/2015 10:10</td> <td>57              </td> <td>29        </td> <td>Customer           </td> <td>2011        </td>\n",
       "        </tr>\n",
       "        <tr>\n",
       "            <td>2nd at Folsom</td> <td>Beale at Market                  </td> <td>439888     </td> <td>219         </td> <td>1/12/2015 13:09</td> <td>62                </td> <td>1/12/2015 13:13</td> <td>56              </td> <td>33        </td> <td>Customer           </td> <td>90806       </td>\n",
       "        </tr>\n",
       "        <tr>\n",
       "            <td>2nd at Folsom</td> <td>Broadway St at Battery St        </td> <td>440000     </td> <td>351         </td> <td>1/27/2015 9:14 </td> <td>62                </td> <td>1/27/2015 9:24 </td> <td>82              </td> <td>66        </td> <td>Customer           </td> <td>28203       </td>\n",
       "        </tr>\n",
       "        <tr>\n",
       "            <td>2nd at Folsom</td> <td>Civic Center BART (7th at Market)</td> <td>448407     </td> <td>456         </td> <td>1/11/2015 5:29 </td> <td>62                </td> <td>1/11/2015 5:49 </td> <td>72              </td> <td>100       </td> <td>Customer           </td> <td>19020       </td>\n",
       "        </tr>\n",
       "        <tr>\n",
       "            <td>2nd at Folsom</td> <td>Clay at Battery                  </td> <td>435850     </td> <td>272         </td> <td>1/12/2015 9:05 </td> <td>62                </td> <td>1/12/2015 9:10 </td> <td>41              </td> <td>16        </td> <td>Customer           </td> <td>10014       </td>\n",
       "        </tr>\n",
       "        <tr>\n",
       "            <td>2nd at Folsom</td> <td>Commercial at Montgomery         </td> <td>450384     </td> <td>275         </td> <td>1/14/2015 11:03</td> <td>62                </td> <td>1/14/2015 11:11</td> <td>45              </td> <td>16        </td> <td>Customer           </td> <td>1945        </td>\n",
       "        </tr>\n",
       "        <tr>\n",
       "            <td>2nd at Folsom</td> <td>Davis at Jackson                 </td> <td>482249     </td> <td>396         </td> <td>1/21/2015 15:04</td> <td>62                </td> <td>1/21/2015 15:15</td> <td>42              </td> <td>69        </td> <td>Customer           </td> <td>94105       </td>\n",
       "        </tr>\n",
       "    </tbody>\n",
       "</table>\n",
       "<p>... (1682 rows omitted)</p>"
      ],
      "text/plain": [
       "Start Station | End Station                       | Trip ID min | Duration min | Start Date min  | Start Terminal min | End Date min    | End Terminal min | Bike # min | Subscriber Type min | Zip Code min\n",
       "2nd at Folsom | 2nd at Folsom                     | 439899      | 61           | 1/10/2015 16:04 | 62                 | 1/10/2015 16:47 | 62               | 56         | Customer            | 11705\n",
       "2nd at Folsom | 2nd at South Park                 | 433313      | 61           | 1/1/2015 0:37   | 62                 | 1/1/2015 0:40   | 64               | 16         | Customer            | 54701\n",
       "2nd at Folsom | 2nd at Townsend                   | 440594      | 137          | 1/12/2015 18:01 | 62                 | 1/12/2015 18:07 | 61               | 15         | Customer            | 10128\n",
       "2nd at Folsom | 5th at Howard                     | 437175      | 215          | 1/14/2015 10:06 | 62                 | 1/14/2015 10:10 | 57               | 29         | Customer            | 2011\n",
       "2nd at Folsom | Beale at Market                   | 439888      | 219          | 1/12/2015 13:09 | 62                 | 1/12/2015 13:13 | 56               | 33         | Customer            | 90806\n",
       "2nd at Folsom | Broadway St at Battery St         | 440000      | 351          | 1/27/2015 9:14  | 62                 | 1/27/2015 9:24  | 82               | 66         | Customer            | 28203\n",
       "2nd at Folsom | Civic Center BART (7th at Market) | 448407      | 456          | 1/11/2015 5:29  | 62                 | 1/11/2015 5:49  | 72               | 100        | Customer            | 19020\n",
       "2nd at Folsom | Clay at Battery                   | 435850      | 272          | 1/12/2015 9:05  | 62                 | 1/12/2015 9:10  | 41               | 16         | Customer            | 10014\n",
       "2nd at Folsom | Commercial at Montgomery          | 450384      | 275          | 1/14/2015 11:03 | 62                 | 1/14/2015 11:11 | 45               | 16         | Customer            | 1945\n",
       "2nd at Folsom | Davis at Jackson                  | 482249      | 396          | 1/21/2015 15:04 | 62                 | 1/21/2015 15:15 | 42               | 69         | Customer            | 94105\n",
       "... (1682 rows omitted)"
      ]
     },
     "execution_count": 148,
     "metadata": {},
     "output_type": "execute_result"
    }
   ],
   "source": [
    "# Durations of fastest trips between stations,\n",
    "# using group\n",
    "\n",
    "shortest = trip.group(['Start Station', 'End Station'], min)\n",
    "shortest"
   ]
  },
  {
   "cell_type": "code",
   "execution_count": 149,
   "metadata": {},
   "outputs": [
    {
     "data": {
      "text/html": [
       "<table border=\"1\" class=\"dataframe\">\n",
       "    <thead>\n",
       "        <tr>\n",
       "            <th>End Station</th> <th>2nd at Folsom</th> <th>2nd at South Park</th> <th>2nd at Townsend</th> <th>5th at Howard</th> <th>Adobe on Almaden</th> <th>Arena Green / SAP Center</th> <th>Beale at Market</th> <th>Broadway St at Battery St</th> <th>California Ave Caltrain Station</th> <th>Castro Street and El Camino Real</th> <th>Civic Center BART (7th at Market)</th> <th>Clay at Battery</th> <th>Commercial at Montgomery</th> <th>Cowper at University</th> <th>Davis at Jackson</th> <th>Embarcadero at Bryant</th> <th>Embarcadero at Folsom</th> <th>Embarcadero at Sansome</th> <th>Embarcadero at Vallejo</th> <th>Evelyn Park and Ride</th> <th>Franklin at Maple</th> <th>Golden Gate at Polk</th> <th>Grant Avenue at Columbus Avenue</th> <th>Harry Bridges Plaza (Ferry Building)</th> <th>Howard at 2nd</th> <th>Japantown</th> <th>MLK Library</th> <th>Market at 10th</th> <th>Market at 4th</th> <th>Market at Sansome</th> <th>Mechanics Plaza (Market at Battery)</th> <th>Mezes Park</th> <th>Mountain View Caltrain Station</th> <th>Mountain View City Hall</th> <th>Palo Alto Caltrain Station</th> <th>Park at Olive</th> <th>Paseo de San Antonio</th> <th>Post at Kearny</th> <th>Powell Street BART</th> <th>Powell at Post (Union Square)</th> <th>Redwood City Caltrain Station</th> <th>Redwood City Medical Center</th> <th>Redwood City Public Library</th> <th>Rengstorff Avenue / California Street</th> <th>Ryland Park</th> <th>SJSU - San Salvador at 9th</th> <th>SJSU 4th at San Carlos</th> <th>San Antonio Caltrain Station</th> <th>San Antonio Shopping Center</th> <th>San Francisco Caltrain (Townsend at 4th)</th> <th>San Francisco Caltrain 2 (330 Townsend)</th> <th>San Francisco City Hall</th> <th>San Jose City Hall</th> <th>San Jose Civic Center</th> <th>San Jose Diridon Caltrain Station</th> <th>San Mateo County Center</th> <th>San Pedro Square</th> <th>San Salvador at 1st</th> <th>Santa Clara County Civic Center</th> <th>Santa Clara at Almaden</th> <th>South Van Ness at Market</th> <th>Spear at Folsom</th> <th>St James Park</th> <th>Stanford in Redwood City</th> <th>Steuart at Market</th> <th>Temporary Transbay Terminal (Howard at Beale)</th> <th>Townsend at 7th</th> <th>University and Emerson</th> <th>Washington at Kearny</th> <th>Yerba Buena Center of the Arts (3rd @ Howard)</th>\n",
       "        </tr>\n",
       "    </thead>\n",
       "    <tbody>\n",
       "        <tr>\n",
       "            <td>2nd at Folsom                   </td> <td>61           </td> <td>97               </td> <td>164            </td> <td>268          </td> <td>0               </td> <td>0                       </td> <td>271            </td> <td>407                      </td> <td>0                              </td> <td>0                               </td> <td>483                              </td> <td>329            </td> <td>306                     </td> <td>0                   </td> <td>494             </td> <td>239                  </td> <td>262                  </td> <td>687                   </td> <td>599                   </td> <td>0                   </td> <td>0                </td> <td>639                </td> <td>416                            </td> <td>282                                 </td> <td>80           </td> <td>0        </td> <td>0          </td> <td>506           </td> <td>237          </td> <td>167              </td> <td>250                                </td> <td>0         </td> <td>0                             </td> <td>0                      </td> <td>0                         </td> <td>0            </td> <td>0                   </td> <td>208           </td> <td>264               </td> <td>290                          </td> <td>0                            </td> <td>0                          </td> <td>0                          </td> <td>0                                    </td> <td>0          </td> <td>0                         </td> <td>0                     </td> <td>0                           </td> <td>0                          </td> <td>300                                     </td> <td>303                                    </td> <td>584                    </td> <td>0                 </td> <td>0                    </td> <td>0                                </td> <td>0                      </td> <td>0               </td> <td>0                  </td> <td>0                              </td> <td>0                     </td> <td>590                     </td> <td>208            </td> <td>0            </td> <td>0                       </td> <td>318              </td> <td>149                                          </td> <td>448            </td> <td>0                     </td> <td>429                 </td> <td>165                                          </td>\n",
       "        </tr>\n",
       "        <tr>\n",
       "            <td>2nd at South Park               </td> <td>61           </td> <td>60               </td> <td>77             </td> <td>86           </td> <td>0               </td> <td>0                       </td> <td>78             </td> <td>345                      </td> <td>0                              </td> <td>0                               </td> <td>290                              </td> <td>188            </td> <td>171                     </td> <td>0                   </td> <td>357             </td> <td>104                  </td> <td>81                   </td> <td>490                   </td> <td>341                   </td> <td>0                   </td> <td>0                </td> <td>369                </td> <td>278                            </td> <td>122                                 </td> <td>60           </td> <td>0        </td> <td>0          </td> <td>416           </td> <td>142          </td> <td>61               </td> <td>68                                 </td> <td>0         </td> <td>0                             </td> <td>0                      </td> <td>0                         </td> <td>0            </td> <td>0                   </td> <td>60            </td> <td>237               </td> <td>106                          </td> <td>0                            </td> <td>0                          </td> <td>0                          </td> <td>0                                    </td> <td>0          </td> <td>0                         </td> <td>0                     </td> <td>0                           </td> <td>0                          </td> <td>63                                      </td> <td>66                                     </td> <td>458                    </td> <td>0                 </td> <td>0                    </td> <td>0                                </td> <td>0                      </td> <td>0               </td> <td>0                  </td> <td>0                              </td> <td>0                     </td> <td>399                     </td> <td>63             </td> <td>0            </td> <td>0                       </td> <td>79               </td> <td>61                                           </td> <td>78             </td> <td>0                     </td> <td>270                 </td> <td>96                                           </td>\n",
       "        </tr>\n",
       "        <tr>\n",
       "            <td>2nd at Townsend                 </td> <td>137          </td> <td>67               </td> <td>60             </td> <td>423          </td> <td>0               </td> <td>0                       </td> <td>311            </td> <td>469                      </td> <td>0                              </td> <td>0                               </td> <td>546                              </td> <td>520            </td> <td>474                     </td> <td>0                   </td> <td>436             </td> <td>145                  </td> <td>232                  </td> <td>509                   </td> <td>494                   </td> <td>0                   </td> <td>0                </td> <td>773                </td> <td>549                            </td> <td>325                                 </td> <td>221          </td> <td>0        </td> <td>0          </td> <td>667           </td> <td>367          </td> <td>265              </td> <td>395                                </td> <td>0         </td> <td>0                             </td> <td>0                      </td> <td>0                         </td> <td>0            </td> <td>0                   </td> <td>319           </td> <td>455               </td> <td>398                          </td> <td>0                            </td> <td>0                          </td> <td>0                          </td> <td>0                                    </td> <td>0          </td> <td>0                         </td> <td>0                     </td> <td>0                           </td> <td>0                          </td> <td>125                                     </td> <td>133                                    </td> <td>742                    </td> <td>0                 </td> <td>0                    </td> <td>0                                </td> <td>0                      </td> <td>0               </td> <td>0                  </td> <td>0                              </td> <td>0                     </td> <td>777                     </td> <td>241            </td> <td>0            </td> <td>0                       </td> <td>291              </td> <td>249                                          </td> <td>259            </td> <td>0                     </td> <td>610                 </td> <td>284                                          </td>\n",
       "        </tr>\n",
       "        <tr>\n",
       "            <td>5th at Howard                   </td> <td>215          </td> <td>300              </td> <td>384            </td> <td>68           </td> <td>0               </td> <td>0                       </td> <td>357            </td> <td>530                      </td> <td>0                              </td> <td>0                               </td> <td>179                              </td> <td>412            </td> <td>364                     </td> <td>0                   </td> <td>543             </td> <td>419                  </td> <td>359                  </td> <td>695                   </td> <td>609                   </td> <td>0                   </td> <td>0                </td> <td>235                </td> <td>474                            </td> <td>453                                 </td> <td>145          </td> <td>0        </td> <td>0          </td> <td>269           </td> <td>161          </td> <td>250              </td> <td>306                                </td> <td>0         </td> <td>0                             </td> <td>0                      </td> <td>0                         </td> <td>0            </td> <td>0                   </td> <td>234           </td> <td>89                </td> <td>202                          </td> <td>0                            </td> <td>0                          </td> <td>0                          </td> <td>0                                    </td> <td>0          </td> <td>0                         </td> <td>0                     </td> <td>0                           </td> <td>0                          </td> <td>256                                     </td> <td>221                                    </td> <td>347                    </td> <td>0                 </td> <td>0                    </td> <td>0                                </td> <td>0                      </td> <td>0               </td> <td>0                  </td> <td>0                              </td> <td>0                     </td> <td>375                     </td> <td>402            </td> <td>0            </td> <td>0                       </td> <td>455              </td> <td>265                                          </td> <td>357            </td> <td>0                     </td> <td>553                 </td> <td>109                                          </td>\n",
       "        </tr>\n",
       "        <tr>\n",
       "            <td>Adobe on Almaden                </td> <td>0            </td> <td>0                </td> <td>0              </td> <td>0            </td> <td>84              </td> <td>275                     </td> <td>0              </td> <td>0                        </td> <td>0                              </td> <td>0                               </td> <td>0                                </td> <td>0              </td> <td>0                       </td> <td>0                   </td> <td>0               </td> <td>0                    </td> <td>0                    </td> <td>0                     </td> <td>0                     </td> <td>0                   </td> <td>0                </td> <td>0                  </td> <td>0                              </td> <td>0                                   </td> <td>0            </td> <td>701      </td> <td>387        </td> <td>0             </td> <td>0            </td> <td>0                </td> <td>0                                  </td> <td>0         </td> <td>0                             </td> <td>0                      </td> <td>0                         </td> <td>0            </td> <td>229                 </td> <td>0             </td> <td>0                 </td> <td>0                            </td> <td>0                            </td> <td>0                          </td> <td>0                          </td> <td>0                                    </td> <td>441        </td> <td>452                       </td> <td>318                   </td> <td>0                           </td> <td>0                          </td> <td>0                                       </td> <td>0                                      </td> <td>0                      </td> <td>309               </td> <td>146                  </td> <td>182                              </td> <td>0                      </td> <td>207             </td> <td>358                </td> <td>876                            </td> <td>101                   </td> <td>0                       </td> <td>0              </td> <td>369          </td> <td>0                       </td> <td>0                </td> <td>0                                            </td> <td>0              </td> <td>0                     </td> <td>0                   </td> <td>0                                            </td>\n",
       "        </tr>\n",
       "        <tr>\n",
       "            <td>Arena Green / SAP Center        </td> <td>0            </td> <td>0                </td> <td>0              </td> <td>0            </td> <td>305             </td> <td>62                      </td> <td>0              </td> <td>0                        </td> <td>0                              </td> <td>0                               </td> <td>0                                </td> <td>0              </td> <td>0                       </td> <td>0                   </td> <td>0               </td> <td>0                    </td> <td>0                    </td> <td>0                     </td> <td>0                     </td> <td>27409               </td> <td>0                </td> <td>0                  </td> <td>0                              </td> <td>0                                   </td> <td>0            </td> <td>526      </td> <td>546        </td> <td>0             </td> <td>0            </td> <td>0                </td> <td>0                                  </td> <td>0         </td> <td>0                             </td> <td>0                      </td> <td>0                         </td> <td>0            </td> <td>403                 </td> <td>0             </td> <td>0                 </td> <td>0                            </td> <td>0                            </td> <td>0                          </td> <td>0                          </td> <td>0                                    </td> <td>288        </td> <td>875                       </td> <td>685                   </td> <td>0                           </td> <td>0                          </td> <td>0                                       </td> <td>0                                      </td> <td>0                      </td> <td>440               </td> <td>420                  </td> <td>153                              </td> <td>0                      </td> <td>166             </td> <td>624                </td> <td>759                            </td> <td>116                   </td> <td>0                       </td> <td>0              </td> <td>301          </td> <td>0                       </td> <td>0                </td> <td>0                                            </td> <td>0              </td> <td>0                     </td> <td>0                   </td> <td>0                                            </td>\n",
       "        </tr>\n",
       "        <tr>\n",
       "            <td>Beale at Market                 </td> <td>219          </td> <td>343              </td> <td>417            </td> <td>387          </td> <td>0               </td> <td>0                       </td> <td>60             </td> <td>155                      </td> <td>0                              </td> <td>0                               </td> <td>343                              </td> <td>122            </td> <td>153                     </td> <td>0                   </td> <td>115             </td> <td>216                  </td> <td>170                  </td> <td>303                   </td> <td>198                   </td> <td>0                   </td> <td>0                </td> <td>437                </td> <td>235                            </td> <td>149                                 </td> <td>204          </td> <td>0        </td> <td>0          </td> <td>535           </td> <td>203          </td> <td>88               </td> <td>72                                 </td> <td>0         </td> <td>0                             </td> <td>0                      </td> <td>0                         </td> <td>0            </td> <td>0                   </td> <td>191           </td> <td>316               </td> <td>191                          </td> <td>0                            </td> <td>0                          </td> <td>0                          </td> <td>0                                    </td> <td>0          </td> <td>0                         </td> <td>0                     </td> <td>0                           </td> <td>0                          </td> <td>499                                     </td> <td>395                                    </td> <td>526                    </td> <td>0                 </td> <td>0                    </td> <td>0                                </td> <td>0                      </td> <td>0               </td> <td>0                  </td> <td>0                              </td> <td>0                     </td> <td>575                     </td> <td>173            </td> <td>0            </td> <td>0                       </td> <td>87               </td> <td>94                                           </td> <td>619            </td> <td>0                     </td> <td>222                 </td> <td>264                                          </td>\n",
       "        </tr>\n",
       "        <tr>\n",
       "            <td>Broadway St at Battery St       </td> <td>351          </td> <td>424              </td> <td>499            </td> <td>555          </td> <td>0               </td> <td>0                       </td> <td>195            </td> <td>62                       </td> <td>0                              </td> <td>0                               </td> <td>520                              </td> <td>90             </td> <td>129                     </td> <td>0                   </td> <td>70              </td> <td>340                  </td> <td>284                  </td> <td>128                   </td> <td>101                   </td> <td>0                   </td> <td>0                </td> <td>961                </td> <td>148                            </td> <td>168                                 </td> <td>357          </td> <td>0        </td> <td>0          </td> <td>652           </td> <td>351          </td> <td>218              </td> <td>221                                </td> <td>0         </td> <td>0                             </td> <td>0                      </td> <td>0                         </td> <td>0            </td> <td>0                   </td> <td>255           </td> <td>376               </td> <td>316                          </td> <td>0                            </td> <td>0                          </td> <td>0                          </td> <td>0                                    </td> <td>0          </td> <td>0                         </td> <td>0                     </td> <td>0                           </td> <td>0                          </td> <td>611                                     </td> <td>599                                    </td> <td>799                    </td> <td>0                 </td> <td>0                    </td> <td>0                                </td> <td>0                      </td> <td>0               </td> <td>0                  </td> <td>0                              </td> <td>0                     </td> <td>738                     </td> <td>336            </td> <td>0            </td> <td>0                       </td> <td>169              </td> <td>291                                          </td> <td>885            </td> <td>0                     </td> <td>134                 </td> <td>411                                          </td>\n",
       "        </tr>\n",
       "        <tr>\n",
       "            <td>California Ave Caltrain Station </td> <td>0            </td> <td>0                </td> <td>0              </td> <td>0            </td> <td>0               </td> <td>0                       </td> <td>0              </td> <td>0                        </td> <td>82                             </td> <td>1645                            </td> <td>0                                </td> <td>0              </td> <td>0                       </td> <td>628                 </td> <td>0               </td> <td>0                    </td> <td>0                    </td> <td>0                     </td> <td>0                     </td> <td>0                   </td> <td>0                </td> <td>0                  </td> <td>0                              </td> <td>0                                   </td> <td>0            </td> <td>0        </td> <td>0          </td> <td>0             </td> <td>0            </td> <td>0                </td> <td>0                                  </td> <td>2300      </td> <td>1771                          </td> <td>2304                   </td> <td>484                       </td> <td>131          </td> <td>0                   </td> <td>0             </td> <td>0                 </td> <td>0                            </td> <td>2457                         </td> <td>0                          </td> <td>0                          </td> <td>1077                                 </td> <td>0          </td> <td>0                         </td> <td>0                     </td> <td>870                         </td> <td>911                        </td> <td>0                                       </td> <td>0                                      </td> <td>0                      </td> <td>0                 </td> <td>0                    </td> <td>0                                </td> <td>0                      </td> <td>0               </td> <td>0                  </td> <td>0                              </td> <td>0                     </td> <td>0                       </td> <td>0              </td> <td>0            </td> <td>2872                    </td> <td>0                </td> <td>0                                            </td> <td>0              </td> <td>531                   </td> <td>0                   </td> <td>0                                            </td>\n",
       "        </tr>\n",
       "        <tr>\n",
       "            <td>Castro Street and El Camino Real</td> <td>0            </td> <td>0                </td> <td>0              </td> <td>0            </td> <td>0               </td> <td>0                       </td> <td>0              </td> <td>0                        </td> <td>0                              </td> <td>74                              </td> <td>0                                </td> <td>0              </td> <td>0                       </td> <td>0                   </td> <td>0               </td> <td>0                    </td> <td>0                    </td> <td>0                     </td> <td>0                     </td> <td>499                 </td> <td>0                </td> <td>0                  </td> <td>0                              </td> <td>0                                   </td> <td>0            </td> <td>0        </td> <td>0          </td> <td>0             </td> <td>0            </td> <td>0                </td> <td>0                                  </td> <td>0         </td> <td>201                           </td> <td>108                    </td> <td>0                         </td> <td>2139         </td> <td>0                   </td> <td>0             </td> <td>0                 </td> <td>0                            </td> <td>0                            </td> <td>0                          </td> <td>0                          </td> <td>654                                  </td> <td>0          </td> <td>0                         </td> <td>0                     </td> <td>953                         </td> <td>696                        </td> <td>0                                       </td> <td>0                                      </td> <td>0                      </td> <td>0                 </td> <td>0                    </td> <td>0                                </td> <td>0                      </td> <td>0               </td> <td>0                  </td> <td>0                              </td> <td>0                     </td> <td>0                       </td> <td>0              </td> <td>0            </td> <td>0                       </td> <td>0                </td> <td>0                                            </td> <td>0              </td> <td>4150                  </td> <td>0                   </td> <td>0                                            </td>\n",
       "        </tr>\n",
       "    </tbody>\n",
       "</table>\n",
       "<p>... (60 rows omitted)</p>"
      ],
      "text/plain": [
       "End Station                      | 2nd at Folsom | 2nd at South Park | 2nd at Townsend | 5th at Howard | Adobe on Almaden | Arena Green / SAP Center | Beale at Market | Broadway St at Battery St | California Ave Caltrain Station | Castro Street and El Camino Real | Civic Center BART (7th at Market) | Clay at Battery | Commercial at Montgomery | Cowper at University | Davis at Jackson | Embarcadero at Bryant | Embarcadero at Folsom | Embarcadero at Sansome | Embarcadero at Vallejo | Evelyn Park and Ride | Franklin at Maple | Golden Gate at Polk | Grant Avenue at Columbus Avenue | Harry Bridges Plaza (Ferry Building) | Howard at 2nd | Japantown | MLK Library | Market at 10th | Market at 4th | Market at Sansome | Mechanics Plaza (Market at Battery) | Mezes Park | Mountain View Caltrain Station | Mountain View City Hall | Palo Alto Caltrain Station | Park at Olive | Paseo de San Antonio | Post at Kearny | Powell Street BART | Powell at Post (Union Square) | Redwood City Caltrain Station | Redwood City Medical Center | Redwood City Public Library | Rengstorff Avenue / California Street | Ryland Park | SJSU - San Salvador at 9th | SJSU 4th at San Carlos | San Antonio Caltrain Station | San Antonio Shopping Center | San Francisco Caltrain (Townsend at 4th) | San Francisco Caltrain 2 (330 Townsend) | San Francisco City Hall | San Jose City Hall | San Jose Civic Center | San Jose Diridon Caltrain Station | San Mateo County Center | San Pedro Square | San Salvador at 1st | Santa Clara County Civic Center | Santa Clara at Almaden | South Van Ness at Market | Spear at Folsom | St James Park | Stanford in Redwood City | Steuart at Market | Temporary Transbay Terminal (Howard at Beale) | Townsend at 7th | University and Emerson | Washington at Kearny | Yerba Buena Center of the Arts (3rd @ Howard)\n",
       "2nd at Folsom                    | 61            | 97                | 164             | 268           | 0                | 0                        | 271             | 407                       | 0                               | 0                                | 483                               | 329             | 306                      | 0                    | 494              | 239                   | 262                   | 687                    | 599                    | 0                    | 0                 | 639                 | 416                             | 282                                  | 80            | 0         | 0           | 506            | 237           | 167               | 250                                 | 0          | 0                              | 0                       | 0                          | 0             | 0                    | 208            | 264                | 290                           | 0                             | 0                           | 0                           | 0                                     | 0           | 0                          | 0                      | 0                            | 0                           | 300                                      | 303                                     | 584                     | 0                  | 0                     | 0                                 | 0                       | 0                | 0                   | 0                               | 0                      | 590                      | 208             | 0             | 0                        | 318               | 149                                           | 448             | 0                      | 429                  | 165\n",
       "2nd at South Park                | 61            | 60                | 77              | 86            | 0                | 0                        | 78              | 345                       | 0                               | 0                                | 290                               | 188             | 171                      | 0                    | 357              | 104                   | 81                    | 490                    | 341                    | 0                    | 0                 | 369                 | 278                             | 122                                  | 60            | 0         | 0           | 416            | 142           | 61                | 68                                  | 0          | 0                              | 0                       | 0                          | 0             | 0                    | 60             | 237                | 106                           | 0                             | 0                           | 0                           | 0                                     | 0           | 0                          | 0                      | 0                            | 0                           | 63                                       | 66                                      | 458                     | 0                  | 0                     | 0                                 | 0                       | 0                | 0                   | 0                               | 0                      | 399                      | 63              | 0             | 0                        | 79                | 61                                            | 78              | 0                      | 270                  | 96\n",
       "2nd at Townsend                  | 137           | 67                | 60              | 423           | 0                | 0                        | 311             | 469                       | 0                               | 0                                | 546                               | 520             | 474                      | 0                    | 436              | 145                   | 232                   | 509                    | 494                    | 0                    | 0                 | 773                 | 549                             | 325                                  | 221           | 0         | 0           | 667            | 367           | 265               | 395                                 | 0          | 0                              | 0                       | 0                          | 0             | 0                    | 319            | 455                | 398                           | 0                             | 0                           | 0                           | 0                                     | 0           | 0                          | 0                      | 0                            | 0                           | 125                                      | 133                                     | 742                     | 0                  | 0                     | 0                                 | 0                       | 0                | 0                   | 0                               | 0                      | 777                      | 241             | 0             | 0                        | 291               | 249                                           | 259             | 0                      | 610                  | 284\n",
       "5th at Howard                    | 215           | 300               | 384             | 68            | 0                | 0                        | 357             | 530                       | 0                               | 0                                | 179                               | 412             | 364                      | 0                    | 543              | 419                   | 359                   | 695                    | 609                    | 0                    | 0                 | 235                 | 474                             | 453                                  | 145           | 0         | 0           | 269            | 161           | 250               | 306                                 | 0          | 0                              | 0                       | 0                          | 0             | 0                    | 234            | 89                 | 202                           | 0                             | 0                           | 0                           | 0                                     | 0           | 0                          | 0                      | 0                            | 0                           | 256                                      | 221                                     | 347                     | 0                  | 0                     | 0                                 | 0                       | 0                | 0                   | 0                               | 0                      | 375                      | 402             | 0             | 0                        | 455               | 265                                           | 357             | 0                      | 553                  | 109\n",
       "Adobe on Almaden                 | 0             | 0                 | 0               | 0             | 84               | 275                      | 0               | 0                         | 0                               | 0                                | 0                                 | 0               | 0                        | 0                    | 0                | 0                     | 0                     | 0                      | 0                      | 0                    | 0                 | 0                   | 0                               | 0                                    | 0             | 701       | 387         | 0              | 0             | 0                 | 0                                   | 0          | 0                              | 0                       | 0                          | 0             | 229                  | 0              | 0                  | 0                             | 0                             | 0                           | 0                           | 0                                     | 441         | 452                        | 318                    | 0                            | 0                           | 0                                        | 0                                       | 0                       | 309                | 146                   | 182                               | 0                       | 207              | 358                 | 876                             | 101                    | 0                        | 0               | 369           | 0                        | 0                 | 0                                             | 0               | 0                      | 0                    | 0\n",
       "Arena Green / SAP Center         | 0             | 0                 | 0               | 0             | 305              | 62                       | 0               | 0                         | 0                               | 0                                | 0                                 | 0               | 0                        | 0                    | 0                | 0                     | 0                     | 0                      | 0                      | 27409                | 0                 | 0                   | 0                               | 0                                    | 0             | 526       | 546         | 0              | 0             | 0                 | 0                                   | 0          | 0                              | 0                       | 0                          | 0             | 403                  | 0              | 0                  | 0                             | 0                             | 0                           | 0                           | 0                                     | 288         | 875                        | 685                    | 0                            | 0                           | 0                                        | 0                                       | 0                       | 440                | 420                   | 153                               | 0                       | 166              | 624                 | 759                             | 116                    | 0                        | 0               | 301           | 0                        | 0                 | 0                                             | 0               | 0                      | 0                    | 0\n",
       "Beale at Market                  | 219           | 343               | 417             | 387           | 0                | 0                        | 60              | 155                       | 0                               | 0                                | 343                               | 122             | 153                      | 0                    | 115              | 216                   | 170                   | 303                    | 198                    | 0                    | 0                 | 437                 | 235                             | 149                                  | 204           | 0         | 0           | 535            | 203           | 88                | 72                                  | 0          | 0                              | 0                       | 0                          | 0             | 0                    | 191            | 316                | 191                           | 0                             | 0                           | 0                           | 0                                     | 0           | 0                          | 0                      | 0                            | 0                           | 499                                      | 395                                     | 526                     | 0                  | 0                     | 0                                 | 0                       | 0                | 0                   | 0                               | 0                      | 575                      | 173             | 0             | 0                        | 87                | 94                                            | 619             | 0                      | 222                  | 264\n",
       "Broadway St at Battery St        | 351           | 424               | 499             | 555           | 0                | 0                        | 195             | 62                        | 0                               | 0                                | 520                               | 90              | 129                      | 0                    | 70               | 340                   | 284                   | 128                    | 101                    | 0                    | 0                 | 961                 | 148                             | 168                                  | 357           | 0         | 0           | 652            | 351           | 218               | 221                                 | 0          | 0                              | 0                       | 0                          | 0             | 0                    | 255            | 376                | 316                           | 0                             | 0                           | 0                           | 0                                     | 0           | 0                          | 0                      | 0                            | 0                           | 611                                      | 599                                     | 799                     | 0                  | 0                     | 0                                 | 0                       | 0                | 0                   | 0                               | 0                      | 738                      | 336             | 0             | 0                        | 169               | 291                                           | 885             | 0                      | 134                  | 411\n",
       "California Ave Caltrain Station  | 0             | 0                 | 0               | 0             | 0                | 0                        | 0               | 0                         | 82                              | 1645                             | 0                                 | 0               | 0                        | 628                  | 0                | 0                     | 0                     | 0                      | 0                      | 0                    | 0                 | 0                   | 0                               | 0                                    | 0             | 0         | 0           | 0              | 0             | 0                 | 0                                   | 2300       | 1771                           | 2304                    | 484                        | 131           | 0                    | 0              | 0                  | 0                             | 2457                          | 0                           | 0                           | 1077                                  | 0           | 0                          | 0                      | 870                          | 911                         | 0                                        | 0                                       | 0                       | 0                  | 0                     | 0                                 | 0                       | 0                | 0                   | 0                               | 0                      | 0                        | 0               | 0             | 2872                     | 0                 | 0                                             | 0               | 531                    | 0                    | 0\n",
       "Castro Street and El Camino Real | 0             | 0                 | 0               | 0             | 0                | 0                        | 0               | 0                         | 0                               | 74                               | 0                                 | 0               | 0                        | 0                    | 0                | 0                     | 0                     | 0                      | 0                      | 499                  | 0                 | 0                   | 0                               | 0                                    | 0             | 0         | 0           | 0              | 0             | 0                 | 0                                   | 0          | 201                            | 108                     | 0                          | 2139          | 0                    | 0              | 0                  | 0                             | 0                             | 0                           | 0                           | 654                                   | 0           | 0                          | 0                      | 953                          | 696                         | 0                                        | 0                                       | 0                       | 0                  | 0                     | 0                                 | 0                       | 0                | 0                   | 0                               | 0                      | 0                        | 0               | 0             | 0                        | 0                 | 0                                             | 0               | 4150                   | 0                    | 0\n",
       "... (60 rows omitted)"
      ]
     },
     "execution_count": 149,
     "metadata": {},
     "output_type": "execute_result"
    }
   ],
   "source": [
    "# Duration of fastest trip between stations,\n",
    "# using pivot\n",
    "trip.pivot(\"Start Station\", \"End Station\", values=\"Duration\", collect=min)"
   ]
  },
  {
   "cell_type": "code",
   "execution_count": null,
   "metadata": {},
   "outputs": [],
   "source": [
    "# Shortest trips from Civic Center\n",
    "from_cc = shortest.where(\n",
    "    'Start Station', are.containing('Civic Center BART')).sort(\n",
    "    'Duration min')\n",
    "from_cc"
   ]
  },
  {
   "cell_type": "markdown",
   "metadata": {},
   "source": [
    "## Maps ##"
   ]
  },
  {
   "cell_type": "code",
   "execution_count": 131,
   "metadata": {},
   "outputs": [
    {
     "data": {
      "text/html": [
       "<table border=\"1\" class=\"dataframe\">\n",
       "    <thead>\n",
       "        <tr>\n",
       "            <th>station_id</th> <th>name</th> <th>lat</th> <th>long</th> <th>landmark</th>\n",
       "        </tr>\n",
       "    </thead>\n",
       "    <tbody>\n",
       "        <tr>\n",
       "            <td>2         </td> <td>San Jose Diridon Caltrain Station</td> <td>37.3297</td> <td>-121.902</td> <td>San Jose</td>\n",
       "        </tr>\n",
       "        <tr>\n",
       "            <td>3         </td> <td>San Jose Civic Center            </td> <td>37.3307</td> <td>-121.889</td> <td>San Jose</td>\n",
       "        </tr>\n",
       "        <tr>\n",
       "            <td>4         </td> <td>Santa Clara at Almaden           </td> <td>37.334 </td> <td>-121.895</td> <td>San Jose</td>\n",
       "        </tr>\n",
       "        <tr>\n",
       "            <td>5         </td> <td>Adobe on Almaden                 </td> <td>37.3314</td> <td>-121.893</td> <td>San Jose</td>\n",
       "        </tr>\n",
       "        <tr>\n",
       "            <td>6         </td> <td>San Pedro Square                 </td> <td>37.3367</td> <td>-121.894</td> <td>San Jose</td>\n",
       "        </tr>\n",
       "        <tr>\n",
       "            <td>7         </td> <td>Paseo de San Antonio             </td> <td>37.3338</td> <td>-121.887</td> <td>San Jose</td>\n",
       "        </tr>\n",
       "        <tr>\n",
       "            <td>8         </td> <td>San Salvador at 1st              </td> <td>37.3302</td> <td>-121.886</td> <td>San Jose</td>\n",
       "        </tr>\n",
       "        <tr>\n",
       "            <td>9         </td> <td>Japantown                        </td> <td>37.3487</td> <td>-121.895</td> <td>San Jose</td>\n",
       "        </tr>\n",
       "        <tr>\n",
       "            <td>10        </td> <td>San Jose City Hall               </td> <td>37.3374</td> <td>-121.887</td> <td>San Jose</td>\n",
       "        </tr>\n",
       "        <tr>\n",
       "            <td>11        </td> <td>MLK Library                      </td> <td>37.3359</td> <td>-121.886</td> <td>San Jose</td>\n",
       "        </tr>\n",
       "    </tbody>\n",
       "</table>\n",
       "<p>... (60 rows omitted)</p>"
      ],
      "text/plain": [
       "station_id | name                              | lat     | long     | landmark\n",
       "2          | San Jose Diridon Caltrain Station | 37.3297 | -121.902 | San Jose\n",
       "3          | San Jose Civic Center             | 37.3307 | -121.889 | San Jose\n",
       "4          | Santa Clara at Almaden            | 37.334  | -121.895 | San Jose\n",
       "5          | Adobe on Almaden                  | 37.3314 | -121.893 | San Jose\n",
       "6          | San Pedro Square                  | 37.3367 | -121.894 | San Jose\n",
       "7          | Paseo de San Antonio              | 37.3338 | -121.887 | San Jose\n",
       "8          | San Salvador at 1st               | 37.3302 | -121.886 | San Jose\n",
       "9          | Japantown                         | 37.3487 | -121.895 | San Jose\n",
       "10         | San Jose City Hall                | 37.3374 | -121.887 | San Jose\n",
       "11         | MLK Library                       | 37.3359 | -121.886 | San Jose\n",
       "... (60 rows omitted)"
      ]
     },
     "execution_count": 131,
     "metadata": {},
     "output_type": "execute_result"
    }
   ],
   "source": [
    "# Geographical data on the stations\n",
    "stations = Table.read_table('station.csv').drop(4, 6)\n",
    "stations"
   ]
  },
  {
   "cell_type": "code",
   "execution_count": 132,
   "metadata": {},
   "outputs": [
    {
     "data": {
      "text/html": [
       "<table border=\"1\" class=\"dataframe\">\n",
       "    <thead>\n",
       "        <tr>\n",
       "            <th>lat</th> <th>long</th> <th>labels</th>\n",
       "        </tr>\n",
       "    </thead>\n",
       "    <tbody>\n",
       "        <tr>\n",
       "            <td>37.795 </td> <td>-122.4  </td> <td>Clay at Battery         </td>\n",
       "        </tr>\n",
       "        <tr>\n",
       "            <td>37.7973</td> <td>-122.398</td> <td>Davis at Jackson        </td>\n",
       "        </tr>\n",
       "        <tr>\n",
       "            <td>37.7942</td> <td>-122.403</td> <td>Commercial at Montgomery</td>\n",
       "        </tr>\n",
       "    </tbody>\n",
       "</table>\n",
       "<p>... (32 rows omitted)</p>"
      ],
      "text/plain": [
       "<IPython.core.display.HTML object>"
      ]
     },
     "metadata": {},
     "output_type": "display_data"
    }
   ],
   "source": [
    "sf_stations = stations.where('landmark', are.equal_to('San Francisco'))\n",
    "sf_stations_map_data = sf_stations.select(\n",
    "    'lat', 'long', 'name').relabeled(\n",
    "    'name', 'labels'\n",
    ")\n",
    "sf_stations_map_data.show(3)"
   ]
  },
  {
   "cell_type": "code",
   "execution_count": 133,
   "metadata": {},
   "outputs": [
    {
     "data": {
      "text/html": [
       "<div style=\"width:100%;\"><div style=\"position:relative;width:100%;height:0;padding-bottom:60%;\"><span style=\"color:#565656\">Make this Notebook Trusted to load map: File -> Trust Notebook</span><iframe src=\"about:blank\" style=\"position:absolute;width:100%;height:100%;left:0;top:0;border:none !important;\" data-html=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 onload=\"this.contentDocument.open();this.contentDocument.write(atob(this.getAttribute('data-html')));this.contentDocument.close();\" allowfullscreen webkitallowfullscreen mozallowfullscreen></iframe></div></div>"
      ],
      "text/plain": [
       "<datascience.maps.Map at 0x7fdf7830d610>"
      ]
     },
     "execution_count": 133,
     "metadata": {},
     "output_type": "execute_result"
    }
   ],
   "source": [
    "Marker.map_table(sf_stations_map_data)"
   ]
  },
  {
   "cell_type": "code",
   "execution_count": 134,
   "metadata": {},
   "outputs": [
    {
     "data": {
      "text/html": [
       "<div style=\"width:100%;\"><div style=\"position:relative;width:100%;height:0;padding-bottom:60%;\"><span style=\"color:#565656\">Make this Notebook Trusted to load map: File -> Trust Notebook</span><iframe src=\"about:blank\" style=\"position:absolute;width:100%;height:100%;left:0;top:0;border:none !important;\" data-html=PCFET0NUWVBFIGh0bWw+CjxoZWFkPiAgICAKICAgIDxtZXRhIGh0dHAtZXF1aXY9ImNvbnRlbnQtdHlwZSIgY29udGVudD0idGV4dC9odG1sOyBjaGFyc2V0PVVURi04IiAvPgogICAgCiAgICAgICAgPHNjcmlwdD4KICAgICAgICAgICAgTF9OT19UT1VDSCA9IGZhbHNlOwogICAgICAgICAgICBMX0RJU0FCTEVfM0QgPSBmYWxzZTsKICAgICAgICA8L3NjcmlwdD4KICAgIAogICAgPHNjcmlwdCBzcmM9Imh0dHBzOi8vY2RuLmpzZGVsaXZyLm5ldC9ucG0vbGVhZmxldEAxLjYuMC9kaXN0L2xlYWZsZXQuanMiPjwvc2NyaXB0PgogICAgPHNjcmlwdCBzcmM9Imh0dHBzOi8vY29kZS5qcXVlcnkuY29tL2pxdWVyeS0xLjEyLjQubWluLmpzIj48L3NjcmlwdD4KICAgIDxzY3JpcHQgc3JjPSJodHRwczovL21heGNkbi5ib290c3RyYXBjZG4uY29tL2Jvb3RzdHJhcC8zLjIuMC9qcy9ib290c3RyYXAubWluLmpzIj48L3NjcmlwdD4KICAgIDxzY3JpcHQgc3JjPSJodHRwczovL2NkbmpzLmNsb3VkZmxhcmUuY29tL2FqYXgvbGlicy9MZWFmbGV0LmF3ZXNvbWUtbWFya2Vycy8yLjAuMi9sZWFmbGV0LmF3ZXNvbWUtbWFya2Vycy5qcyI+PC9zY3JpcHQ+CiAgICA8bGluayByZWw9InN0eWxlc2hlZXQiIGhyZWY9Imh0dHBzOi8vY2RuLmpzZGVsaXZyLm5ldC9ucG0vbGVhZmxldEAxLjYuMC9kaXN0L2xlYWZsZXQuY3NzIi8+CiAgICA8bGluayByZWw9InN0eWxlc2hlZXQiIGhyZWY9Imh0dHBzOi8vbWF4Y2RuLmJvb3RzdHJhcGNkbi5jb20vYm9vdHN0cmFwLzMuMi4wL2Nzcy9ib290c3RyYXAubWluLmNzcyIvPgogICAgPGxpbmsgcmVsPSJzdHlsZXNoZWV0IiBocmVmPSJodHRwczovL21heGNkbi5ib290c3RyYXBjZG4uY29tL2Jvb3RzdHJhcC8zLjIuMC9jc3MvYm9vdHN0cmFwLXRoZW1lLm1pbi5jc3MiLz4KICAgIDxsaW5rIHJlbD0ic3R5bGVzaGVldCIgaHJlZj0iaHR0cHM6Ly9tYXhjZG4uYm9vdHN0cmFwY2RuLmNvbS9mb250LWF3ZXNvbWUvNC42LjMvY3NzL2ZvbnQtYXdlc29tZS5taW4uY3NzIi8+CiAgICA8bGluayByZWw9InN0eWxlc2hlZXQiIGhyZWY9Imh0dHBzOi8vY2RuanMuY2xvdWRmbGFyZS5jb20vYWpheC9saWJzL0xlYWZsZXQuYXdlc29tZS1tYXJrZXJzLzIuMC4yL2xlYWZsZXQuYXdlc29tZS1tYXJrZXJzLmNzcyIvPgogICAgPGxpbmsgcmVsPSJzdHlsZXNoZWV0IiBocmVmPSJodHRwczovL3Jhd2Nkbi5naXRoYWNrLmNvbS9weXRob24tdmlzdWFsaXphdGlvbi9mb2xpdW0vbWFzdGVyL2ZvbGl1bS90ZW1wbGF0ZXMvbGVhZmxldC5hd2Vzb21lLnJvdGF0ZS5jc3MiLz4KICAgIDxzdHlsZT5odG1sLCBib2R5IHt3aWR0aDogMTAwJTtoZWlnaHQ6IDEwMCU7bWFyZ2luOiAwO3BhZGRpbmc6IDA7fTwvc3R5bGU+CiAgICA8c3R5bGU+I21hcCB7cG9zaXRpb246YWJzb2x1dGU7dG9wOjA7Ym90dG9tOjA7cmlnaHQ6MDtsZWZ0OjA7fTwvc3R5bGU+CiAgICAKICAgICAgICAgICAgPG1ldGEgbmFtZT0idmlld3BvcnQiIGNvbnRlbnQ9IndpZHRoPWRldmljZS13aWR0aCwKICAgICAgICAgICAgICAgIGluaXRpYWwtc2NhbGU9MS4wLCBtYXhpbXVtLXNjYWxlPTEuMCwgdXNlci1zY2FsYWJsZT1ubyIgLz4KICAgICAgICAgICAgPHN0eWxlPgogICAgICAgICAgICAgICAgI21hcF82MGUxYWMzODkwNmM0ZmM2YWY1YjA1N2FkYzNhMzFlYiB7CiAgICAgICAgICAgICAgICAgICAgcG9zaXRpb246IHJlbGF0aXZlOwogICAgICAgICAgICAgICAgICAgIHdpZHRoOiA5NjAuMHB4OwogICAgICAgICAgICAgICAgICAgIGhlaWdodDogNTAwLjBweDsKICAgICAgICAgICAgICAgICAgICBsZWZ0OiAwLjAlOwogICAgICAgICAgICAgICAgICAgIHRvcDogMC4wJTsKICAgICAgICAgICAgICAgIH0KICAgICAgICAgICAgPC9zdHlsZT4KICAgICAgICAKPC9oZWFkPgo8Ym9keT4gICAgCiAgICAKICAgICAgICAgICAgPGRpdiBjbGFzcz0iZm9saXVtLW1hcCIgaWQ9Im1hcF82MGUxYWMzODkwNmM0ZmM2YWY1YjA1N2FkYzNhMzFlYiIgPjwvZGl2PgogICAgICAgIAo8L2JvZHk+CjxzY3JpcHQ+ICAgIAogICAgCiAgICAgICAgICAgIHZhciBtYXBfNjBlMWFjMzg5MDZjNGZjNmFmNWIwNTdhZGMzYTMxZWIgPSBMLm1hcCgKICAgICAgICAgICAgICAgICJtYXBfNjBlMWFjMzg5MDZjNGZjNmFmNWIwNTdhZGMzYTMxZWIiLAogICAgICAgICAgICAgICAgewogICAgICAgICAgICAgICAgICAgIGNlbnRlcjogWzM3Ljc4NzkxNCwgLTEyMi40MDM0ODM1XSwKICAgICAgICAgICAgICAgICAgICBjcnM6IEwuQ1JTLkVQU0czODU3LAogICAgICAgICAgICAgICAgICAgIHpvb206IDEyLAogICAgICAgICAgICAgICAgICAgIHpvb21Db250cm9sOiB0cnVlLAogICAgICAgICAgICAgICAgICAgIHByZWZlckNhbnZhczogZmFsc2UsCiAgICAgICAgICAgICAgICAgICAgY2x1c3RlcmVkTWFya2VyOiBmYWxzZSwKICAgICAgICAgICAgICAgIH0KICAgICAgICAgICAgKTsKCiAgICAgICAgICAgIAoKICAgICAgICAKICAgIAogICAgICAgICAgICB2YXIgdGlsZV9sYXllcl82MmI2NDJmNTYwYzI0MzJhOTU2NDBjYmI3YWM3NjA5OCA9IEwudGlsZUxheWVyKAogICAgICAgICAgICAgICAgImh0dHBzOi8ve3N9LnRpbGUub3BlbnN0cmVldG1hcC5vcmcve3p9L3t4fS97eX0ucG5nIiwKICAgICAgICAgICAgICAgIHsiYXR0cmlidXRpb24iOiAiRGF0YSBieSBcdTAwMjZjb3B5OyBcdTAwM2NhIGhyZWY9XCJodHRwOi8vb3BlbnN0cmVldG1hcC5vcmdcIlx1MDAzZU9wZW5TdHJlZXRNYXBcdTAwM2MvYVx1MDAzZSwgdW5kZXIgXHUwMDNjYSBocmVmPVwiaHR0cDovL3d3dy5vcGVuc3RyZWV0bWFwLm9yZy9jb3B5cmlnaHRcIlx1MDAzZU9EYkxcdTAwM2MvYVx1MDAzZS4iLCAiZGV0ZWN0UmV0aW5hIjogZmFsc2UsICJtYXhOYXRpdmVab29tIjogMTcsICJtYXhab29tIjogMTcsICJtaW5ab29tIjogMTAsICJub1dyYXAiOiBmYWxzZSwgIm9wYWNpdHkiOiAxLCAic3ViZG9tYWlucyI6ICJhYmMiLCAidG1zIjogZmFsc2V9CiAgICAgICAgICAgICkuYWRkVG8obWFwXzYwZTFhYzM4OTA2YzRmYzZhZjViMDU3YWRjM2EzMWViKTsKICAgICAgICAKICAgIAogICAgICAgICAgICB2YXIgY2lyY2xlX21hcmtlcl82ZDFlNjc4NGM5MjE0YmQxODJmZWQ5YWM2NTJmZDRlYSA9IEwuY2lyY2xlTWFya2VyKAogICAgICAgICAgICAgICAgWzM3Ljc5NTAwMSwgLTEyMi4zOTk5N10sCiAgICAgICAgICAgICAgICB7ImJ1YmJsaW5nTW91c2VFdmVudHMiOiB0cnVlLCAiY29sb3IiOiAiIzMzODhmZiIsICJkYXNoQXJyYXkiOiBudWxsLCAiZGFzaE9mZnNldCI6IG51bGwsICJmaWxsIjogdHJ1ZSwgImZpbGxDb2xvciI6ICJibHVlIiwgImZpbGxPcGFjaXR5IjogMC4yLCAiZmlsbFJ1bGUiOiAiZXZlbm9kZCIsICJsaW5lQ2FwIjogInJvdW5kIiwgImxpbmVKb2luIjogInJvdW5kIiwgIm9wYWNpdHkiOiAxLjAsICJyYWRpdXMiOiAxMCwgInN0cm9rZSI6IHRydWUsICJ3ZWlnaHQiOiAzfQogICAgICAgICAgICApLmFkZFRvKG1hcF82MGUxYWMzODkwNmM0ZmM2YWY1YjA1N2FkYzNhMzFlYik7CiAgICAgICAgCiAgICAKICAgICAgICB2YXIgcG9wdXBfYjVhZmFiYzM1YTkxNDJmYWIyOTBiOTFlYzg1M2ZlNmQgPSBMLnBvcHVwKHsibWF4V2lkdGgiOiAiMTAwJSJ9KTsKCiAgICAgICAgCiAgICAgICAgICAgIHZhciBodG1sX2M2YTI3YTYyMGU5NTRlMWE5OWNmY2M1ZTgzNzYxN2ExID0gJChgPGRpdiBpZD0iaHRtbF9jNmEyN2E2MjBlOTU0ZTFhOTljZmNjNWU4Mzc2MTdhMSIgc3R5bGU9IndpZHRoOiAxMDAuMCU7IGhlaWdodDogMTAwLjAlOyI+Q2xheSBhdCBCYXR0ZXJ5PC9kaXY+YClbMF07CiAgICAgICAgICAgIHBvcHVwX2I1YWZhYmMzNWE5MTQyZmFiMjkwYjkxZWM4NTNmZTZkLnNldENvbnRlbnQoaHRtbF9jNmEyN2E2MjBlOTU0ZTFhOTljZmNjNWU4Mzc2MTdhMSk7CiAgICAgICAgCgogICAgICAgIGNpcmNsZV9tYXJrZXJfNmQxZTY3ODRjOTIxNGJkMTgyZmVkOWFjNjUyZmQ0ZWEuYmluZFBvcHVwKHBvcHVwX2I1YWZhYmMzNWE5MTQyZmFiMjkwYjkxZWM4NTNmZTZkKQogICAgICAgIDsKCiAgICAgICAgCiAgICAKICAgIAogICAgICAgICAgICB2YXIgY2lyY2xlX21hcmtlcl8xYjQ3ZWExNDk3NTM0Mzk5OGQxZTdlYTRmZTc4ZGMzYSA9IEwuY2lyY2xlTWFya2VyKAogICAgICAgICAgICAgICAgWzM3Ljc5NzI4LCAtMTIyLjM5ODQzNl0sCiAgICAgICAgICAgICAgICB7ImJ1YmJsaW5nTW91c2VFdmVudHMiOiB0cnVlLCAiY29sb3IiOiAiIzMzODhmZiIsICJkYXNoQXJyYXkiOiBudWxsLCAiZGFzaE9mZnNldCI6IG51bGwsICJmaWxsIjogdHJ1ZSwgImZpbGxDb2xvciI6ICJibHVlIiwgImZpbGxPcGFjaXR5IjogMC4yLCAiZmlsbFJ1bGUiOiAiZXZlbm9kZCIsICJsaW5lQ2FwIjogInJvdW5kIiwgImxpbmVKb2luIjogInJvdW5kIiwgIm9wYWNpdHkiOiAxLjAsICJyYWRpdXMiOiAxMCwgInN0cm9rZSI6IHRydWUsICJ3ZWlnaHQiOiAzfQogICAgICAgICAgICApLmFkZFRvKG1hcF82MGUxYWMzODkwNmM0ZmM2YWY1YjA1N2FkYzNhMzFlYik7CiAgICAgICAgCiAgICAKICAgICAgICB2YXIgcG9wdXBfZTU5OWQwYzJlNDMwNDI5Yjg3M2NmZTkwMjEzZmVmN2QgPSBMLnBvcHVwKHsibWF4V2lkdGgiOiAiMTAwJSJ9KTsKCiAgICAgICAgCiAgICAgICAgICAgIHZhciBodG1sXzIzOTcyNDA4ZGFkYjRjYmQ5ZThhODU2OGI1Mzc3M2FjID0gJChgPGRpdiBpZD0iaHRtbF8yMzk3MjQwOGRhZGI0Y2JkOWU4YTg1NjhiNTM3NzNhYyIgc3R5bGU9IndpZHRoOiAxMDAuMCU7IGhlaWdodDogMTAwLjAlOyI+RGF2aXMgYXQgSmFja3NvbjwvZGl2PmApWzBdOwogICAgICAgICAgICBwb3B1cF9lNTk5ZDBjMmU0MzA0MjliODczY2ZlOTAyMTNmZWY3ZC5zZXRDb250ZW50KGh0bWxfMjM5NzI0MDhkYWRiNGNiZDllOGE4NTY4YjUzNzczYWMpOwogICAgICAgIAoKICAgICAgICBjaXJjbGVfbWFya2VyXzFiNDdlYTE0OTc1MzQzOTk4ZDFlN2VhNGZlNzhkYzNhLmJpbmRQb3B1cChwb3B1cF9lNTk5ZDBjMmU0MzA0MjliODczY2ZlOTAyMTNmZWY3ZCkKICAgICAgICA7CgogICAgICAgIAogICAgCiAgICAKICAgICAgICAgICAgdmFyIGNpcmNsZV9tYXJrZXJfYmQ5ODM0ODAwOTM2NGUzOTg5ZTMwM2M2YzkzNTAyZjQgPSBMLmNpcmNsZU1hcmtlcigKICAgICAgICAgICAgICAgIFszNy43OTQyMzEsIC0xMjIuNDAyOTIzXSwKICAgICAgICAgICAgICAgIHsiYnViYmxpbmdNb3VzZUV2ZW50cyI6IHRydWUsICJjb2xvciI6ICIjMzM4OGZmIiwgImRhc2hBcnJheSI6IG51bGwsICJkYXNoT2Zmc2V0IjogbnVsbCwgImZpbGwiOiB0cnVlLCAiZmlsbENvbG9yIjogImJsdWUiLCAiZmlsbE9wYWNpdHkiOiAwLjIsICJmaWxsUnVsZSI6ICJldmVub2RkIiwgImxpbmVDYXAiOiAicm91bmQiLCAibGluZUpvaW4iOiAicm91bmQiLCAib3BhY2l0eSI6IDEuMCwgInJhZGl1cyI6IDEwLCAic3Ryb2tlIjogdHJ1ZSwgIndlaWdodCI6IDN9CiAgICAgICAgICAgICkuYWRkVG8obWFwXzYwZTFhYzM4OTA2YzRmYzZhZjViMDU3YWRjM2EzMWViKTsKICAgICAgICAKICAgIAogICAgICAgIHZhciBwb3B1cF85NmNmMTUxYzFkMzY0NDRkOTkwNjZhMDk1YTFhZGQ3NiA9IEwucG9wdXAoeyJtYXhXaWR0aCI6ICIxMDAlIn0pOwoKICAgICAgICAKICAgICAgICAgICAgdmFyIGh0bWxfMmIzNWI1M2Y2MTc3NDEzNWI2ZWVjZTcxZGY1Zjg3ZDAgPSAkKGA8ZGl2IGlkPSJodG1sXzJiMzViNTNmNjE3NzQxMzViNmVlY2U3MWRmNWY4N2QwIiBzdHlsZT0id2lkdGg6IDEwMC4wJTsgaGVpZ2h0OiAxMDAuMCU7Ij5Db21tZXJjaWFsIGF0IE1vbnRnb21lcnk8L2Rpdj5gKVswXTsKICAgICAgICAgICAgcG9wdXBfOTZjZjE1MWMxZDM2NDQ0ZDk5MDY2YTA5NWExYWRkNzYuc2V0Q29udGVudChodG1sXzJiMzViNTNmNjE3NzQxMzViNmVlY2U3MWRmNWY4N2QwKTsKICAgICAgICAKCiAgICAgICAgY2lyY2xlX21hcmtlcl9iZDk4MzQ4MDA5MzY0ZTM5ODllMzAzYzZjOTM1MDJmNC5iaW5kUG9wdXAocG9wdXBfOTZjZjE1MWMxZDM2NDQ0ZDk5MDY2YTA5NWExYWRkNzYpCiAgICAgICAgOwoKICAgICAgICAKICAgIAogICAgCiAgICAgICAgICAgIHZhciBjaXJjbGVfbWFya2VyX2RkMTc4ZTc2MDMwZjQxZmI5YzAxOGNjN2MwYWU2ZDg2ID0gTC5jaXJjbGVNYXJrZXIoCiAgICAgICAgICAgICAgICBbMzcuNzk1NDI1LCAtMTIyLjQwNDc2N10sCiAgICAgICAgICAgICAgICB7ImJ1YmJsaW5nTW91c2VFdmVudHMiOiB0cnVlLCAiY29sb3IiOiAiIzMzODhmZiIsICJkYXNoQXJyYXkiOiBudWxsLCAiZGFzaE9mZnNldCI6IG51bGwsICJmaWxsIjogdHJ1ZSwgImZpbGxDb2xvciI6ICJibHVlIiwgImZpbGxPcGFjaXR5IjogMC4yLCAiZmlsbFJ1bGUiOiAiZXZlbm9kZCIsICJsaW5lQ2FwIjogInJvdW5kIiwgImxpbmVKb2luIjogInJvdW5kIiwgIm9wYWNpdHkiOiAxLjAsICJyYWRpdXMiOiAxMCwgInN0cm9rZSI6IHRydWUsICJ3ZWlnaHQiOiAzfQogICAgICAgICAgICApLmFkZFRvKG1hcF82MGUxYWMzODkwNmM0ZmM2YWY1YjA1N2FkYzNhMzFlYik7CiAgICAgICAgCiAgICAKICAgICAgICB2YXIgcG9wdXBfNTdiNzRjYjJiODI5NGRiMmFkMGI1N2E5Nzc2NDgyMDQgPSBMLnBvcHVwKHsibWF4V2lkdGgiOiAiMTAwJSJ9KTsKCiAgICAgICAgCiAgICAgICAgICAgIHZhciBodG1sXzkxZTJhNWQyMTRmMTQxODc4YmMwMDZkZTMzNmJhNTkxID0gJChgPGRpdiBpZD0iaHRtbF85MWUyYTVkMjE0ZjE0MTg3OGJjMDA2ZGUzMzZiYTU5MSIgc3R5bGU9IndpZHRoOiAxMDAuMCU7IGhlaWdodDogMTAwLjAlOyI+V2FzaGluZ3RvbiBhdCBLZWFybmV5PC9kaXY+YClbMF07CiAgICAgICAgICAgIHBvcHVwXzU3Yjc0Y2IyYjgyOTRkYjJhZDBiNTdhOTc3NjQ4MjA0LnNldENvbnRlbnQoaHRtbF85MWUyYTVkMjE0ZjE0MTg3OGJjMDA2ZGUzMzZiYTU5MSk7CiAgICAgICAgCgogICAgICAgIGNpcmNsZV9tYXJrZXJfZGQxNzhlNzYwMzBmNDFmYjljMDE4Y2M3YzBhZTZkODYuYmluZFBvcHVwKHBvcHVwXzU3Yjc0Y2IyYjgyOTRkYjJhZDBiNTdhOTc3NjQ4MjA0KQogICAgICAgIDsKCiAgICAgICAgCiAgICAKICAgIAogICAgICAgICAgICB2YXIgY2lyY2xlX21hcmtlcl9iN2JmMmFhY2NkODM0MGU4ODk3ZTAxNjdmMTlhZjY4NCA9IEwuY2lyY2xlTWFya2VyKAogICAgICAgICAgICAgICAgWzM3Ljc4ODk3NSwgLTEyMi40MDM0NTJdLAogICAgICAgICAgICAgICAgeyJidWJibGluZ01vdXNlRXZlbnRzIjogdHJ1ZSwgImNvbG9yIjogIiMzMzg4ZmYiLCAiZGFzaEFycmF5IjogbnVsbCwgImRhc2hPZmZzZXQiOiBudWxsLCAiZmlsbCI6IHRydWUsICJmaWxsQ29sb3IiOiAiYmx1ZSIsICJmaWxsT3BhY2l0eSI6IDAuMiwgImZpbGxSdWxlIjogImV2ZW5vZGQiLCAibGluZUNhcCI6ICJyb3VuZCIsICJsaW5lSm9pbiI6ICJyb3VuZCIsICJvcGFjaXR5IjogMS4wLCAicmFkaXVzIjogMTAsICJzdHJva2UiOiB0cnVlLCAid2VpZ2h0IjogM30KICAgICAgICAgICAgKS5hZGRUbyhtYXBfNjBlMWFjMzg5MDZjNGZjNmFmNWIwNTdhZGMzYTMxZWIpOwogICAgICAgIAogICAgCiAgICAgICAgdmFyIHBvcHVwXzkwODQ1NjQyYTU3ODQyNmNiYmI2ZmZkNzIzZDJmMTI2ID0gTC5wb3B1cCh7Im1heFdpZHRoIjogIjEwMCUifSk7CgogICAgICAgIAogICAgICAgICAgICB2YXIgaHRtbF9kOGFjNDc2ZjI0YjQ0YjJkODk4NWEzN2UzMmFjYTU4NCA9ICQoYDxkaXYgaWQ9Imh0bWxfZDhhYzQ3NmYyNGI0NGIyZDg5ODVhMzdlMzJhY2E1ODQiIHN0eWxlPSJ3aWR0aDogMTAwLjAlOyBoZWlnaHQ6IDEwMC4wJTsiPlBvc3QgYXQgS2Vhcm5leTwvZGl2PmApWzBdOwogICAgICAgICAgICBwb3B1cF85MDg0NTY0MmE1Nzg0MjZjYmJiNmZmZDcyM2QyZjEyNi5zZXRDb250ZW50KGh0bWxfZDhhYzQ3NmYyNGI0NGIyZDg5ODVhMzdlMzJhY2E1ODQpOwogICAgICAgIAoKICAgICAgICBjaXJjbGVfbWFya2VyX2I3YmYyYWFjY2Q4MzQwZTg4OTdlMDE2N2YxOWFmNjg0LmJpbmRQb3B1cChwb3B1cF85MDg0NTY0MmE1Nzg0MjZjYmJiNmZmZDcyM2QyZjEyNikKICAgICAgICA7CgogICAgICAgIAogICAgCiAgICAKICAgICAgICAgICAgdmFyIGNpcmNsZV9tYXJrZXJfMzQ0ZGY3MTg4Y2RkNDM4ZGE0NzQzNWRhOTAwOGZlYjMgPSBMLmNpcmNsZU1hcmtlcigKICAgICAgICAgICAgICAgIFszNy43OTk5NTMsIC0xMjIuMzk4NTI1XSwKICAgICAgICAgICAgICAgIHsiYnViYmxpbmdNb3VzZUV2ZW50cyI6IHRydWUsICJjb2xvciI6ICIjMzM4OGZmIiwgImRhc2hBcnJheSI6IG51bGwsICJkYXNoT2Zmc2V0IjogbnVsbCwgImZpbGwiOiB0cnVlLCAiZmlsbENvbG9yIjogImJsdWUiLCAiZmlsbE9wYWNpdHkiOiAwLjIsICJmaWxsUnVsZSI6ICJldmVub2RkIiwgImxpbmVDYXAiOiAicm91bmQiLCAibGluZUpvaW4iOiAicm91bmQiLCAib3BhY2l0eSI6IDEuMCwgInJhZGl1cyI6IDEwLCAic3Ryb2tlIjogdHJ1ZSwgIndlaWdodCI6IDN9CiAgICAgICAgICAgICkuYWRkVG8obWFwXzYwZTFhYzM4OTA2YzRmYzZhZjViMDU3YWRjM2EzMWViKTsKICAgICAgICAKICAgIAogICAgICAgIHZhciBwb3B1cF9lMzEzZGI5NTJiM2I0NjdjOWQ2YjQ3YjVhODY3YWUyYyA9IEwucG9wdXAoeyJtYXhXaWR0aCI6ICIxMDAlIn0pOwoKICAgICAgICAKICAgICAgICAgICAgdmFyIGh0bWxfZDg5Zjc1NTJiNjI2NGNmNThlY2QwYjIzMjNmMzUyYzYgPSAkKGA8ZGl2IGlkPSJodG1sX2Q4OWY3NTUyYjYyNjRjZjU4ZWNkMGIyMzIzZjM1MmM2IiBzdHlsZT0id2lkdGg6IDEwMC4wJTsgaGVpZ2h0OiAxMDAuMCU7Ij5FbWJhcmNhZGVybyBhdCBWYWxsZWpvPC9kaXY+YClbMF07CiAgICAgICAgICAgIHBvcHVwX2UzMTNkYjk1MmIzYjQ2N2M5ZDZiNDdiNWE4NjdhZTJjLnNldENvbnRlbnQoaHRtbF9kODlmNzU1MmI2MjY0Y2Y1OGVjZDBiMjMyM2YzNTJjNik7CiAgICAgICAgCgogICAgICAgIGNpcmNsZV9tYXJrZXJfMzQ0ZGY3MTg4Y2RkNDM4ZGE0NzQzNWRhOTAwOGZlYjMuYmluZFBvcHVwKHBvcHVwX2UzMTNkYjk1MmIzYjQ2N2M5ZDZiNDdiNWE4NjdhZTJjKQogICAgICAgIDsKCiAgICAgICAgCiAgICAKICAgIAogICAgICAgICAgICB2YXIgY2lyY2xlX21hcmtlcl9lYmExODg3NzI2M2M0Y2NhYWY1MGVkMjNiYjI2NDQ1OSA9IEwuY2lyY2xlTWFya2VyKAogICAgICAgICAgICAgICAgWzM3Ljc5MDMwMiwgLTEyMi4zOTA2MzddLAogICAgICAgICAgICAgICAgeyJidWJibGluZ01vdXNlRXZlbnRzIjogdHJ1ZSwgImNvbG9yIjogIiMzMzg4ZmYiLCAiZGFzaEFycmF5IjogbnVsbCwgImRhc2hPZmZzZXQiOiBudWxsLCAiZmlsbCI6IHRydWUsICJmaWxsQ29sb3IiOiAiYmx1ZSIsICJmaWxsT3BhY2l0eSI6IDAuMiwgImZpbGxSdWxlIjogImV2ZW5vZGQiLCAibGluZUNhcCI6ICJyb3VuZCIsICJsaW5lSm9pbiI6ICJyb3VuZCIsICJvcGFjaXR5IjogMS4wLCAicmFkaXVzIjogMTAsICJzdHJva2UiOiB0cnVlLCAid2VpZ2h0IjogM30KICAgICAgICAgICAgKS5hZGRUbyhtYXBfNjBlMWFjMzg5MDZjNGZjNmFmNWIwNTdhZGMzYTMxZWIpOwogICAgICAgIAogICAgCiAgICAgICAgdmFyIHBvcHVwX2I4OWI5ZGY5MTQxMzQ3ZTVhMDU3ZTA4YzJlYzJhYWZkID0gTC5wb3B1cCh7Im1heFdpZHRoIjogIjEwMCUifSk7CgogICAgICAgIAogICAgICAgICAgICB2YXIgaHRtbF9mN2M5ZjM4MmY1OTM0NzIzYmEwZTBlOTcyMDkzZThmMyA9ICQoYDxkaXYgaWQ9Imh0bWxfZjdjOWYzODJmNTkzNDcyM2JhMGUwZTk3MjA5M2U4ZjMiIHN0eWxlPSJ3aWR0aDogMTAwLjAlOyBoZWlnaHQ6IDEwMC4wJTsiPlNwZWFyIGF0IEZvbHNvbTwvZGl2PmApWzBdOwogICAgICAgICAgICBwb3B1cF9iODliOWRmOTE0MTM0N2U1YTA1N2UwOGMyZWMyYWFmZC5zZXRDb250ZW50KGh0bWxfZjdjOWYzODJmNTkzNDcyM2JhMGUwZTk3MjA5M2U4ZjMpOwogICAgICAgIAoKICAgICAgICBjaXJjbGVfbWFya2VyX2ViYTE4ODc3MjYzYzRjY2FhZjUwZWQyM2JiMjY0NDU5LmJpbmRQb3B1cChwb3B1cF9iODliOWRmOTE0MTM0N2U1YTA1N2UwOGMyZWMyYWFmZCkKICAgICAgICA7CgogICAgICAgIAogICAgCiAgICAKICAgICAgICAgICAgdmFyIGNpcmNsZV9tYXJrZXJfZTliNzc0MmZhNTY0NGZkOWIwNGJhM2I5YzQwNjQ1MzQgPSBMLmNpcmNsZU1hcmtlcigKICAgICAgICAgICAgICAgIFszNy43OTUzOTIsIC0xMjIuMzk0MjAzXSwKICAgICAgICAgICAgICAgIHsiYnViYmxpbmdNb3VzZUV2ZW50cyI6IHRydWUsICJjb2xvciI6ICIjMzM4OGZmIiwgImRhc2hBcnJheSI6IG51bGwsICJkYXNoT2Zmc2V0IjogbnVsbCwgImZpbGwiOiB0cnVlLCAiZmlsbENvbG9yIjogImJsdWUiLCAiZmlsbE9wYWNpdHkiOiAwLjIsICJmaWxsUnVsZSI6ICJldmVub2RkIiwgImxpbmVDYXAiOiAicm91bmQiLCAibGluZUpvaW4iOiAicm91bmQiLCAib3BhY2l0eSI6IDEuMCwgInJhZGl1cyI6IDEwLCAic3Ryb2tlIjogdHJ1ZSwgIndlaWdodCI6IDN9CiAgICAgICAgICAgICkuYWRkVG8obWFwXzYwZTFhYzM4OTA2YzRmYzZhZjViMDU3YWRjM2EzMWViKTsKICAgICAgICAKICAgIAogICAgICAgIHZhciBwb3B1cF8xZDRiODE0MWQ0YzA0YjUzOGVkZDkwMmJiMGMyNTc2NCA9IEwucG9wdXAoeyJtYXhXaWR0aCI6ICIxMDAlIn0pOwoKICAgICAgICAKICAgICAgICAgICAgdmFyIGh0bWxfMDA1ZmMxYWUyZmM3NGM2OWIxZGY1Y2ZlYmM1NTE0MzMgPSAkKGA8ZGl2IGlkPSJodG1sXzAwNWZjMWFlMmZjNzRjNjliMWRmNWNmZWJjNTUxNDMzIiBzdHlsZT0id2lkdGg6IDEwMC4wJTsgaGVpZ2h0OiAxMDAuMCU7Ij5IYXJyeSBCcmlkZ2VzIFBsYXphIChGZXJyeSBCdWlsZGluZyk8L2Rpdj5gKVswXTsKICAgICAgICAgICAgcG9wdXBfMWQ0YjgxNDFkNGMwNGI1MzhlZGQ5MDJiYjBjMjU3NjQuc2V0Q29udGVudChodG1sXzAwNWZjMWFlMmZjNzRjNjliMWRmNWNmZWJjNTUxNDMzKTsKICAgICAgICAKCiAgICAgICAgY2lyY2xlX21hcmtlcl9lOWI3NzQyZmE1NjQ0ZmQ5YjA0YmEzYjljNDA2NDUzNC5iaW5kUG9wdXAocG9wdXBfMWQ0YjgxNDFkNGMwNGI1MzhlZGQ5MDJiYjBjMjU3NjQpCiAgICAgICAgOwoKICAgICAgICAKICAgIAogICAgCiAgICAgICAgICAgIHZhciBjaXJjbGVfbWFya2VyX2RkOTZjNDdmNmFiMDQzMzRiMDU3YjM4MzRiYzA2ZTc0ID0gTC5jaXJjbGVNYXJrZXIoCiAgICAgICAgICAgICAgICBbMzcuNzkxNDY0LCAtMTIyLjM5MTAzNF0sCiAgICAgICAgICAgICAgICB7ImJ1YmJsaW5nTW91c2VFdmVudHMiOiB0cnVlLCAiY29sb3IiOiAiIzMzODhmZiIsICJkYXNoQXJyYXkiOiBudWxsLCAiZGFzaE9mZnNldCI6IG51bGwsICJmaWxsIjogdHJ1ZSwgImZpbGxDb2xvciI6ICJibHVlIiwgImZpbGxPcGFjaXR5IjogMC4yLCAiZmlsbFJ1bGUiOiAiZXZlbm9kZCIsICJsaW5lQ2FwIjogInJvdW5kIiwgImxpbmVKb2luIjogInJvdW5kIiwgIm9wYWNpdHkiOiAxLjAsICJyYWRpdXMiOiAxMCwgInN0cm9rZSI6IHRydWUsICJ3ZWlnaHQiOiAzfQogICAgICAgICAgICApLmFkZFRvKG1hcF82MGUxYWMzODkwNmM0ZmM2YWY1YjA1N2FkYzNhMzFlYik7CiAgICAgICAgCiAgICAKICAgICAgICB2YXIgcG9wdXBfMDc2NmNmYmYwZDQ1NDhhMmFmMjc0OGYwZjljY2FkMzYgPSBMLnBvcHVwKHsibWF4V2lkdGgiOiAiMTAwJSJ9KTsKCiAgICAgICAgCiAgICAgICAgICAgIHZhciBodG1sXzVlNzdjOWE2MGVjOTRlYTE4NTFmZWZkNDk0MTFhYzNjID0gJChgPGRpdiBpZD0iaHRtbF81ZTc3YzlhNjBlYzk0ZWExODUxZmVmZDQ5NDExYWMzYyIgc3R5bGU9IndpZHRoOiAxMDAuMCU7IGhlaWdodDogMTAwLjAlOyI+RW1iYXJjYWRlcm8gYXQgRm9sc29tPC9kaXY+YClbMF07CiAgICAgICAgICAgIHBvcHVwXzA3NjZjZmJmMGQ0NTQ4YTJhZjI3NDhmMGY5Y2NhZDM2LnNldENvbnRlbnQoaHRtbF81ZTc3YzlhNjBlYzk0ZWExODUxZmVmZDQ5NDExYWMzYyk7CiAgICAgICAgCgogICAgICAgIGNpcmNsZV9tYXJrZXJfZGQ5NmM0N2Y2YWIwNDMzNGIwNTdiMzgzNGJjMDZlNzQuYmluZFBvcHVwKHBvcHVwXzA3NjZjZmJmMGQ0NTQ4YTJhZjI3NDhmMGY5Y2NhZDM2KQogICAgICAgIDsKCiAgICAgICAgCiAgICAKICAgIAogICAgICAgICAgICB2YXIgY2lyY2xlX21hcmtlcl9iYmFiZjUyM2YxN2U0Yzc2OTBjZGNmYmU2YWQ2ZTg1MCA9IEwuY2lyY2xlTWFya2VyKAogICAgICAgICAgICAgICAgWzM3Ljc4Mzg3MSwgLTEyMi40MDg0MzNdLAogICAgICAgICAgICAgICAgeyJidWJibGluZ01vdXNlRXZlbnRzIjogdHJ1ZSwgImNvbG9yIjogIiMzMzg4ZmYiLCAiZGFzaEFycmF5IjogbnVsbCwgImRhc2hPZmZzZXQiOiBudWxsLCAiZmlsbCI6IHRydWUsICJmaWxsQ29sb3IiOiAiYmx1ZSIsICJmaWxsT3BhY2l0eSI6IDAuMiwgImZpbGxSdWxlIjogImV2ZW5vZGQiLCAibGluZUNhcCI6ICJyb3VuZCIsICJsaW5lSm9pbiI6ICJyb3VuZCIsICJvcGFjaXR5IjogMS4wLCAicmFkaXVzIjogMTAsICJzdHJva2UiOiB0cnVlLCAid2VpZ2h0IjogM30KICAgICAgICAgICAgKS5hZGRUbyhtYXBfNjBlMWFjMzg5MDZjNGZjNmFmNWIwNTdhZGMzYTMxZWIpOwogICAgICAgIAogICAgCiAgICAgICAgdmFyIHBvcHVwXzdkYjczYmUzZGI1YzRhYjQ4ZmJiMDA1NzAxOWYwMjkyID0gTC5wb3B1cCh7Im1heFdpZHRoIjogIjEwMCUifSk7CgogICAgICAgIAogICAgICAgICAgICB2YXIgaHRtbF85MTJhMDQ3OGVkYmM0MWMzYTRkY2RkNTM4ZDJlMTc0ZiA9ICQoYDxkaXYgaWQ9Imh0bWxfOTEyYTA0NzhlZGJjNDFjM2E0ZGNkZDUzOGQyZTE3NGYiIHN0eWxlPSJ3aWR0aDogMTAwLjAlOyBoZWlnaHQ6IDEwMC4wJTsiPlBvd2VsbCBTdHJlZXQgQkFSVDwvZGl2PmApWzBdOwogICAgICAgICAgICBwb3B1cF83ZGI3M2JlM2RiNWM0YWI0OGZiYjAwNTcwMTlmMDI5Mi5zZXRDb250ZW50KGh0bWxfOTEyYTA0NzhlZGJjNDFjM2E0ZGNkZDUzOGQyZTE3NGYpOwogICAgICAgIAoKICAgICAgICBjaXJjbGVfbWFya2VyX2JiYWJmNTIzZjE3ZTRjNzY5MGNkY2ZiZTZhZDZlODUwLmJpbmRQb3B1cChwb3B1cF83ZGI3M2JlM2RiNWM0YWI0OGZiYjAwNTcwMTlmMDI5MikKICAgICAgICA7CgogICAgICAgIAogICAgCiAgICAKICAgICAgICAgICAgdmFyIGNpcmNsZV9tYXJrZXJfMzUyYWQ1NDgzZjlmNGM5NzljYTg1ZmJlNDNmOTZjZWEgPSBMLmNpcmNsZU1hcmtlcigKICAgICAgICAgICAgICAgIFszNy43ODcxNTIsIC0xMjIuMzg4MDEzXSwKICAgICAgICAgICAgICAgIHsiYnViYmxpbmdNb3VzZUV2ZW50cyI6IHRydWUsICJjb2xvciI6ICIjMzM4OGZmIiwgImRhc2hBcnJheSI6IG51bGwsICJkYXNoT2Zmc2V0IjogbnVsbCwgImZpbGwiOiB0cnVlLCAiZmlsbENvbG9yIjogImJsdWUiLCAiZmlsbE9wYWNpdHkiOiAwLjIsICJmaWxsUnVsZSI6ICJldmVub2RkIiwgImxpbmVDYXAiOiAicm91bmQiLCAibGluZUpvaW4iOiAicm91bmQiLCAib3BhY2l0eSI6IDEuMCwgInJhZGl1cyI6IDEwLCAic3Ryb2tlIjogdHJ1ZSwgIndlaWdodCI6IDN9CiAgICAgICAgICAgICkuYWRkVG8obWFwXzYwZTFhYzM4OTA2YzRmYzZhZjViMDU3YWRjM2EzMWViKTsKICAgICAgICAKICAgIAogICAgICAgIHZhciBwb3B1cF9mZGY4Zjg0MGVmYWI0YTRiYmRhMGE0Mzk0NTczNTE5ZiA9IEwucG9wdXAoeyJtYXhXaWR0aCI6ICIxMDAlIn0pOwoKICAgICAgICAKICAgICAgICAgICAgdmFyIGh0bWxfZmQzNTVhODlhN2ViNGU2Nzg4ZjVlZGNhMTQ2MTkzYzcgPSAkKGA8ZGl2IGlkPSJodG1sX2ZkMzU1YTg5YTdlYjRlNjc4OGY1ZWRjYTE0NjE5M2M3IiBzdHlsZT0id2lkdGg6IDEwMC4wJTsgaGVpZ2h0OiAxMDAuMCU7Ij5FbWJhcmNhZGVybyBhdCBCcnlhbnQ8L2Rpdj5gKVswXTsKICAgICAgICAgICAgcG9wdXBfZmRmOGY4NDBlZmFiNGE0YmJkYTBhNDM5NDU3MzUxOWYuc2V0Q29udGVudChodG1sX2ZkMzU1YTg5YTdlYjRlNjc4OGY1ZWRjYTE0NjE5M2M3KTsKICAgICAgICAKCiAgICAgICAgY2lyY2xlX21hcmtlcl8zNTJhZDU0ODNmOWY0Yzk3OWNhODVmYmU0M2Y5NmNlYS5iaW5kUG9wdXAocG9wdXBfZmRmOGY4NDBlZmFiNGE0YmJkYTBhNDM5NDU3MzUxOWYpCiAgICAgICAgOwoKICAgICAgICAKICAgIAogICAgCiAgICAgICAgICAgIHZhciBjaXJjbGVfbWFya2VyX2VhZWZkMDMwNjRjNDRkZTA4NzIzMTRkYzY0NTYyYTg3ID0gTC5jaXJjbGVNYXJrZXIoCiAgICAgICAgICAgICAgICBbMzcuNzg5NzU2LCAtMTIyLjM5NDY0M10sCiAgICAgICAgICAgICAgICB7ImJ1YmJsaW5nTW91c2VFdmVudHMiOiB0cnVlLCAiY29sb3IiOiAiIzMzODhmZiIsICJkYXNoQXJyYXkiOiBudWxsLCAiZGFzaE9mZnNldCI6IG51bGwsICJmaWxsIjogdHJ1ZSwgImZpbGxDb2xvciI6ICJibHVlIiwgImZpbGxPcGFjaXR5IjogMC4yLCAiZmlsbFJ1bGUiOiAiZXZlbm9kZCIsICJsaW5lQ2FwIjogInJvdW5kIiwgImxpbmVKb2luIjogInJvdW5kIiwgIm9wYWNpdHkiOiAxLjAsICJyYWRpdXMiOiAxMCwgInN0cm9rZSI6IHRydWUsICJ3ZWlnaHQiOiAzfQogICAgICAgICAgICApLmFkZFRvKG1hcF82MGUxYWMzODkwNmM0ZmM2YWY1YjA1N2FkYzNhMzFlYik7CiAgICAgICAgCiAgICAKICAgICAgICB2YXIgcG9wdXBfMmMyZTg3MjVlM2MxNDdhM2IyM2VkNTlmZDY4YTNlNzYgPSBMLnBvcHVwKHsibWF4V2lkdGgiOiAiMTAwJSJ9KTsKCiAgICAgICAgCiAgICAgICAgICAgIHZhciBodG1sX2YyMzIxM2FlNzhmMjQyMDdhZDQ2MWU2NDIyYTI4MTY5ID0gJChgPGRpdiBpZD0iaHRtbF9mMjMyMTNhZTc4ZjI0MjA3YWQ0NjFlNjQyMmEyODE2OSIgc3R5bGU9IndpZHRoOiAxMDAuMCU7IGhlaWdodDogMTAwLjAlOyI+VGVtcG9yYXJ5IFRyYW5zYmF5IFRlcm1pbmFsIChIb3dhcmQgYXQgQmVhbGUpPC9kaXY+YClbMF07CiAgICAgICAgICAgIHBvcHVwXzJjMmU4NzI1ZTNjMTQ3YTNiMjNlZDU5ZmQ2OGEzZTc2LnNldENvbnRlbnQoaHRtbF9mMjMyMTNhZTc4ZjI0MjA3YWQ0NjFlNjQyMmEyODE2OSk7CiAgICAgICAgCgogICAgICAgIGNpcmNsZV9tYXJrZXJfZWFlZmQwMzA2NGM0NGRlMDg3MjMxNGRjNjQ1NjJhODcuYmluZFBvcHVwKHBvcHVwXzJjMmU4NzI1ZTNjMTQ3YTNiMjNlZDU5ZmQ2OGEzZTc2KQogICAgICAgIDsKCiAgICAgICAgCiAgICAKICAgIAogICAgICAgICAgICB2YXIgY2lyY2xlX21hcmtlcl8zODkxZjc0NmVlOWI0NjAxYmU5Nzg3NGFkMGNlZGE3ZCA9IEwuY2lyY2xlTWFya2VyKAogICAgICAgICAgICAgICAgWzM3Ljc5MjI1MSwgLTEyMi4zOTcwODZdLAogICAgICAgICAgICAgICAgeyJidWJibGluZ01vdXNlRXZlbnRzIjogdHJ1ZSwgImNvbG9yIjogIiMzMzg4ZmYiLCAiZGFzaEFycmF5IjogbnVsbCwgImRhc2hPZmZzZXQiOiBudWxsLCAiZmlsbCI6IHRydWUsICJmaWxsQ29sb3IiOiAiYmx1ZSIsICJmaWxsT3BhY2l0eSI6IDAuMiwgImZpbGxSdWxlIjogImV2ZW5vZGQiLCAibGluZUNhcCI6ICJyb3VuZCIsICJsaW5lSm9pbiI6ICJyb3VuZCIsICJvcGFjaXR5IjogMS4wLCAicmFkaXVzIjogMTAsICJzdHJva2UiOiB0cnVlLCAid2VpZ2h0IjogM30KICAgICAgICAgICAgKS5hZGRUbyhtYXBfNjBlMWFjMzg5MDZjNGZjNmFmNWIwNTdhZGMzYTMxZWIpOwogICAgICAgIAogICAgCiAgICAgICAgdmFyIHBvcHVwXzgxY2MwZGUyMzVlYzQwZjE4YTljZTU0YWNiNTZiMjFhID0gTC5wb3B1cCh7Im1heFdpZHRoIjogIjEwMCUifSk7CgogICAgICAgIAogICAgICAgICAgICB2YXIgaHRtbF9iODliZWJkYzhkMWE0YmZiYjA1YjNjZGVkYTU2NDk4ZSA9ICQoYDxkaXYgaWQ9Imh0bWxfYjg5YmViZGM4ZDFhNGJmYmIwNWIzY2RlZGE1NjQ5OGUiIHN0eWxlPSJ3aWR0aDogMTAwLjAlOyBoZWlnaHQ6IDEwMC4wJTsiPkJlYWxlIGF0IE1hcmtldDwvZGl2PmApWzBdOwogICAgICAgICAgICBwb3B1cF84MWNjMGRlMjM1ZWM0MGYxOGE5Y2U1NGFjYjU2YjIxYS5zZXRDb250ZW50KGh0bWxfYjg5YmViZGM4ZDFhNGJmYmIwNWIzY2RlZGE1NjQ5OGUpOwogICAgICAgIAoKICAgICAgICBjaXJjbGVfbWFya2VyXzM4OTFmNzQ2ZWU5YjQ2MDFiZTk3ODc0YWQwY2VkYTdkLmJpbmRQb3B1cChwb3B1cF84MWNjMGRlMjM1ZWM0MGYxOGE5Y2U1NGFjYjU2YjIxYSkKICAgICAgICA7CgogICAgICAgIAogICAgCiAgICAKICAgICAgICAgICAgdmFyIGNpcmNsZV9tYXJrZXJfNDUyZWIxMzI4NGZhNDVhOWFmOGNhZmUzODNjODM1NWIgPSBMLmNpcmNsZU1hcmtlcigKICAgICAgICAgICAgICAgIFszNy43ODE3NTIsIC0xMjIuNDA1MTI3XSwKICAgICAgICAgICAgICAgIHsiYnViYmxpbmdNb3VzZUV2ZW50cyI6IHRydWUsICJjb2xvciI6ICIjMzM4OGZmIiwgImRhc2hBcnJheSI6IG51bGwsICJkYXNoT2Zmc2V0IjogbnVsbCwgImZpbGwiOiB0cnVlLCAiZmlsbENvbG9yIjogImJsdWUiLCAiZmlsbE9wYWNpdHkiOiAwLjIsICJmaWxsUnVsZSI6ICJldmVub2RkIiwgImxpbmVDYXAiOiAicm91bmQiLCAibGluZUpvaW4iOiAicm91bmQiLCAib3BhY2l0eSI6IDEuMCwgInJhZGl1cyI6IDEwLCAic3Ryb2tlIjogdHJ1ZSwgIndlaWdodCI6IDN9CiAgICAgICAgICAgICkuYWRkVG8obWFwXzYwZTFhYzM4OTA2YzRmYzZhZjViMDU3YWRjM2EzMWViKTsKICAgICAgICAKICAgIAogICAgICAgIHZhciBwb3B1cF80NThkNmI3NDAxYTY0YzkzYjMyZTg1M2Q3NzA5OWI5NyA9IEwucG9wdXAoeyJtYXhXaWR0aCI6ICIxMDAlIn0pOwoKICAgICAgICAKICAgICAgICAgICAgdmFyIGh0bWxfMTJmZDQ0YTdhMWNiNGM3MGJhZjcwN2QzNTNkZGRhMTggPSAkKGA8ZGl2IGlkPSJodG1sXzEyZmQ0NGE3YTFjYjRjNzBiYWY3MDdkMzUzZGRkYTE4IiBzdHlsZT0id2lkdGg6IDEwMC4wJTsgaGVpZ2h0OiAxMDAuMCU7Ij41dGggYXQgSG93YXJkPC9kaXY+YClbMF07CiAgICAgICAgICAgIHBvcHVwXzQ1OGQ2Yjc0MDFhNjRjOTNiMzJlODUzZDc3MDk5Yjk3LnNldENvbnRlbnQoaHRtbF8xMmZkNDRhN2ExY2I0YzcwYmFmNzA3ZDM1M2RkZGExOCk7CiAgICAgICAgCgogICAgICAgIGNpcmNsZV9tYXJrZXJfNDUyZWIxMzI4NGZhNDVhOWFmOGNhZmUzODNjODM1NWIuYmluZFBvcHVwKHBvcHVwXzQ1OGQ2Yjc0MDFhNjRjOTNiMzJlODUzZDc3MDk5Yjk3KQogICAgICAgIDsKCiAgICAgICAgCiAgICAKICAgIAogICAgICAgICAgICB2YXIgY2lyY2xlX21hcmtlcl9lNTY4ZDY0NjhhMGM0NDE4YjgxODYwMWE4N2I2OWYzMyA9IEwuY2lyY2xlTWFya2VyKAogICAgICAgICAgICAgICAgWzM3Ljc3ODY1LCAtMTIyLjQxODIzNV0sCiAgICAgICAgICAgICAgICB7ImJ1YmJsaW5nTW91c2VFdmVudHMiOiB0cnVlLCAiY29sb3IiOiAiIzMzODhmZiIsICJkYXNoQXJyYXkiOiBudWxsLCAiZGFzaE9mZnNldCI6IG51bGwsICJmaWxsIjogdHJ1ZSwgImZpbGxDb2xvciI6ICJibHVlIiwgImZpbGxPcGFjaXR5IjogMC4yLCAiZmlsbFJ1bGUiOiAiZXZlbm9kZCIsICJsaW5lQ2FwIjogInJvdW5kIiwgImxpbmVKb2luIjogInJvdW5kIiwgIm9wYWNpdHkiOiAxLjAsICJyYWRpdXMiOiAxMCwgInN0cm9rZSI6IHRydWUsICJ3ZWlnaHQiOiAzfQogICAgICAgICAgICApLmFkZFRvKG1hcF82MGUxYWMzODkwNmM0ZmM2YWY1YjA1N2FkYzNhMzFlYik7CiAgICAgICAgCiAgICAKICAgICAgICB2YXIgcG9wdXBfM2VlYzg5ZTliOWJkNDU0ZjlkNThkNzdlNmY5OThmYjAgPSBMLnBvcHVwKHsibWF4V2lkdGgiOiAiMTAwJSJ9KTsKCiAgICAgICAgCiAgICAgICAgICAgIHZhciBodG1sX2U0YWRiM2ViMzhjYzQ2YjY4Mjc3Yzk1YjRhNDAxMTA0ID0gJChgPGRpdiBpZD0iaHRtbF9lNGFkYjNlYjM4Y2M0NmI2ODI3N2M5NWI0YTQwMTEwNCIgc3R5bGU9IndpZHRoOiAxMDAuMCU7IGhlaWdodDogMTAwLjAlOyI+U2FuIEZyYW5jaXNjbyBDaXR5IEhhbGw8L2Rpdj5gKVswXTsKICAgICAgICAgICAgcG9wdXBfM2VlYzg5ZTliOWJkNDU0ZjlkNThkNzdlNmY5OThmYjAuc2V0Q29udGVudChodG1sX2U0YWRiM2ViMzhjYzQ2YjY4Mjc3Yzk1YjRhNDAxMTA0KTsKICAgICAgICAKCiAgICAgICAgY2lyY2xlX21hcmtlcl9lNTY4ZDY0NjhhMGM0NDE4YjgxODYwMWE4N2I2OWYzMy5iaW5kUG9wdXAocG9wdXBfM2VlYzg5ZTliOWJkNDU0ZjlkNThkNzdlNmY5OThmYjApCiAgICAgICAgOwoKICAgICAgICAKICAgIAogICAgCiAgICAgICAgICAgIHZhciBjaXJjbGVfbWFya2VyXzBkZWVmYzExM2U3YjRjZDViNjNiMWE3ZThhNjBlN2VkID0gTC5jaXJjbGVNYXJrZXIoCiAgICAgICAgICAgICAgICBbMzcuNzgxMzMyLCAtMTIyLjQxODYwM10sCiAgICAgICAgICAgICAgICB7ImJ1YmJsaW5nTW91c2VFdmVudHMiOiB0cnVlLCAiY29sb3IiOiAiIzMzODhmZiIsICJkYXNoQXJyYXkiOiBudWxsLCAiZGFzaE9mZnNldCI6IG51bGwsICJmaWxsIjogdHJ1ZSwgImZpbGxDb2xvciI6ICJibHVlIiwgImZpbGxPcGFjaXR5IjogMC4yLCAiZmlsbFJ1bGUiOiAiZXZlbm9kZCIsICJsaW5lQ2FwIjogInJvdW5kIiwgImxpbmVKb2luIjogInJvdW5kIiwgIm9wYWNpdHkiOiAxLjAsICJyYWRpdXMiOiAxMCwgInN0cm9rZSI6IHRydWUsICJ3ZWlnaHQiOiAzfQogICAgICAgICAgICApLmFkZFRvKG1hcF82MGUxYWMzODkwNmM0ZmM2YWY1YjA1N2FkYzNhMzFlYik7CiAgICAgICAgCiAgICAKICAgICAgICB2YXIgcG9wdXBfMDQ3MDNkODRmMjc2NDgzNjlhNTk3MGNjOTNmODNjZmMgPSBMLnBvcHVwKHsibWF4V2lkdGgiOiAiMTAwJSJ9KTsKCiAgICAgICAgCiAgICAgICAgICAgIHZhciBodG1sX2RkNGJkYmM2MDU0YTQyZGZiMDczMzQ1MTY1OTdmYzE1ID0gJChgPGRpdiBpZD0iaHRtbF9kZDRiZGJjNjA1NGE0MmRmYjA3MzM0NTE2NTk3ZmMxNSIgc3R5bGU9IndpZHRoOiAxMDAuMCU7IGhlaWdodDogMTAwLjAlOyI+R29sZGVuIEdhdGUgYXQgUG9sazwvZGl2PmApWzBdOwogICAgICAgICAgICBwb3B1cF8wNDcwM2Q4NGYyNzY0ODM2OWE1OTcwY2M5M2Y4M2NmYy5zZXRDb250ZW50KGh0bWxfZGQ0YmRiYzYwNTRhNDJkZmIwNzMzNDUxNjU5N2ZjMTUpOwogICAgICAgIAoKICAgICAgICBjaXJjbGVfbWFya2VyXzBkZWVmYzExM2U3YjRjZDViNjNiMWE3ZThhNjBlN2VkLmJpbmRQb3B1cChwb3B1cF8wNDcwM2Q4NGYyNzY0ODM2OWE1OTcwY2M5M2Y4M2NmYykKICAgICAgICA7CgogICAgICAgIAogICAgCiAgICAKICAgICAgICAgICAgdmFyIGNpcmNsZV9tYXJrZXJfOWM4ZDU0NGJkZjM4NDdhNWExYjhlZDliMGI2NGRjYWEgPSBMLmNpcmNsZU1hcmtlcigKICAgICAgICAgICAgICAgIFszNy44MDQ3NywgLTEyMi40MDMyMzRdLAogICAgICAgICAgICAgICAgeyJidWJibGluZ01vdXNlRXZlbnRzIjogdHJ1ZSwgImNvbG9yIjogIiMzMzg4ZmYiLCAiZGFzaEFycmF5IjogbnVsbCwgImRhc2hPZmZzZXQiOiBudWxsLCAiZmlsbCI6IHRydWUsICJmaWxsQ29sb3IiOiAiYmx1ZSIsICJmaWxsT3BhY2l0eSI6IDAuMiwgImZpbGxSdWxlIjogImV2ZW5vZGQiLCAibGluZUNhcCI6ICJyb3VuZCIsICJsaW5lSm9pbiI6ICJyb3VuZCIsICJvcGFjaXR5IjogMS4wLCAicmFkaXVzIjogMTAsICJzdHJva2UiOiB0cnVlLCAid2VpZ2h0IjogM30KICAgICAgICAgICAgKS5hZGRUbyhtYXBfNjBlMWFjMzg5MDZjNGZjNmFmNWIwNTdhZGMzYTMxZWIpOwogICAgICAgIAogICAgCiAgICAgICAgdmFyIHBvcHVwX2JiODg4MmUzZGIzODQxMGNiMjVhMDQ4NzdkODEwZjlmID0gTC5wb3B1cCh7Im1heFdpZHRoIjogIjEwMCUifSk7CgogICAgICAgIAogICAgICAgICAgICB2YXIgaHRtbF9iN2FiYTQzYzEyNDg0NDUxYWJlMTU5NDc2YTc1MGM4NSA9ICQoYDxkaXYgaWQ9Imh0bWxfYjdhYmE0M2MxMjQ4NDQ1MWFiZTE1OTQ3NmE3NTBjODUiIHN0eWxlPSJ3aWR0aDogMTAwLjAlOyBoZWlnaHQ6IDEwMC4wJTsiPkVtYmFyY2FkZXJvIGF0IFNhbnNvbWU8L2Rpdj5gKVswXTsKICAgICAgICAgICAgcG9wdXBfYmI4ODgyZTNkYjM4NDEwY2IyNWEwNDg3N2Q4MTBmOWYuc2V0Q29udGVudChodG1sX2I3YWJhNDNjMTI0ODQ0NTFhYmUxNTk0NzZhNzUwYzg1KTsKICAgICAgICAKCiAgICAgICAgY2lyY2xlX21hcmtlcl85YzhkNTQ0YmRmMzg0N2E1YTFiOGVkOWIwYjY0ZGNhYS5iaW5kUG9wdXAocG9wdXBfYmI4ODgyZTNkYjM4NDEwY2IyNWEwNDg3N2Q4MTBmOWYpCiAgICAgICAgOwoKICAgICAgICAKICAgIAogICAgCiAgICAgICAgICAgIHZhciBjaXJjbGVfbWFya2VyXzdjODliZjhhZDM3ZDRkYTU5YTUyMjQ1OTJjZDYzMDMyID0gTC5jaXJjbGVNYXJrZXIoCiAgICAgICAgICAgICAgICBbMzcuNzgwNTI2LCAtMTIyLjM5MDI4OF0sCiAgICAgICAgICAgICAgICB7ImJ1YmJsaW5nTW91c2VFdmVudHMiOiB0cnVlLCAiY29sb3IiOiAiIzMzODhmZiIsICJkYXNoQXJyYXkiOiBudWxsLCAiZGFzaE9mZnNldCI6IG51bGwsICJmaWxsIjogdHJ1ZSwgImZpbGxDb2xvciI6ICJibHVlIiwgImZpbGxPcGFjaXR5IjogMC4yLCAiZmlsbFJ1bGUiOiAiZXZlbm9kZCIsICJsaW5lQ2FwIjogInJvdW5kIiwgImxpbmVKb2luIjogInJvdW5kIiwgIm9wYWNpdHkiOiAxLjAsICJyYWRpdXMiOiAxMCwgInN0cm9rZSI6IHRydWUsICJ3ZWlnaHQiOiAzfQogICAgICAgICAgICApLmFkZFRvKG1hcF82MGUxYWMzODkwNmM0ZmM2YWY1YjA1N2FkYzNhMzFlYik7CiAgICAgICAgCiAgICAKICAgICAgICB2YXIgcG9wdXBfZjk4OGExOWZmYjliNDhkYmE2NmZmN2IwNzNjZDY2NzEgPSBMLnBvcHVwKHsibWF4V2lkdGgiOiAiMTAwJSJ9KTsKCiAgICAgICAgCiAgICAgICAgICAgIHZhciBodG1sXzVhMjE5ZjEzZDBlNTQ3Y2NhYjgyOGE4MTIzZjcxNTIyID0gJChgPGRpdiBpZD0iaHRtbF81YTIxOWYxM2QwZTU0N2NjYWI4MjhhODEyM2Y3MTUyMiIgc3R5bGU9IndpZHRoOiAxMDAuMCU7IGhlaWdodDogMTAwLjAlOyI+Mm5kIGF0IFRvd25zZW5kPC9kaXY+YClbMF07CiAgICAgICAgICAgIHBvcHVwX2Y5ODhhMTlmZmI5YjQ4ZGJhNjZmZjdiMDczY2Q2NjcxLnNldENvbnRlbnQoaHRtbF81YTIxOWYxM2QwZTU0N2NjYWI4MjhhODEyM2Y3MTUyMik7CiAgICAgICAgCgogICAgICAgIGNpcmNsZV9tYXJrZXJfN2M4OWJmOGFkMzdkNGRhNTlhNTIyNDU5MmNkNjMwMzIuYmluZFBvcHVwKHBvcHVwX2Y5ODhhMTlmZmI5YjQ4ZGJhNjZmZjdiMDczY2Q2NjcxKQogICAgICAgIDsKCiAgICAgICAgCiAgICAKICAgIAogICAgICAgICAgICB2YXIgY2lyY2xlX21hcmtlcl85MzBiY2ZkNTJmZDg0ZDRkYjU4ZmIzODc4Njc5MDdkMSA9IEwuY2lyY2xlTWFya2VyKAogICAgICAgICAgICAgICAgWzM3Ljc4NTI5OSwgLTEyMi4zOTYyMzZdLAogICAgICAgICAgICAgICAgeyJidWJibGluZ01vdXNlRXZlbnRzIjogdHJ1ZSwgImNvbG9yIjogIiMzMzg4ZmYiLCAiZGFzaEFycmF5IjogbnVsbCwgImRhc2hPZmZzZXQiOiBudWxsLCAiZmlsbCI6IHRydWUsICJmaWxsQ29sb3IiOiAiYmx1ZSIsICJmaWxsT3BhY2l0eSI6IDAuMiwgImZpbGxSdWxlIjogImV2ZW5vZGQiLCAibGluZUNhcCI6ICJyb3VuZCIsICJsaW5lSm9pbiI6ICJyb3VuZCIsICJvcGFjaXR5IjogMS4wLCAicmFkaXVzIjogMTAsICJzdHJva2UiOiB0cnVlLCAid2VpZ2h0IjogM30KICAgICAgICAgICAgKS5hZGRUbyhtYXBfNjBlMWFjMzg5MDZjNGZjNmFmNWIwNTdhZGMzYTMxZWIpOwogICAgICAgIAogICAgCiAgICAgICAgdmFyIHBvcHVwXzNhZTJhNDFkNzAyZTQyODRiNzE3M2E0NmZkMjkwNmExID0gTC5wb3B1cCh7Im1heFdpZHRoIjogIjEwMCUifSk7CgogICAgICAgIAogICAgICAgICAgICB2YXIgaHRtbF8wOTFhYzk1NjBhYjk0OGFiYTQ3OTZjOGExNTA3YWU1NSA9ICQoYDxkaXYgaWQ9Imh0bWxfMDkxYWM5NTYwYWI5NDhhYmE0Nzk2YzhhMTUwN2FlNTUiIHN0eWxlPSJ3aWR0aDogMTAwLjAlOyBoZWlnaHQ6IDEwMC4wJTsiPjJuZCBhdCBGb2xzb208L2Rpdj5gKVswXTsKICAgICAgICAgICAgcG9wdXBfM2FlMmE0MWQ3MDJlNDI4NGI3MTczYTQ2ZmQyOTA2YTEuc2V0Q29udGVudChodG1sXzA5MWFjOTU2MGFiOTQ4YWJhNDc5NmM4YTE1MDdhZTU1KTsKICAgICAgICAKCiAgICAgICAgY2lyY2xlX21hcmtlcl85MzBiY2ZkNTJmZDg0ZDRkYjU4ZmIzODc4Njc5MDdkMS5iaW5kUG9wdXAocG9wdXBfM2FlMmE0MWQ3MDJlNDI4NGI3MTczYTQ2ZmQyOTA2YTEpCiAgICAgICAgOwoKICAgICAgICAKICAgIAogICAgCiAgICAgICAgICAgIHZhciBjaXJjbGVfbWFya2VyX2FmM2I2ZDRkYjgyNDQzM2JhNTMzODgxMjk1NDEwZjZmID0gTC5jaXJjbGVNYXJrZXIoCiAgICAgICAgICAgICAgICBbMzcuNzg2OTc4LCAtMTIyLjM5ODEwOF0sCiAgICAgICAgICAgICAgICB7ImJ1YmJsaW5nTW91c2VFdmVudHMiOiB0cnVlLCAiY29sb3IiOiAiIzMzODhmZiIsICJkYXNoQXJyYXkiOiBudWxsLCAiZGFzaE9mZnNldCI6IG51bGwsICJmaWxsIjogdHJ1ZSwgImZpbGxDb2xvciI6ICJibHVlIiwgImZpbGxPcGFjaXR5IjogMC4yLCAiZmlsbFJ1bGUiOiAiZXZlbm9kZCIsICJsaW5lQ2FwIjogInJvdW5kIiwgImxpbmVKb2luIjogInJvdW5kIiwgIm9wYWNpdHkiOiAxLjAsICJyYWRpdXMiOiAxMCwgInN0cm9rZSI6IHRydWUsICJ3ZWlnaHQiOiAzfQogICAgICAgICAgICApLmFkZFRvKG1hcF82MGUxYWMzODkwNmM0ZmM2YWY1YjA1N2FkYzNhMzFlYik7CiAgICAgICAgCiAgICAKICAgICAgICB2YXIgcG9wdXBfY2E3MmVhMDFlNjE1NDcyNmExNDIxMTUxYjliZWJiMmMgPSBMLnBvcHVwKHsibWF4V2lkdGgiOiAiMTAwJSJ9KTsKCiAgICAgICAgCiAgICAgICAgICAgIHZhciBodG1sX2Y5Y2U5ZjMxMjlmNTQ5MDQ5MWQ3MGViNDdkOWExMGE2ID0gJChgPGRpdiBpZD0iaHRtbF9mOWNlOWYzMTI5ZjU0OTA0OTFkNzBlYjQ3ZDlhMTBhNiIgc3R5bGU9IndpZHRoOiAxMDAuMCU7IGhlaWdodDogMTAwLjAlOyI+SG93YXJkIGF0IDJuZDwvZGl2PmApWzBdOwogICAgICAgICAgICBwb3B1cF9jYTcyZWEwMWU2MTU0NzI2YTE0MjExNTFiOWJlYmIyYy5zZXRDb250ZW50KGh0bWxfZjljZTlmMzEyOWY1NDkwNDkxZDcwZWI0N2Q5YTEwYTYpOwogICAgICAgIAoKICAgICAgICBjaXJjbGVfbWFya2VyX2FmM2I2ZDRkYjgyNDQzM2JhNTMzODgxMjk1NDEwZjZmLmJpbmRQb3B1cChwb3B1cF9jYTcyZWEwMWU2MTU0NzI2YTE0MjExNTFiOWJlYmIyYykKICAgICAgICA7CgogICAgICAgIAogICAgCiAgICAKICAgICAgICAgICAgdmFyIGNpcmNsZV9tYXJrZXJfYWJlOTQ3ODEzZmY0NDE2ZGEyZmE3NDM0NWVkZGNkNTkgPSBMLmNpcmNsZU1hcmtlcigKICAgICAgICAgICAgICAgIFszNy43ODIyNTksIC0xMjIuMzkyNzM4XSwKICAgICAgICAgICAgICAgIHsiYnViYmxpbmdNb3VzZUV2ZW50cyI6IHRydWUsICJjb2xvciI6ICIjMzM4OGZmIiwgImRhc2hBcnJheSI6IG51bGwsICJkYXNoT2Zmc2V0IjogbnVsbCwgImZpbGwiOiB0cnVlLCAiZmlsbENvbG9yIjogImJsdWUiLCAiZmlsbE9wYWNpdHkiOiAwLjIsICJmaWxsUnVsZSI6ICJldmVub2RkIiwgImxpbmVDYXAiOiAicm91bmQiLCAibGluZUpvaW4iOiAicm91bmQiLCAib3BhY2l0eSI6IDEuMCwgInJhZGl1cyI6IDEwLCAic3Ryb2tlIjogdHJ1ZSwgIndlaWdodCI6IDN9CiAgICAgICAgICAgICkuYWRkVG8obWFwXzYwZTFhYzM4OTA2YzRmYzZhZjViMDU3YWRjM2EzMWViKTsKICAgICAgICAKICAgIAogICAgICAgIHZhciBwb3B1cF9hYjA5NmU0NTMzMWE0NzMzYTc1NGE1NzY4MjZkZmY4OCA9IEwucG9wdXAoeyJtYXhXaWR0aCI6ICIxMDAlIn0pOwoKICAgICAgICAKICAgICAgICAgICAgdmFyIGh0bWxfZGY4ODUxNDgyMWYzNDU1MGJhMjlkMmJhNzlhNTVjMWYgPSAkKGA8ZGl2IGlkPSJodG1sX2RmODg1MTQ4MjFmMzQ1NTBiYTI5ZDJiYTc5YTU1YzFmIiBzdHlsZT0id2lkdGg6IDEwMC4wJTsgaGVpZ2h0OiAxMDAuMCU7Ij4ybmQgYXQgU291dGggUGFyazwvZGl2PmApWzBdOwogICAgICAgICAgICBwb3B1cF9hYjA5NmU0NTMzMWE0NzMzYTc1NGE1NzY4MjZkZmY4OC5zZXRDb250ZW50KGh0bWxfZGY4ODUxNDgyMWYzNDU1MGJhMjlkMmJhNzlhNTVjMWYpOwogICAgICAgIAoKICAgICAgICBjaXJjbGVfbWFya2VyX2FiZTk0NzgxM2ZmNDQxNmRhMmZhNzQzNDVlZGRjZDU5LmJpbmRQb3B1cChwb3B1cF9hYjA5NmU0NTMzMWE0NzMzYTc1NGE1NzY4MjZkZmY4OCkKICAgICAgICA7CgogICAgICAgIAogICAgCiAgICAKICAgICAgICAgICAgdmFyIGNpcmNsZV9tYXJrZXJfZjdkMGFjYjI4MmExNGNkNmI4MGMzMGNhODNjYTU0ZGIgPSBMLmNpcmNsZU1hcmtlcigKICAgICAgICAgICAgICAgIFszNy43NzEwNTgsIC0xMjIuNDAyNzE3XSwKICAgICAgICAgICAgICAgIHsiYnViYmxpbmdNb3VzZUV2ZW50cyI6IHRydWUsICJjb2xvciI6ICIjMzM4OGZmIiwgImRhc2hBcnJheSI6IG51bGwsICJkYXNoT2Zmc2V0IjogbnVsbCwgImZpbGwiOiB0cnVlLCAiZmlsbENvbG9yIjogImJsdWUiLCAiZmlsbE9wYWNpdHkiOiAwLjIsICJmaWxsUnVsZSI6ICJldmVub2RkIiwgImxpbmVDYXAiOiAicm91bmQiLCAibGluZUpvaW4iOiAicm91bmQiLCAib3BhY2l0eSI6IDEuMCwgInJhZGl1cyI6IDEwLCAic3Ryb2tlIjogdHJ1ZSwgIndlaWdodCI6IDN9CiAgICAgICAgICAgICkuYWRkVG8obWFwXzYwZTFhYzM4OTA2YzRmYzZhZjViMDU3YWRjM2EzMWViKTsKICAgICAgICAKICAgIAogICAgICAgIHZhciBwb3B1cF9hYTU2ODUwZDZiY2U0ZDBjYTRkYjcwZTBjMzcwZTM2MiA9IEwucG9wdXAoeyJtYXhXaWR0aCI6ICIxMDAlIn0pOwoKICAgICAgICAKICAgICAgICAgICAgdmFyIGh0bWxfZWI0NmQ4YzM4ODgxNDZkZGI4OGY4OTQyMzg0ZWQzYjggPSAkKGA8ZGl2IGlkPSJodG1sX2ViNDZkOGMzODg4MTQ2ZGRiODhmODk0MjM4NGVkM2I4IiBzdHlsZT0id2lkdGg6IDEwMC4wJTsgaGVpZ2h0OiAxMDAuMCU7Ij5Ub3duc2VuZCBhdCA3dGg8L2Rpdj5gKVswXTsKICAgICAgICAgICAgcG9wdXBfYWE1Njg1MGQ2YmNlNGQwY2E0ZGI3MGUwYzM3MGUzNjIuc2V0Q29udGVudChodG1sX2ViNDZkOGMzODg4MTQ2ZGRiODhmODk0MjM4NGVkM2I4KTsKICAgICAgICAKCiAgICAgICAgY2lyY2xlX21hcmtlcl9mN2QwYWNiMjgyYTE0Y2Q2YjgwYzMwY2E4M2NhNTRkYi5iaW5kUG9wdXAocG9wdXBfYWE1Njg1MGQ2YmNlNGQwY2E0ZGI3MGUwYzM3MGUzNjIpCiAgICAgICAgOwoKICAgICAgICAKICAgIAogICAgCiAgICAgICAgICAgIHZhciBjaXJjbGVfbWFya2VyX2U5Yjk5YjQ4Yjc0MzQ0YTI4MWY5Yzk4MzE2Njk1NGNhID0gTC5jaXJjbGVNYXJrZXIoCiAgICAgICAgICAgICAgICBbMzcuNzc0ODE0LCAtMTIyLjQxODk1NF0sCiAgICAgICAgICAgICAgICB7ImJ1YmJsaW5nTW91c2VFdmVudHMiOiB0cnVlLCAiY29sb3IiOiAiIzMzODhmZiIsICJkYXNoQXJyYXkiOiBudWxsLCAiZGFzaE9mZnNldCI6IG51bGwsICJmaWxsIjogdHJ1ZSwgImZpbGxDb2xvciI6ICJibHVlIiwgImZpbGxPcGFjaXR5IjogMC4yLCAiZmlsbFJ1bGUiOiAiZXZlbm9kZCIsICJsaW5lQ2FwIjogInJvdW5kIiwgImxpbmVKb2luIjogInJvdW5kIiwgIm9wYWNpdHkiOiAxLjAsICJyYWRpdXMiOiAxMCwgInN0cm9rZSI6IHRydWUsICJ3ZWlnaHQiOiAzfQogICAgICAgICAgICApLmFkZFRvKG1hcF82MGUxYWMzODkwNmM0ZmM2YWY1YjA1N2FkYzNhMzFlYik7CiAgICAgICAgCiAgICAKICAgICAgICB2YXIgcG9wdXBfMmEyYTNkMDUwNzVlNGY0OGFkMGVjNTM4ZGMwMzI2MjUgPSBMLnBvcHVwKHsibWF4V2lkdGgiOiAiMTAwJSJ9KTsKCiAgICAgICAgCiAgICAgICAgICAgIHZhciBodG1sX2M5MGQ1YWI0NDRhZDQ3MmFiYjg2OTA1OTEwNTljNWFiID0gJChgPGRpdiBpZD0iaHRtbF9jOTBkNWFiNDQ0YWQ0NzJhYmI4NjkwNTkxMDU5YzVhYiIgc3R5bGU9IndpZHRoOiAxMDAuMCU7IGhlaWdodDogMTAwLjAlOyI+U291dGggVmFuIE5lc3MgYXQgTWFya2V0PC9kaXY+YClbMF07CiAgICAgICAgICAgIHBvcHVwXzJhMmEzZDA1MDc1ZTRmNDhhZDBlYzUzOGRjMDMyNjI1LnNldENvbnRlbnQoaHRtbF9jOTBkNWFiNDQ0YWQ0NzJhYmI4NjkwNTkxMDU5YzVhYik7CiAgICAgICAgCgogICAgICAgIGNpcmNsZV9tYXJrZXJfZTliOTliNDhiNzQzNDRhMjgxZjljOTgzMTY2OTU0Y2EuYmluZFBvcHVwKHBvcHVwXzJhMmEzZDA1MDc1ZTRmNDhhZDBlYzUzOGRjMDMyNjI1KQogICAgICAgIDsKCiAgICAgICAgCiAgICAKICAgIAogICAgICAgICAgICB2YXIgY2lyY2xlX21hcmtlcl8xYjVmZjU0Yzk0YWI0NGE4YjNiM2UyNWM2N2ZkOTJjZCA9IEwuY2lyY2xlTWFya2VyKAogICAgICAgICAgICAgICAgWzM3Ljc3NjYxOSwgLTEyMi40MTczODVdLAogICAgICAgICAgICAgICAgeyJidWJibGluZ01vdXNlRXZlbnRzIjogdHJ1ZSwgImNvbG9yIjogIiMzMzg4ZmYiLCAiZGFzaEFycmF5IjogbnVsbCwgImRhc2hPZmZzZXQiOiBudWxsLCAiZmlsbCI6IHRydWUsICJmaWxsQ29sb3IiOiAiYmx1ZSIsICJmaWxsT3BhY2l0eSI6IDAuMiwgImZpbGxSdWxlIjogImV2ZW5vZGQiLCAibGluZUNhcCI6ICJyb3VuZCIsICJsaW5lSm9pbiI6ICJyb3VuZCIsICJvcGFjaXR5IjogMS4wLCAicmFkaXVzIjogMTAsICJzdHJva2UiOiB0cnVlLCAid2VpZ2h0IjogM30KICAgICAgICAgICAgKS5hZGRUbyhtYXBfNjBlMWFjMzg5MDZjNGZjNmFmNWIwNTdhZGMzYTMxZWIpOwogICAgICAgIAogICAgCiAgICAgICAgdmFyIHBvcHVwXzM0N2I0OGU2YTNmMzRjYThhYjhmMjBlMjVhMjdlZTRjID0gTC5wb3B1cCh7Im1heFdpZHRoIjogIjEwMCUifSk7CgogICAgICAgIAogICAgICAgICAgICB2YXIgaHRtbF80ZjZhNWQ0ODg5ZWU0OTRiYjAxZGU3YThiY2IzMWQzNCA9ICQoYDxkaXYgaWQ9Imh0bWxfNGY2YTVkNDg4OWVlNDk0YmIwMWRlN2E4YmNiMzFkMzQiIHN0eWxlPSJ3aWR0aDogMTAwLjAlOyBoZWlnaHQ6IDEwMC4wJTsiPk1hcmtldCBhdCAxMHRoPC9kaXY+YClbMF07CiAgICAgICAgICAgIHBvcHVwXzM0N2I0OGU2YTNmMzRjYThhYjhmMjBlMjVhMjdlZTRjLnNldENvbnRlbnQoaHRtbF80ZjZhNWQ0ODg5ZWU0OTRiYjAxZGU3YThiY2IzMWQzNCk7CiAgICAgICAgCgogICAgICAgIGNpcmNsZV9tYXJrZXJfMWI1ZmY1NGM5NGFiNDRhOGIzYjNlMjVjNjdmZDkyY2QuYmluZFBvcHVwKHBvcHVwXzM0N2I0OGU2YTNmMzRjYThhYjhmMjBlMjVhMjdlZTRjKQogICAgICAgIDsKCiAgICAgICAgCiAgICAKICAgIAogICAgICAgICAgICB2YXIgY2lyY2xlX21hcmtlcl8xZDZiMzhkYmIwY2Q0MGI2YTkyYjM4ZDVlNzY1ZTJkYiA9IEwuY2lyY2xlTWFya2VyKAogICAgICAgICAgICAgICAgWzM3Ljc4NDg3OCwgLTEyMi40MDEwMTRdLAogICAgICAgICAgICAgICAgeyJidWJibGluZ01vdXNlRXZlbnRzIjogdHJ1ZSwgImNvbG9yIjogIiMzMzg4ZmYiLCAiZGFzaEFycmF5IjogbnVsbCwgImRhc2hPZmZzZXQiOiBudWxsLCAiZmlsbCI6IHRydWUsICJmaWxsQ29sb3IiOiAiYmx1ZSIsICJmaWxsT3BhY2l0eSI6IDAuMiwgImZpbGxSdWxlIjogImV2ZW5vZGQiLCAibGluZUNhcCI6ICJyb3VuZCIsICJsaW5lSm9pbiI6ICJyb3VuZCIsICJvcGFjaXR5IjogMS4wLCAicmFkaXVzIjogMTAsICJzdHJva2UiOiB0cnVlLCAid2VpZ2h0IjogM30KICAgICAgICAgICAgKS5hZGRUbyhtYXBfNjBlMWFjMzg5MDZjNGZjNmFmNWIwNTdhZGMzYTMxZWIpOwogICAgICAgIAogICAgCiAgICAgICAgdmFyIHBvcHVwXzk3MzQzNjg2YTgxMDQ1ODY5Zjg3Y2NjOTNmNGFlMDA3ID0gTC5wb3B1cCh7Im1heFdpZHRoIjogIjEwMCUifSk7CgogICAgICAgIAogICAgICAgICAgICB2YXIgaHRtbF8xYTMwYjFmZmQ2OGM0ZDFlYTg2N2Q2MzcxM2EzM2ZlMiA9ICQoYDxkaXYgaWQ9Imh0bWxfMWEzMGIxZmZkNjhjNGQxZWE4NjdkNjM3MTNhMzNmZTIiIHN0eWxlPSJ3aWR0aDogMTAwLjAlOyBoZWlnaHQ6IDEwMC4wJTsiPlllcmJhIEJ1ZW5hIENlbnRlciBvZiB0aGUgQXJ0cyAoM3JkIEAgSG93YXJkKTwvZGl2PmApWzBdOwogICAgICAgICAgICBwb3B1cF85NzM0MzY4NmE4MTA0NTg2OWY4N2NjYzkzZjRhZTAwNy5zZXRDb250ZW50KGh0bWxfMWEzMGIxZmZkNjhjNGQxZWE4NjdkNjM3MTNhMzNmZTIpOwogICAgICAgIAoKICAgICAgICBjaXJjbGVfbWFya2VyXzFkNmIzOGRiYjBjZDQwYjZhOTJiMzhkNWU3NjVlMmRiLmJpbmRQb3B1cChwb3B1cF85NzM0MzY4NmE4MTA0NTg2OWY4N2NjYzkzZjRhZTAwNykKICAgICAgICA7CgogICAgICAgIAogICAgCiAgICAKICAgICAgICAgICAgdmFyIGNpcmNsZV9tYXJrZXJfYTUyMGYwY2I2YmU0NDAyMDkyZjJhZTlmNTQwMzkxZDAgPSBMLmNpcmNsZU1hcmtlcigKICAgICAgICAgICAgICAgIFszNy43NzY2LCAtMTIyLjM5NTQ3XSwKICAgICAgICAgICAgICAgIHsiYnViYmxpbmdNb3VzZUV2ZW50cyI6IHRydWUsICJjb2xvciI6ICIjMzM4OGZmIiwgImRhc2hBcnJheSI6IG51bGwsICJkYXNoT2Zmc2V0IjogbnVsbCwgImZpbGwiOiB0cnVlLCAiZmlsbENvbG9yIjogImJsdWUiLCAiZmlsbE9wYWNpdHkiOiAwLjIsICJmaWxsUnVsZSI6ICJldmVub2RkIiwgImxpbmVDYXAiOiAicm91bmQiLCAibGluZUpvaW4iOiAicm91bmQiLCAib3BhY2l0eSI6IDEuMCwgInJhZGl1cyI6IDEwLCAic3Ryb2tlIjogdHJ1ZSwgIndlaWdodCI6IDN9CiAgICAgICAgICAgICkuYWRkVG8obWFwXzYwZTFhYzM4OTA2YzRmYzZhZjViMDU3YWRjM2EzMWViKTsKICAgICAgICAKICAgIAogICAgICAgIHZhciBwb3B1cF9kNDJlY2FhZWZmMGE0MGIxYTRkNDI1NmRhYTUwZDliYSA9IEwucG9wdXAoeyJtYXhXaWR0aCI6ICIxMDAlIn0pOwoKICAgICAgICAKICAgICAgICAgICAgdmFyIGh0bWxfY2ZjOTkyZTA5YzgzNDU3NjgyZThjZWMxYzJiY2I2NDAgPSAkKGA8ZGl2IGlkPSJodG1sX2NmYzk5MmUwOWM4MzQ1NzY4MmU4Y2VjMWMyYmNiNjQwIiBzdHlsZT0id2lkdGg6IDEwMC4wJTsgaGVpZ2h0OiAxMDAuMCU7Ij5TYW4gRnJhbmNpc2NvIENhbHRyYWluIDIgKDMzMCBUb3duc2VuZCk8L2Rpdj5gKVswXTsKICAgICAgICAgICAgcG9wdXBfZDQyZWNhYWVmZjBhNDBiMWE0ZDQyNTZkYWE1MGQ5YmEuc2V0Q29udGVudChodG1sX2NmYzk5MmUwOWM4MzQ1NzY4MmU4Y2VjMWMyYmNiNjQwKTsKICAgICAgICAKCiAgICAgICAgY2lyY2xlX21hcmtlcl9hNTIwZjBjYjZiZTQ0MDIwOTJmMmFlOWY1NDAzOTFkMC5iaW5kUG9wdXAocG9wdXBfZDQyZWNhYWVmZjBhNDBiMWE0ZDQyNTZkYWE1MGQ5YmEpCiAgICAgICAgOwoKICAgICAgICAKICAgIAogICAgCiAgICAgICAgICAgIHZhciBjaXJjbGVfbWFya2VyX2JmODFjYmI1NTNhMDQzZTI5ZTEwYzI2MDc1YmM3ZGFlID0gTC5jaXJjbGVNYXJrZXIoCiAgICAgICAgICAgICAgICBbMzcuNzc2NjE3LCAtMTIyLjM5NTI2XSwKICAgICAgICAgICAgICAgIHsiYnViYmxpbmdNb3VzZUV2ZW50cyI6IHRydWUsICJjb2xvciI6ICIjMzM4OGZmIiwgImRhc2hBcnJheSI6IG51bGwsICJkYXNoT2Zmc2V0IjogbnVsbCwgImZpbGwiOiB0cnVlLCAiZmlsbENvbG9yIjogImJsdWUiLCAiZmlsbE9wYWNpdHkiOiAwLjIsICJmaWxsUnVsZSI6ICJldmVub2RkIiwgImxpbmVDYXAiOiAicm91bmQiLCAibGluZUpvaW4iOiAicm91bmQiLCAib3BhY2l0eSI6IDEuMCwgInJhZGl1cyI6IDEwLCAic3Ryb2tlIjogdHJ1ZSwgIndlaWdodCI6IDN9CiAgICAgICAgICAgICkuYWRkVG8obWFwXzYwZTFhYzM4OTA2YzRmYzZhZjViMDU3YWRjM2EzMWViKTsKICAgICAgICAKICAgIAogICAgICAgIHZhciBwb3B1cF9mMmViMDdjYjg0ZmQ0MzliYjM5OThiYzZlMDZhYTE3YSA9IEwucG9wdXAoeyJtYXhXaWR0aCI6ICIxMDAlIn0pOwoKICAgICAgICAKICAgICAgICAgICAgdmFyIGh0bWxfNzgzZTQyNDIwZWQyNDA1NmExYzg3ZmM5YzU2NDJjNjQgPSAkKGA8ZGl2IGlkPSJodG1sXzc4M2U0MjQyMGVkMjQwNTZhMWM4N2ZjOWM1NjQyYzY0IiBzdHlsZT0id2lkdGg6IDEwMC4wJTsgaGVpZ2h0OiAxMDAuMCU7Ij5TYW4gRnJhbmNpc2NvIENhbHRyYWluIChUb3duc2VuZCBhdCA0dGgpPC9kaXY+YClbMF07CiAgICAgICAgICAgIHBvcHVwX2YyZWIwN2NiODRmZDQzOWJiMzk5OGJjNmUwNmFhMTdhLnNldENvbnRlbnQoaHRtbF83ODNlNDI0MjBlZDI0MDU2YTFjODdmYzljNTY0MmM2NCk7CiAgICAgICAgCgogICAgICAgIGNpcmNsZV9tYXJrZXJfYmY4MWNiYjU1M2EwNDNlMjllMTBjMjYwNzViYzdkYWUuYmluZFBvcHVwKHBvcHVwX2YyZWIwN2NiODRmZDQzOWJiMzk5OGJjNmUwNmFhMTdhKQogICAgICAgIDsKCiAgICAgICAgCiAgICAKICAgIAogICAgICAgICAgICB2YXIgY2lyY2xlX21hcmtlcl8zZTA2MmE2NWU2NGM0ZjUwOTVmZWExYmY1MmRkYzRhMCA9IEwuY2lyY2xlTWFya2VyKAogICAgICAgICAgICAgICAgWzM3Ljc4ODQ0NiwgLTEyMi40MDg0OTldLAogICAgICAgICAgICAgICAgeyJidWJibGluZ01vdXNlRXZlbnRzIjogdHJ1ZSwgImNvbG9yIjogIiMzMzg4ZmYiLCAiZGFzaEFycmF5IjogbnVsbCwgImRhc2hPZmZzZXQiOiBudWxsLCAiZmlsbCI6IHRydWUsICJmaWxsQ29sb3IiOiAiYmx1ZSIsICJmaWxsT3BhY2l0eSI6IDAuMiwgImZpbGxSdWxlIjogImV2ZW5vZGQiLCAibGluZUNhcCI6ICJyb3VuZCIsICJsaW5lSm9pbiI6ICJyb3VuZCIsICJvcGFjaXR5IjogMS4wLCAicmFkaXVzIjogMTAsICJzdHJva2UiOiB0cnVlLCAid2VpZ2h0IjogM30KICAgICAgICAgICAgKS5hZGRUbyhtYXBfNjBlMWFjMzg5MDZjNGZjNmFmNWIwNTdhZGMzYTMxZWIpOwogICAgICAgIAogICAgCiAgICAgICAgdmFyIHBvcHVwX2E4YmMwNjg1OTg5NDQwODliNmJjMzBiMTAzMjQyZjQyID0gTC5wb3B1cCh7Im1heFdpZHRoIjogIjEwMCUifSk7CgogICAgICAgIAogICAgICAgICAgICB2YXIgaHRtbF9jN2E3YTZmMjkyYTI0YjM5YmVkZTNiN2E4YmUyYzU2MyA9ICQoYDxkaXYgaWQ9Imh0bWxfYzdhN2E2ZjI5MmEyNGIzOWJlZGUzYjdhOGJlMmM1NjMiIHN0eWxlPSJ3aWR0aDogMTAwLjAlOyBoZWlnaHQ6IDEwMC4wJTsiPlBvd2VsbCBhdCBQb3N0IChVbmlvbiBTcXVhcmUpPC9kaXY+YClbMF07CiAgICAgICAgICAgIHBvcHVwX2E4YmMwNjg1OTg5NDQwODliNmJjMzBiMTAzMjQyZjQyLnNldENvbnRlbnQoaHRtbF9jN2E3YTZmMjkyYTI0YjM5YmVkZTNiN2E4YmUyYzU2Myk7CiAgICAgICAgCgogICAgICAgIGNpcmNsZV9tYXJrZXJfM2UwNjJhNjVlNjRjNGY1MDk1ZmVhMWJmNTJkZGM0YTAuYmluZFBvcHVwKHBvcHVwX2E4YmMwNjg1OTg5NDQwODliNmJjMzBiMTAzMjQyZjQyKQogICAgICAgIDsKCiAgICAgICAgCiAgICAKICAgIAogICAgICAgICAgICB2YXIgY2lyY2xlX21hcmtlcl85M2E2MDQ1ZTc5MGI0OTRlOTk1Y2NiY2Y3NDMzNTUxZiA9IEwuY2lyY2xlTWFya2VyKAogICAgICAgICAgICAgICAgWzM3Ljc4MTAzOSwgLTEyMi40MTE3NDhdLAogICAgICAgICAgICAgICAgeyJidWJibGluZ01vdXNlRXZlbnRzIjogdHJ1ZSwgImNvbG9yIjogIiMzMzg4ZmYiLCAiZGFzaEFycmF5IjogbnVsbCwgImRhc2hPZmZzZXQiOiBudWxsLCAiZmlsbCI6IHRydWUsICJmaWxsQ29sb3IiOiAiYmx1ZSIsICJmaWxsT3BhY2l0eSI6IDAuMiwgImZpbGxSdWxlIjogImV2ZW5vZGQiLCAibGluZUNhcCI6ICJyb3VuZCIsICJsaW5lSm9pbiI6ICJyb3VuZCIsICJvcGFjaXR5IjogMS4wLCAicmFkaXVzIjogMTAsICJzdHJva2UiOiB0cnVlLCAid2VpZ2h0IjogM30KICAgICAgICAgICAgKS5hZGRUbyhtYXBfNjBlMWFjMzg5MDZjNGZjNmFmNWIwNTdhZGMzYTMxZWIpOwogICAgICAgIAogICAgCiAgICAgICAgdmFyIHBvcHVwXzhjMTUwN2NlZWE5MzQ2ZWRhZjVjNGE3MzIzYzc1NDNkID0gTC5wb3B1cCh7Im1heFdpZHRoIjogIjEwMCUifSk7CgogICAgICAgIAogICAgICAgICAgICB2YXIgaHRtbF9jNWY3YzA2NTY2MzU0MWViOWU3NDM3M2JiNDRjMmNiNiA9ICQoYDxkaXYgaWQ9Imh0bWxfYzVmN2MwNjU2NjM1NDFlYjllNzQzNzNiYjQ0YzJjYjYiIHN0eWxlPSJ3aWR0aDogMTAwLjAlOyBoZWlnaHQ6IDEwMC4wJTsiPkNpdmljIENlbnRlciBCQVJUICg3dGggYXQgTWFya2V0KTwvZGl2PmApWzBdOwogICAgICAgICAgICBwb3B1cF84YzE1MDdjZWVhOTM0NmVkYWY1YzRhNzMyM2M3NTQzZC5zZXRDb250ZW50KGh0bWxfYzVmN2MwNjU2NjM1NDFlYjllNzQzNzNiYjQ0YzJjYjYpOwogICAgICAgIAoKICAgICAgICBjaXJjbGVfbWFya2VyXzkzYTYwNDVlNzkwYjQ5NGU5OTVjY2JjZjc0MzM1NTFmLmJpbmRQb3B1cChwb3B1cF84YzE1MDdjZWVhOTM0NmVkYWY1YzRhNzMyM2M3NTQzZCkKICAgICAgICA7CgogICAgICAgIAogICAgCiAgICAKICAgICAgICAgICAgdmFyIGNpcmNsZV9tYXJrZXJfYmM5MTk3NzM0ZjZiNDQ3OWJiNjJmMjg2YTg4YjI5MDIgPSBMLmNpcmNsZU1hcmtlcigKICAgICAgICAgICAgICAgIFszNy43OTg1MjIsIC0xMjIuNDA3MjQ1XSwKICAgICAgICAgICAgICAgIHsiYnViYmxpbmdNb3VzZUV2ZW50cyI6IHRydWUsICJjb2xvciI6ICIjMzM4OGZmIiwgImRhc2hBcnJheSI6IG51bGwsICJkYXNoT2Zmc2V0IjogbnVsbCwgImZpbGwiOiB0cnVlLCAiZmlsbENvbG9yIjogImJsdWUiLCAiZmlsbE9wYWNpdHkiOiAwLjIsICJmaWxsUnVsZSI6ICJldmVub2RkIiwgImxpbmVDYXAiOiAicm91bmQiLCAibGluZUpvaW4iOiAicm91bmQiLCAib3BhY2l0eSI6IDEuMCwgInJhZGl1cyI6IDEwLCAic3Ryb2tlIjogdHJ1ZSwgIndlaWdodCI6IDN9CiAgICAgICAgICAgICkuYWRkVG8obWFwXzYwZTFhYzM4OTA2YzRmYzZhZjViMDU3YWRjM2EzMWViKTsKICAgICAgICAKICAgIAogICAgICAgIHZhciBwb3B1cF9hZWRhOWU3Yjg3Yzc0ODFjOThmZDVjMTc0MTAwNmNhOSA9IEwucG9wdXAoeyJtYXhXaWR0aCI6ICIxMDAlIn0pOwoKICAgICAgICAKICAgICAgICAgICAgdmFyIGh0bWxfMzQ0ZDFlMzNjZWNiNGRjMWJmMjJlOTg0MWM2YTMwYzYgPSAkKGA8ZGl2IGlkPSJodG1sXzM0NGQxZTMzY2VjYjRkYzFiZjIyZTk4NDFjNmEzMGM2IiBzdHlsZT0id2lkdGg6IDEwMC4wJTsgaGVpZ2h0OiAxMDAuMCU7Ij5HcmFudCBBdmVudWUgYXQgQ29sdW1idXMgQXZlbnVlPC9kaXY+YClbMF07CiAgICAgICAgICAgIHBvcHVwX2FlZGE5ZTdiODdjNzQ4MWM5OGZkNWMxNzQxMDA2Y2E5LnNldENvbnRlbnQoaHRtbF8zNDRkMWUzM2NlY2I0ZGMxYmYyMmU5ODQxYzZhMzBjNik7CiAgICAgICAgCgogICAgICAgIGNpcmNsZV9tYXJrZXJfYmM5MTk3NzM0ZjZiNDQ3OWJiNjJmMjg2YTg4YjI5MDIuYmluZFBvcHVwKHBvcHVwX2FlZGE5ZTdiODdjNzQ4MWM5OGZkNWMxNzQxMDA2Y2E5KQogICAgICAgIDsKCiAgICAgICAgCiAgICAKICAgIAogICAgICAgICAgICB2YXIgY2lyY2xlX21hcmtlcl80NjJlYTdmNGMwNmQ0MzAwOWZlOTc0NjRhM2E1N2EzMSA9IEwuY2lyY2xlTWFya2VyKAogICAgICAgICAgICAgICAgWzM3Ljc5NDEzOSwgLTEyMi4zOTQ0MzRdLAogICAgICAgICAgICAgICAgeyJidWJibGluZ01vdXNlRXZlbnRzIjogdHJ1ZSwgImNvbG9yIjogIiMzMzg4ZmYiLCAiZGFzaEFycmF5IjogbnVsbCwgImRhc2hPZmZzZXQiOiBudWxsLCAiZmlsbCI6IHRydWUsICJmaWxsQ29sb3IiOiAiYmx1ZSIsICJmaWxsT3BhY2l0eSI6IDAuMiwgImZpbGxSdWxlIjogImV2ZW5vZGQiLCAibGluZUNhcCI6ICJyb3VuZCIsICJsaW5lSm9pbiI6ICJyb3VuZCIsICJvcGFjaXR5IjogMS4wLCAicmFkaXVzIjogMTAsICJzdHJva2UiOiB0cnVlLCAid2VpZ2h0IjogM30KICAgICAgICAgICAgKS5hZGRUbyhtYXBfNjBlMWFjMzg5MDZjNGZjNmFmNWIwNTdhZGMzYTMxZWIpOwogICAgICAgIAogICAgCiAgICAgICAgdmFyIHBvcHVwXzM1YTQ1NmNlYjEzYjRkOGFiMDg4MWZiMGJmOGQwOWVkID0gTC5wb3B1cCh7Im1heFdpZHRoIjogIjEwMCUifSk7CgogICAgICAgIAogICAgICAgICAgICB2YXIgaHRtbF85NTkzY2Y2NmRmMmY0OTYyODVmN2ZhODQzYzQ0OGVlNyA9ICQoYDxkaXYgaWQ9Imh0bWxfOTU5M2NmNjZkZjJmNDk2Mjg1ZjdmYTg0M2M0NDhlZTciIHN0eWxlPSJ3aWR0aDogMTAwLjAlOyBoZWlnaHQ6IDEwMC4wJTsiPlN0ZXVhcnQgYXQgTWFya2V0PC9kaXY+YClbMF07CiAgICAgICAgICAgIHBvcHVwXzM1YTQ1NmNlYjEzYjRkOGFiMDg4MWZiMGJmOGQwOWVkLnNldENvbnRlbnQoaHRtbF85NTkzY2Y2NmRmMmY0OTYyODVmN2ZhODQzYzQ0OGVlNyk7CiAgICAgICAgCgogICAgICAgIGNpcmNsZV9tYXJrZXJfNDYyZWE3ZjRjMDZkNDMwMDlmZTk3NDY0YTNhNTdhMzEuYmluZFBvcHVwKHBvcHVwXzM1YTQ1NmNlYjEzYjRkOGFiMDg4MWZiMGJmOGQwOWVkKQogICAgICAgIDsKCiAgICAgICAgCiAgICAKICAgIAogICAgICAgICAgICB2YXIgY2lyY2xlX21hcmtlcl8yY2MzZmQzNTcwNmM0YjdiYWI5MGViYWE5YTQxYjEzMCA9IEwuY2lyY2xlTWFya2VyKAogICAgICAgICAgICAgICAgWzM3Ljc5MTMsIC0xMjIuMzk5MDUxXSwKICAgICAgICAgICAgICAgIHsiYnViYmxpbmdNb3VzZUV2ZW50cyI6IHRydWUsICJjb2xvciI6ICIjMzM4OGZmIiwgImRhc2hBcnJheSI6IG51bGwsICJkYXNoT2Zmc2V0IjogbnVsbCwgImZpbGwiOiB0cnVlLCAiZmlsbENvbG9yIjogImJsdWUiLCAiZmlsbE9wYWNpdHkiOiAwLjIsICJmaWxsUnVsZSI6ICJldmVub2RkIiwgImxpbmVDYXAiOiAicm91bmQiLCAibGluZUpvaW4iOiAicm91bmQiLCAib3BhY2l0eSI6IDEuMCwgInJhZGl1cyI6IDEwLCAic3Ryb2tlIjogdHJ1ZSwgIndlaWdodCI6IDN9CiAgICAgICAgICAgICkuYWRkVG8obWFwXzYwZTFhYzM4OTA2YzRmYzZhZjViMDU3YWRjM2EzMWViKTsKICAgICAgICAKICAgIAogICAgICAgIHZhciBwb3B1cF8wMzZmYWQ1NjEzNzk0NDc3YTc3NGRlNWFkOGEzZjJjZSA9IEwucG9wdXAoeyJtYXhXaWR0aCI6ICIxMDAlIn0pOwoKICAgICAgICAKICAgICAgICAgICAgdmFyIGh0bWxfYjIyZWNjZTUzNmM2NDgwMzkxNWRmZDFlYjZmNzViMjAgPSAkKGA8ZGl2IGlkPSJodG1sX2IyMmVjY2U1MzZjNjQ4MDM5MTVkZmQxZWI2Zjc1YjIwIiBzdHlsZT0id2lkdGg6IDEwMC4wJTsgaGVpZ2h0OiAxMDAuMCU7Ij5NZWNoYW5pY3MgUGxhemEgKE1hcmtldCBhdCBCYXR0ZXJ5KTwvZGl2PmApWzBdOwogICAgICAgICAgICBwb3B1cF8wMzZmYWQ1NjEzNzk0NDc3YTc3NGRlNWFkOGEzZjJjZS5zZXRDb250ZW50KGh0bWxfYjIyZWNjZTUzNmM2NDgwMzkxNWRmZDFlYjZmNzViMjApOwogICAgICAgIAoKICAgICAgICBjaXJjbGVfbWFya2VyXzJjYzNmZDM1NzA2YzRiN2JhYjkwZWJhYTlhNDFiMTMwLmJpbmRQb3B1cChwb3B1cF8wMzZmYWQ1NjEzNzk0NDc3YTc3NGRlNWFkOGEzZjJjZSkKICAgICAgICA7CgogICAgICAgIAogICAgCiAgICAKICAgICAgICAgICAgdmFyIGNpcmNsZV9tYXJrZXJfYWVmNjAyM2Q0YzE2NGYxZGI5NTg2ODAyMTdmODhkYTMgPSBMLmNpcmNsZU1hcmtlcigKICAgICAgICAgICAgICAgIFszNy43ODYzMDUsIC0xMjIuNDA0OTY2XSwKICAgICAgICAgICAgICAgIHsiYnViYmxpbmdNb3VzZUV2ZW50cyI6IHRydWUsICJjb2xvciI6ICIjMzM4OGZmIiwgImRhc2hBcnJheSI6IG51bGwsICJkYXNoT2Zmc2V0IjogbnVsbCwgImZpbGwiOiB0cnVlLCAiZmlsbENvbG9yIjogImJsdWUiLCAiZmlsbE9wYWNpdHkiOiAwLjIsICJmaWxsUnVsZSI6ICJldmVub2RkIiwgImxpbmVDYXAiOiAicm91bmQiLCAibGluZUpvaW4iOiAicm91bmQiLCAib3BhY2l0eSI6IDEuMCwgInJhZGl1cyI6IDEwLCAic3Ryb2tlIjogdHJ1ZSwgIndlaWdodCI6IDN9CiAgICAgICAgICAgICkuYWRkVG8obWFwXzYwZTFhYzM4OTA2YzRmYzZhZjViMDU3YWRjM2EzMWViKTsKICAgICAgICAKICAgIAogICAgICAgIHZhciBwb3B1cF85OWYyM2JjNDQ3YjA0MTE5Yjc5YTkyOTU5NGJjNjJhZCA9IEwucG9wdXAoeyJtYXhXaWR0aCI6ICIxMDAlIn0pOwoKICAgICAgICAKICAgICAgICAgICAgdmFyIGh0bWxfZWQ4Yzc2NWYxYmRhNGJlYjgwZjhlYmQyMTI2NGJjZDAgPSAkKGA8ZGl2IGlkPSJodG1sX2VkOGM3NjVmMWJkYTRiZWI4MGY4ZWJkMjEyNjRiY2QwIiBzdHlsZT0id2lkdGg6IDEwMC4wJTsgaGVpZ2h0OiAxMDAuMCU7Ij5NYXJrZXQgYXQgNHRoPC9kaXY+YClbMF07CiAgICAgICAgICAgIHBvcHVwXzk5ZjIzYmM0NDdiMDQxMTliNzlhOTI5NTk0YmM2MmFkLnNldENvbnRlbnQoaHRtbF9lZDhjNzY1ZjFiZGE0YmViODBmOGViZDIxMjY0YmNkMCk7CiAgICAgICAgCgogICAgICAgIGNpcmNsZV9tYXJrZXJfYWVmNjAyM2Q0YzE2NGYxZGI5NTg2ODAyMTdmODhkYTMuYmluZFBvcHVwKHBvcHVwXzk5ZjIzYmM0NDdiMDQxMTliNzlhOTI5NTk0YmM2MmFkKQogICAgICAgIDsKCiAgICAgICAgCiAgICAKICAgIAogICAgICAgICAgICB2YXIgY2lyY2xlX21hcmtlcl9jMWE1MmIyZDU2NDc0NzYzYWI3ODUxNmFkN2U1YWRmNSA9IEwuY2lyY2xlTWFya2VyKAogICAgICAgICAgICAgICAgWzM3Ljc4OTYyNSwgLTEyMi40MDA4MTFdLAogICAgICAgICAgICAgICAgeyJidWJibGluZ01vdXNlRXZlbnRzIjogdHJ1ZSwgImNvbG9yIjogIiMzMzg4ZmYiLCAiZGFzaEFycmF5IjogbnVsbCwgImRhc2hPZmZzZXQiOiBudWxsLCAiZmlsbCI6IHRydWUsICJmaWxsQ29sb3IiOiAiYmx1ZSIsICJmaWxsT3BhY2l0eSI6IDAuMiwgImZpbGxSdWxlIjogImV2ZW5vZGQiLCAibGluZUNhcCI6ICJyb3VuZCIsICJsaW5lSm9pbiI6ICJyb3VuZCIsICJvcGFjaXR5IjogMS4wLCAicmFkaXVzIjogMTAsICJzdHJva2UiOiB0cnVlLCAid2VpZ2h0IjogM30KICAgICAgICAgICAgKS5hZGRUbyhtYXBfNjBlMWFjMzg5MDZjNGZjNmFmNWIwNTdhZGMzYTMxZWIpOwogICAgICAgIAogICAgCiAgICAgICAgdmFyIHBvcHVwXzVmM2EyMzczZDk5MzRhZjBiNTZiOWM4Y2ViMWZiMDNjID0gTC5wb3B1cCh7Im1heFdpZHRoIjogIjEwMCUifSk7CgogICAgICAgIAogICAgICAgICAgICB2YXIgaHRtbF80YTIxMDNkYTc4NGQ0ZWNmYTAxYTdmNmJiNTQ3NmIwOSA9ICQoYDxkaXYgaWQ9Imh0bWxfNGEyMTAzZGE3ODRkNGVjZmEwMWE3ZjZiYjU0NzZiMDkiIHN0eWxlPSJ3aWR0aDogMTAwLjAlOyBoZWlnaHQ6IDEwMC4wJTsiPk1hcmtldCBhdCBTYW5zb21lPC9kaXY+YClbMF07CiAgICAgICAgICAgIHBvcHVwXzVmM2EyMzczZDk5MzRhZjBiNTZiOWM4Y2ViMWZiMDNjLnNldENvbnRlbnQoaHRtbF80YTIxMDNkYTc4NGQ0ZWNmYTAxYTdmNmJiNTQ3NmIwOSk7CiAgICAgICAgCgogICAgICAgIGNpcmNsZV9tYXJrZXJfYzFhNTJiMmQ1NjQ3NDc2M2FiNzg1MTZhZDdlNWFkZjUuYmluZFBvcHVwKHBvcHVwXzVmM2EyMzczZDk5MzRhZjBiNTZiOWM4Y2ViMWZiMDNjKQogICAgICAgIDsKCiAgICAgICAgCiAgICAKICAgIAogICAgICAgICAgICB2YXIgY2lyY2xlX21hcmtlcl9iMjc1MjQyN2ZjYjc0M2IwOWFlYWUwZGJjZDZjZmQ3MyA9IEwuY2lyY2xlTWFya2VyKAogICAgICAgICAgICAgICAgWzM3Ljc5ODU0MSwgLTEyMi40MDA4NjJdLAogICAgICAgICAgICAgICAgeyJidWJibGluZ01vdXNlRXZlbnRzIjogdHJ1ZSwgImNvbG9yIjogIiMzMzg4ZmYiLCAiZGFzaEFycmF5IjogbnVsbCwgImRhc2hPZmZzZXQiOiBudWxsLCAiZmlsbCI6IHRydWUsICJmaWxsQ29sb3IiOiAiYmx1ZSIsICJmaWxsT3BhY2l0eSI6IDAuMiwgImZpbGxSdWxlIjogImV2ZW5vZGQiLCAibGluZUNhcCI6ICJyb3VuZCIsICJsaW5lSm9pbiI6ICJyb3VuZCIsICJvcGFjaXR5IjogMS4wLCAicmFkaXVzIjogMTAsICJzdHJva2UiOiB0cnVlLCAid2VpZ2h0IjogM30KICAgICAgICAgICAgKS5hZGRUbyhtYXBfNjBlMWFjMzg5MDZjNGZjNmFmNWIwNTdhZGMzYTMxZWIpOwogICAgICAgIAogICAgCiAgICAgICAgdmFyIHBvcHVwXzE0YmM2MDc3ZjViMjRhNjRhNjAwNmQwYTk4YTZmNWU0ID0gTC5wb3B1cCh7Im1heFdpZHRoIjogIjEwMCUifSk7CgogICAgICAgIAogICAgICAgICAgICB2YXIgaHRtbF85NWU1OTA2MDkwYTY0ZmEzYTY2YzFmOWRmY2MzNDg5NSA9ICQoYDxkaXYgaWQ9Imh0bWxfOTVlNTkwNjA5MGE2NGZhM2E2NmMxZjlkZmNjMzQ4OTUiIHN0eWxlPSJ3aWR0aDogMTAwLjAlOyBoZWlnaHQ6IDEwMC4wJTsiPkJyb2Fkd2F5IFN0IGF0IEJhdHRlcnkgU3Q8L2Rpdj5gKVswXTsKICAgICAgICAgICAgcG9wdXBfMTRiYzYwNzdmNWIyNGE2NGE2MDA2ZDBhOThhNmY1ZTQuc2V0Q29udGVudChodG1sXzk1ZTU5MDYwOTBhNjRmYTNhNjZjMWY5ZGZjYzM0ODk1KTsKICAgICAgICAKCiAgICAgICAgY2lyY2xlX21hcmtlcl9iMjc1MjQyN2ZjYjc0M2IwOWFlYWUwZGJjZDZjZmQ3My5iaW5kUG9wdXAocG9wdXBfMTRiYzYwNzdmNWIyNGE2NGE2MDA2ZDBhOThhNmY1ZTQpCiAgICAgICAgOwoKICAgICAgICAKICAgIAo8L3NjcmlwdD4= onload=\"this.contentDocument.open();this.contentDocument.write(atob(this.getAttribute('data-html')));this.contentDocument.close();\" allowfullscreen webkitallowfullscreen mozallowfullscreen></iframe></div></div>"
      ],
      "text/plain": [
       "<datascience.maps.Map at 0x7fdf76448a90>"
      ]
     },
     "execution_count": 134,
     "metadata": {},
     "output_type": "execute_result"
    }
   ],
   "source": [
    "Circle.map_table(sf_stations_map_data)"
   ]
  },
  {
   "cell_type": "code",
   "execution_count": 135,
   "metadata": {},
   "outputs": [
    {
     "data": {
      "text/html": [
       "<table border=\"1\" class=\"dataframe\">\n",
       "    <thead>\n",
       "        <tr>\n",
       "            <th>Start Station</th> <th>count</th>\n",
       "        </tr>\n",
       "    </thead>\n",
       "    <tbody>\n",
       "        <tr>\n",
       "            <td>San Francisco Caltrain (Townsend at 4th)</td> <td>25858</td>\n",
       "        </tr>\n",
       "        <tr>\n",
       "            <td>San Francisco Caltrain 2 (330 Townsend) </td> <td>21523</td>\n",
       "        </tr>\n",
       "        <tr>\n",
       "            <td>Harry Bridges Plaza (Ferry Building)    </td> <td>15543</td>\n",
       "        </tr>\n",
       "    </tbody>\n",
       "</table>\n",
       "<p>... (67 rows omitted)</p>"
      ],
      "text/plain": [
       "<IPython.core.display.HTML object>"
      ]
     },
     "metadata": {},
     "output_type": "display_data"
    }
   ],
   "source": [
    "starts = commute.group('Start Station').sort('count', descending=True)\n",
    "starts.show(3)"
   ]
  },
  {
   "cell_type": "code",
   "execution_count": 138,
   "metadata": {},
   "outputs": [
    {
     "data": {
      "text/html": [
       "<table border=\"1\" class=\"dataframe\">\n",
       "    <thead>\n",
       "        <tr>\n",
       "            <th>station_id</th> <th>name</th> <th>lat</th> <th>long</th> <th>landmark</th>\n",
       "        </tr>\n",
       "    </thead>\n",
       "    <tbody>\n",
       "        <tr>\n",
       "            <td>2         </td> <td>San Jose Diridon Caltrain Station</td> <td>37.3297</td> <td>-121.902</td> <td>San Jose</td>\n",
       "        </tr>\n",
       "        <tr>\n",
       "            <td>3         </td> <td>San Jose Civic Center            </td> <td>37.3307</td> <td>-121.889</td> <td>San Jose</td>\n",
       "        </tr>\n",
       "        <tr>\n",
       "            <td>4         </td> <td>Santa Clara at Almaden           </td> <td>37.334 </td> <td>-121.895</td> <td>San Jose</td>\n",
       "        </tr>\n",
       "    </tbody>\n",
       "</table>\n",
       "<p>... (67 rows omitted)</p>"
      ],
      "text/plain": [
       "<IPython.core.display.HTML object>"
      ]
     },
     "metadata": {},
     "output_type": "display_data"
    }
   ],
   "source": [
    "stations.show(3)"
   ]
  },
  {
   "cell_type": "code",
   "execution_count": 140,
   "metadata": {},
   "outputs": [
    {
     "data": {
      "text/html": [
       "<table border=\"1\" class=\"dataframe\">\n",
       "    <thead>\n",
       "        <tr>\n",
       "            <th>name</th> <th>station_id</th> <th>lat</th> <th>long</th> <th>landmark</th> <th>count</th>\n",
       "        </tr>\n",
       "    </thead>\n",
       "    <tbody>\n",
       "        <tr>\n",
       "            <td>2nd at Folsom    </td> <td>62        </td> <td>37.7853</td> <td>-122.396</td> <td>San Francisco</td> <td>7841 </td>\n",
       "        </tr>\n",
       "        <tr>\n",
       "            <td>2nd at South Park</td> <td>64        </td> <td>37.7823</td> <td>-122.393</td> <td>San Francisco</td> <td>9274 </td>\n",
       "        </tr>\n",
       "        <tr>\n",
       "            <td>2nd at Townsend  </td> <td>61        </td> <td>37.7805</td> <td>-122.39 </td> <td>San Francisco</td> <td>13674</td>\n",
       "        </tr>\n",
       "    </tbody>\n",
       "</table>\n",
       "<p>... (65 rows omitted)</p>"
      ],
      "text/plain": [
       "<IPython.core.display.HTML object>"
      ]
     },
     "metadata": {},
     "output_type": "display_data"
    }
   ],
   "source": [
    "station_starts = stations.join('name', starts, 'Start Station')\n",
    "station_starts.show(3)"
   ]
  },
  {
   "cell_type": "code",
   "execution_count": 141,
   "metadata": {},
   "outputs": [],
   "source": [
    "sf_starts = station_starts.relabeled(\n",
    "    'name', 'labels').where('landmark', 'San Francisco')"
   ]
  },
  {
   "cell_type": "code",
   "execution_count": 142,
   "metadata": {},
   "outputs": [
    {
     "data": {
      "text/html": [
       "<table border=\"1\" class=\"dataframe\">\n",
       "    <thead>\n",
       "        <tr>\n",
       "            <th>lat</th> <th>long</th> <th>labels</th> <th>colors</th> <th>areas</th>\n",
       "        </tr>\n",
       "    </thead>\n",
       "    <tbody>\n",
       "        <tr>\n",
       "            <td>37.7853</td> <td>-122.396</td> <td>2nd at Folsom    </td> <td>blue  </td> <td>7841 </td>\n",
       "        </tr>\n",
       "        <tr>\n",
       "            <td>37.7823</td> <td>-122.393</td> <td>2nd at South Park</td> <td>blue  </td> <td>9274 </td>\n",
       "        </tr>\n",
       "        <tr>\n",
       "            <td>37.7805</td> <td>-122.39 </td> <td>2nd at Townsend  </td> <td>blue  </td> <td>13674</td>\n",
       "        </tr>\n",
       "    </tbody>\n",
       "</table>\n",
       "<p>... (30 rows omitted)</p>"
      ],
      "text/plain": [
       "<IPython.core.display.HTML object>"
      ]
     },
     "metadata": {},
     "output_type": "display_data"
    }
   ],
   "source": [
    "sf_starts_map_data = sf_starts.select('lat', 'long', 'labels').with_columns(\n",
    "    'colors', 'blue',\n",
    "    'areas', sf_starts.column('count')\n",
    ")\n",
    "sf_starts_map_data.show(3)"
   ]
  },
  {
   "cell_type": "code",
   "execution_count": 143,
   "metadata": {},
   "outputs": [
    {
     "data": {
      "text/html": [
       "<div style=\"width:100%;\"><div style=\"position:relative;width:100%;height:0;padding-bottom:60%;\"><span style=\"color:#565656\">Make this Notebook Trusted to load map: File -> Trust Notebook</span><iframe src=\"about:blank\" style=\"position:absolute;width:100%;height:100%;left:0;top:0;border:none !important;\" data-html=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 onload=\"this.contentDocument.open();this.contentDocument.write(atob(this.getAttribute('data-html')));this.contentDocument.close();\" allowfullscreen webkitallowfullscreen mozallowfullscreen></iframe></div></div>"
      ],
      "text/plain": [
       "<datascience.maps.Map at 0x7fdf784dad50>"
      ]
     },
     "execution_count": 143,
     "metadata": {},
     "output_type": "execute_result"
    }
   ],
   "source": [
    "Circle.map_table(sf_starts_map_data)"
   ]
  },
  {
   "cell_type": "code",
   "execution_count": null,
   "metadata": {},
   "outputs": [],
   "source": []
  }
 ],
 "metadata": {
  "anaconda-cloud": {},
  "kernelspec": {
   "display_name": "Python 3",
   "language": "python",
   "name": "python3"
  },
  "language_info": {
   "codemirror_mode": {
    "name": "ipython",
    "version": 3
   },
   "file_extension": ".py",
   "mimetype": "text/x-python",
   "name": "python",
   "nbconvert_exporter": "python",
   "pygments_lexer": "ipython3",
   "version": "3.7.4"
  }
 },
 "nbformat": 4,
 "nbformat_minor": 1
}
