{
 "cells": [
  {
   "cell_type": "code",
   "execution_count": null,
   "metadata": {},
   "outputs": [],
   "source": [
    "from datascience import *\n",
    "import numpy as np\n",
    "%matplotlib inline\n",
    "import matplotlib.pyplot as plots\n",
    "plots.style.use('fivethirtyeight')"
   ]
  },
  {
   "cell_type": "markdown",
   "metadata": {},
   "source": [
    "## Utility Functions"
   ]
  },
  {
   "cell_type": "markdown",
   "metadata": {},
   "source": [
    "These functions are copy pasted from the last three lectures, and implement the linear regression formulas:"
   ]
  },
  {
   "cell_type": "code",
   "execution_count": null,
   "metadata": {},
   "outputs": [],
   "source": [
    "def standard_units(arr):\n",
    "    \"\"\" Converts an array to standard units \"\"\"\n",
    "    return (arr - np.average(arr))/np.std(arr)\n",
    "\n",
    "def correlation(t, x, y):\n",
    "    \"\"\" Computes correlation: t is a table, and x and y are column names \"\"\"\n",
    "    x_standard = standard_units(t.column(x))\n",
    "    y_standard = standard_units(t.column(y))\n",
    "    return np.average(x_standard * y_standard)\n",
    "\n",
    "def slope(t, x, y):\n",
    "    \"\"\" Computes the slope of the regression line, like correlation above \"\"\"\n",
    "    r = correlation(t, x, y)\n",
    "    y_sd = np.std(t.column(y))\n",
    "    x_sd = np.std(t.column(x))\n",
    "    return r * y_sd / x_sd\n",
    "\n",
    "def intercept(t, x, y):\n",
    "    \"\"\" Computes the intercept of the regression line, like slope above \"\"\"\n",
    "    x_mean = np.mean(t.column(x))\n",
    "    y_mean = np.mean(t.column(y))\n",
    "    return y_mean - slope(t, x, y)*x_mean\n",
    "\n",
    "def fitted_values(t, x, y):\n",
    "    \"\"\"Return an array of the regression estimates (predictions) at all the x values\"\"\"\n",
    "    a = slope(t, x, y)\n",
    "    b = intercept(t, x, y)\n",
    "    return a*t.column(x) + b"
   ]
  },
  {
   "cell_type": "code",
   "execution_count": null,
   "metadata": {},
   "outputs": [],
   "source": [
    "# Some functions for plotting. You don't have to understand how any\n",
    "# of the functions in this cell work, since they use things we \n",
    "# haven't learned about in Data 8.\n",
    "\n",
    "\n",
    "def resize_window(lim=3.5):\n",
    "    plots.xlim(-lim, lim)\n",
    "    plots.ylim(-lim, lim)\n",
    "    \n",
    "def draw_line(slope=0, intercept=0, x=make_array(-4, 4), color='r'):\n",
    "    y = x*slope + intercept\n",
    "    plots.plot(x, y, color=color)\n",
    "    \n",
    "def draw_vertical_line(x_position, color='black'):\n",
    "    x = make_array(x_position, x_position)\n",
    "    y = make_array(-4, 4)\n",
    "    plots.plot(x, y, color=color)\n",
    "    \n",
    "def make_correlated_data(r):\n",
    "    x = np.random.normal(0, 1, 1000)\n",
    "    z = np.random.normal(0, 1, 1000)\n",
    "    y = r*x + (np.sqrt(1-r**2))*z\n",
    "    return x, y\n",
    "\n",
    "def r_scatter(r):\n",
    "    \"\"\"Generate a scatter plot with a correlation approximately r\"\"\"\n",
    "    plots.figure(figsize=(5,5))\n",
    "    x, y = make_correlated_data(r)\n",
    "    plots.scatter(x, y, color='darkblue', s=20)\n",
    "    plots.xlim(-4, 4)\n",
    "    plots.ylim(-4, 4)\n",
    "    \n",
    "def r_table(r):\n",
    "    \"\"\"\n",
    "    Generate a table of 1000 data points with a correlation approximately r\n",
    "    \"\"\"\n",
    "    np.random.seed(8)\n",
    "    x, y = make_correlated_data(r)\n",
    "    return Table().with_columns('x', x, 'y', y)\n",
    "\n",
    "def show_demographics_rmse(slope, intercept):\n",
    "    demographics_errors(slope, intercept)\n",
    "    x = demographics.column('College%')\n",
    "    y = demographics.column('Median Income')\n",
    "    prediction = slope * x + intercept\n",
    "    mse = np.mean((y - prediction) ** 2)\n",
    "    print(\"Root mean squared error:\", round(mse ** 0.5, 2))"
   ]
  },
  {
   "cell_type": "markdown",
   "metadata": {},
   "source": [
    "## 2016 election dataset"
   ]
  },
  {
   "cell_type": "code",
   "execution_count": null,
   "metadata": {
    "scrolled": true
   },
   "outputs": [],
   "source": [
    "demographics = Table.read_table('district_demographics2016.csv')\n",
    "demographics"
   ]
  },
  {
   "cell_type": "code",
   "execution_count": null,
   "metadata": {},
   "outputs": [],
   "source": [
    "predict_voting = demographics.select('Median Income', 'Percent voting for Clinton')\n",
    "predict_voting = predict_voting.with_columns('Fitted',\n",
    "    fitted_values(demographics, 'Median Income', 'Percent voting for Clinton'))"
   ]
  },
  {
   "cell_type": "code",
   "execution_count": null,
   "metadata": {
    "scrolled": true
   },
   "outputs": [],
   "source": [
    "predict_voting.scatter('Median Income')"
   ]
  },
  {
   "cell_type": "code",
   "execution_count": null,
   "metadata": {},
   "outputs": [],
   "source": [
    "predict_income = demographics.select('College%', 'Median Income')\n",
    "predict_income = predict_income.with_columns('Fitted',\n",
    "    fitted_values(demographics, 'College%', 'Median Income'))\n",
    "predict_income.scatter('College%')"
   ]
  },
  {
   "cell_type": "markdown",
   "metadata": {},
   "source": [
    "## Nonlinear Regression ##"
   ]
  },
  {
   "cell_type": "markdown",
   "metadata": {},
   "source": [
    "You can also use numerical optimization to make predictions when there is a nonlinear association among the data, if you have an idea for the nature of the association."
   ]
  },
  {
   "cell_type": "code",
   "execution_count": null,
   "metadata": {},
   "outputs": [],
   "source": [
    "shotput = Table.read_table('shotput.csv')\n",
    "shotput"
   ]
  },
  {
   "cell_type": "code",
   "execution_count": null,
   "metadata": {},
   "outputs": [],
   "source": [
    "shotput.scatter('Weight Lifted')"
   ]
  },
  {
   "cell_type": "markdown",
   "metadata": {},
   "source": [
    "We can fit a linear regression model to this data."
   ]
  },
  {
   "cell_type": "code",
   "execution_count": null,
   "metadata": {},
   "outputs": [],
   "source": [
    "def shotput_linear_rmse(any_slope, any_intercept):\n",
    "    x = shotput.column('Weight Lifted')\n",
    "    y = shotput.column('Shot Put Distance')\n",
    "    estimate = any_slope*x + any_intercept\n",
    "    return np.mean((y - estimate) ** 2) ** 0.5"
   ]
  },
  {
   "cell_type": "code",
   "execution_count": null,
   "metadata": {},
   "outputs": [],
   "source": [
    "best_line = minimize(shotput_linear_rmse)\n",
    "best_line"
   ]
  },
  {
   "cell_type": "code",
   "execution_count": null,
   "metadata": {},
   "outputs": [],
   "source": [
    "weights = shotput.column(0)"
   ]
  },
  {
   "cell_type": "code",
   "execution_count": null,
   "metadata": {},
   "outputs": [],
   "source": [
    "linear_fit = best_line.item(0)*weights + best_line.item(1)\n",
    "\n",
    "shotput.with_column(\n",
    "    'Best Line', linear_fit\n",
    ").scatter(0)"
   ]
  },
  {
   "cell_type": "markdown",
   "metadata": {},
   "source": [
    "You can see the predictions are systematically too low, on the left end.  The study that gathered this data hypothesized that there should be a quadratic relationship between weight lighted and shot put distance, so instead of fitting a line, let's fit a parabola -- a quadratic equation. "
   ]
  },
  {
   "cell_type": "markdown",
   "metadata": {},
   "source": [
    "A **quadratic Function** is given by the equation\n",
    "\n",
    "$$\n",
    "f(x) ~=~ ax^2 + bx + c\n",
    "$$\n",
    "for constants $a$, $b$, and $c$.  Let's try to find constants $a,b,c$ that yield a good fit to the data."
   ]
  },
  {
   "cell_type": "code",
   "execution_count": null,
   "metadata": {},
   "outputs": [],
   "source": [
    "def shotput_quadratic_rmse(a, b, c):\n",
    "    x = shotput.column('Weight Lifted')\n",
    "    y = shotput.column('Shot Put Distance')\n",
    "    estimate = a*(x**2) + b*x + c\n",
    "    return np.mean((y - estimate) ** 2) ** 0.5"
   ]
  },
  {
   "cell_type": "code",
   "execution_count": null,
   "metadata": {},
   "outputs": [],
   "source": [
    "best_quad = minimize(shotput_quadratic_rmse)\n",
    "best_quad"
   ]
  },
  {
   "cell_type": "code",
   "execution_count": null,
   "metadata": {},
   "outputs": [],
   "source": [
    "# x = weight lifted = 100 kg\n",
    "# Then predicted shot put distance:\n",
    "\n",
    "(-0.00104)*(100**2) + 0.2827*100 - 1.5318"
   ]
  },
  {
   "cell_type": "code",
   "execution_count": null,
   "metadata": {},
   "outputs": [],
   "source": [
    "quad_fit = best_quad.item(0)*(weights**2) + best_quad.item(1)*weights + best_quad.item(2)"
   ]
  },
  {
   "cell_type": "code",
   "execution_count": null,
   "metadata": {},
   "outputs": [],
   "source": [
    "shotput.with_column('Best Quadratic Curve', quad_fit).scatter(0)"
   ]
  },
  {
   "cell_type": "markdown",
   "metadata": {},
   "source": [
    "## Residuals"
   ]
  },
  {
   "cell_type": "code",
   "execution_count": null,
   "metadata": {},
   "outputs": [],
   "source": [
    "def residuals(t, x, y):\n",
    "    predictions = fitted_values(t, x, y)\n",
    "    return t.column(y) - predictions # actual value - predicted value"
   ]
  },
  {
   "cell_type": "code",
   "execution_count": null,
   "metadata": {},
   "outputs": [],
   "source": []
  },
  {
   "cell_type": "code",
   "execution_count": null,
   "metadata": {
    "scrolled": true
   },
   "outputs": [],
   "source": [
    "demographics = demographics.drop(\"State\", \"District\", \"Percent voting for Clinton\").with_columns(\n",
    "    'Fitted Value', fitted_values(demographics, 'College%', 'Median Income'),\n",
    "    'Residual', residuals(demographics, 'College%', 'Median Income')\n",
    ")\n",
    "demographics"
   ]
  },
  {
   "cell_type": "code",
   "execution_count": null,
   "metadata": {
    "scrolled": true
   },
   "outputs": [],
   "source": [
    "demographics.scatter('College%')"
   ]
  },
  {
   "cell_type": "code",
   "execution_count": null,
   "metadata": {},
   "outputs": [],
   "source": [
    "def plot_residuals(t, x, y):\n",
    "    tbl = t.with_columns(\n",
    "        'Fitted', fitted_values(t, x, y),\n",
    "        'Residual', residuals(t, x, y)\n",
    "    )\n",
    "    tbl.select(x, y, 'Fitted').scatter(0)\n",
    "    tbl.scatter(x, 'Residual')"
   ]
  },
  {
   "cell_type": "code",
   "execution_count": null,
   "metadata": {},
   "outputs": [],
   "source": [
    "plot_residuals(demographics, 'College%', 'Median Income')"
   ]
  },
  {
   "cell_type": "markdown",
   "metadata": {},
   "source": [
    "## Dugongs ##"
   ]
  },
  {
   "cell_type": "code",
   "execution_count": null,
   "metadata": {
    "scrolled": true
   },
   "outputs": [],
   "source": [
    "dugong = Table.read_table('dugong.csv')\n",
    "dugong.show(5)"
   ]
  },
  {
   "cell_type": "code",
   "execution_count": null,
   "metadata": {
    "scrolled": false
   },
   "outputs": [],
   "source": [
    "dugong.scatter('Length', 'Age')"
   ]
  },
  {
   "cell_type": "code",
   "execution_count": null,
   "metadata": {},
   "outputs": [],
   "source": [
    "correlation(dugong, 'Length', 'Age')"
   ]
  },
  {
   "cell_type": "markdown",
   "metadata": {},
   "source": [
    "At a glance, we have a **very** strong correlation - which might indicate that linear regression is a good idea! However, let's take a look at the residuals first."
   ]
  },
  {
   "cell_type": "code",
   "execution_count": null,
   "metadata": {},
   "outputs": [],
   "source": [
    "plot_residuals(dugong, 'Length', 'Age')"
   ]
  },
  {
   "cell_type": "markdown",
   "metadata": {},
   "source": [
    "Seeing this, you should probably be a little sceptical. We see a **pattern** in the residuals. We're consistently overestimating in some areas, and underestimating in others. This indicates that we could probably find a model that's better than a linear one. "
   ]
  },
  {
   "cell_type": "markdown",
   "metadata": {},
   "source": [
    "# US Women\n",
    "\n",
    "As an example of another residual plot, let's look at the relationship between height and average weight for Women's Division Athletes in the US."
   ]
  },
  {
   "cell_type": "code",
   "execution_count": null,
   "metadata": {},
   "outputs": [],
   "source": [
    "us_women = Table.read_table('us_women.csv')\n",
    "us_women.show(5)"
   ]
  },
  {
   "cell_type": "code",
   "execution_count": null,
   "metadata": {},
   "outputs": [],
   "source": [
    "us_women.scatter('height')"
   ]
  },
  {
   "cell_type": "code",
   "execution_count": null,
   "metadata": {},
   "outputs": [],
   "source": [
    "correlation(us_women, 'height', 'ave weight')"
   ]
  },
  {
   "cell_type": "code",
   "execution_count": null,
   "metadata": {},
   "outputs": [],
   "source": [
    "plot_residuals(us_women, 'height', 'ave weight')"
   ]
  },
  {
   "cell_type": "markdown",
   "metadata": {},
   "source": [
    "## Average of Residuals ##\n",
    "\n",
    "Let's look at some nice properties of residuals, for the three datasets we talked about today.\n",
    "\n",
    "1. The average of the residuals will always be 0"
   ]
  },
  {
   "cell_type": "code",
   "execution_count": null,
   "metadata": {},
   "outputs": [],
   "source": [
    "round(np.average(residuals(dugong, 'Length', 'Age')), 6)"
   ]
  },
  {
   "cell_type": "code",
   "execution_count": null,
   "metadata": {},
   "outputs": [],
   "source": [
    "round(np.average(residuals(us_women, 'height', 'ave weight')), 6)"
   ]
  },
  {
   "cell_type": "code",
   "execution_count": null,
   "metadata": {},
   "outputs": [],
   "source": [
    "round(np.average(residuals(demographics, 'College%', 'Median Income')), 6)"
   ]
  },
  {
   "cell_type": "markdown",
   "metadata": {},
   "source": [
    "2. The correlation between the residuals and the x values is 0."
   ]
  },
  {
   "cell_type": "code",
   "execution_count": null,
   "metadata": {},
   "outputs": [],
   "source": [
    "demographics.scatter('College%', 'Residual')\n",
    "round(correlation(demographics, 'College%', 'Residual'), 6)"
   ]
  },
  {
   "cell_type": "markdown",
   "metadata": {},
   "source": [
    "3. The correlation between the residuals and the predicted values is 0."
   ]
  },
  {
   "cell_type": "code",
   "execution_count": null,
   "metadata": {},
   "outputs": [],
   "source": [
    "demographics.scatter('Fitted Value', 'Residual')\n",
    "round(correlation(demographics, 'Fitted Value', 'Residual'), 6)"
   ]
  }
 ],
 "metadata": {
  "anaconda-cloud": {},
  "kernelspec": {
   "display_name": "Python 3 (ipykernel)",
   "language": "python",
   "name": "python3"
  },
  "language_info": {
   "codemirror_mode": {
    "name": "ipython",
    "version": 3
   },
   "file_extension": ".py",
   "mimetype": "text/x-python",
   "name": "python",
   "nbconvert_exporter": "python",
   "pygments_lexer": "ipython3",
   "version": "3.9.12"
  }
 },
 "nbformat": 4,
 "nbformat_minor": 1
}
