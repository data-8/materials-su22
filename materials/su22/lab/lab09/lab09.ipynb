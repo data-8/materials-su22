{
 "cells": [
  {
   "cell_type": "code",
   "execution_count": null,
   "id": "fc277f0c",
   "metadata": {
    "deletable": false,
    "editable": false
   },
   "outputs": [],
   "source": [
    "# Initialize Otter\n",
    "import otter\n",
    "grader = otter.Notebook(\"lab09.ipynb\")"
   ]
  },
  {
   "cell_type": "markdown",
   "id": "607b7970",
   "metadata": {},
   "source": [
    "# Lab 9: Confidence Interval Part 2\n",
    "\n",
    "Welcome to Lab 9! We will continue to investigate one of the the major causes of death in the world: cardiovascular disease. The [Python Reference](http://data8.org/su22/python-reference.html) has information that will be useful for this lab.\n",
    "\n",
    "**Lab Queue**: You can find the Lab Queue at [lab.data8.org](https://lab.data8.org/). Whenever you feel stuck or need some further clarification, add yourself to the queue to get help from a GSI or tutor! If you are in an online lab, please list your name, breakout room number, and purpose on your ticket!\n",
    "\n",
    "**Grading**: Here are the policies for getting full credit:\n",
    "\n",
    "1. You can either attend your assigned lab section, make progress substantial enough for your work to be checked off, and submit your lab (even if it is incomplete) by the end of the lab period.\n",
    "\n",
    "2. OR complete the lab on your own, submit the completed lab by **Wednesday July 27th at 11am**, and pass all autograder tests (100% of tests passed) to receive credit. \n",
    "\n",
    "**Submission**: Once you’re finished, run all cells besides the last one, select File > Save Notebook, and then execute the final cell. The result will contain a zip file that you can use to submit on Gradescope.\n",
    "\n",
    "Let's begin by setting up the tests and imports by running the cell below."
   ]
  },
  {
   "cell_type": "code",
   "execution_count": 1,
   "id": "eca88567",
   "metadata": {
    "execution": {
     "iopub.execute_input": "2022-07-26T06:16:40.159731Z",
     "iopub.status.busy": "2022-07-26T06:16:40.158890Z",
     "iopub.status.idle": "2022-07-26T06:16:41.459631Z",
     "shell.execute_reply": "2022-07-26T06:16:41.458721Z"
    }
   },
   "outputs": [],
   "source": [
    "# Run this cell to set up the notebook, but please don't change it.\n",
    "from datascience import *\n",
    "import numpy as np\n",
    "\n",
    "%matplotlib inline\n",
    "import matplotlib.pyplot as plots\n",
    "plots.style.use('fivethirtyeight')\n",
    "np.set_printoptions(legacy='1.13')\n",
    "\n",
    "import d8error"
   ]
  },
  {
   "cell_type": "markdown",
   "id": "16c1f228",
   "metadata": {},
   "source": [
    "In the following analysis, we'll examine the effect that hormone replacement therapy has on the risk of coronary heart disease for post-menopausal women using data from the Nurses' Heart Study."
   ]
  },
  {
   "cell_type": "markdown",
   "id": "c34d48d8",
   "metadata": {},
   "source": [
    "### The Nurses' Health Study\n",
    "The Nurses' Health Study (NHS) is another very large observational study which has brought many insights into women's health. It began in 1976, by Dr. Frank Speizer, with questionnaires that were mailed to 121,964 female registered nurses in the United States asking about their medical history, cholesterol and blood pressure, current medications, and so on (one of the benefits of studying nurses is their ability to give reliably accurate answers to these questions). \n",
    "\n",
    "The study's initial focus was on investigating the long-term health effects of oral contraceptives, whose use had become much more widespread in the U.S. during the 1960s, but the focus soon expanded to investigating a wide variety of questions on women's health. The NHS is still ongoing, and is now tracking its third generation of nurses in the US.\n",
    "\n",
    "**One of the most consequential early findings from the NHS was about hormone replacement therapy (HRT)**: supplementary estrogen and progesterone for post-menopausal women to relieve side effects of declining hormone levels due to menopause. The NHS found that HRT in post-menopausal women was negatively associated with heart attack risk. In other words, higher levels of HRT in post-menopausal women were associated with lower risk of heart attack. In a landmark 1985 paper in the *New England Journal of Medicine* (NEJM), Speizer and his coauthors wrote that **women on HRT are half as likely to suffer a heart attack over a certain time period.** [(Stampfer et al., 1985)](https://www.ncbi.nlm.nih.gov/pubmed/4047106) We'll define the term \"relative risk\" later in this section, and we'll also investigate the interpretation of these claims and their statistical basis."
   ]
  },
  {
   "cell_type": "markdown",
   "id": "0ebd7594",
   "metadata": {
    "deletable": false,
    "editable": false
   },
   "source": [
    "**Question 1.1:** Based on the passage above, which of the following statements can you infer about the Nurses' Health Study? Assign `nhs_true_statements` to an array of integer(s) corresponding to the statement(s) you believe are correct.\n",
    "\n",
    "1. Hormone replacement therapy is most commonly used by young women.\n",
    "2. Since only nurses were included in the study, there's a chance that confounding factors influence our dataset.\n",
    "3. The study found that estrogen and progesterone use had an association with CHD rates in post-menopausal women (CHD is a leading cause of heart attacks).\n",
    "4. The study uses data that was self-reported by nurses for the analysis.\n",
    "\n",
    "*Note:* If there’s a hash error, the answer is wrong.\n",
    "\n",
    "<!--\n",
    "BEGIN QUESTION\n",
    "name: q1_1\n",
    "-->"
   ]
  },
  {
   "cell_type": "code",
   "execution_count": 2,
   "id": "397044cf",
   "metadata": {
    "execution": {
     "iopub.execute_input": "2022-07-26T06:16:41.464374Z",
     "iopub.status.busy": "2022-07-26T06:16:41.463681Z",
     "iopub.status.idle": "2022-07-26T06:16:41.472636Z",
     "shell.execute_reply": "2022-07-26T06:16:41.471688Z"
    }
   },
   "outputs": [],
   "source": [
    "nhs_true_statements = ...\n",
    "nhs_true_statements"
   ]
  },
  {
   "cell_type": "code",
   "execution_count": null,
   "id": "be5152bd",
   "metadata": {
    "deletable": false,
    "editable": false
   },
   "outputs": [],
   "source": [
    "grader.check(\"q1_1\")"
   ]
  },
  {
   "cell_type": "markdown",
   "id": "cffe77bd",
   "metadata": {},
   "source": [
    "**The scientists running the NHS wanted to compare post-menopausal women who had taken HRT with post-menopausal women who had never taken HRT, excluding all women who were not post-menopausal or who had previously suffered a heart attack.** This study design complicates the analysis because it creates a variety of reasons why women might drop in and out of the relevant comparison groups. They sent out surveys in 1976, 1978, and 1980, so they could receive information at different timestamps and thus participants might \"change groups\" midway through. \n",
    "\n",
    "If you're interested, read more about the study [here](https://pubmed.ncbi.nlm.nih.gov/4047106/)."
   ]
  },
  {
   "cell_type": "markdown",
   "id": "55515e93",
   "metadata": {},
   "source": [
    "Because women could (and did) drop into and out of the comparison groups in the middle of the study, it is difficult to make a table like we usually would, with one row per participant. In medical studies, individuals are typically weighted by the *amount of time* that they enrolled in the study. A more convenient sampling unit is a **person-month at risk**, which is one month spent by a particular woman in one of the comparison groups, during which she might or might not suffer a heart attack. Here, \"at risk\" just means the woman is being tracked by the survey in either of the two comparison groups, so that if she had a heart attack it would be counted in our data set.\n",
    "\n",
    "**Example**: The table below tracks the histories of two hypothetical post-menopausal women in a six-month longitudinal study, who both enter the study in January 1978:\n",
    "1. Alice has never been on HRT. She has a heart attack in March and is excluded for the remainder of the study period. \n",
    "2. Beatrice begins taking HRT for the first time in April and stays healthy throughout the study period.\n",
    "\n",
    "| Name     | Month    | HRT | Heart Attack   |                                             \n",
    "|----------|----------|-----|----------------|\n",
    "| Alice    | Jan 1978 |  0  | 0              |\n",
    "| Alice    | Feb 1978 |  0  | 0              |\n",
    "| Alice    | Mar 1978 |  0  | 1              |\n",
    "| Beatrice | Jan 1978 |  0  | 0              | \n",
    "| Beatrice | Feb 1978 |  0  | 0              |\n",
    "| Beatrice | Mar 1978 |  0  | 0              |\n",
    "| Beatrice | Apr 1978 |  1  | 0              |\n",
    "| Beatrice | May 1978 |  1  | 0              |\n",
    "| Beatrice | Jun 1978 |  1  | 0              |\n",
    "\n"
   ]
  },
  {
   "cell_type": "markdown",
   "id": "e7baa78f",
   "metadata": {},
   "source": [
    "Incidence refers to the proportion of persons who develop a condition during a particular time period. Since we want to examine the risk of developing a heart attack, we can define the **incidence rate of a heart attack** as the probability that a heart attack will happen to a given at-risk person in a given time period. The NHS calculated its effects in terms of the **relative risk**, which is simply the incidence rate for *person-months* in the HRT (Group A) group divided by the incidence rate in the no-HRT (Group B) group.\n",
    "\n",
    "$$\\text{Relative Risk} = \\frac{\\text{Incidence Rate(Treatment Group)}}{\\text{Incidence Rate(Control Group)}}$$\n"
   ]
  },
  {
   "cell_type": "markdown",
   "id": "d40fbc27",
   "metadata": {
    "deletable": false,
    "editable": false
   },
   "source": [
    "**Question 1.2:** Complete the following statements, by setting the variable names to the value that correctly fills in the blank.\n",
    "\n",
    "If the incidence rate of the treatment group is greater than the incidence rate of the control group, the relative risk will be \\_\\_`blank_1a`\\_\\_ one. This means that individuals in the treatment group are at \\_\\_`blank_1b`\\_\\_ risk of having a heart attack compared to those in the control group.\n",
    "\n",
    "If the incidence rate of the treatment group is less than the incidence rate of the control group, the relative risk will be \\_\\_`blank_2a`\\_\\_ one. This means that individuals in the treatment group are at \\_\\_`blank_2b`\\_\\_ risk of having a heart attack compared to those in the control group.\n",
    "\n",
    "If the incidence rate of the treatment group is equal to the incidence rate of the control group, the relative risk will be \\_\\_`blank_3a`\\_\\_ one. This means that individuals in the treatment group are at \\_\\_`blank_3b`\\_\\_ risk of having a heart attack compared to those in the control group.\n",
    "\n",
    "`blank_1a`, `blank_2a`, `blank_3a` should be set to one of the following strings: \"less than\", \"equal to\", or \"greater than\"\n",
    "\n",
    "`blank_1b`, `blank_2b`, `blank_3b` should be set to one of the following strings: \"lower\", \"equal\", or \"higher\" \n",
    "\n",
    "<!--\n",
    "BEGIN QUESTION\n",
    "name: q1_2\n",
    "-->"
   ]
  },
  {
   "cell_type": "code",
   "execution_count": 4,
   "id": "63f2fd47",
   "metadata": {
    "execution": {
     "iopub.execute_input": "2022-07-26T06:16:41.486649Z",
     "iopub.status.busy": "2022-07-26T06:16:41.486296Z",
     "iopub.status.idle": "2022-07-26T06:16:41.491186Z",
     "shell.execute_reply": "2022-07-26T06:16:41.490380Z"
    }
   },
   "outputs": [],
   "source": [
    "blank_1a = ...\n",
    "blank_1b = ...\n",
    "blank_2a = ...\n",
    "blank_2b = ...\n",
    "blank_3a = ...\n",
    "blank_3b = ..."
   ]
  },
  {
   "cell_type": "code",
   "execution_count": null,
   "id": "28c950e0",
   "metadata": {
    "deletable": false,
    "editable": false
   },
   "outputs": [],
   "source": [
    "grader.check(\"q1_2\")"
   ]
  },
  {
   "cell_type": "markdown",
   "id": "eaa119d2",
   "metadata": {},
   "source": [
    "Most statistical methods that deal with this type of data assume that we can treat a table like the one above as though it is a sample of independent random draws from a much larger population of person-months at risk in each group. **We will take this assumption for granted throughout the rest of this section.**\n",
    "\n",
    "Instead of *person-months* at risk, the NHS used *person-years* at risk. It reported 51,478 total person-years at risk in the no-HRT group with 60 heart attacks occurring in total, as well as 54,309 person-years at risk in the HRT group with 30 heart attacks occurring in total. The table NHS below has one row for each person-year at risk. The two columns are 'HRT', recording whether it came from the HRT group (1) or no-HRT group (0), and 'Heart Attack', recording whether the participant had a heart attack that year (1 for yes, 0 for no)."
   ]
  },
  {
   "cell_type": "code",
   "execution_count": 7,
   "id": "3990bf94",
   "metadata": {
    "execution": {
     "iopub.execute_input": "2022-07-26T06:16:41.514085Z",
     "iopub.status.busy": "2022-07-26T06:16:41.513578Z",
     "iopub.status.idle": "2022-07-26T06:16:41.603909Z",
     "shell.execute_reply": "2022-07-26T06:16:41.602979Z"
    }
   },
   "outputs": [],
   "source": [
    "NHS = Table.read_table('NHS.csv')\n",
    "NHS.show(5)"
   ]
  },
  {
   "cell_type": "markdown",
   "id": "f896bb98",
   "metadata": {},
   "source": [
    "Using the NHS data, we can now conduct a hypothesis test to investigate the relationship between HRT and risk of CHD. As a reminder, the **incidence rate** is defined as the proportion of people who died in a specific group out of the total number who participated in the study from that group.\n",
    "\n",
    "We'll use the following null and alternative hypotheses and test statistic:\n",
    "\n",
    "**Null Hypothesis:** HRT *does not* affect the risk of CHD, and the true relative risk is equal to 1. Any deviation is due to random chance.\n",
    "\n",
    "**Alternative Hypothesis:** HRT *decreases* the risk of CHD, and the true relative risk is less than 1.\n",
    "\n",
    "**Test Statistic:** Relative risk of CHD between post-menopausal women receiving HRT and post-menopausal women not receiving HRT (the definition of relative risk is repeated here for your convenience):\n",
    "\n",
    "$$\\text{Relative Risk} = \\frac{\\text{Incidence Rate(Treatment Group)}}{\\text{Incidence Rate(Control Group)}}$$\n",
    "\n",
    "**Note:** Remember that we assume, under the null, that the two populations are derived from the same much larger population—under this assumption $\\text{Incidence Rate(Treatment Group)} = \\text{Incidence Rate(Control Group)}$. After simulation, we test this hypothesis by viewing the `relative_risk` for our simulated samples."
   ]
  },
  {
   "cell_type": "markdown",
   "id": "f1192f9d",
   "metadata": {
    "deletable": false,
    "editable": false
   },
   "source": [
    "**Question 1.3:** Fill in the missing code below to write a function called `relative_risk` that takes in a table with the column labels `HRT` and `Heart Attack`, and computes the sample relative risk as an estimate of the population relative risk. Do *not* round your answer.\n",
    "\n",
    "<!--\n",
    "BEGIN QUESTION\n",
    "name: q1_3\n",
    "-->"
   ]
  },
  {
   "cell_type": "code",
   "execution_count": 8,
   "id": "d61c5f9f",
   "metadata": {
    "execution": {
     "iopub.execute_input": "2022-07-26T06:16:41.607601Z",
     "iopub.status.busy": "2022-07-26T06:16:41.607369Z",
     "iopub.status.idle": "2022-07-26T06:16:44.170998Z",
     "shell.execute_reply": "2022-07-26T06:16:44.169928Z"
    }
   },
   "outputs": [],
   "source": [
    "def relative_risk(tbl):\n",
    "    \"\"\"Return the ratio of the incidence rates (events per person-year) for the two groups\"\"\"\n",
    "    ...\n",
    "    \n",
    "relative_risk(NHS)"
   ]
  },
  {
   "cell_type": "code",
   "execution_count": null,
   "id": "5ec80557",
   "metadata": {
    "deletable": false,
    "editable": false
   },
   "outputs": [],
   "source": [
    "grader.check(\"q1_3\")"
   ]
  },
  {
   "cell_type": "markdown",
   "id": "0b791d7f",
   "metadata": {
    "deletable": false,
    "editable": false
   },
   "source": [
    "**Question 1.4:** Fill in the function `one_bootstrap_rr` so that it **generates one bootstrap sample from the original NHS data and computes the relative risk**. Assign `bootstrap_rrs` to 15 estimates of the population relative risk.\n",
    "\n",
    "*Note:* We are only doing 15 estimates because the code is slow! The cell may take a few seconds to run.\n",
    "\n",
    "<!--\n",
    "BEGIN QUESTION\n",
    "name: q1_4\n",
    "-->"
   ]
  },
  {
   "cell_type": "code",
   "execution_count": 11,
   "id": "bc6a28aa",
   "metadata": {
    "execution": {
     "iopub.execute_input": "2022-07-26T06:16:50.969611Z",
     "iopub.status.busy": "2022-07-26T06:16:50.968965Z",
     "iopub.status.idle": "2022-07-26T06:17:26.936975Z",
     "shell.execute_reply": "2022-07-26T06:17:26.935562Z"
    }
   },
   "outputs": [],
   "source": [
    "def one_bootstrap_rr():\n",
    "    return ...\n",
    "\n",
    "bootstrap_rrs = ...\n",
    "for i in np.arange(...):\n",
    "    new_bootstrap_rr = ...\n",
    "    bootstrap_rrs = ..."
   ]
  },
  {
   "cell_type": "code",
   "execution_count": null,
   "id": "7fe16ed4",
   "metadata": {
    "deletable": false,
    "editable": false
   },
   "outputs": [],
   "source": [
    "grader.check(\"q1_4\")"
   ]
  },
  {
   "cell_type": "markdown",
   "id": "ac907684",
   "metadata": {
    "deletable": false,
    "editable": false
   },
   "source": [
    "**Question 1.5:** The file `bootstrap_rrs.csv` contains a one-column table with 2001 saved bootstrapped relative risks. Use these bootstrapped values to compute a 95% confidence interval, storing the left endpoint as `ci_left` and the right endpoint as `ci_right`. \n",
    "\n",
    "Note that our method isn't exactly the same as the method employed by the study authors to get their confidence interval.\n",
    "\n",
    "<!--\n",
    "BEGIN QUESTION\n",
    "name: q1_5\n",
    "-->"
   ]
  },
  {
   "cell_type": "code",
   "execution_count": 16,
   "id": "1577928c",
   "metadata": {
    "execution": {
     "iopub.execute_input": "2022-07-26T06:17:31.756113Z",
     "iopub.status.busy": "2022-07-26T06:17:31.755718Z",
     "iopub.status.idle": "2022-07-26T06:17:31.765403Z",
     "shell.execute_reply": "2022-07-26T06:17:31.764832Z"
    }
   },
   "outputs": [],
   "source": [
    "bootstrap_rrs_from_tbl = Table.read_table('bootstrap_rrs.csv').column(0)\n",
    "ci_left = ...\n",
    "ci_right = ...\n",
    "\n",
    "# Please don't change this line.\n",
    "print(\"Middle 95% of bootstrappped relative risks: [{:f}, {:f}]\".format(ci_left, ci_right))"
   ]
  },
  {
   "cell_type": "code",
   "execution_count": null,
   "id": "44d6e012",
   "metadata": {
    "deletable": false,
    "editable": false
   },
   "outputs": [],
   "source": [
    "grader.check(\"q1_5\")"
   ]
  },
  {
   "cell_type": "markdown",
   "id": "d3eacdb8",
   "metadata": {},
   "source": [
    "The code below plots the confidence interval on top of the bootstrap histogram."
   ]
  },
  {
   "cell_type": "code",
   "execution_count": 19,
   "id": "0e814cdf",
   "metadata": {
    "execution": {
     "iopub.execute_input": "2022-07-26T06:17:31.781748Z",
     "iopub.status.busy": "2022-07-26T06:17:31.781212Z",
     "iopub.status.idle": "2022-07-26T06:17:32.038493Z",
     "shell.execute_reply": "2022-07-26T06:17:32.037714Z"
    }
   },
   "outputs": [],
   "source": [
    "# Just run this cell\n",
    "Table().with_column(\"Relative Risks\", bootstrap_rrs_from_tbl).hist()\n",
    "plots.plot([ci_left, ci_right], [.05,.05], color=\"gold\");"
   ]
  },
  {
   "cell_type": "markdown",
   "id": "878046cd",
   "metadata": {
    "deletable": false,
    "editable": false
   },
   "source": [
    "**Question 1.6:** The following text is an excerpt from the abstract of the original 1985 paper. \n",
    "> As compared with the risk in women who had never used postmenopausal hormones, the age-adjusted relative risk of coronary disease in those who had ever used them was 0.5 (95 per cent confidence limits, 0.3 and 0.8; P = 0.007)... These data support the hypothesis that the postmenopausal use of estrogen reduces the risk of severe coronary heart disease. [(Stampfer et al., 1985)](https://www.ncbi.nlm.nih.gov/pubmed/4047106)\n",
    "\n",
    "The authors give a 95% confidence interval of [0.3, 0.8] for the relative risk. Which of the following statements can be justified based on that confidence interval? Assign `ci_statements` to an array of integer(s) corresponding to the statement(s) you believe are correct.\n",
    "\n",
    "1. There is a 95% chance the relative risk is between 0.3 and 0.8.\n",
    "2. If we used a P-value cutoff of 5%, we would reject the null hypothesis that HRT does not affect the risk of CHD.\n",
    "3. If we redo the procedure that generated the interval [0.3, 0.8] on a fresh sample of the same size, there is a 95% chance it will include the true relative risk.\n",
    "4. There is between a 30% and 80% chance that any woman will suffer a heart attack during the study period.\n",
    "\n",
    "<!--\n",
    "BEGIN QUESTION\n",
    "name: q1_6\n",
    "-->"
   ]
  },
  {
   "cell_type": "code",
   "execution_count": 20,
   "id": "20d23558",
   "metadata": {
    "execution": {
     "iopub.execute_input": "2022-07-26T06:17:32.042256Z",
     "iopub.status.busy": "2022-07-26T06:17:32.041628Z",
     "iopub.status.idle": "2022-07-26T06:17:32.045891Z",
     "shell.execute_reply": "2022-07-26T06:17:32.045084Z"
    }
   },
   "outputs": [],
   "source": [
    "ci_statements = ..."
   ]
  },
  {
   "cell_type": "code",
   "execution_count": null,
   "id": "d53c74b9",
   "metadata": {
    "deletable": false,
    "editable": false
   },
   "outputs": [],
   "source": [
    "grader.check(\"q1_6\")"
   ]
  },
  {
   "cell_type": "markdown",
   "id": "0f845218",
   "metadata": {
    "deletable": false,
    "editable": false
   },
   "source": [
    "**Question 1.7:** What can you conclude from this test? Was hormone replacement therapy associated with an increased or decreased risk of heart attacks? Can we say that HRT caused an change in the risk of heart attacks? Explain your reasoning in 2-4 sentences. Discuss with your peers or ask a staff member.\n",
    "\n",
    "*Hint*: Refer back to Question 1.2 for the definition and interpretations of relative risk.\n",
    "\n",
    "<!--\n",
    "BEGIN QUESTION\n",
    "name: q1_7\n",
    "-->"
   ]
  },
  {
   "cell_type": "markdown",
   "id": "c021786a",
   "metadata": {},
   "source": [
    "_Type your answer here, replacing this text._"
   ]
  },
  {
   "cell_type": "markdown",
   "id": "fc9f1335",
   "metadata": {},
   "source": [
    "Partly as a result of evidence from the NHS and other observational studies that drew similar conclusions, HRT drugs became a very popular preventive treatment for doctors to prescribe to post-menopausal woman. Even though there were known or suspected risks to the treatment (such as increasing the risk of invasive breast cancer), it was thought that the reduction in heart disease risk was well worth it.\n",
    "\n",
    "However, a later study, the [Heart and Estrogen-Progestin Replacement Study](https://jamanetwork.com/journals/jama/fullarticle/187879), found that HRT did **not** have a significant impact on a woman's risk of CHD. These findings contradicted the results of the Nurses' Heart study, challenging the efficacy of a treatment that had become the standard of care for heart disease prevention. The HERS study authors put forward a possible answer regarding why the NHS study might be biased:\n",
    "> The observed association between estrogen therapy and reduced CHD risk might be attributable to selection bias if women who choose to take hormones are healthier and have a more favorable CHD profile than those who do not. Observational studies cannot resolve this uncertainty.\n",
    "\n",
    "**Selection bias** occurs in observational studies when there is a systematic difference between participants that receive a treatment and participants that do not receive a treatment. When this type of bias is present, the observed treatment effect might be a result of an unmeasured confounding variable."
   ]
  },
  {
   "cell_type": "markdown",
   "id": "7942599c",
   "metadata": {
    "deletable": false,
    "editable": false
   },
   "source": [
    "**Question 1.8**: If women who choose to take hormones are healthier to begin with than women who choose not to, why might that systematically bias the results of observational studies like the NHS? Would we expect observational studies to overestimate or underestimate the protective effect of HRT? Discuss with your peers or ask a staff member.\n",
    "\n",
    "<!--\n",
    "BEGIN QUESTION\n",
    "name: q1_8\n",
    "-->"
   ]
  },
  {
   "cell_type": "markdown",
   "id": "a5676736",
   "metadata": {},
   "source": [
    "_Type your answer here, replacing this text._"
   ]
  },
  {
   "cell_type": "markdown",
   "id": "45e77f17",
   "metadata": {},
   "source": [
    "### Further reading\n",
    "\n",
    "If you're interested in learning more, you can check out these articles:\n",
    "\n",
    "* [Origin story of the Framingham Heart Study](https://www.ncbi.nlm.nih.gov/pmc/articles/PMC1449227/)\n",
    "* [NYT article on the Nurses' Health Study and the HERS study](https://www.nytimes.com/2003/04/22/science/hormone-studies-what-went-wrong.html)"
   ]
  },
  {
   "cell_type": "markdown",
   "id": "35271902",
   "metadata": {},
   "source": [
    "You're done with Lab 9!\n",
    "\n",
    "**Important submission information:** Be sure to run all the tests and verify that they all pass, then choose **Save** from the **File** menu, then **run the final cell** and click the link to download the zip file. Then, go to [Gradescope](https://www.gradescope.com/courses/397747) and submit the zip file to the corresponding assignment. The name of this assignment is \"Lab 09 Autograder\". **It is your responsibility to make sure your work is saved before running the last cell.**"
   ]
  },
  {
   "cell_type": "markdown",
   "id": "2015ad2c",
   "metadata": {
    "deletable": false,
    "editable": false
   },
   "source": [
    "---\n",
    "\n",
    "To double-check your work, the cell below will rerun all of the autograder tests."
   ]
  },
  {
   "cell_type": "code",
   "execution_count": null,
   "id": "67865fe0",
   "metadata": {
    "deletable": false,
    "editable": false
   },
   "outputs": [],
   "source": [
    "grader.check_all()"
   ]
  },
  {
   "cell_type": "markdown",
   "id": "49e88433",
   "metadata": {
    "deletable": false,
    "editable": false
   },
   "source": [
    "## Submission\n",
    "\n",
    "Make sure you have run all cells in your notebook in order before running the cell below, so that all images/graphs appear in the output. The cell below will generate a zip file for you to submit. **Please save before exporting!**"
   ]
  },
  {
   "cell_type": "code",
   "execution_count": null,
   "id": "52743c51",
   "metadata": {
    "deletable": false,
    "editable": false
   },
   "outputs": [],
   "source": [
    "# Save your notebook first, then run this cell to export your submission.\n",
    "grader.export(pdf=False)"
   ]
  },
  {
   "cell_type": "markdown",
   "id": "70e9024c",
   "metadata": {},
   "source": [
    " "
   ]
  }
 ],
 "metadata": {
  "kernelspec": {
   "display_name": "Python 3",
   "language": "python",
   "name": "python3"
  },
  "language_info": {
   "codemirror_mode": {
    "name": "ipython",
    "version": 3
   },
   "file_extension": ".py",
   "mimetype": "text/x-python",
   "name": "python",
   "nbconvert_exporter": "python",
   "pygments_lexer": "ipython3",
   "version": "3.9.12"
  }
 },
 "nbformat": 4,
 "nbformat_minor": 5
}
