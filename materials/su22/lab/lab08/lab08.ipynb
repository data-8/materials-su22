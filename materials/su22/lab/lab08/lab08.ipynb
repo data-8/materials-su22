{
 "cells": [
  {
   "cell_type": "code",
   "execution_count": null,
   "id": "bfd02c1a",
   "metadata": {
    "deletable": false,
    "editable": false
   },
   "outputs": [],
   "source": [
    "# Initialize Otter\n",
    "import otter\n",
    "grader = otter.Notebook(\"lab08.ipynb\")"
   ]
  },
  {
   "cell_type": "markdown",
   "id": "84c0727f",
   "metadata": {},
   "source": [
    "# Lab 8: Confidence Interval Part 1\n",
    "\n",
    "Welcome to Lab 8!  This week, we will investigate one of the the major causes of death in the world: cardiovascular disease. The [Python Reference](http://data8.org/su22/python-reference.html) has information that will be useful for this lab.\n",
    "\n",
    "**Lab Queue**: You can find the Lab Queue at [lab.data8.org](https://lab.data8.org/). Whenever you feel stuck or need some further clarification, add yourself to the queue to get help from a GSI or tutor! If you are in an online lab, please list your name, breakout room number, and purpose on your ticket!\n",
    "\n",
    "**Grading**: Here are the policies for getting full credit:\n",
    "\n",
    "1. You can either attend your assigned lab section, make progress substantial enough for your work to be checked off, and submit your lab (even if it is incomplete) by the end of the lab period.\n",
    "\n",
    "2. OR complete the lab on your own, submit the completed lab by **Monday July 25th at 11am**, and pass all autograder tests (100% of tests passed) to receive credit. \n",
    "\n",
    "**Submission**: Once you’re finished, run all cells besides the last one, select File > Save Notebook, and then execute the final cell. The result will contain a zip file that you can use to submit on Gradescope.\n",
    "\n",
    "Let's begin by setting up the tests and imports by running the cell below."
   ]
  },
  {
   "cell_type": "code",
   "execution_count": 1,
   "id": "d47aae4a",
   "metadata": {
    "execution": {
     "iopub.execute_input": "2022-07-23T20:07:35.050407Z",
     "iopub.status.busy": "2022-07-23T20:07:35.049783Z",
     "iopub.status.idle": "2022-07-23T20:07:36.357300Z",
     "shell.execute_reply": "2022-07-23T20:07:36.356626Z"
    }
   },
   "outputs": [],
   "source": [
    "# Run this cell to set up the notebook, but please don't change it.\n",
    "from datascience import *\n",
    "import numpy as np\n",
    "\n",
    "%matplotlib inline\n",
    "import matplotlib.pyplot as plots\n",
    "plots.style.use('fivethirtyeight')\n",
    "np.set_printoptions(legacy='1.13')\n",
    "\n",
    "import d8error"
   ]
  },
  {
   "cell_type": "markdown",
   "id": "30a15e2c",
   "metadata": {},
   "source": [
    "In the following analysis, we will investigate one of the leading causes of death in the world: Cardiovascular Disease. Your investigation will take you across decades of medical research, and you'll look at multiple causes and effects across four different studies."
   ]
  },
  {
   "cell_type": "markdown",
   "id": "f718caa1",
   "metadata": {},
   "source": [
    "Here is a roadmap for this lab:\n",
    "\n",
    "* In Part 1, we'll investigate the major causes of death in the world during the past century (from 1900 to 2015).\n",
    "* In Part 2, we'll look at data from the Framingham Heart Study, an observational study into cardiovascular health."
   ]
  },
  {
   "cell_type": "markdown",
   "id": "b7e2e82c",
   "metadata": {},
   "source": [
    "## Part 1: Causes of Death "
   ]
  },
  {
   "cell_type": "markdown",
   "id": "a2c9e822",
   "metadata": {},
   "source": [
    "In order to get a better idea of how we can most effectively prevent deaths, we need to first figure out what the major causes of death are. Run the following cell to read in and view the `causes_of_death` table, which documents the death rate for major causes of deaths over the last century (1900 until 2015).\n",
    "\n",
    "If you're interested, here is the [original dataset](https://www.cdc.gov/nchs/products/databriefs/db355.htm)! The age adjusted rate is the number of deaths per 100,000 population. "
   ]
  },
  {
   "cell_type": "code",
   "execution_count": 2,
   "id": "618d84e2",
   "metadata": {
    "execution": {
     "iopub.execute_input": "2022-07-23T20:07:36.361350Z",
     "iopub.status.busy": "2022-07-23T20:07:36.360778Z",
     "iopub.status.idle": "2022-07-23T20:07:36.370952Z",
     "shell.execute_reply": "2022-07-23T20:07:36.370296Z"
    },
    "scrolled": true
   },
   "outputs": [],
   "source": [
    "causes_of_death = Table.read_table('causes_of_death.csv')\n",
    "causes_of_death.show(5)"
   ]
  },
  {
   "cell_type": "markdown",
   "id": "4a80aad7",
   "metadata": {},
   "source": [
    "Each entry in the column **Age Adjusted Death Rate** is a death rate for a specific **Year** and **Cause** of death. \n",
    "\n",
    "If we look at unadjusted data, the age distributions of each sample will influence death rates. In an older population, we would expect death rates to be higher for all causes since old age is associated with higher risk of death. To compare death rates without worrying about differences in the demographics of our populations, we adjust the data for age.\n",
    "\n",
    "The **Age Adjusted** specification in the death rate column tells us that the values shown are the death rates that would have existed if the population under study in a specific year had the same age distribution as the \"standard\" population, a baseline. \n",
    "\n",
    "You aren't responsible for knowing how to do this adjustment, but should understand why we adjust for age and what the consequences of working with unadjusted data would be. "
   ]
  },
  {
   "cell_type": "markdown",
   "id": "dc029c8b",
   "metadata": {
    "deletable": false,
    "editable": false
   },
   "source": [
    "**Question 1.1:** What are all the different causes of death in this dataset? Assign `unique_causes` to an array of all the unique causes of death. \n",
    "\n",
    "*Hint:* You should use table methods to determine your solution. Do not hard-code your solution.\n",
    "\n",
    "\n",
    "<!--\n",
    "BEGIN QUESTION\n",
    "name: q1_1\n",
    "-->"
   ]
  },
  {
   "cell_type": "code",
   "execution_count": 3,
   "id": "ca9080e6",
   "metadata": {
    "deletable": false,
    "execution": {
     "iopub.execute_input": "2022-07-23T20:07:36.373953Z",
     "iopub.status.busy": "2022-07-23T20:07:36.373496Z",
     "iopub.status.idle": "2022-07-23T20:07:36.396185Z",
     "shell.execute_reply": "2022-07-23T20:07:36.395577Z"
    },
    "manual_problem_id": "part_1_unique_causes"
   },
   "outputs": [],
   "source": [
    "unique_causes = ...\n",
    "sorted(unique_causes)"
   ]
  },
  {
   "cell_type": "code",
   "execution_count": null,
   "id": "cf1a242b",
   "metadata": {
    "deletable": false,
    "editable": false
   },
   "outputs": [],
   "source": [
    "grader.check(\"q1_1\")"
   ]
  },
  {
   "cell_type": "markdown",
   "id": "0cff65b3",
   "metadata": {
    "deletable": false,
    "editable": false
   },
   "source": [
    "**Question 1.2:** We would like to plot the death rate for each disease over time. To do so, we must create a table with one column for each cause and one row for each year.\n",
    "\n",
    "Create a table called `causes_for_plotting`. It should have one column called `Year`, and then a column with age-adjusted death rates for each of the causes you found in Question 1. There should be as many of these columns in `causes_for_plotting` as there are causes in Question 1.\n",
    "\n",
    "*Hint*: Use `pivot`, and think about how the `first` function might be useful in getting the **Age Adjusted Death Rate** for each cause and year combination.\n",
    "\n",
    "<!--\n",
    "BEGIN QUESTION\n",
    "name: q1_2\n",
    "-->"
   ]
  },
  {
   "cell_type": "code",
   "execution_count": 6,
   "id": "70aef0bd",
   "metadata": {
    "deletable": false,
    "execution": {
     "iopub.execute_input": "2022-07-23T20:07:36.412829Z",
     "iopub.status.busy": "2022-07-23T20:07:36.412253Z",
     "iopub.status.idle": "2022-07-23T20:07:36.474488Z",
     "shell.execute_reply": "2022-07-23T20:07:36.473956Z"
    }
   },
   "outputs": [],
   "source": [
    "# This function may be useful.\n",
    "def first(x):\n",
    "    return x.item(0)\n",
    "\n",
    "causes_for_plotting = ...\n",
    "causes_for_plotting.show(5)"
   ]
  },
  {
   "cell_type": "code",
   "execution_count": null,
   "id": "f368e976",
   "metadata": {
    "deletable": false,
    "editable": false
   },
   "outputs": [],
   "source": [
    "grader.check(\"q1_2\")"
   ]
  },
  {
   "cell_type": "markdown",
   "id": "e45ba5be",
   "metadata": {},
   "source": [
    "Let's take a look at how age-adjusted death rates have changed across different causes over time. Run the cell below to compare Heart Disease (a chronic disease) and Influenza and Pneumonia (infectious diseases)."
   ]
  },
  {
   "cell_type": "code",
   "execution_count": 11,
   "id": "2d11c753",
   "metadata": {
    "execution": {
     "iopub.execute_input": "2022-07-23T20:07:36.503379Z",
     "iopub.status.busy": "2022-07-23T20:07:36.502801Z",
     "iopub.status.idle": "2022-07-23T20:07:36.896826Z",
     "shell.execute_reply": "2022-07-23T20:07:36.895990Z"
    }
   },
   "outputs": [],
   "source": [
    "causes_for_plotting.select('Year', \"Heart Disease\", \"Influenza and Pneumonia\").plot('Year')"
   ]
  },
  {
   "cell_type": "markdown",
   "id": "a2552b1f",
   "metadata": {},
   "source": [
    "Beginning in 1900 and continuing until 1950, we observe that death rates for Influenza and Pneumonia decrease while death rates for Heart Disease increase. This phenomenon is known as the epidemiological transition: in developed countries, the severity of infectious disease has decreased, but chronic disease has become more widespread. Coronary heart disease (CHD) is one of the most deadly chronic diseases that has emerged in the past century, and more healthcare resources have been invested to studying it.\n",
    "\n",
    "Run the cell below to see what a plot of the data would have looked like had you been living in 1950. CHD was the leading cause of death and had killed millions of people without warning. It had become twice as lethal in just a few decades and people didn't understand why this was happening."
   ]
  },
  {
   "cell_type": "code",
   "execution_count": 12,
   "id": "785591c8",
   "metadata": {
    "execution": {
     "iopub.execute_input": "2022-07-23T20:07:36.900130Z",
     "iopub.status.busy": "2022-07-23T20:07:36.899557Z",
     "iopub.status.idle": "2022-07-23T20:07:37.201412Z",
     "shell.execute_reply": "2022-07-23T20:07:37.200597Z"
    }
   },
   "outputs": [],
   "source": [
    "# Do not change this line\n",
    "causes_for_plotting.where('Year', are.below_or_equal_to(1950)).plot('Year')"
   ]
  },
  {
   "cell_type": "markdown",
   "id": "ed8a62db",
   "metadata": {},
   "source": [
    "The view from 2016 looks a lot less scary, however, since we know it eventually went down. The decline in CHD deaths is one of the greatest public health triumphs of the last half century. That decline represents many millions of saved lives, and it was not inevitable. The Framingham Heart Study, in particular, was the first to discover the associations between heart disease and risk factors like smoking, high cholesterol, high blood pressure, obesity, and lack of exercise."
   ]
  },
  {
   "cell_type": "code",
   "execution_count": 13,
   "id": "65e8f2ce",
   "metadata": {
    "execution": {
     "iopub.execute_input": "2022-07-23T20:07:37.205729Z",
     "iopub.status.busy": "2022-07-23T20:07:37.205182Z",
     "iopub.status.idle": "2022-07-23T20:07:37.516401Z",
     "shell.execute_reply": "2022-07-23T20:07:37.515682Z"
    },
    "for_assignment_type": "solution"
   },
   "outputs": [],
   "source": [
    "# Do not change this line\n",
    "causes_for_plotting.plot('Year')"
   ]
  },
  {
   "cell_type": "markdown",
   "id": "ceff6307",
   "metadata": {},
   "source": [
    "Let's examine the graph above. You'll see that in the 1960s, the death rate due to heart disease steadily declines. Up until then, the effects of smoking, blood pressure, and diet on the cardiovascular system were unknown to researchers. Once these factors started to be noticed, doctors were able recommend a lifestyle change for at-risk patients to prevent heart attacks and heart problems.\n",
    "\n",
    "Note, however, that the death rate for heart disease is still higher than the death rates of most other causes. Even though the death rate is starkly decreasing, there's still a lot we don't understand about the causes (both direct and indirect) of heart disease."
   ]
  },
  {
   "cell_type": "markdown",
   "id": "e131d4b4",
   "metadata": {},
   "source": [
    "## Part 2: The Framingham Heart Study"
   ]
  },
  {
   "cell_type": "markdown",
   "id": "73b07393",
   "metadata": {},
   "source": [
    "The [Framingham Heart Study](https://en.wikipedia.org/wiki/Framingham_Heart_Study) is an observational study of cardiovascular health. The initial study followed over 5,000 volunteers from  Framingham, Massachusetts for several decades, and followup studies even looked at their descendants. In this part of the project, we'll investigate some of the study's key findings about cholesterol and heart disease.\n",
    "\n",
    "Run the cell below to examine data for 3,842 subjects from the first wave of the study, collected in 1956."
   ]
  },
  {
   "cell_type": "code",
   "execution_count": 14,
   "id": "beab6377",
   "metadata": {
    "execution": {
     "iopub.execute_input": "2022-07-23T20:07:37.520079Z",
     "iopub.status.busy": "2022-07-23T20:07:37.519444Z",
     "iopub.status.idle": "2022-07-23T20:07:37.544275Z",
     "shell.execute_reply": "2022-07-23T20:07:37.543635Z"
    }
   },
   "outputs": [],
   "source": [
    "framingham = Table.read_table('framingham.csv')\n",
    "framingham"
   ]
  },
  {
   "cell_type": "markdown",
   "id": "63a1c78c",
   "metadata": {},
   "source": [
    "Each row contains data from one subject. The first seven columns describe the subject at the time of their initial medical exam at the start of the study. The last column, `ANYCHD`, tells us whether the subject developed some form of heart disease at any point after the start of the study; a value of 1 indicates that they **did** develop heart disease and a value of 0 indicates that they **did not** develop heart disease.\n",
    "\n",
    "You may have noticed that the table contains fewer rows than subjects in the original study -- we are excluding subjects who already had heart disease or had missing data."
   ]
  },
  {
   "cell_type": "markdown",
   "id": "2d2036e5",
   "metadata": {},
   "source": [
    "### Part 2, Section 1: Diabetes and the Population"
   ]
  },
  {
   "cell_type": "markdown",
   "id": "7a62829a",
   "metadata": {},
   "source": [
    "Before we begin our investigation of cholesterol, we'll first look at some limitations of this dataset. In particular, we will investigate ways in which this is or isn't a representative sample of the population by examining the number of subjects with diabetes.\n",
    "\n",
    "[According to the CDC](https://www.cdc.gov/diabetes/statistics/slides/long_term_trends.pdf), the **prevalence of diagnosed diabetes (i.e., the proportion of the population who have it) in the U.S. around this time was 0.0093.** We are going to conduct a hypothesis test with the following null and alternative hypotheses:\n",
    "\n",
    "**Null Hypothesis**: The probability that a participant within the Framingham Study has diabetes is *equivalent* to the prevalence of diagnosed diabetes within the population. (i.e., any difference is due to chance).\n",
    "\n",
    "**Alternative Hypothesis**: The probability that a participant within the Framingham Study has diabetes is *different* from the prevalence of diagnosed diabetes within the population."
   ]
  },
  {
   "cell_type": "markdown",
   "id": "d7c28dd2",
   "metadata": {},
   "source": [
    "**Sanity Check!** What type of test are we running? Confirm your understanding with a peer!"
   ]
  },
  {
   "cell_type": "markdown",
   "id": "11184acb",
   "metadata": {
    "deletable": false,
    "editable": false
   },
   "source": [
    "We are going to use the absolute distance between the **observed prevalence** in the study and the **true population prevalence** as our test statistic. The column `DIABETES` in the `framingham` table contains a 1 for subjects with diabetes and a `0` for those without.\n",
    "\n",
    "**Question 2.1.1:** What is the observed value of the test statistic in the data from the Framingham Study? Assign `observed_diabetes_distance` to this value. \n",
    "\n",
    "*Hint 1*: You should perform your calculations based on the 3,842 subjects in the `framingham` table, not the 5,000 original study participants.\n",
    "\n",
    "*Hint 2:* Recall that prevalence is defined as the proportion of the population who have a disease.\n",
    "\n",
    "<!--\n",
    "BEGIN QUESTION\n",
    "name: q2_1_1\n",
    "-->"
   ]
  },
  {
   "cell_type": "code",
   "execution_count": 15,
   "id": "5e4519e4",
   "metadata": {
    "execution": {
     "iopub.execute_input": "2022-07-23T20:07:37.547460Z",
     "iopub.status.busy": "2022-07-23T20:07:37.546975Z",
     "iopub.status.idle": "2022-07-23T20:07:37.552168Z",
     "shell.execute_reply": "2022-07-23T20:07:37.551565Z"
    },
    "for_assignment_type": "solution"
   },
   "outputs": [],
   "source": [
    "true_population_prevalence = ...\n",
    "observed_diabetes_distance = ...\n",
    "observed_diabetes_distance"
   ]
  },
  {
   "cell_type": "code",
   "execution_count": null,
   "id": "45d43045",
   "metadata": {
    "deletable": false,
    "editable": false
   },
   "outputs": [],
   "source": [
    "grader.check(\"q2_1_1\")"
   ]
  },
  {
   "cell_type": "markdown",
   "id": "8084a53c",
   "metadata": {
    "deletable": false,
    "editable": false
   },
   "source": [
    "**Question 2.1.2:** Define the function `diabetes_test_statistic` which should return exactly one simulated statistic of the absolute distance between the observed prevalence and the true population prevalence under the null hypothesis. Make sure that your simulated sample is the same size as your original sample.\n",
    "\n",
    "*Hint 1:* The array `diabetes_proportions` contains the proportions of the population without and with diabetes, respectively.\n",
    "\n",
    "*Hint 2*: Recall that prevalence is defined as the proportion of the population who have a disease.\n",
    "\n",
    "\n",
    "<!--\n",
    "BEGIN QUESTION\n",
    "name: q2_1_2\n",
    "-->"
   ]
  },
  {
   "cell_type": "code",
   "execution_count": 17,
   "id": "c2a8e997",
   "metadata": {
    "execution": {
     "iopub.execute_input": "2022-07-23T20:07:37.561773Z",
     "iopub.status.busy": "2022-07-23T20:07:37.561199Z",
     "iopub.status.idle": "2022-07-23T20:07:37.565013Z",
     "shell.execute_reply": "2022-07-23T20:07:37.564494Z"
    }
   },
   "outputs": [],
   "source": [
    "diabetes_proportions = make_array(.9907, .0093)\n",
    "\n",
    "def diabetes_test_statistic():\n",
    "    ..."
   ]
  },
  {
   "cell_type": "code",
   "execution_count": null,
   "id": "4a9d6b03",
   "metadata": {
    "deletable": false,
    "editable": false
   },
   "outputs": [],
   "source": [
    "grader.check(\"q2_1_2\")"
   ]
  },
  {
   "cell_type": "markdown",
   "id": "2df4f6bd",
   "metadata": {
    "deletable": false,
    "editable": false
   },
   "source": [
    "**Question 2.1.3:**  Complete the following code to simulate 5,000 values of the statistic under the null hypothesis.\n",
    "\n",
    "<!--\n",
    "BEGIN QUESTION\n",
    "name: q2_1_3\n",
    "-->"
   ]
  },
  {
   "cell_type": "code",
   "execution_count": 20,
   "id": "5060af95",
   "metadata": {
    "execution": {
     "iopub.execute_input": "2022-07-23T20:07:37.581757Z",
     "iopub.status.busy": "2022-07-23T20:07:37.581295Z",
     "iopub.status.idle": "2022-07-23T20:07:37.667628Z",
     "shell.execute_reply": "2022-07-23T20:07:37.667112Z"
    },
    "for_assignment_type": "solution"
   },
   "outputs": [],
   "source": [
    "diabetes_simulated_stats = make_array()\n",
    "\n",
    "for i in np.arange(5000): \n",
    "    ...\n",
    "    \n",
    "diabetes_simulated_stats"
   ]
  },
  {
   "cell_type": "code",
   "execution_count": null,
   "id": "67afb787",
   "metadata": {
    "deletable": false,
    "editable": false
   },
   "outputs": [],
   "source": [
    "grader.check(\"q2_1_3\")"
   ]
  },
  {
   "cell_type": "markdown",
   "id": "c44fdf84",
   "metadata": {
    "deletable": false,
    "editable": false
   },
   "source": [
    "**Question 2.1.4:** Run the following cell to generate a histogram of the simulated values of your statistic, along with the observed value.\n",
    "\n",
    "*If you're not sure if your histogram is correct, think about how we're generating the sample statistics under the null, and what those statistics will look like*\n",
    "\n",
    "<!--\n",
    "BEGIN QUESTION\n",
    "name: q2_1_4\n",
    "-->"
   ]
  },
  {
   "cell_type": "code",
   "execution_count": 23,
   "id": "7433257e",
   "metadata": {
    "execution": {
     "iopub.execute_input": "2022-07-23T20:07:37.684103Z",
     "iopub.status.busy": "2022-07-23T20:07:37.683604Z",
     "iopub.status.idle": "2022-07-23T20:07:37.948112Z",
     "shell.execute_reply": "2022-07-23T20:07:37.947425Z"
    },
    "scrolled": true
   },
   "outputs": [],
   "source": [
    "# Don't be alarmed if the value your red dot is on doesn't match with the numerical value\n",
    "# of your observed_diabetes_distance. If you get a warning, you can ignore it. \n",
    "Table().with_column('Simulated distance to true prevalence', diabetes_simulated_stats).hist()\n",
    "plots.scatter(observed_diabetes_distance, 0, color='red')\n",
    "plots.ylim(-10, 550);"
   ]
  },
  {
   "cell_type": "markdown",
   "id": "46d4ff43",
   "metadata": {
    "deletable": false,
    "editable": false
   },
   "source": [
    "**Question 2.1.5:** Based on *just* the histogram above, should you reject the null hypothesis? Discuss with your peers or ask a staff member.\n",
    "\n",
    "<!--\n",
    "BEGIN QUESTION\n",
    "name: q2_1_5\n",
    "-->"
   ]
  },
  {
   "cell_type": "markdown",
   "id": "32b2624f",
   "metadata": {},
   "source": [
    "_Type your answer here, replacing this text._"
   ]
  },
  {
   "cell_type": "markdown",
   "id": "e8fddb2b",
   "metadata": {
    "deletable": false,
    "editable": false
   },
   "source": [
    "**Question 2.1.6:** Why might there be a difference between the population and the sample from the Framingham Study? Which of the following statements, *if true*, would explain the higher diabetes prevalence in the Framingham population?\n",
    "\n",
    "Assign `framingham_explanations` to an array of integer(s) corresponding to the explanation(s), if true, that **are consistent** with the trends we observe in the data and our hypothesis test results. \n",
    "\n",
    "1. The Framingham participants were relatively wealthy, and thus ate a luxurious diet high in sugar. High-sugar diets are a known cause of diabetes.\n",
    "2. Diabetes was under-diagnosed in the population (i.e., there were a lot of people in the population who had diabetes but weren't diagnosed). By contrast, the Framingham participants were less likely to go undiagnosed because they had regular medical examinations as part of the study.\n",
    "3. The Framingham Study subjects were older on average than the general population, and therefore more likely to have diabetes.\n",
    "\n",
    "<!--\n",
    "BEGIN QUESTION\n",
    "name: q2_1_6\n",
    "-->"
   ]
  },
  {
   "cell_type": "code",
   "execution_count": 24,
   "id": "33b09601",
   "metadata": {
    "deletable": false,
    "execution": {
     "iopub.execute_input": "2022-07-23T20:07:37.951422Z",
     "iopub.status.busy": "2022-07-23T20:07:37.950834Z",
     "iopub.status.idle": "2022-07-23T20:07:37.955436Z",
     "shell.execute_reply": "2022-07-23T20:07:37.954917Z"
    },
    "manual_problem_id": "part_2_explanations"
   },
   "outputs": [],
   "source": [
    "framingham_explanations = ...\n",
    "framingham_explanations"
   ]
  },
  {
   "cell_type": "code",
   "execution_count": null,
   "id": "71c3b1f4",
   "metadata": {
    "deletable": false,
    "editable": false
   },
   "outputs": [],
   "source": [
    "grader.check(\"q2_1_6\")"
   ]
  },
  {
   "cell_type": "markdown",
   "id": "16e43753",
   "metadata": {},
   "source": [
    "In real-world studies, getting a truly representative random sample of the population is often incredibly difficult. Even just to accurately represent all Americans, a truly random sample would need to examine people across geographical, socioeconomic, community, and class lines (just to name a few). For a study like this, scientists would also need to make sure the medical exams were standardized and consistent across the different people being examined. In other words, there's a tradeoff between taking a more representative random sample and the cost of collecting more information from each person in the sample.\n",
    "\n",
    "The Framingham study collected high-quality medical data from its subjects, even if the subjects may not be a perfect representation of the population of all Americans. This is a common issue that data scientists face: while the available data aren't perfect, they're the best we have. The Framingham study is generally considered the best in its class, so we'll continue working with it while keeping its limitations in mind.\n",
    "\n",
    "(For more on representation in medical study samples, you can read these articles from [NPR](https://www.npr.org/sections/health-shots/2015/12/16/459666750/clinical-trials-still-dont-reflect-the-diversity-of-america) and [Scientific American](https://www.scientificamerican.com/article/clinical-trials-have-far-too-little-racial-and-ethnic-diversity/))."
   ]
  },
  {
   "cell_type": "markdown",
   "id": "e1eec649",
   "metadata": {},
   "source": [
    "### Part 2, Section 2: Cholesterol and Heart Disease"
   ]
  },
  {
   "cell_type": "markdown",
   "id": "78d6f622",
   "metadata": {},
   "source": [
    "In the remainder of this part, we are going to examine one of the main findings of the Framingham study: an association between serum cholesterol (i.e., how much cholesterol is in someone's blood) and whether or not that person develops heart disease.\n",
    "\n",
    "We'll use the following null and alternative hypotheses:\n",
    "\n",
    "**Null Hypothesis:** In the population, the distribution of cholesterol levels among those who develop heart disease is the *same* as the distribution of cholesterol levels among those who do not.\n",
    "\n",
    "**Alternative Hypothesis:** The cholesterol levels of people in the population who develop heart disease are *higher*, on average, than the cholesterol level of people who do not."
   ]
  },
  {
   "cell_type": "markdown",
   "id": "5dff106c",
   "metadata": {
    "deletable": false,
    "editable": false
   },
   "source": [
    "**Question 2.2.1:** From the provided null and alternative hypotheses, does it seem reasonable to use A/B Testing to determine which model is more consistent with our data? Assign the variable `ab_reasonable` to `True` if it seems reasonable and `False` otherwise.\n",
    "\n",
    "<!--\n",
    "BEGIN QUESTION\n",
    "name: q2_2_1\n",
    "-->"
   ]
  },
  {
   "cell_type": "code",
   "execution_count": 26,
   "id": "ba34dafc",
   "metadata": {
    "deletable": false,
    "execution": {
     "iopub.execute_input": "2022-07-23T20:07:37.965850Z",
     "iopub.status.busy": "2022-07-23T20:07:37.965602Z",
     "iopub.status.idle": "2022-07-23T20:07:37.970062Z",
     "shell.execute_reply": "2022-07-23T20:07:37.969477Z"
    },
    "manual_problem_id": "part_2_reasonable_test"
   },
   "outputs": [],
   "source": [
    "ab_reasonable = ...\n",
    "ab_reasonable"
   ]
  },
  {
   "cell_type": "code",
   "execution_count": null,
   "id": "795a1e55",
   "metadata": {
    "deletable": false,
    "editable": false
   },
   "outputs": [],
   "source": [
    "grader.check(\"q2_2_1\")"
   ]
  },
  {
   "cell_type": "markdown",
   "id": "c75593b9",
   "metadata": {
    "deletable": false,
    "editable": false
   },
   "source": [
    "**Question 2.2.2:** Now that we have a null hypothesis, we need a test statistic. Which of the following options is the best choice for a test statistic? Assign `ab_test_stat` to an integer corresponding to the best option for our test statistic.\n",
    "\n",
    "*Hint*: Remember that larger values of the test statistic should favor the alternative over the null.\n",
    "\n",
    "1. The difference between the average cholesterol levels of those who get heart disease and those who don't\n",
    "2. The difference between the average cholesterol levels of those who don't get heart disease and those who do\n",
    "3. The absolute difference between the average cholesterol levels of those who get heart disease and those who don't\n",
    "4. The absolute difference between the average cholesterol levels of those who don't get heart disease and those who do\n",
    "\n",
    "<!--\n",
    "BEGIN QUESTION\n",
    "name: q2_2_2\n",
    "-->"
   ]
  },
  {
   "cell_type": "code",
   "execution_count": 28,
   "id": "cb645a73",
   "metadata": {
    "execution": {
     "iopub.execute_input": "2022-07-23T20:07:37.979581Z",
     "iopub.status.busy": "2022-07-23T20:07:37.979071Z",
     "iopub.status.idle": "2022-07-23T20:07:37.982291Z",
     "shell.execute_reply": "2022-07-23T20:07:37.981688Z"
    }
   },
   "outputs": [],
   "source": [
    "ab_test_stat = ..."
   ]
  },
  {
   "cell_type": "code",
   "execution_count": null,
   "id": "757d339c",
   "metadata": {
    "deletable": false,
    "editable": false
   },
   "outputs": [],
   "source": [
    "grader.check(\"q2_2_2\")"
   ]
  },
  {
   "cell_type": "markdown",
   "id": "120bd503",
   "metadata": {
    "deletable": false,
    "editable": false
   },
   "source": [
    "**Question 2.2.3:** Explain and justify your choice of the test statistic from Question 2.2.2 in three sentences or less. Discuss with your peers or ask a staff member.\n",
    "\n",
    "<!--\n",
    "BEGIN QUESTION\n",
    "name: q2_2_3\n",
    "-->"
   ]
  },
  {
   "cell_type": "markdown",
   "id": "789ab1bb",
   "metadata": {},
   "source": [
    "_Type your answer here, replacing this text._"
   ]
  },
  {
   "cell_type": "markdown",
   "id": "2c0ef338",
   "metadata": {
    "deletable": false,
    "editable": false
   },
   "source": [
    "**Question 2.2.4:** Write a function that computes your test statistic. It should take a table that has the following two columns, `TOTCHOL` (total serum cholesterol) and `ANYCHD` (whether or not the person had coronary heart disease), and compute the test statistic you described above. Note that the table can have more than just the two columns listed above.\n",
    "\n",
    "Use the function you defined to compute the observed test statistic, and assign it to the name `framingham_observed_statistic`.\n",
    "\n",
    "<!--\n",
    "BEGIN QUESTION\n",
    "name: q2_2_4\n",
    "-->"
   ]
  },
  {
   "cell_type": "code",
   "execution_count": 30,
   "id": "f8110da1",
   "metadata": {
    "execution": {
     "iopub.execute_input": "2022-07-23T20:07:37.992363Z",
     "iopub.status.busy": "2022-07-23T20:07:37.991908Z",
     "iopub.status.idle": "2022-07-23T20:07:38.169696Z",
     "shell.execute_reply": "2022-07-23T20:07:38.169093Z"
    },
    "for_assignment_type": "solution"
   },
   "outputs": [],
   "source": [
    "def framingham_test_statistic(tbl):\n",
    "    ...\n",
    "    \n",
    "framingham_observed_statistic = ...\n",
    "framingham_observed_statistic"
   ]
  },
  {
   "cell_type": "code",
   "execution_count": null,
   "id": "7ff90c43",
   "metadata": {
    "deletable": false,
    "editable": false
   },
   "outputs": [],
   "source": [
    "grader.check(\"q2_2_4\")"
   ]
  },
  {
   "cell_type": "markdown",
   "id": "23ed6932",
   "metadata": {
    "deletable": false,
    "editable": false
   },
   "source": [
    "Now that we have defined hypotheses and a test statistic, we are ready to conduct a hypothesis test. We'll start by defining a function to simulate the test statistic under the null hypothesis, and then use that function 500 times to understand the distribution under the null hypothesis.\n",
    "\n",
    "**Question 2.2.5:** Write a function to simulate the test statistic under the null hypothesis. \n",
    "\n",
    "The `simulate_framingham_null` function should simulate the null hypothesis once (not 500 times) and return the value of the test statistic for that simulated sample.\n",
    "\n",
    "*Hint*: Using `tbl.with_column(...)` with a column name that already exists in `tbl` will replace that column.\n",
    "\n",
    "\n",
    "<!--\n",
    "BEGIN QUESTION\n",
    "name: q2_2_5\n",
    "-->"
   ]
  },
  {
   "cell_type": "code",
   "execution_count": 33,
   "id": "d1ee4d95",
   "metadata": {
    "execution": {
     "iopub.execute_input": "2022-07-23T20:07:38.308947Z",
     "iopub.status.busy": "2022-07-23T20:07:38.308333Z",
     "iopub.status.idle": "2022-07-23T20:07:38.472588Z",
     "shell.execute_reply": "2022-07-23T20:07:38.471867Z"
    },
    "for_assignment_type": "solution"
   },
   "outputs": [],
   "source": [
    "def simulate_framingham_null():\n",
    "    ...\n",
    "    \n",
    "# Run your function once to make sure that it works.\n",
    "simulate_framingham_null()"
   ]
  },
  {
   "cell_type": "code",
   "execution_count": null,
   "id": "447df8ac",
   "metadata": {
    "deletable": false,
    "editable": false
   },
   "outputs": [],
   "source": [
    "grader.check(\"q2_2_5\")"
   ]
  },
  {
   "cell_type": "markdown",
   "id": "485e3c64",
   "metadata": {
    "deletable": false,
    "editable": false
   },
   "source": [
    "**Question 2.2.6:** Fill in the blanks below to complete the simulation for the hypothesis test. Your simulation should compute 500 values of the test statistic under the null hypothesis and store the result in the array `framingham_simulated_stats`.\n",
    "\n",
    "*Hint*: You should use the function you wrote above in Question 2.2.4.\n",
    "\n",
    "**Warning:** Running this cell should take a few minutes at most. We encourage you to check your `simulate_framingham_null()` code to make sure it works correctly before running this cell. \n",
    "\n",
    "<!--\n",
    "BEGIN QUESTION\n",
    "name: q2_2_6\n",
    "-->"
   ]
  },
  {
   "cell_type": "code",
   "execution_count": 36,
   "id": "c6096fa0",
   "metadata": {
    "execution": {
     "iopub.execute_input": "2022-07-23T20:07:38.980909Z",
     "iopub.status.busy": "2022-07-23T20:07:38.980303Z",
     "iopub.status.idle": "2022-07-23T20:08:25.025030Z",
     "shell.execute_reply": "2022-07-23T20:08:25.024322Z"
    },
    "for_assignment_type": "solution"
   },
   "outputs": [],
   "source": [
    "framingham_simulated_stats = make_array()\n",
    "\n",
    "for i in np.arange(500):\n",
    "    ..."
   ]
  },
  {
   "cell_type": "code",
   "execution_count": null,
   "id": "73bcf998",
   "metadata": {
    "deletable": false,
    "editable": false
   },
   "outputs": [],
   "source": [
    "grader.check(\"q2_2_6\")"
   ]
  },
  {
   "cell_type": "markdown",
   "id": "74e2d424",
   "metadata": {
    "deletable": false,
    "editable": false
   },
   "source": [
    "**Question 2.2.7:** The following line will plot the histogram of the simulated test statistics, as well as a point for the observed test statistic. \n",
    "\n",
    "<!--\n",
    "BEGIN QUESTION\n",
    "name: q2_2_7\n",
    "-->"
   ]
  },
  {
   "cell_type": "code",
   "execution_count": 40,
   "id": "5d98fe5d",
   "metadata": {
    "deletable": false,
    "execution": {
     "iopub.execute_input": "2022-07-23T20:08:25.055543Z",
     "iopub.status.busy": "2022-07-23T20:08:25.055020Z",
     "iopub.status.idle": "2022-07-23T20:08:25.308792Z",
     "shell.execute_reply": "2022-07-23T20:08:25.308160Z"
    },
    "manual_problem_id": "disease_q_4_1_6"
   },
   "outputs": [],
   "source": [
    "Table().with_column('Simulated statistics', framingham_simulated_stats).hist()\n",
    "plots.scatter(framingham_observed_statistic, 0, color='red', s=30)\n",
    "plots.ylim(-0.02, 0.25);"
   ]
  },
  {
   "cell_type": "markdown",
   "id": "f041ef7e",
   "metadata": {
    "deletable": false,
    "editable": false
   },
   "source": [
    "**Question 2.2.8:** Compute the p-value for this hypothesis test, and assign it to the name `framingham_p_val`.\n",
    "\n",
    "*Hint*: One of the key findings of the Framingham study was a strong association between cholesterol levels and heart disease. If your p-value doesn't match up with this finding, you may want to take another look at your test statistic and/or your simulation.\n",
    "\n",
    "<!--\n",
    "BEGIN QUESTION\n",
    "name: q2_2_8\n",
    "-->"
   ]
  },
  {
   "cell_type": "code",
   "execution_count": 41,
   "id": "9a58b3ac",
   "metadata": {
    "execution": {
     "iopub.execute_input": "2022-07-23T20:08:25.312196Z",
     "iopub.status.busy": "2022-07-23T20:08:25.311687Z",
     "iopub.status.idle": "2022-07-23T20:08:25.316497Z",
     "shell.execute_reply": "2022-07-23T20:08:25.315949Z"
    },
    "for_assignment_type": "solution"
   },
   "outputs": [],
   "source": [
    "framingham_p_val = ...\n",
    "framingham_p_val"
   ]
  },
  {
   "cell_type": "code",
   "execution_count": null,
   "id": "88ca8420",
   "metadata": {
    "deletable": false,
    "editable": false
   },
   "outputs": [],
   "source": [
    "grader.check(\"q2_2_8\")"
   ]
  },
  {
   "cell_type": "markdown",
   "id": "a5b4d16f",
   "metadata": {
    "deletable": false,
    "editable": false
   },
   "source": [
    "**Question 2.2.9:** Despite the Framingham Heart Study's well-deserved reputation as a well-conducted and rigorous study, it has some major limitations. Give one specific reason why it can't be said that high cholesterol *causes* heart disease. Discuss with your peers or ask a staff member.\n",
    "\n",
    "<!--\n",
    "BEGIN QUESTION\n",
    "name: q2_2_9\n",
    "-->"
   ]
  },
  {
   "cell_type": "markdown",
   "id": "a5aef5a0",
   "metadata": {},
   "source": [
    "_Type your answer here, replacing this text._"
   ]
  },
  {
   "cell_type": "markdown",
   "id": "dd76cc7e",
   "metadata": {},
   "source": [
    "Similar studies from the 1950s found positive associations between diets high in saturated fat, high cholesterol, and incidence of heart disease. In 1962, the U.S. Surgeon General said:\n",
    "\n",
    "> \"Although there is evidence that diet and dietary habits may be implicated in the development of coronary heart disease and may be significant in its prevention or control, at present our only research evidence is associative and not conclusive.\""
   ]
  },
  {
   "cell_type": "markdown",
   "id": "804cf169",
   "metadata": {},
   "source": [
    "You're done with Lab 8!\n",
    "\n",
    "**Important submission information:** Be sure to run all the tests and verify that they all pass, then choose **Save** from the **File** menu, then **run the final cell** and click the link to download the zip file. Then, go to [Gradescope](https://www.gradescope.com/courses/397747) and submit the zip file to the corresponding assignment. The name of this assignment is \"Lab 08 Autograder\". **It is your responsibility to make sure your work is saved before running the last cell.**"
   ]
  },
  {
   "cell_type": "markdown",
   "id": "85eb77ae",
   "metadata": {
    "deletable": false,
    "editable": false
   },
   "source": [
    "---\n",
    "\n",
    "To double-check your work, the cell below will rerun all of the autograder tests."
   ]
  },
  {
   "cell_type": "code",
   "execution_count": null,
   "id": "a5c34b37",
   "metadata": {
    "deletable": false,
    "editable": false
   },
   "outputs": [],
   "source": [
    "grader.check_all()"
   ]
  },
  {
   "cell_type": "markdown",
   "id": "91dbcab3",
   "metadata": {
    "deletable": false,
    "editable": false
   },
   "source": [
    "## Submission\n",
    "\n",
    "Make sure you have run all cells in your notebook in order before running the cell below, so that all images/graphs appear in the output. The cell below will generate a zip file for you to submit. **Please save before exporting!**"
   ]
  },
  {
   "cell_type": "code",
   "execution_count": null,
   "id": "b73350d5",
   "metadata": {
    "deletable": false,
    "editable": false
   },
   "outputs": [],
   "source": [
    "# Save your notebook first, then run this cell to export your submission.\n",
    "grader.export(pdf=False)"
   ]
  },
  {
   "cell_type": "markdown",
   "id": "c05fd198",
   "metadata": {},
   "source": [
    " "
   ]
  }
 ],
 "metadata": {
  "kernelspec": {
   "display_name": "Python 3",
   "language": "python",
   "name": "python3"
  },
  "language_info": {
   "codemirror_mode": {
    "name": "ipython",
    "version": 3
   },
   "file_extension": ".py",
   "mimetype": "text/x-python",
   "name": "python",
   "nbconvert_exporter": "python",
   "pygments_lexer": "ipython3",
   "version": "3.9.12"
  }
 },
 "nbformat": 4,
 "nbformat_minor": 5
}
