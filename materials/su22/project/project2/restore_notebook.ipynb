{
 "cells": [
  {
   "cell_type": "markdown",
   "metadata": {},
   "source": [
    "# Jupyter Loading Issues August 8, 2022\n",
    "\n",
    "For students who are interested, the outputs of the code cells are so big that they fry your computer's local memory when loading the files. Therefore, it is recommended that you clear out the cache and close as many tabs as possible. \n",
    "\n",
    "The code below will **clear all outputs**. This means that while your code is preserved, your output will be gone. You can get it back by simply running the code again. "
   ]
  },
  {
   "cell_type": "code",
   "execution_count": 2,
   "metadata": {
    "deletable": false,
    "editable": false
   },
   "outputs": [],
   "source": [
    "!scp project2.ipynb project2_old.ipynb\n",
    "!python clean_nb.py project2.ipynb -o project2.ipynb"
   ]
  },
  {
   "cell_type": "markdown",
   "metadata": {},
   "source": [
    "Now if you access your project again via the course website, you should be able to open it without any issues."
   ]
  }
 ],
 "metadata": {
  "kernelspec": {
   "display_name": "Python 3",
   "language": "python",
   "name": "python3"
  },
  "language_info": {
   "codemirror_mode": {
    "name": "ipython",
    "version": 3
   },
   "file_extension": ".py",
   "mimetype": "text/x-python",
   "name": "python",
   "nbconvert_exporter": "python",
   "pygments_lexer": "ipython3",
   "version": "3.7.4"
  },
  "vscode": {
   "interpreter": {
    "hash": "aee8b7b246df8f9039afb4144a1f6fd8d2ca17a180786b69acc140d282b71a49"
   }
  }
 },
 "nbformat": 4,
 "nbformat_minor": 2
}
